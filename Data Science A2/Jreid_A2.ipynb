{
 "cells": [
  {
   "attachments": {},
   "cell_type": "markdown",
   "metadata": {},
   "source": [
    "You work for a mobile application as a Product Analyst, and you're testing changes to an existing feature. You would like to release changes to a key feature and have prepared 2 possible variants.  You've been running an experiment for 2 weeks, and now have some data with the experiment results. Specifically, you have the Click-Through-Rate (CTR) and Average Time Spent, in minutes, for each feature. The CTR means that the user is moving through different parts of the feature. A CTR of 1 would indicate the user has fully clicked on everything in a feature, while a CTR of 0 means they have not clicked anything. Your task is as follows:\n",
    "\n",
    "1. Analyze the results to determine which feature (if any) results in CTR or Time Spent lift.\n",
    "\n",
    "2. Conduct statistical testing to determine if there is a statistically significant difference between the features and the control group.\n",
    "\n",
    "3. Summarize your results. Make a recommendation to the engineering team about which feature to deploy. \n",
    "\n",
    "4. Create a roll-out plan. How quickly will you introduce the feature to your audience?\n",
    "\n",
    "You should submit a Jupyter Notebook which holds the code for questions 1 and 2, and you can use Markdown cells for questions 3 and 4."
   ]
  },
  {
   "cell_type": "code",
   "execution_count": 8,
   "metadata": {},
   "outputs": [],
   "source": [
    "import pandas as pd\n",
    "import seaborn as sns\n",
    "import numpy as np\n",
    "import matplotlib.pyplot as plt\n",
    "from scipy import stats"
   ]
  },
  {
   "cell_type": "code",
   "execution_count": 9,
   "metadata": {},
   "outputs": [],
   "source": [
    "df = pd.read_csv(r\"C:\\Users\\jsrei\\OneDrive\\Desktop\\MBAN 6110\\experiment_dataset.csv\")"
   ]
  },
  {
   "cell_type": "code",
   "execution_count": 10,
   "metadata": {},
   "outputs": [
    {
     "name": "stdout",
     "output_type": "stream",
     "text": [
      "<class 'pandas.core.frame.DataFrame'>\n",
      "RangeIndex: 1000 entries, 0 to 999\n",
      "Data columns (total 7 columns):\n",
      " #   Column      Non-Null Count  Dtype  \n",
      "---  ------      --------------  -----  \n",
      " 0   Unnamed: 0  1000 non-null   int64  \n",
      " 1   Age         1000 non-null   int64  \n",
      " 2   Location    1000 non-null   object \n",
      " 3   Device      1000 non-null   object \n",
      " 4   Variant     1000 non-null   object \n",
      " 5   Time Spent  1000 non-null   float64\n",
      " 6   CTR         1000 non-null   float64\n",
      "dtypes: float64(2), int64(2), object(3)\n",
      "memory usage: 54.8+ KB\n"
     ]
    }
   ],
   "source": [
    "df.info()"
   ]
  },
  {
   "cell_type": "code",
   "execution_count": 11,
   "metadata": {},
   "outputs": [
    {
     "data": {
      "text/html": [
       "<div>\n",
       "<style scoped>\n",
       "    .dataframe tbody tr th:only-of-type {\n",
       "        vertical-align: middle;\n",
       "    }\n",
       "\n",
       "    .dataframe tbody tr th {\n",
       "        vertical-align: top;\n",
       "    }\n",
       "\n",
       "    .dataframe thead th {\n",
       "        text-align: right;\n",
       "    }\n",
       "</style>\n",
       "<table border=\"1\" class=\"dataframe\">\n",
       "  <thead>\n",
       "    <tr style=\"text-align: right;\">\n",
       "      <th></th>\n",
       "      <th>Unnamed: 0</th>\n",
       "      <th>Age</th>\n",
       "      <th>Location</th>\n",
       "      <th>Device</th>\n",
       "      <th>Variant</th>\n",
       "      <th>Time Spent</th>\n",
       "      <th>CTR</th>\n",
       "    </tr>\n",
       "  </thead>\n",
       "  <tbody>\n",
       "    <tr>\n",
       "      <th>0</th>\n",
       "      <td>0</td>\n",
       "      <td>62</td>\n",
       "      <td>Location2</td>\n",
       "      <td>Device2</td>\n",
       "      <td>Control</td>\n",
       "      <td>13.928669</td>\n",
       "      <td>0.084776</td>\n",
       "    </tr>\n",
       "    <tr>\n",
       "      <th>1</th>\n",
       "      <td>1</td>\n",
       "      <td>18</td>\n",
       "      <td>Location1</td>\n",
       "      <td>Device1</td>\n",
       "      <td>Variant B</td>\n",
       "      <td>11.310518</td>\n",
       "      <td>0.096859</td>\n",
       "    </tr>\n",
       "    <tr>\n",
       "      <th>2</th>\n",
       "      <td>2</td>\n",
       "      <td>21</td>\n",
       "      <td>Location2</td>\n",
       "      <td>Device1</td>\n",
       "      <td>Variant B</td>\n",
       "      <td>24.842100</td>\n",
       "      <td>0.097630</td>\n",
       "    </tr>\n",
       "    <tr>\n",
       "      <th>3</th>\n",
       "      <td>3</td>\n",
       "      <td>21</td>\n",
       "      <td>Location1</td>\n",
       "      <td>Device3</td>\n",
       "      <td>Variant B</td>\n",
       "      <td>20.061300</td>\n",
       "      <td>0.109783</td>\n",
       "    </tr>\n",
       "    <tr>\n",
       "      <th>4</th>\n",
       "      <td>4</td>\n",
       "      <td>57</td>\n",
       "      <td>Location1</td>\n",
       "      <td>Device2</td>\n",
       "      <td>Variant B</td>\n",
       "      <td>34.495503</td>\n",
       "      <td>0.068579</td>\n",
       "    </tr>\n",
       "    <tr>\n",
       "      <th>5</th>\n",
       "      <td>5</td>\n",
       "      <td>27</td>\n",
       "      <td>Location3</td>\n",
       "      <td>Device1</td>\n",
       "      <td>Variant B</td>\n",
       "      <td>26.129246</td>\n",
       "      <td>0.149341</td>\n",
       "    </tr>\n",
       "    <tr>\n",
       "      <th>6</th>\n",
       "      <td>6</td>\n",
       "      <td>37</td>\n",
       "      <td>Location3</td>\n",
       "      <td>Device3</td>\n",
       "      <td>Variant B</td>\n",
       "      <td>20.525362</td>\n",
       "      <td>0.095788</td>\n",
       "    </tr>\n",
       "    <tr>\n",
       "      <th>7</th>\n",
       "      <td>7</td>\n",
       "      <td>39</td>\n",
       "      <td>Location2</td>\n",
       "      <td>Device1</td>\n",
       "      <td>Variant A</td>\n",
       "      <td>21.525217</td>\n",
       "      <td>0.149985</td>\n",
       "    </tr>\n",
       "    <tr>\n",
       "      <th>8</th>\n",
       "      <td>8</td>\n",
       "      <td>54</td>\n",
       "      <td>Location3</td>\n",
       "      <td>Device2</td>\n",
       "      <td>Control</td>\n",
       "      <td>21.910608</td>\n",
       "      <td>0.135535</td>\n",
       "    </tr>\n",
       "    <tr>\n",
       "      <th>9</th>\n",
       "      <td>9</td>\n",
       "      <td>41</td>\n",
       "      <td>Location1</td>\n",
       "      <td>Device2</td>\n",
       "      <td>Variant A</td>\n",
       "      <td>27.642788</td>\n",
       "      <td>0.137266</td>\n",
       "    </tr>\n",
       "  </tbody>\n",
       "</table>\n",
       "</div>"
      ],
      "text/plain": [
       "   Unnamed: 0  Age   Location   Device    Variant  Time Spent       CTR\n",
       "0           0   62  Location2  Device2    Control   13.928669  0.084776\n",
       "1           1   18  Location1  Device1  Variant B   11.310518  0.096859\n",
       "2           2   21  Location2  Device1  Variant B   24.842100  0.097630\n",
       "3           3   21  Location1  Device3  Variant B   20.061300  0.109783\n",
       "4           4   57  Location1  Device2  Variant B   34.495503  0.068579\n",
       "5           5   27  Location3  Device1  Variant B   26.129246  0.149341\n",
       "6           6   37  Location3  Device3  Variant B   20.525362  0.095788\n",
       "7           7   39  Location2  Device1  Variant A   21.525217  0.149985\n",
       "8           8   54  Location3  Device2    Control   21.910608  0.135535\n",
       "9           9   41  Location1  Device2  Variant A   27.642788  0.137266"
      ]
     },
     "execution_count": 11,
     "metadata": {},
     "output_type": "execute_result"
    }
   ],
   "source": [
    "df.head(10)"
   ]
  },
  {
   "attachments": {},
   "cell_type": "markdown",
   "metadata": {},
   "source": [
    "Question 1"
   ]
  },
  {
   "cell_type": "code",
   "execution_count": 19,
   "metadata": {},
   "outputs": [
    {
     "name": "stdout",
     "output_type": "stream",
     "text": [
      "Variant A lift in Time Spent:  1361.7650937699673\n",
      "Variant B lift in Time Spent:  879.3828393472804\n"
     ]
    }
   ],
   "source": [
    "df2 = df.groupby(by = 'Variant')['Time Spent'].sum()\n",
    "varA = df2['Variant A'] - df2['Control']\n",
    "varB = df2['Variant B'] - df2['Control']\n",
    "print('Variant A lift in Time Spent: ', varA) \n",
    "print('Variant B lift in Time Spent: ', varB) "
   ]
  },
  {
   "cell_type": "code",
   "execution_count": 13,
   "metadata": {},
   "outputs": [
    {
     "data": {
      "text/plain": [
       "<Axes: xlabel='Variant', ylabel='Time Spent'>"
      ]
     },
     "execution_count": 13,
     "metadata": {},
     "output_type": "execute_result"
    },
    {
     "data": {
      "image/png": "[encoded data removed]",
      "text/plain": [
       "<Figure size 640x480 with 1 Axes>"
      ]
     },
     "metadata": {},
     "output_type": "display_data"
    }
   ],
   "source": [
    "sns.boxplot(data = df, x = 'Variant', y = 'Time Spent') "
   ]
  },
  {
   "cell_type": "code",
   "execution_count": 14,
   "metadata": {},
   "outputs": [
    {
     "name": "stdout",
     "output_type": "stream",
     "text": [
      "Variant A lift in CTR:  6.180520716900553\n",
      "Variant B lift in CTR:  2.439491210528942\n"
     ]
    }
   ],
   "source": [
    "df2 = df.groupby(by = 'Variant')['CTR'].sum()\n",
    "varA = df2['Variant A'] - df2['Control']\n",
    "varB = df2['Variant B'] - df2['Control']\n",
    "print('Variant A lift in CTR: ', varA) \n",
    "print('Variant B lift in CTR: ', varB) "
   ]
  },
  {
   "cell_type": "code",
   "execution_count": 15,
   "metadata": {},
   "outputs": [
    {
     "data": {
      "text/plain": [
       "<Axes: xlabel='Variant', ylabel='CTR'>"
      ]
     },
     "execution_count": 15,
     "metadata": {},
     "output_type": "execute_result"
    },
    {
     "data": {
      "image/png": "[encoded data removed]",
      "text/plain": [
       "<Figure size 640x480 with 1 Axes>"
      ]
     },
     "metadata": {},
     "output_type": "display_data"
    }
   ],
   "source": [
    "sns.boxplot(data = df, x = 'Variant', y = 'CTR') "
   ]
  },
  {
   "attachments": {},
   "cell_type": "markdown",
   "metadata": {},
   "source": [
    "Question 2"
   ]
  },
  {
   "cell_type": "code",
   "execution_count": 16,
   "metadata": {},
   "outputs": [],
   "source": [
    "df_varB = df[df['Variant'] == 'Variant B']\n",
    "df_varA = df[df['Variant'] == 'Variant A']\n",
    "df_Control = df[df['Variant'] == 'Control']"
   ]
  },
  {
   "cell_type": "code",
   "execution_count": 17,
   "metadata": {},
   "outputs": [
    {
     "name": "stdout",
     "output_type": "stream",
     "text": [
      "Variant B: Ttest_indResult(statistic=-8.174237395991806, pvalue=1.496358076285182e-15)\n",
      "Variant A: Ttest_indResult(statistic=-12.142363487472364, pvalue=8.488565644996449e-31)\n"
     ]
    }
   ],
   "source": [
    "print(\"Variant B:\", stats.ttest_ind(df_Control['Time Spent'], df_varB['Time Spent']))\n",
    "print(\"Variant A:\", stats.ttest_ind(df_Control['Time Spent'], df_varA['Time Spent']))"
   ]
  },
  {
   "cell_type": "code",
   "execution_count": 18,
   "metadata": {},
   "outputs": [
    {
     "name": "stdout",
     "output_type": "stream",
     "text": [
      "Variant B: Ttest_indResult(statistic=-6.4718143491783255, pvalue=1.8743198199982106e-10)\n",
      "Variant A: Ttest_indResult(statistic=-13.829424737499187, pvalue=1.9602781373243157e-38)\n"
     ]
    }
   ],
   "source": [
    "print(\"Variant B:\", stats.ttest_ind(df_Control['CTR'], df_varB['CTR']))\n",
    "print(\"Variant A:\", stats.ttest_ind(df_Control['CTR'], df_varA['CTR']))"
   ]
  },
  {
   "attachments": {},
   "cell_type": "markdown",
   "metadata": {},
   "source": [
    "3. Summarize your results. Make a recommendation to the engineering team about which feature to deploy. \n",
    "\n",
    "    When looking through the analysis it is clear that both variants perform better in both time spent and in their click through rate. \n",
    "\n",
    "    When looking at the lift in Time Spent and Click through rate there is clear improvement. When using the sum of the click through rates the difference between Variant A and the control is 1362 and Variant B and the control is 879. When looking at the mean of the two groups through the boxplot, there is a clear rise in the mean when going from the control to Variant B then another increase when going from Variant B to Variant A. Bariant A does experience the larger lift in time spent out of the two variants. Next, when looking at the lift in click through rate for both variants there is also a large increase. When looking a the sum of the two columns Variant has a lift of 6.18 and Vairant B has a lift of 2.44. Once again, as shown in the boxplot, when looking at the mean there is also a significant risk from the control to Variant B and once again, Variant A has the highest mean value.\n",
    "\n",
    "    When looking at the t-test value and the p value there is an obvious significant difference between the variant and the control. In both cases the p value is well below 0.05 meaning we accept the null hypothesis that both variants would improve the Time Spent and Click Through Rate for the mobile application. \n",
    "\n",
    "    My recommendation to the engineering team would be to deploy Variant A. Variant A, as stated above, has the most impact in the Time spent and CTR. Both variants are a clear improvement over the current feature but Variant A would be the most impactful.  "
   ]
  },
  {
   "attachments": {},
   "cell_type": "markdown",
   "metadata": {},
   "source": [
    "4. Create a roll-out plan. How quickly will you introduce the feature to your audience?\n",
    "\n",
    "    To begin with the rollout plan of Variant A to the mobile application, I would create a timeline for the rollout proccess. Without having much detail I would ensure that the timeline reflected the required amount of time to prepare the new variant and ensure that it can be safely and properly deployed to the mobile application. I would then analyse what resources I have and determine how quickly this variant could be brought to market. Once all of these stages are done and the variant can be rolled out, I would develope a plan to communicate with customers the advantages and possible changes that come as a part of this new feature. Once the feature has been rolled out successfully begin to analyse it and collect consumer feedback to improve going forward. Take this advice and use it to help improve the time spent on the application and the click through rate going forward in new variants of the feature. "
   ]
  }
 ],
 "metadata": {
  "kernelspec": {
   "display_name": "Python 3",
   "language": "python",
   "name": "python3"
  },
  "language_info": {
   "codemirror_mode": {
    "name": "ipython",
    "version": 3
   },
   "file_extension": ".py",
   "mimetype": "text/x-python",
   "name": "python",
   "nbconvert_exporter": "python",
   "pygments_lexer": "ipython3",
   "version": "3.11.0"
  },
  "orig_nbformat": 4
 },
 "nbformat": 4,
 "nbformat_minor": 2
}
