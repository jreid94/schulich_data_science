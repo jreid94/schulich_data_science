{
 "cells": [
  {
   "attachments": {},
   "cell_type": "markdown",
   "metadata": {},
   "source": [
    "You work for a mobile application as a Product Analyst, and you're testing changes to an existing feature. You would like to release changes to a key feature and have prepared 2 possible variants.  You've been running an experiment for 2 weeks, and now have some data with the experiment results. Specifically, you have the Click-Through-Rate (CTR) and Average Time Spent, in minutes, for each feature. The CTR means that the user is moving through different parts of the feature. A CTR of 1 would indicate the user has fully clicked on everything in a feature, while a CTR of 0 means they have not clicked anything. Your task is as follows:\n",
    "\n",
    "1. Analyze the results to determine which feature (if any) results in CTR or Time Spent lift.\n",
    "\n",
    "2. Conduct statistical testing to determine if there is a statistically significant difference between the features and the control group.\n",
    "\n",
    "3. Summarize your results. Make a recommendation to the engineering team about which feature to deploy. \n",
    "\n",
    "4. Create a roll-out plan. How quickly will you introduce the feature to your audience?\n",
    "\n",
    "You should submit a Jupyter Notebook which holds the code for questions 1 and 2, and you can use Markdown cells for questions 3 and 4."
   ]
  },
  {
   "cell_type": "code",
   "execution_count": 2,
   "metadata": {},
   "outputs": [],
   "source": [
    "import pandas as pd\n",
    "import seaborn as sns\n",
    "import numpy as np"
   ]
  },
  {
   "cell_type": "code",
   "execution_count": 3,
   "metadata": {},
   "outputs": [],
   "source": [
    "df = pd.read_csv(r\"C:\\Users\\jsrei\\OneDrive\\Desktop\\MBAN 6110\\experiment_dataset.csv\")"
   ]
  },
  {
   "cell_type": "code",
   "execution_count": 4,
   "metadata": {},
   "outputs": [
    {
     "name": "stdout",
     "output_type": "stream",
     "text": [
      "<class 'pandas.core.frame.DataFrame'>\n",
      "RangeIndex: 1000 entries, 0 to 999\n",
      "Data columns (total 7 columns):\n",
      " #   Column      Non-Null Count  Dtype  \n",
      "---  ------      --------------  -----  \n",
      " 0   Unnamed: 0  1000 non-null   int64  \n",
      " 1   Age         1000 non-null   int64  \n",
      " 2   Location    1000 non-null   object \n",
      " 3   Device      1000 non-null   object \n",
      " 4   Variant     1000 non-null   object \n",
      " 5   Time Spent  1000 non-null   float64\n",
      " 6   CTR         1000 non-null   float64\n",
      "dtypes: float64(2), int64(2), object(3)\n",
      "memory usage: 54.8+ KB\n"
     ]
    }
   ],
   "source": [
    "df.info()"
   ]
  }
 ],
 "metadata": {
  "kernelspec": {
   "display_name": "Python 3",
   "language": "python",
   "name": "python3"
  },
  "language_info": {
   "codemirror_mode": {
    "name": "ipython",
    "version": 3
   },
   "file_extension": ".py",
   "mimetype": "text/x-python",
   "name": "python",
   "nbconvert_exporter": "python",
   "pygments_lexer": "ipython3",
   "version": "3.11.0"
  },
  "orig_nbformat": 4
 },
 "nbformat": 4,
 "nbformat_minor": 2
}
