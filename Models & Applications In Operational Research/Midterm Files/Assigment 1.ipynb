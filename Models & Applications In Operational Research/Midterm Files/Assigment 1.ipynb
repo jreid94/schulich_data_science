{
 "cells": [
  {
   "cell_type": "markdown",
   "metadata": {},
   "source": [
    "# Question 1"
   ]
  },
  {
   "cell_type": "markdown",
   "metadata": {},
   "source": [
    "## (a) After solving the linear program, what is the optimal transportation cost?"
   ]
  },
  {
   "cell_type": "code",
   "execution_count": 210,
   "metadata": {},
   "outputs": [],
   "source": [
    "from gurobipy import GRB\n",
    "import gurobipy as gb\n",
    "import pandas as pd\n",
    "import numpy as np"
   ]
  },
  {
   "cell_type": "code",
   "execution_count": 211,
   "metadata": {},
   "outputs": [],
   "source": [
    "model = gb.Model(\"Can2Oil\")"
   ]
  },
  {
   "cell_type": "code",
   "execution_count": 212,
   "metadata": {},
   "outputs": [],
   "source": [
    "Capacity_for_Direct_Production_Facilities = pd.read_csv(r\"C:\\Users\\johns\\OneDrive\\Desktop\\MBAN Semester 3\\OMIS 6000 - Models & Applications in Operational Research\\Assignment 1 Files\\Capacity_for_Direct_Production_Facilities.csv\")\n",
    "Capacity_for_Transship_Distribution_Centers = pd.read_csv(r\"C:\\Users\\johns\\OneDrive\\Desktop\\MBAN Semester 3\\OMIS 6000 - Models & Applications in Operational Research\\Assignment 1 Files\\Capacity_for_Transship_Distribution_Centers.csv\")\n",
    "Capacity_for_Transship_Production_Facilities = pd.read_csv(r\"C:\\Users\\johns\\OneDrive\\Desktop\\MBAN Semester 3\\OMIS 6000 - Models & Applications in Operational Research\\Assignment 1 Files\\Capacity_for_Transship_Production_Facilities.csv\")\n",
    "\n",
    "Cost_Production_to_Refinement = pd.read_csv(r\"C:\\Users\\johns\\OneDrive\\Desktop\\MBAN Semester 3\\OMIS 6000 - Models & Applications in Operational Research\\Assignment 1 Files\\Cost_Production_to_Refinement.csv\")\n",
    "Cost_Production_to_Transshipment = pd.read_csv(r\"C:\\Users\\johns\\OneDrive\\Desktop\\MBAN Semester 3\\OMIS 6000 - Models & Applications in Operational Research\\Assignment 1 Files\\Cost_Production_to_Transshipment.csv\")\n",
    "Cost_Transshipment_to_Refinement = pd.read_csv(r\"C:\\Users\\johns\\OneDrive\\Desktop\\MBAN Semester 3\\OMIS 6000 - Models & Applications in Operational Research\\Assignment 1 Files\\Cost_Transshipment_to_Refinement.csv\")\n",
    "\n",
    "Refinement_Demand = pd.read_csv(r\"C:\\Users\\johns\\OneDrive\\Desktop\\MBAN Semester 3\\OMIS 6000 - Models & Applications in Operational Research\\Assignment 1 Files\\Refinement_Demand.csv\")"
   ]
  },
  {
   "cell_type": "code",
   "execution_count": 213,
   "metadata": {},
   "outputs": [],
   "source": [
    "# Extract the \"Cost\" column \n",
    "direct_shipping_costs = Cost_Production_to_Refinement['Cost'].values.reshape(25, -1)\n",
    "shipping_to_transsipment_costs = Cost_Production_to_Transshipment['Cost'].values.reshape(15, -1)\n",
    "transsipment_to_refinement_costs = Cost_Transshipment_to_Refinement['Cost'].values.reshape(2, -1)\n",
    "\n",
    "# Extract the \"Capacity\" and \"Demand\" column\n",
    "direct_shipping_supply_capacity = Capacity_for_Direct_Production_Facilities['Capacity'].values.reshape(25, -1)\n",
    "transshipment_supply_capacity = Capacity_for_Transship_Distribution_Centers['Capacity'].values.reshape(2, -1)\n",
    "shipping_to_transshipment_supply_capacity = Capacity_for_Transship_Production_Facilities['Capacity'].values.reshape(15, -1)\n",
    "\n",
    "refinement_demand = Refinement_Demand['Demand'].values.reshape(5, -1)"
   ]
  },
  {
   "cell_type": "code",
   "execution_count": 214,
   "metadata": {},
   "outputs": [],
   "source": [
    "# Create the a single class of decision variables where\n",
    "# From = {Ca,US,M,C,F} and To = {R1,R2,R3,R4,R5}.\n",
    "x = model.addVars(25, 5, lb=0, vtype=GRB.CONTINUOUS, name=\"Direct Shipping\")\n",
    "# From = {I,U,G} and To = {Italy,Greece}.\n",
    "y = model.addVars(15, 2, lb=0, vtype=GRB.CONTINUOUS, name=\"Ship to Transshipment\")\n",
    "# From = {Italy,Greece} and To = {R1,R2,R3,R4,R5}.\n",
    "z = model.addVars(2, 5, lb=0, vtype=GRB.CONTINUOUS, name=\"Transshipment to Refinement\")"
   ]
  },
  {
   "cell_type": "code",
   "execution_count": 215,
   "metadata": {},
   "outputs": [],
   "source": [
    "# The objective function\n",
    "direct_objective = gb.quicksum(direct_shipping_costs[i][j]*x[i,j] for i in range(25) for j in range(5))\n",
    "trans_objective = gb.quicksum(shipping_to_transsipment_costs[i][j]*y[i,j] for i in range(15) for j in range(2))\n",
    "trans_to_refinement_objective = gb.quicksum(transsipment_to_refinement_costs[i][j]*z[i,j] for i in range(2) for j in range(5))\n",
    "model.setObjective(direct_objective + trans_objective + trans_to_refinement_objective, GRB.MINIMIZE)"
   ]
  },
  {
   "cell_type": "code",
   "execution_count": 216,
   "metadata": {},
   "outputs": [
    {
     "name": "stderr",
     "output_type": "stream",
     "text": [
      "C:\\Users\\johns\\AppData\\Local\\Temp\\ipykernel_22968\\29224195.py:3: DeprecationWarning: Conversion of an array with ndim > 0 to a scalar is deprecated, and will error in future. Ensure you extract a single element from your array before performing this operation. (Deprecated NumPy 1.25.)\n",
      "  model.addConstr(gb.quicksum(x[i, j] for j in range(5)) <= direct_shipping_supply_capacity[i], name=f\"Direct Supply Constraint {i + 1}\")\n"
     ]
    }
   ],
   "source": [
    "# Add the supply constraints from source nodes for direct shipping\n",
    "for i in range(len(direct_shipping_supply_capacity)):\n",
    "    model.addConstr(gb.quicksum(x[i, j] for j in range(5)) <= direct_shipping_supply_capacity[i], name=f\"Direct Supply Constraint {i + 1}\")"
   ]
  },
  {
   "cell_type": "code",
   "execution_count": 217,
   "metadata": {},
   "outputs": [
    {
     "name": "stderr",
     "output_type": "stream",
     "text": [
      "C:\\Users\\johns\\AppData\\Local\\Temp\\ipykernel_22968\\1905600687.py:3: DeprecationWarning: Conversion of an array with ndim > 0 to a scalar is deprecated, and will error in future. Ensure you extract a single element from your array before performing this operation. (Deprecated NumPy 1.25.)\n",
      "  model.addConstr(gb.quicksum(y[i, j] for j in range(2)) <= shipping_to_transshipment_supply_capacity[i], name=f\"Transshipment Supply Constraint {i + 1}\")\n"
     ]
    }
   ],
   "source": [
    "# Add the supply constraints from source nodes for transshipment shipping\n",
    "for i in range(len(shipping_to_transshipment_supply_capacity)):\n",
    "    model.addConstr(gb.quicksum(y[i, j] for j in range(2)) <= shipping_to_transshipment_supply_capacity[i], name=f\"Transshipment Supply Constraint {i + 1}\")"
   ]
  },
  {
   "cell_type": "code",
   "execution_count": 218,
   "metadata": {},
   "outputs": [
    {
     "name": "stderr",
     "output_type": "stream",
     "text": [
      "C:\\Users\\johns\\AppData\\Local\\Temp\\ipykernel_22968\\2124321848.py:2: DeprecationWarning: Conversion of an array with ndim > 0 to a scalar is deprecated, and will error in future. Ensure you extract a single element from your array before performing this operation. (Deprecated NumPy 1.25.)\n",
      "  model.addConstr(gb.quicksum(y[i,0] for i in range(15)) <= transshipment_supply_capacity[0], name=\"Transship Capacity 1\")\n",
      "C:\\Users\\johns\\AppData\\Local\\Temp\\ipykernel_22968\\2124321848.py:3: DeprecationWarning: Conversion of an array with ndim > 0 to a scalar is deprecated, and will error in future. Ensure you extract a single element from your array before performing this operation. (Deprecated NumPy 1.25.)\n",
      "  model.addConstr(gb.quicksum(y[i,1] for i in range(15)) <= transshipment_supply_capacity[1], name=\"Transship Capacity 2\")\n"
     ]
    },
    {
     "data": {
      "text/plain": [
       "<gurobi.Constr *Awaiting Model Update*>"
      ]
     },
     "execution_count": 218,
     "metadata": {},
     "output_type": "execute_result"
    }
   ],
   "source": [
    "# Add the supply constraints from transshipment nodes\n",
    "model.addConstr(gb.quicksum(y[i,0] for i in range(15)) <= transshipment_supply_capacity[0], name=\"Transship Capacity 1\")\n",
    "model.addConstr(gb.quicksum(y[i,1] for i in range(15)) <= transshipment_supply_capacity[1], name=\"Transship Capacity 2\")"
   ]
  },
  {
   "cell_type": "code",
   "execution_count": 219,
   "metadata": {},
   "outputs": [
    {
     "data": {
      "text/plain": [
       "<gurobi.Constr *Awaiting Model Update*>"
      ]
     },
     "execution_count": 219,
     "metadata": {},
     "output_type": "execute_result"
    }
   ],
   "source": [
    "# Add the flow balance constrainits\n",
    "model.addConstr(gb.quicksum(y[i,0] for i in range(15)) == gb.quicksum(z[0,k] for k in range(5)), name=\"Flow Balance 1\")\n",
    "model.addConstr(gb.quicksum(y[i,1] for i in range(15)) == gb.quicksum(z[1,k] for k in range(5)), name=\"Flow Balance 2\")"
   ]
  },
  {
   "cell_type": "code",
   "execution_count": 220,
   "metadata": {},
   "outputs": [
    {
     "name": "stderr",
     "output_type": "stream",
     "text": [
      "C:\\Users\\johns\\AppData\\Local\\Temp\\ipykernel_22968\\4255670903.py:3: DeprecationWarning: Conversion of an array with ndim > 0 to a scalar is deprecated, and will error in future. Ensure you extract a single element from your array before performing this operation. (Deprecated NumPy 1.25.)\n",
      "  model.addConstr(gb.quicksum(x[i, k] for i in range(25)) + gb.quicksum(z[j, k] for j in range(2)) == refinement_demand[k], name=f\"Refinement Demand Constraint {k + 1}\")\n"
     ]
    }
   ],
   "source": [
    "# Add the demand constraints\n",
    "for k in range(len(refinement_demand)):  # Iterate over refinement nodes R1 to R5\n",
    "    model.addConstr(gb.quicksum(x[i, k] for i in range(25)) + gb.quicksum(z[j, k] for j in range(2)) == refinement_demand[k], name=f\"Refinement Demand Constraint {k + 1}\")"
   ]
  },
  {
   "cell_type": "code",
   "execution_count": 221,
   "metadata": {},
   "outputs": [
    {
     "name": "stdout",
     "output_type": "stream",
     "text": [
      "Gurobi Optimizer version 11.0.0 build v11.0.0rc2 (win64 - Windows 11+.0 (22631.2))\n",
      "\n",
      "CPU model: 13th Gen Intel(R) Core(TM) i7-13700H, instruction set [SSE2|AVX|AVX2]\n",
      "Thread count: 14 physical cores, 20 logical processors, using up to 20 threads\n",
      "\n",
      "Optimize a model with 49 rows, 165 columns and 360 nonzeros\n",
      "Model fingerprint: 0x7f8fadb4\n",
      "Coefficient statistics:\n",
      "  Matrix range     [1e+00, 1e+00]\n",
      "  Objective range  [6e-01, 6e+00]\n",
      "  Bounds range     [0e+00, 0e+00]\n",
      "  RHS range        [1e+02, 2e+03]\n",
      "Presolve time: 0.00s\n",
      "Presolved: 49 rows, 165 columns, 360 nonzeros\n",
      "\n",
      "Iteration    Objective       Primal Inf.    Dual Inf.      Time\n",
      "       0    1.7230583e+04   8.266000e+03   0.000000e+00      0s\n",
      "      36    2.4188585e+04   0.000000e+00   0.000000e+00      0s\n",
      "\n",
      "Solved in 36 iterations and 0.01 seconds (0.00 work units)\n",
      "Optimal objective  2.418858517e+04\n"
     ]
    }
   ],
   "source": [
    "# Optimally solve the problem\n",
    "model.optimize()"
   ]
  },
  {
   "cell_type": "code",
   "execution_count": 222,
   "metadata": {},
   "outputs": [
    {
     "name": "stdout",
     "output_type": "stream",
     "text": [
      "Model Status:  2\n",
      "Number of Decision Variables:  165\n"
     ]
    }
   ],
   "source": [
    "# The status of the model (Optimization Status Codes)\n",
    "print(\"Model Status: \", model.status)\n",
    "\n",
    "# Number of variables in the model\n",
    "print(\"Number of Decision Variables: \", model.numVars)"
   ]
  },
  {
   "cell_type": "markdown",
   "metadata": {},
   "source": [
    "### Answer to A: 24188.99"
   ]
  },
  {
   "cell_type": "code",
   "execution_count": 223,
   "metadata": {},
   "outputs": [
    {
     "name": "stdout",
     "output_type": "stream",
     "text": [
      "Total Transportation cost:  24188.59\n"
     ]
    }
   ],
   "source": [
    "# Value of the objective function\n",
    "print(\"Total Transportation cost: \", round(model.objVal, 2))"
   ]
  },
  {
   "cell_type": "markdown",
   "metadata": {},
   "source": [
    "## (b) In the optimal solution, what proportion of canola oil is transshipped?"
   ]
  },
  {
   "cell_type": "code",
   "execution_count": 224,
   "metadata": {},
   "outputs": [],
   "source": [
    "# Get the optimal values of decision variables\n",
    "to_transshipment_values = model.getAttr('x', y)\n",
    "\n",
    "values_array = np.array(list(to_transshipment_values.values()))"
   ]
  },
  {
   "cell_type": "code",
   "execution_count": 225,
   "metadata": {},
   "outputs": [
    {
     "data": {
      "text/plain": [
       "92.33333333333333"
      ]
     },
     "execution_count": 225,
     "metadata": {},
     "output_type": "execute_result"
    }
   ],
   "source": [
    "# Calculate the mean\n",
    "mean_value = np.mean(values_array)\n",
    "mean_value"
   ]
  },
  {
   "cell_type": "code",
   "execution_count": 226,
   "metadata": {},
   "outputs": [],
   "source": [
    "# Get the optimal values of decision variables\n",
    "transshipment_values = model.getAttr('x', z)"
   ]
  },
  {
   "cell_type": "code",
   "execution_count": 227,
   "metadata": {},
   "outputs": [],
   "source": [
    "# Calculate the total amount of canola oil transshipped\n",
    "total_transshipped = sum(transshipment_values[i, j] for i in range(2) for j in range(5))"
   ]
  },
  {
   "cell_type": "code",
   "execution_count": 228,
   "metadata": {},
   "outputs": [],
   "source": [
    "# Get the optimal values of decision variables\n",
    "direct_shipping_values = model.getAttr('x', x)"
   ]
  },
  {
   "cell_type": "code",
   "execution_count": 229,
   "metadata": {},
   "outputs": [
    {
     "data": {
      "text/plain": [
       "5958.0"
      ]
     },
     "execution_count": 229,
     "metadata": {},
     "output_type": "execute_result"
    }
   ],
   "source": [
    "# Calculate the total amount of canola oil directly shipped\n",
    "direct_shipping = sum(direct_shipping_values[i, j] for i in range(25) for j in range(5))\n",
    "direct_shipping"
   ]
  },
  {
   "cell_type": "code",
   "execution_count": 230,
   "metadata": {},
   "outputs": [
    {
     "data": {
      "text/plain": [
       "3706.0"
      ]
     },
     "execution_count": 230,
     "metadata": {},
     "output_type": "execute_result"
    }
   ],
   "source": [
    "# Calculate the total amount of canola oil directly shipped for North America\n",
    "direct_shipping_for_f = sum(direct_shipping_values[i, j] for i in range(15) for j in range(5))\n",
    "direct_shipping_for_f"
   ]
  },
  {
   "cell_type": "markdown",
   "metadata": {},
   "source": [
    "### Answer to B: 0.31736938588450964"
   ]
  },
  {
   "cell_type": "code",
   "execution_count": 231,
   "metadata": {},
   "outputs": [
    {
     "data": {
      "text/plain": [
       "0.31736938588450964"
      ]
     },
     "execution_count": 231,
     "metadata": {},
     "output_type": "execute_result"
    }
   ],
   "source": [
    "# Calculate the proportion\n",
    "total_canola_oil = direct_shipping + total_transshipped\n",
    "proportion_transshipped = total_transshipped / total_canola_oil\n",
    "proportion_transshipped"
   ]
  },
  {
   "cell_type": "markdown",
   "metadata": {},
   "source": [
    "# Question 2"
   ]
  },
  {
   "cell_type": "code",
   "execution_count": 232,
   "metadata": {},
   "outputs": [],
   "source": [
    "from gurobipy import GRB\n",
    "import gurobipy as gb"
   ]
  },
  {
   "cell_type": "code",
   "execution_count": 233,
   "metadata": {},
   "outputs": [],
   "source": [
    "model = gb.Model(\"SunnyShore Bay\")"
   ]
  },
  {
   "cell_type": "code",
   "execution_count": 234,
   "metadata": {},
   "outputs": [],
   "source": [
    "C = model.addVars(4, lb=0, vtype=GRB.CONTINUOUS, name=\"Cash Balance\")\n",
    "B = model.addVars(6, lb=0, vtype=GRB.CONTINUOUS, name=\"Borrow\")"
   ]
  },
  {
   "cell_type": "code",
   "execution_count": 235,
   "metadata": {},
   "outputs": [],
   "source": [
    "model.setObjective(1.0175 * B[0] + 1.0225 * B[1] + 1.0275 * B[2] + 1.0175 * B[3] + 1.0225 * B[4] + 1.0175 * B[5], GRB.MINIMIZE)"
   ]
  },
  {
   "cell_type": "markdown",
   "metadata": {},
   "source": [
    "### (a) How many different investments can be made over the 4-month period? "
   ]
  },
  {
   "cell_type": "markdown",
   "metadata": {},
   "source": [
    "## 6"
   ]
  },
  {
   "cell_type": "code",
   "execution_count": 236,
   "metadata": {},
   "outputs": [
    {
     "data": {
      "text/plain": [
       "<gurobi.Constr *Awaiting Model Update*>"
      ]
     },
     "execution_count": 236,
     "metadata": {},
     "output_type": "execute_result"
    }
   ],
   "source": [
    "model.addConstr(C[0] == 140000 + 180000 - 300000 + B[0] + B[1] + B[2], \"May\")\n",
    "model.addConstr(C[1] == C[0] + 260000 - 400000 + B[3] + B[4] - 1.0175 * B[0], \"June\")\n",
    "model.addConstr(C[2] == C[1] + 420000 - 350000 + B[5] - 1.0225 * B[1] - 1.0175 * B[3], \"July\")\n",
    "model.addConstr(C[3] == C[2] + 580000 - 200000 - 1.0275 * B[2] - 1.0225 * B[4] - 1.0175 * B[5], \"August\")"
   ]
  },
  {
   "cell_type": "code",
   "execution_count": 237,
   "metadata": {},
   "outputs": [
    {
     "data": {
      "text/plain": [
       "<gurobi.Constr *Awaiting Model Update*>"
      ]
     },
     "execution_count": 237,
     "metadata": {},
     "output_type": "execute_result"
    }
   ],
   "source": [
    "model.addConstr(B[0] + B[1] + B[2] <= 250000, \"Borrow_Limit_May\")\n",
    "model.addConstr(B[3] + B[4] <= 150000, \"Borrow_Limit_June\")\n",
    "model.addConstr(B[5] <= 350000, \"Borrow_Limit_July\")"
   ]
  },
  {
   "cell_type": "code",
   "execution_count": 238,
   "metadata": {},
   "outputs": [
    {
     "data": {
      "text/plain": [
       "<gurobi.Constr *Awaiting Model Update*>"
      ]
     },
     "execution_count": 238,
     "metadata": {},
     "output_type": "execute_result"
    }
   ],
   "source": [
    "model.addConstr(C[0] >= 25000, \"Min_Cash_Balance_May\")\n",
    "model.addConstr(C[1] >= 20000, \"Min_Cash_Balance_June\")\n",
    "model.addConstr(C[2] >= 35000, \"Min_Cash_Balance_July\")\n",
    "model.addConstr(C[3] >= 18000, \"Min_Cash_Balance_August\")"
   ]
  },
  {
   "cell_type": "code",
   "execution_count": 239,
   "metadata": {},
   "outputs": [
    {
     "data": {
      "text/plain": [
       "<gurobi.Constr *Awaiting Model Update*>"
      ]
     },
     "execution_count": 239,
     "metadata": {},
     "output_type": "execute_result"
    }
   ],
   "source": [
    "model.addConstr(C[2] >= 0.65 * (C[0] + C[1]), \"July_Ratio_Constraint\")"
   ]
  },
  {
   "cell_type": "markdown",
   "metadata": {},
   "source": [
    "### (b) Write down the cash balance constraint for money on-hand at the end of June."
   ]
  },
  {
   "cell_type": "markdown",
   "metadata": {},
   "source": [
    "## z2 = z1 + b23 + b24 − 1.0175b12 − 140\n"
   ]
  },
  {
   "cell_type": "markdown",
   "metadata": {},
   "source": [
    "### (c) Write down the linear ratio constraint associated with the cash balance at the end of July."
   ]
  },
  {
   "cell_type": "markdown",
   "metadata": {},
   "source": [
    "## z3 ≥ 0.65(z1 + z2)"
   ]
  },
  {
   "cell_type": "code",
   "execution_count": 240,
   "metadata": {},
   "outputs": [
    {
     "name": "stdout",
     "output_type": "stream",
     "text": [
      "Gurobi Optimizer version 11.0.0 build v11.0.0rc2 (win64 - Windows 11+.0 (22631.2))\n",
      "\n",
      "CPU model: 13th Gen Intel(R) Core(TM) i7-13700H, instruction set [SSE2|AVX|AVX2]\n",
      "Thread count: 14 physical cores, 20 logical processors, using up to 20 threads\n",
      "\n",
      "Optimize a model with 12 rows, 10 columns and 32 nonzeros\n",
      "Model fingerprint: 0x42c1a00f\n",
      "Coefficient statistics:\n",
      "  Matrix range     [7e-01, 1e+00]\n",
      "  Objective range  [1e+00, 1e+00]\n",
      "  Bounds range     [0e+00, 0e+00]\n",
      "  RHS range        [2e+04, 4e+05]\n",
      "Presolve removed 5 rows and 1 columns\n",
      "Presolve time: 0.00s\n",
      "Presolved: 7 rows, 9 columns, 26 nonzeros\n",
      "\n",
      "Iteration    Objective       Primal Inf.    Dual Inf.      Time\n",
      "       0    0.0000000e+00   1.812500e+04   0.000000e+00      0s\n",
      "       6    1.4290473e+05   0.000000e+00   0.000000e+00      0s\n",
      "\n",
      "Solved in 6 iterations and 0.00 seconds (0.00 work units)\n",
      "Optimal objective  1.429047297e+05\n"
     ]
    }
   ],
   "source": [
    "model.optimize()"
   ]
  },
  {
   "cell_type": "code",
   "execution_count": 241,
   "metadata": {},
   "outputs": [
    {
     "name": "stdout",
     "output_type": "stream",
     "text": [
      "Model Status:  2\n",
      "Number of Decision Variables:  10\n"
     ]
    }
   ],
   "source": [
    "print(\"Model Status: \", model.status)\n",
    "print(\"Number of Decision Variables: \", model.numVars)"
   ]
  },
  {
   "cell_type": "markdown",
   "metadata": {},
   "source": [
    "### (d) What is the total amount that Sunnyshore Bay has to repay to the bank over the entire season?\n"
   ]
  },
  {
   "cell_type": "markdown",
   "metadata": {},
   "source": [
    "## 142,904.73"
   ]
  },
  {
   "cell_type": "code",
   "execution_count": 242,
   "metadata": {},
   "outputs": [
    {
     "name": "stdout",
     "output_type": "stream",
     "text": [
      "Total Amount of Money:  142904.73\n"
     ]
    }
   ],
   "source": [
    "print(\"Total Amount of Money: \", round(model.objVal, 2)) "
   ]
  },
  {
   "cell_type": "markdown",
   "metadata": {},
   "source": [
    "### (e) How much money does Sunnyshore Bay withdraw in May from all loans?"
   ]
  },
  {
   "cell_type": "markdown",
   "metadata": {},
   "source": [
    "## 5000"
   ]
  },
  {
   "cell_type": "markdown",
   "metadata": {},
   "source": [
    "### (f) What is the cash balance at the end of August?"
   ]
  },
  {
   "cell_type": "markdown",
   "metadata": {},
   "source": [
    "## 327,095"
   ]
  },
  {
   "cell_type": "code",
   "execution_count": 243,
   "metadata": {},
   "outputs": [
    {
     "name": "stdout",
     "output_type": "stream",
     "text": [
      "\n",
      "    Variable            X \n",
      "-------------------------\n",
      "Cash Balance[0]        25000 \n",
      "Cash Balance[1]        20000 \n",
      "Cash Balance[2]        35000 \n",
      "Cash Balance[3]       327095 \n",
      "   Borrow[2]         5000 \n",
      "   Borrow[3]      54054.1 \n",
      "   Borrow[4]      80945.9 \n",
      "None\n"
     ]
    }
   ],
   "source": [
    "print(model.printAttr('X'))"
   ]
  },
  {
   "cell_type": "code",
   "execution_count": 244,
   "metadata": {},
   "outputs": [
    {
     "data": {
      "text/plain": [
       "<gurobi.Constr *Awaiting Model Update*>"
      ]
     },
     "execution_count": 244,
     "metadata": {},
     "output_type": "execute_result"
    }
   ],
   "source": [
    "June_model = gb.Model(\"SunnyShore Bay June Increase\")\n",
    "\n",
    "C = June_model.addVars(4, lb=0, vtype=GRB.CONTINUOUS, name=\"Cash Balance\")\n",
    "B = June_model.addVars(6, lb=0, vtype=GRB.CONTINUOUS, name=\"Borrow\")\n",
    "\n",
    "June_model.setObjective(1.0175 * B[0] + 1.0225 * B[1] + 1.0275 * B[2] + 1.0175 * B[3] + 1.0225 * B[4] + 1.0175 * B[5], GRB.MINIMIZE)\n",
    "\n",
    "June_model.addConstr(C[0] == 140000 + 180000 - 300000 + B[0] + B[1] + B[2], \"May\")\n",
    "June_model.addConstr(C[1] == C[0] + 260000 - 400000 + B[3] + B[4] - 1.0175 * B[0], \"June\")\n",
    "June_model.addConstr(C[2] == C[1] + 420000 - 350000 + B[5] - 1.0225 * B[1] - 1.0175 * B[3], \"July\")\n",
    "June_model.addConstr(C[3] == C[2] + 580000 - 200000 - 1.0275 * B[2] - 1.0225 * B[4] - 1.0175 * B[5], \"August\")\n",
    "\n",
    "June_model.addConstr(B[0] + B[1] + B[2] <= 250000, \"Borrow_Limit_May\")\n",
    "June_model.addConstr(B[3] + B[4] <= 150000, \"Borrow_Limit_June\")\n",
    "June_model.addConstr(B[5] <= 350000, \"Borrow_Limit_July\")\n",
    "\n",
    "June_model.addConstr(C[0] >= 25000, \"Min_Cash_Balance_May\")\n",
    "June_model.addConstr(C[1] >= 27500, \"Min_Cash_Balance_June\")\n",
    "June_model.addConstr(C[2] >= 35000, \"Min_Cash_Balance_July\")\n",
    "June_model.addConstr(C[3] >= 18000, \"Min_Cash_Balance_August\")\n",
    "\n",
    "June_model.addConstr(C[2] >= 0.65 * (C[0] + C[1]), \"July_Ratio_Constraint\")"
   ]
  },
  {
   "cell_type": "code",
   "execution_count": 245,
   "metadata": {},
   "outputs": [
    {
     "name": "stdout",
     "output_type": "stream",
     "text": [
      "Gurobi Optimizer version 11.0.0 build v11.0.0rc2 (win64 - Windows 11+.0 (22631.2))\n",
      "\n",
      "CPU model: 13th Gen Intel(R) Core(TM) i7-13700H, instruction set [SSE2|AVX|AVX2]\n",
      "Thread count: 14 physical cores, 20 logical processors, using up to 20 threads\n",
      "\n",
      "Optimize a model with 12 rows, 10 columns and 32 nonzeros\n",
      "Model fingerprint: 0x20464e7e\n",
      "Coefficient statistics:\n",
      "  Matrix range     [7e-01, 1e+00]\n",
      "  Objective range  [1e+00, 1e+00]\n",
      "  Bounds range     [0e+00, 0e+00]\n",
      "  RHS range        [2e+04, 4e+05]\n",
      "Presolve removed 5 rows and 1 columns\n",
      "Presolve time: 0.00s\n",
      "Presolved: 7 rows, 9 columns, 26 nonzeros\n",
      "\n",
      "Iteration    Objective       Primal Inf.    Dual Inf.      Time\n",
      "       0    0.0000000e+00   1.906250e+04   0.000000e+00      0s\n",
      "       6    1.5053662e+05   0.000000e+00   0.000000e+00      0s\n",
      "\n",
      "Solved in 6 iterations and 0.00 seconds (0.00 work units)\n",
      "Optimal objective  1.505366247e+05\n"
     ]
    }
   ],
   "source": [
    "June_model.optimize()"
   ]
  },
  {
   "cell_type": "markdown",
   "metadata": {},
   "source": [
    "### (g) Due to potential unexpected repairs, one of the managers has suggested increasing the minimum cash balance for June to $27,500. How much will now have to be repaid if this change is approved?"
   ]
  },
  {
   "cell_type": "markdown",
   "metadata": {},
   "source": [
    "## 150,536.62"
   ]
  },
  {
   "cell_type": "code",
   "execution_count": 246,
   "metadata": {},
   "outputs": [
    {
     "name": "stdout",
     "output_type": "stream",
     "text": [
      "Model Status:  2\n",
      "Number of Decision Variables:  10\n",
      "Total Amount of Money:  150536.62\n",
      "\n",
      "    Variable            X \n",
      "-------------------------\n",
      "Cash Balance[0]        25000 \n",
      "Cash Balance[1]        27500 \n",
      "Cash Balance[2]        35000 \n",
      "Cash Balance[3]       326963 \n",
      "   Borrow[2]         5000 \n",
      "   Borrow[3]      61425.1 \n",
      "   Borrow[4]      81074.9 \n",
      "None\n"
     ]
    }
   ],
   "source": [
    "print(\"Model Status: \", June_model.status)\n",
    "print(\"Number of Decision Variables: \", June_model.numVars)\n",
    "\n",
    "print(\"Total Amount of Money: \", round(June_model.objVal, 2)) \n",
    "print(June_model.printAttr('X'))"
   ]
  }
 ],
 "metadata": {
  "kernelspec": {
   "display_name": "Python 3",
   "language": "python",
   "name": "python3"
  },
  "language_info": {
   "codemirror_mode": {
    "name": "ipython",
    "version": 3
   },
   "file_extension": ".py",
   "mimetype": "text/x-python",
   "name": "python",
   "nbconvert_exporter": "python",
   "pygments_lexer": "ipython3",
   "version": "3.12.0"
  }
 },
 "nbformat": 4,
 "nbformat_minor": 2
}
