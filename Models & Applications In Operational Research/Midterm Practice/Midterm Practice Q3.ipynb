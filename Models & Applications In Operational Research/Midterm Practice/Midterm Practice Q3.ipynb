{
 "cells": [
  {
   "cell_type": "code",
   "execution_count": 4,
   "metadata": {},
   "outputs": [],
   "source": [
    "import gurobipy as gb\n",
    "from gurobipy import GRB\n",
    "import pandas as pd"
   ]
  },
  {
   "cell_type": "code",
   "execution_count": 5,
   "metadata": {},
   "outputs": [],
   "source": [
    "routes_df = pd.read_csv(r\"C:\\Users\\johns\\OneDrive\\Desktop\\MBAN Semester 3\\OMIS 6000 - Models & Applications in Operational Research\\Midterm\\Midterm Practice\\Routes.csv\")"
   ]
  },
  {
   "cell_type": "code",
   "execution_count": 6,
   "metadata": {},
   "outputs": [],
   "source": [
    "# Parse the routes and extract individual stops\n",
    "all_stops = set()  # A set to hold all unique stops\n",
    "routes = []  # A list to hold all routes as lists of stops\n",
    "for route in routes_df['Routes']:\n",
    "    # Assume the route string format is \"['U', 'a', 'b', 'U']\"\n",
    "    # We need to parse it into a list of stops, e.g., ['U', 'a', 'b', 'U']\n",
    "    stops = route.strip(\"[]\").replace(\"'\", \"\").split(\", \")\n",
    "    routes.append(stops)\n",
    "    all_stops.update(stops)"
   ]
  },
  {
   "cell_type": "code",
   "execution_count": 7,
   "metadata": {},
   "outputs": [],
   "source": [
    "model = gb.Model(\"Shuttle Service\")"
   ]
  },
  {
   "cell_type": "code",
   "execution_count": 8,
   "metadata": {},
   "outputs": [],
   "source": [
    "# Initialize a dictionary to hold indices for routes that include each stop\n",
    "route_indices_by_stop = {stop: [] for stop in all_stops}"
   ]
  },
  {
   "cell_type": "code",
   "execution_count": 9,
   "metadata": {},
   "outputs": [],
   "source": [
    "# Populate the dictionary with indices\n",
    "for i, route in enumerate(routes):\n",
    "    for stop in route:\n",
    "        route_indices_by_stop[stop].append(i)"
   ]
  },
  {
   "cell_type": "code",
   "execution_count": 10,
   "metadata": {},
   "outputs": [],
   "source": [
    "# Now you have a dictionary where each key is a stop and each value is a list of route indices that include that stop\n",
    "# For example, route_indices_by_stop['a'] = [0, 1, 2] means that stops 'a' is included in routes 0, 1, and 2"
   ]
  },
  {
   "cell_type": "code",
   "execution_count": 11,
   "metadata": {},
   "outputs": [],
   "source": [
    "# Create binary decision variables for each route\n",
    "x = model.addVars(len(routes), vtype=GRB.BINARY, name=\"x\")"
   ]
  },
  {
   "cell_type": "code",
   "execution_count": 12,
   "metadata": {},
   "outputs": [],
   "source": [
    "# Step 1: Identify all routes that include Glendon campus ('a')\n",
    "glendon_routes = [i for i, route in enumerate(routes) if 'a' in route]"
   ]
  },
  {
   "cell_type": "code",
   "execution_count": 13,
   "metadata": {},
   "outputs": [],
   "source": [
    "# Step 2: Create auxiliary binary variables for each pair of Glendon routes\n",
    "glendon_pairs = model.addVars(len(glendon_routes), len(glendon_routes), vtype=GRB.BINARY, name=\"glendon_pairs\")"
   ]
  },
  {
   "cell_type": "code",
   "execution_count": 14,
   "metadata": {},
   "outputs": [],
   "source": [
    "# Step 3: Add constraints to activate auxiliary variables for selected routes\n",
    "for i, route_i in enumerate(glendon_routes):\n",
    "    for j, route_j in enumerate(glendon_routes):\n",
    "        if i < j:  # Ensure each pair is only considered once\n",
    "            # Auxiliary variable is 1 if both routes are selected\n",
    "            model.addConstr(glendon_pairs[i, j] <= x[route_i], name=f\"glendon_pair_{i}_{j}_1\")\n",
    "            model.addConstr(glendon_pairs[i, j] <= x[route_j], name=f\"glendon_pair_{i}_{j}_2\")\n",
    "            \n",
    "            # Add a constraint that forces the auxiliary variable to zero if either route is not selected\n",
    "            model.addConstr(glendon_pairs[i, j] >= x[route_i] + x[route_j] - 1, name=f\"glendon_pair_{i}_{j}_3\")"
   ]
  },
  {
   "cell_type": "code",
   "execution_count": 15,
   "metadata": {},
   "outputs": [],
   "source": [
    "# Step 4: Update the objective function to include the extra cost\n",
    "extra_cost_per_pair = 350\n",
    "total_extra_cost = gb.quicksum(glendon_pairs[i, j] for i in range(len(glendon_routes)) for j in range(i+1, len(glendon_routes)))"
   ]
  },
  {
   "cell_type": "code",
   "execution_count": 16,
   "metadata": {},
   "outputs": [],
   "source": [
    "# The objective is to minimize the total maintenance cost plus the extra costs for Glendon campus pairs\n",
    "maintenance_cost = gb.quicksum(routes_df['Cost'][i] * x[i] for i in range(len(routes)))\n",
    "extra_glendon_cost = extra_cost_per_pair * total_extra_cost  # This was calculated in the previous step\n",
    "\n",
    "# Define a subsidy amount per qualifying stop\n",
    "subsidy_per_stop = 50\n",
    "\n",
    "# Create a variable for each stop to count the number of routes serving it\n",
    "stops_served_count = {stop: gb.quicksum(x[i] for i in range(len(routes)) if stop in routes[i]) for stop in all_stops if stop != 'U'}\n",
    "\n",
    "# Create a binary variable for each stop to indicate if it qualifies for the subsidy (served by at least 3 routes)\n",
    "stop_subsidy_qualification = model.addVars(all_stops.difference(['U']), vtype=GRB.BINARY, name=\"stop_subsidy_qual\")\n",
    "\n",
    "# Add constraints for the binary subsidy qualification variables\n",
    "for stop in stops_served_count:\n",
    "    model.addConstr(stops_served_count[stop] >= 3 * stop_subsidy_qualification[stop], name=f\"subsidy_qual_{stop}\")\n",
    "\n",
    "# Update the objective function to include the subsidy\n",
    "total_subsidy = gb.quicksum(subsidy_per_stop * stop_subsidy_qualification[stop] for stop in stops_served_count)\n",
    "\n",
    "\n",
    "# Update the objective function\n",
    "model.setObjective(maintenance_cost + extra_glendon_cost - total_subsidy, GRB.MINIMIZE)\n",
    "\n",
    "\n",
    "# Constraint: Each stop is served by at least one route\n",
    "for stop in all_stops:\n",
    "    if stop != 'U':  # Exclude the starting point (Keele Campus)\n",
    "        model.addConstr(gb.quicksum(x[i] for i, route in enumerate(routes) if stop in route) >= 1, name=f\"serve_{stop}\")\n"
   ]
  },
  {
   "cell_type": "code",
   "execution_count": 17,
   "metadata": {},
   "outputs": [
    {
     "name": "stdout",
     "output_type": "stream",
     "text": [
      "Gurobi Optimizer version 11.0.0 build v11.0.0rc2 (win64 - Windows 11+.0 (22631.2))\n",
      "\n",
      "CPU model: 13th Gen Intel(R) Core(TM) i7-13700H, instruction set [SSE2|AVX|AVX2]\n",
      "Thread count: 14 physical cores, 20 logical processors, using up to 20 threads\n",
      "\n"
     ]
    },
    {
     "ename": "GurobiError",
     "evalue": "Model too large for size-limited license; visit https://www.gurobi.com/free-trial for a full license",
     "output_type": "error",
     "traceback": [
      "\u001b[1;31m---------------------------------------------------------------------------\u001b[0m",
      "\u001b[1;31mGurobiError\u001b[0m                               Traceback (most recent call last)",
      "Cell \u001b[1;32mIn[17], line 2\u001b[0m\n\u001b[0;32m      1\u001b[0m \u001b[38;5;66;03m# Now we can proceed with optimization\u001b[39;00m\n\u001b[1;32m----> 2\u001b[0m \u001b[43mmodel\u001b[49m\u001b[38;5;241;43m.\u001b[39;49m\u001b[43moptimize\u001b[49m\u001b[43m(\u001b[49m\u001b[43m)\u001b[49m\n",
      "File \u001b[1;32msrc\\\\gurobipy\\\\model.pxi:893\u001b[0m, in \u001b[0;36mgurobipy.Model.optimize\u001b[1;34m()\u001b[0m\n",
      "\u001b[1;31mGurobiError\u001b[0m: Model too large for size-limited license; visit https://www.gurobi.com/free-trial for a full license"
     ]
    }
   ],
   "source": [
    "# Now we can proceed with optimization\n",
    "model.optimize()"
   ]
  },
  {
   "cell_type": "code",
   "execution_count": null,
   "metadata": {},
   "outputs": [],
   "source": [
    "# Other constraints related to the Glendon campus and subsidies will go here"
   ]
  },
  {
   "cell_type": "code",
   "execution_count": null,
   "metadata": {},
   "outputs": [],
   "source": [
    "# Optimize the model\n",
    "model.optimize()"
   ]
  },
  {
   "cell_type": "code",
   "execution_count": null,
   "metadata": {},
   "outputs": [],
   "source": [
    "# Check the solution\n",
    "if model.status == GRB.OPTIMAL:\n",
    "    selected_routes = [i for i in range(len(routes)) if x[i].X > 0.5]\n",
    "    print(\"Selected Routes:\")\n",
    "    for i in selected_routes:\n",
    "        print(f\"Route {i+1}: {routes[i]}\")\n",
    "\n",
    "print(\"Number of Decision Variables:\", model.numVars)\n",
    "print(model.ObjVal)"
   ]
  }
 ],
 "metadata": {
  "kernelspec": {
   "display_name": "Python 3",
   "language": "python",
   "name": "python3"
  },
  "language_info": {
   "codemirror_mode": {
    "name": "ipython",
    "version": 3
   },
   "file_extension": ".py",
   "mimetype": "text/x-python",
   "name": "python",
   "nbconvert_exporter": "python",
   "pygments_lexer": "ipython3",
   "version": "3.12.0"
  }
 },
 "nbformat": 4,
 "nbformat_minor": 2
}
