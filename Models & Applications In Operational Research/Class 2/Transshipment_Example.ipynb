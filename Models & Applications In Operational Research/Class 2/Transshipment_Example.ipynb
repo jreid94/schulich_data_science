{
 "cells": [
  {
   "cell_type": "code",
   "execution_count": 1,
   "metadata": {},
   "outputs": [],
   "source": [
    "from gurobipy import GRB\n",
    "import gurobipy as gb"
   ]
  },
  {
   "cell_type": "code",
   "execution_count": 2,
   "metadata": {},
   "outputs": [
    {
     "name": "stdout",
     "output_type": "stream",
     "text": [
      "Restricted license - for non-production use only - expires 2025-11-24\n"
     ]
    }
   ],
   "source": [
    "# Create the optimization model\n",
    "model = gb.Model(\"Transshipment Problem\")"
   ]
  },
  {
   "cell_type": "code",
   "execution_count": 3,
   "metadata": {},
   "outputs": [],
   "source": [
    "# A list of list of costs\n",
    "source_costs = [[11, 10, 26, 29], [9, 12, 27, 26]]\n",
    "trans_costs = [[12, 16], [13, 15]]"
   ]
  },
  {
   "cell_type": "code",
   "execution_count": 4,
   "metadata": {},
   "outputs": [],
   "source": [
    "# Create the a single class of decision variables where\n",
    "# From = {𝑫𝒂,𝑯𝒐} and To = {𝑪𝒉,𝑳𝑨,𝑺𝑭,𝑵𝒀}.\n",
    "x = model.addVars(2, 4, lb=0, vtype=GRB.CONTINUOUS, name=\"Source Nodes\")\n",
    "# From = {𝑪𝒉,𝑳𝑨} and To = {𝑺𝑭,𝑵𝒀}.\n",
    "y = model.addVars(2, 2, lb=0, vtype=GRB.CONTINUOUS, name=\"Transshipment Nodes\")"
   ]
  },
  {
   "cell_type": "code",
   "execution_count": 5,
   "metadata": {},
   "outputs": [],
   "source": [
    "# The objective function\n",
    "source_objective = gb.quicksum(source_costs[i][j]*x[i,j] for i in range(2) for j in range(4))\n",
    "trans_objective = gb.quicksum(trans_costs[i][j]*y[i,j] for i in range(2) for j in range(2))\n",
    "model.setObjective(source_objective + trans_objective, GRB.MINIMIZE)"
   ]
  },
  {
   "cell_type": "code",
   "execution_count": 6,
   "metadata": {},
   "outputs": [
    {
     "data": {
      "text/plain": [
       "<gurobi.Constr *Awaiting Model Update*>"
      ]
     },
     "execution_count": 6,
     "metadata": {},
     "output_type": "execute_result"
    }
   ],
   "source": [
    "# Add the supply constraints from source nodes\n",
    "model.addConstr(gb.quicksum(x[0,j] for j in range(4)) <= 200, name=\"Supply Constraint 1\")\n",
    "model.addConstr(gb.quicksum(x[1,j] for j in range(4)) <= 160, name=\"Supply Constraint 2\")"
   ]
  },
  {
   "cell_type": "code",
   "execution_count": 7,
   "metadata": {},
   "outputs": [
    {
     "data": {
      "text/plain": [
       "<gurobi.Constr *Awaiting Model Update*>"
      ]
     },
     "execution_count": 7,
     "metadata": {},
     "output_type": "execute_result"
    }
   ],
   "source": [
    "# Add the supply constraints from transshipment nodes\n",
    "model.addConstr(gb.quicksum(x[i,0] for i in range(2)) <= 90, name=\"Transship Capacity 1\")\n",
    "model.addConstr(gb.quicksum(x[i,1] for i in range(2)) <= 80, name=\"Transship Capacity 2\")"
   ]
  },
  {
   "cell_type": "code",
   "execution_count": 8,
   "metadata": {},
   "outputs": [
    {
     "data": {
      "text/plain": [
       "<gurobi.Constr *Awaiting Model Update*>"
      ]
     },
     "execution_count": 8,
     "metadata": {},
     "output_type": "execute_result"
    }
   ],
   "source": [
    "# Add the flow balance constrainits\n",
    "model.addConstr(gb.quicksum(x[i,0] for i in range(2)) == gb.quicksum(y[0,k] for k in range(2)), name=\"Flow Balance 1\")\n",
    "model.addConstr(gb.quicksum(x[i,1] for i in range(2)) == gb.quicksum(y[1,k] for k in range(2)), name=\"Flow Balance 2\")"
   ]
  },
  {
   "cell_type": "code",
   "execution_count": 9,
   "metadata": {},
   "outputs": [
    {
     "data": {
      "text/plain": [
       "<gurobi.Constr *Awaiting Model Update*>"
      ]
     },
     "execution_count": 9,
     "metadata": {},
     "output_type": "execute_result"
    }
   ],
   "source": [
    "# Add the demand constraints\n",
    "model.addConstr(gb.quicksum(x[i,2] + y[i,0] for i in range(2)) == 140, name=\"Demand Constraint 1\")\n",
    "model.addConstr(gb.quicksum(x[i,3] + y[i,1] for i in range(2)) == 140, name=\"Demand Constraint 2\")"
   ]
  },
  {
   "cell_type": "code",
   "execution_count": 10,
   "metadata": {},
   "outputs": [
    {
     "data": {
      "text/plain": [
       "<gurobi.Constr *Awaiting Model Update*>"
      ]
     },
     "execution_count": 10,
     "metadata": {},
     "output_type": "execute_result"
    }
   ],
   "source": [
    "# Ratio constraint\n",
    "model.addConstr(0.6*gb.quicksum(y[i,j] for i in range(2) for j in range(2)) <= 0.4*gb.quicksum(x[i,j] for i in range(2) for j in range(2,4)), name=\"Ratio constraint\")"
   ]
  },
  {
   "cell_type": "code",
   "execution_count": 11,
   "metadata": {},
   "outputs": [
    {
     "name": "stdout",
     "output_type": "stream",
     "text": [
      "Gurobi Optimizer version 11.0.0 build v11.0.0rc2 (win64 - Windows 11.0 (22621.2))\n",
      "\n",
      "CPU model: 13th Gen Intel(R) Core(TM) i7-13700H, instruction set [SSE2|AVX|AVX2]\n",
      "Thread count: 14 physical cores, 20 logical processors, using up to 20 threads\n",
      "\n",
      "Optimize a model with 9 rows, 12 columns and 36 nonzeros\n",
      "Model fingerprint: 0x828d4180\n",
      "Coefficient statistics:\n",
      "  Matrix range     [4e-01, 1e+00]\n",
      "  Objective range  [9e+00, 3e+01]\n",
      "  Bounds range     [0e+00, 0e+00]\n",
      "  RHS range        [8e+01, 2e+02]\n",
      "Presolve time: 0.01s\n",
      "Presolved: 9 rows, 12 columns, 36 nonzeros\n",
      "\n",
      "Iteration    Objective       Primal Inf.    Dual Inf.      Time\n",
      "       0    3.7800000e+03   4.480000e+02   0.000000e+00      0s\n",
      "       5    6.9040000e+03   0.000000e+00   0.000000e+00      0s\n",
      "\n",
      "Solved in 5 iterations and 0.01 seconds (0.00 work units)\n",
      "Optimal objective  6.904000000e+03\n"
     ]
    }
   ],
   "source": [
    "# Optimally solve the problem\n",
    "model.optimize()"
   ]
  },
  {
   "cell_type": "code",
   "execution_count": 12,
   "metadata": {},
   "outputs": [
    {
     "name": "stdout",
     "output_type": "stream",
     "text": [
      "Number of Decision Variables:  12\n"
     ]
    }
   ],
   "source": [
    "# Number of variables in the model\n",
    "print(\"Number of Decision Variables: \", model.numVars)"
   ]
  },
  {
   "cell_type": "code",
   "execution_count": 13,
   "metadata": {},
   "outputs": [
    {
     "name": "stdout",
     "output_type": "stream",
     "text": [
      "Total Transportation cost:  6904.0\n"
     ]
    }
   ],
   "source": [
    "# Value of the objective function\n",
    "print(\"Total Transportation cost: \", model.objVal)"
   ]
  },
  {
   "cell_type": "code",
   "execution_count": 14,
   "metadata": {},
   "outputs": [
    {
     "name": "stdout",
     "output_type": "stream",
     "text": [
      "\n",
      "    Variable            X \n",
      "-------------------------\n",
      "Source Nodes[0,1]           46 \n",
      "Source Nodes[0,2]           74 \n",
      "Source Nodes[1,0]           66 \n",
      "Source Nodes[1,3]           94 \n",
      "Transshipment Nodes[0,0]           66 \n",
      "Transshipment Nodes[1,1]           46 \n",
      "None\n"
     ]
    }
   ],
   "source": [
    "# Print the decision variables\n",
    "print(model.printAttr('X'))"
   ]
  }
 ],
 "metadata": {
  "kernelspec": {
   "display_name": "Python 3",
   "language": "python",
   "name": "python3"
  },
  "language_info": {
   "codemirror_mode": {
    "name": "ipython",
    "version": 3
   },
   "file_extension": ".py",
   "mimetype": "text/x-python",
   "name": "python",
   "nbconvert_exporter": "python",
   "pygments_lexer": "ipython3",
   "version": "3.12.0"
  }
 },
 "nbformat": 4,
 "nbformat_minor": 2
}
