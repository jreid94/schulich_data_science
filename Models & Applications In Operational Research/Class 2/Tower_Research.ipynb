{
 "cells": [
  {
   "cell_type": "code",
   "execution_count": 1,
   "metadata": {},
   "outputs": [],
   "source": [
    "from gurobipy import GRB\n",
    "import gurobipy as gb"
   ]
  },
  {
   "cell_type": "code",
   "execution_count": 2,
   "metadata": {},
   "outputs": [
    {
     "name": "stdout",
     "output_type": "stream",
     "text": [
      "Restricted license - for non-production use only - expires 2025-11-24\n"
     ]
    }
   ],
   "source": [
    "# Create the optimization model\n",
    "model = gb.Model(\"Tower Research\")"
   ]
  },
  {
   "cell_type": "code",
   "execution_count": 3,
   "metadata": {},
   "outputs": [],
   "source": [
    "# Create the three classes of decision variables where each Python\n",
    "# variable represents a different number of Gurobi decision variables\n",
    "I = model.addVars(2, lb=0, vtype=GRB.CONTINUOUS, name=\"Invest\")\n",
    "B = model.addVars(3, lb=0, vtype=GRB.CONTINUOUS, name=\"Borrow\")\n",
    "w = model.addVars(4, lb=0, vtype=GRB.CONTINUOUS, name=\"Wealth\")"
   ]
  },
  {
   "cell_type": "code",
   "execution_count": 4,
   "metadata": {},
   "outputs": [],
   "source": [
    "# The objective function\n",
    "model.setObjective(w[3], GRB.MAXIMIZE)"
   ]
  },
  {
   "cell_type": "code",
   "execution_count": 5,
   "metadata": {},
   "outputs": [
    {
     "data": {
      "text/plain": [
       "<gurobi.Constr *Awaiting Model Update*>"
      ]
     },
     "execution_count": 5,
     "metadata": {},
     "output_type": "execute_result"
    }
   ],
   "source": [
    "# Add the constraints\n",
    "model.addConstr(w[0] == 4000 + 1000 + B[0] - 1200 - I[0], \"Period 1 Constraint\")\n",
    "model.addConstr(w[1] == w[0] + B[1] + 4400 - 1.03*B[0] - 4800 - I[1], \"Period 1 Constraint\")\n",
    "model.addConstr(w[2] == w[1] + B[2] + 5800 + 1.02*I[0] - 4212 - 1.03*B[1], \"Period 2 Constraint\")\n",
    "model.addConstr(w[3] == w[2] + 3000 + 1.02*I[1] - 1000 - 1.03*B[2], \"Period 3 Constraint\")"
   ]
  },
  {
   "cell_type": "code",
   "execution_count": 6,
   "metadata": {},
   "outputs": [],
   "source": [
    "# We could also define these constraints as upper bounds in the definition of the decision variables\n",
    "for t in range(3):\n",
    "    model.addConstr(B[t] <= 3000, \"Borrowing Constraint %i\" % t)"
   ]
  },
  {
   "cell_type": "code",
   "execution_count": 7,
   "metadata": {},
   "outputs": [
    {
     "name": "stdout",
     "output_type": "stream",
     "text": [
      "Gurobi Optimizer version 11.0.0 build v11.0.0rc2 (win64 - Windows 11.0 (22621.2))\n",
      "\n",
      "CPU model: 13th Gen Intel(R) Core(TM) i7-13700H, instruction set [SSE2|AVX|AVX2]\n",
      "Thread count: 14 physical cores, 20 logical processors, using up to 20 threads\n",
      "\n",
      "Optimize a model with 7 rows, 9 columns and 20 nonzeros\n",
      "Model fingerprint: 0x3ff2f1ed\n",
      "Coefficient statistics:\n",
      "  Matrix range     [1e+00, 1e+00]\n",
      "  Objective range  [1e+00, 1e+00]\n",
      "  Bounds range     [0e+00, 0e+00]\n",
      "  RHS range        [4e+02, 4e+03]\n",
      "Presolve removed 3 rows and 0 columns\n",
      "Presolve time: 0.01s\n",
      "Presolved: 4 rows, 9 columns, 17 nonzeros\n",
      "\n",
      "Iteration    Objective       Primal Inf.    Dual Inf.      Time\n",
      "       0    3.2544513e+04   5.244513e+03   0.000000e+00      0s\n",
      "       2    7.0560000e+03   0.000000e+00   0.000000e+00      0s\n",
      "\n",
      "Solved in 2 iterations and 0.01 seconds (0.00 work units)\n",
      "Optimal objective  7.056000000e+03\n"
     ]
    }
   ],
   "source": [
    "# Optimally solve the problem\n",
    "model.optimize()"
   ]
  },
  {
   "cell_type": "code",
   "execution_count": 8,
   "metadata": {},
   "outputs": [
    {
     "name": "stdout",
     "output_type": "stream",
     "text": [
      "Number of Constraints:  7\n"
     ]
    }
   ],
   "source": [
    "# Number of constraints in the model\n",
    "print(\"Number of Constraints: \", model.numConstrs)"
   ]
  },
  {
   "cell_type": "code",
   "execution_count": 9,
   "metadata": {},
   "outputs": [
    {
     "name": "stdout",
     "output_type": "stream",
     "text": [
      "Model Status:  2\n"
     ]
    }
   ],
   "source": [
    "# The status of the model\n",
    "print(\"Model Status: \", model.status)"
   ]
  },
  {
   "cell_type": "code",
   "execution_count": 10,
   "metadata": {},
   "outputs": [
    {
     "name": "stdout",
     "output_type": "stream",
     "text": [
      "Total costs:  7056.0\n"
     ]
    }
   ],
   "source": [
    "# Value of the objective function\n",
    "print(\"Total costs: \", model.objVal)"
   ]
  },
  {
   "cell_type": "code",
   "execution_count": 11,
   "metadata": {},
   "outputs": [
    {
     "name": "stdout",
     "output_type": "stream",
     "text": [
      "\n",
      "    Variable            X \n",
      "-------------------------\n",
      "   Invest[1]         3400 \n",
      "   Wealth[0]         3800 \n",
      "   Wealth[2]         1588 \n",
      "   Wealth[3]         7056 \n",
      "None\n"
     ]
    }
   ],
   "source": [
    "# Print the decision variables\n",
    "print(model.printAttr('X'))"
   ]
  }
 ],
 "metadata": {
  "kernelspec": {
   "display_name": "Python 3",
   "language": "python",
   "name": "python3"
  },
  "language_info": {
   "codemirror_mode": {
    "name": "ipython",
    "version": 3
   },
   "file_extension": ".py",
   "mimetype": "text/x-python",
   "name": "python",
   "nbconvert_exporter": "python",
   "pygments_lexer": "ipython3",
   "version": "3.12.0"
  }
 },
 "nbformat": 4,
 "nbformat_minor": 2
}
