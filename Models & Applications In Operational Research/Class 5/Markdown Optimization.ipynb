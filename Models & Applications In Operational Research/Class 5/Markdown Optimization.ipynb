{
 "cells": [
  {
   "cell_type": "code",
   "execution_count": 1,
   "metadata": {},
   "outputs": [],
   "source": [
    "from gurobipy import GRB\n",
    "import gurobipy as gb"
   ]
  },
  {
   "cell_type": "code",
   "execution_count": 2,
   "metadata": {},
   "outputs": [],
   "source": [
    "# Linear price response functions (intercept, slope)\n",
    "snowsuit = [[80, 0.5], [80, 0.5], [30, 0.5], [30, 1.0]]\n",
    "jacket = [[120, 0.7], [90, 0.9], [80, 1.0], [50, 0.9]]\n",
    "snowpants = [[50, 0.8], [70, 0.4], [40, 0.4], [10, 0.4]]"
   ]
  },
  {
   "cell_type": "code",
   "execution_count": 3,
   "metadata": {},
   "outputs": [
    {
     "name": "stdout",
     "output_type": "stream",
     "text": [
      "Restricted license - for non-production use only - expires 2025-11-24\n"
     ]
    }
   ],
   "source": [
    "# Create a new optimization model to maximize revenue\n",
    "model = gb.Model(\"Markdown Optimization\")"
   ]
  },
  {
   "cell_type": "code",
   "execution_count": 4,
   "metadata": {},
   "outputs": [],
   "source": [
    "# Construct the decision variables\n",
    "p = model.addVars(3,4, lb=0, vtype=GRB.CONTINUOUS, name=\"Price\")\n",
    "d = model.addVars(3,4, lb=0, vtype=GRB.INTEGER, name=\"Month Demand\")"
   ]
  },
  {
   "cell_type": "code",
   "execution_count": 5,
   "metadata": {},
   "outputs": [],
   "source": [
    "#Objective Function\n",
    "model.setObjective(gb.quicksum(p[i,n]*d[i,n] for i in range(3) for n in range(4)), GRB.MAXIMIZE)"
   ]
  },
  {
   "cell_type": "code",
   "execution_count": 6,
   "metadata": {},
   "outputs": [],
   "source": [
    "# Define the demand constraints\n",
    "for n in range(4):\n",
    "    model.addConstr(d[0,n] == snowsuit[n][0] - snowsuit[n][1]*p[0,n], \"Demand Definition Snowsuits\")\n",
    "    model.addConstr(d[1,n] == jacket[n][0] - jacket[n][1]*p[1,n], \"Demand Definition Jackets\")\n",
    "    model.addConstr(d[2,n] == snowpants[n][0] - snowpants[n][1]*p[2,n], \"Demand Definition Snow Pants\")"
   ]
  },
  {
   "cell_type": "code",
   "execution_count": 7,
   "metadata": {},
   "outputs": [
    {
     "data": {
      "text/plain": [
       "<gurobi.Constr *Awaiting Model Update*>"
      ]
     },
     "execution_count": 7,
     "metadata": {},
     "output_type": "execute_result"
    }
   ],
   "source": [
    "# Demand must not exceed the number we have in stock\n",
    "model.addConstr(gb.quicksum(d[0,n] + d[1,n] for n in range(4)) <= 160, \"Demand Constraint 1\")\n",
    "model.addConstr(gb.quicksum(d[0,n] + d[2,n] for n in range(4)) <= 160, \"Demand Constraint 2\")   "
   ]
  },
  {
   "cell_type": "code",
   "execution_count": 8,
   "metadata": {},
   "outputs": [
    {
     "data": {
      "text/plain": [
       "{(0, 1): <gurobi.Constr *Awaiting Model Update*>,\n",
       " (0, 2): <gurobi.Constr *Awaiting Model Update*>,\n",
       " (0, 3): <gurobi.Constr *Awaiting Model Update*>,\n",
       " (1, 1): <gurobi.Constr *Awaiting Model Update*>,\n",
       " (1, 2): <gurobi.Constr *Awaiting Model Update*>,\n",
       " (1, 3): <gurobi.Constr *Awaiting Model Update*>,\n",
       " (2, 1): <gurobi.Constr *Awaiting Model Update*>,\n",
       " (2, 2): <gurobi.Constr *Awaiting Model Update*>,\n",
       " (2, 3): <gurobi.Constr *Awaiting Model Update*>}"
      ]
     },
     "execution_count": 8,
     "metadata": {},
     "output_type": "execute_result"
    }
   ],
   "source": [
    "# Prices must be marked down month-over-month\n",
    "model.addConstrs((p[i,n] <= p[i,n-1] for i in range(3) for n in range(1,4)), \"Markdown Constraint\")"
   ]
  },
  {
   "cell_type": "code",
   "execution_count": 9,
   "metadata": {},
   "outputs": [
    {
     "name": "stdout",
     "output_type": "stream",
     "text": [
      "Gurobi Optimizer version 11.0.0 build v11.0.0rc2 (win64 - Windows 11.0 (22621.2))\n",
      "\n",
      "CPU model: 13th Gen Intel(R) Core(TM) i7-13700H, instruction set [SSE2|AVX|AVX2]\n",
      "Thread count: 14 physical cores, 20 logical processors, using up to 20 threads\n",
      "\n",
      "Optimize a model with 23 rows, 24 columns and 58 nonzeros\n",
      "Model fingerprint: 0xd4aff2d7\n",
      "Model has 12 quadratic objective terms\n",
      "Variable types: 12 continuous, 12 integer (0 binary)\n",
      "Coefficient statistics:\n",
      "  Matrix range     [4e-01, 1e+00]\n",
      "  Objective range  [0e+00, 0e+00]\n",
      "  QObjective range [2e+00, 2e+00]\n",
      "  Bounds range     [0e+00, 0e+00]\n",
      "  RHS range        [1e+01, 2e+02]\n",
      "Found heuristic solution: objective 2812.5000000\n",
      "Presolve time: 0.00s\n",
      "Presolved: 48 rows, 37 columns, 121 nonzeros\n",
      "Presolved model has 12 bilinear constraint(s)\n",
      "\n",
      "Solving non-convex MIQCP\n",
      "\n",
      "Variable types: 20 continuous, 17 integer (0 binary)\n",
      "\n",
      "Root relaxation: objective 2.931466e+04, 31 iterations, 0.00 seconds (0.00 work units)\n",
      "\n",
      "    Nodes    |    Current Node    |     Objective Bounds      |     Work\n",
      " Expl Unexpl |  Obj  Depth IntInf | Incumbent    BestBd   Gap | It/Node Time\n",
      "\n",
      "     0     0 29314.6617    0   15 2812.50000 29314.6617   942%     -    0s\n",
      "H    0     0                    17112.357143 29314.6617  71.3%     -    0s\n",
      "     0     0 22158.0016    0   26 17112.3571 22158.0016  29.5%     -    0s\n",
      "H    0     0                    17189.357143 22158.0016  28.9%     -    0s\n",
      "     0     0 19702.8785    0   24 17189.3571 19702.8785  14.6%     -    0s\n",
      "H    0     0                    18183.011905 19702.8785  8.36%     -    0s\n",
      "     0     0 19328.7947    0   22 18183.0119 19328.7947  6.30%     -    0s\n",
      "H    0     0                    18206.511905 19328.7947  6.16%     -    0s\n",
      "H    0     0                    18241.511905 19328.7947  5.96%     -    0s\n",
      "     0     0 18753.4766    0   23 18241.5119 18753.4766  2.81%     -    0s\n",
      "     0     0 18534.8387    0   20 18241.5119 18534.8387  1.61%     -    0s\n",
      "H    0     0                    18303.087302 18534.8387  1.27%     -    0s\n",
      "H    0     0                    18319.595238 18534.8387  1.17%     -    0s\n",
      "     0     0 18532.2597    0   16 18319.5952 18532.2597  1.16%     -    0s\n",
      "     0     0 18442.6580    0   22 18319.5952 18442.6580  0.67%     -    0s\n",
      "H    0     0                    18387.412698 18442.6580  0.30%     -    0s\n",
      "H    0     0                    18389.317460 18442.6580  0.29%     -    0s\n",
      "     0     0 18398.5631    0   21 18389.3175 18398.5631  0.05%     -    0s\n",
      "     0     0 18398.5631    0   21 18389.3175 18398.5631  0.05%     -    0s\n",
      "H    0     0                    18391.817460 18398.5631  0.04%     -    0s\n",
      "     0     0 18397.7598    0   16 18391.8175 18397.7598  0.03%     -    0s\n",
      "     0     0 18394.4683    0    5 18391.8175 18394.4683  0.01%     -    0s\n",
      "     0     0 18394.4683    0    2 18391.8175 18394.4683  0.01%     -    0s\n",
      "     0     0 18393.7222    0    1 18391.8175 18393.7222  0.01%     -    0s\n",
      "H    0     0                    18393.150794 18393.7222  0.00%     -    0s\n",
      "\n",
      "Cutting planes:\n",
      "  MIR: 1\n",
      "  RLT: 21\n",
      "\n",
      "Explored 1 nodes (135 simplex iterations) in 0.12 seconds (0.01 work units)\n",
      "Thread count was 20 (of 20 available processors)\n",
      "\n",
      "Solution count 10: 18393.2 18391.8 18389.3 ... 17189.4\n",
      "\n",
      "Optimal solution found (tolerance 1.00e-04)\n",
      "Best objective 1.839315079365e+04, best bound 1.839372222222e+04, gap 0.0031%\n"
     ]
    }
   ],
   "source": [
    "# Solve our model\n",
    "model.optimize()"
   ]
  },
  {
   "cell_type": "code",
   "execution_count": 10,
   "metadata": {},
   "outputs": [
    {
     "name": "stdout",
     "output_type": "stream",
     "text": [
      "Snowsuit Prices from January to April: \n",
      " ['102.00', '100.00', '50.00', '30.00']\n",
      "Jacket Prices from January to April: \n",
      " ['107.14', '71.11', '61.00', '48.89']\n",
      "Snow Pant Prices from January to April: \n",
      " ['50.00', '50.00', '50.00', '12.50']\n"
     ]
    }
   ],
   "source": [
    "# Price of snowsuits \n",
    "print(\"Snowsuit Prices from January to April: \\n\", ['%.2f' % p[0,n].x for n in range(4)])\n",
    "print(\"Jacket Prices from January to April: \\n\", ['%.2f' % p[1,n].x for n in range(4)])\n",
    "print(\"Snow Pant Prices from January to April: \\n\", ['%.2f' % p[2,n].x for n in range(4)])"
   ]
  }
 ],
 "metadata": {
  "kernelspec": {
   "display_name": "Python 3",
   "language": "python",
   "name": "python3"
  },
  "language_info": {
   "codemirror_mode": {
    "name": "ipython",
    "version": 3
   },
   "file_extension": ".py",
   "mimetype": "text/x-python",
   "name": "python",
   "nbconvert_exporter": "python",
   "pygments_lexer": "ipython3",
   "version": "3.12.0"
  }
 },
 "nbformat": 4,
 "nbformat_minor": 2
}
