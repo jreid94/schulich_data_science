{
 "cells": [
  {
   "cell_type": "code",
   "execution_count": 1,
   "metadata": {},
   "outputs": [],
   "source": [
    "from gurobipy import GRB\n",
    "import gurobipy as gb"
   ]
  },
  {
   "cell_type": "code",
   "execution_count": 2,
   "metadata": {},
   "outputs": [],
   "source": [
    "# Should we implement a variable pricing scheme?\n",
    "isVariablePricing = True"
   ]
  },
  {
   "cell_type": "code",
   "execution_count": 3,
   "metadata": {},
   "outputs": [],
   "source": [
    "# Linear price response functions (intercept, slope)\n",
    "response = [[3100, 62], [1900, 50], [1700, 40], [1710, 42], [2000, 53], [2500, 54], [3300, 60]]"
   ]
  },
  {
   "cell_type": "code",
   "execution_count": 4,
   "metadata": {},
   "outputs": [
    {
     "name": "stdout",
     "output_type": "stream",
     "text": [
      "Restricted license - for non-production use only - expires 2025-11-24\n"
     ]
    }
   ],
   "source": [
    "# Create a new optimization model to maximize revenue\n",
    "model = gb.Model(\"Variable Pricing Model\")"
   ]
  },
  {
   "cell_type": "code",
   "execution_count": 5,
   "metadata": {},
   "outputs": [],
   "source": [
    "# Construct the decision variables\n",
    "p = model.addVars(7, lb=0, ub=40, vtype=GRB.CONTINUOUS, name=\"Price\")\n",
    "d = model.addVars(7, lb=0, ub=1100, vtype=GRB.CONTINUOUS, name=\"Daily Demand\")"
   ]
  },
  {
   "cell_type": "code",
   "execution_count": 6,
   "metadata": {},
   "outputs": [],
   "source": [
    "#Objective Function\n",
    "model.setObjective(gb.quicksum((p[n]-19)*d[n] for n in range(7)), GRB.MAXIMIZE)"
   ]
  },
  {
   "cell_type": "code",
   "execution_count": 7,
   "metadata": {},
   "outputs": [
    {
     "data": {
      "text/plain": [
       "{0: <gurobi.Constr *Awaiting Model Update*>,\n",
       " 1: <gurobi.Constr *Awaiting Model Update*>,\n",
       " 2: <gurobi.Constr *Awaiting Model Update*>,\n",
       " 3: <gurobi.Constr *Awaiting Model Update*>,\n",
       " 4: <gurobi.Constr *Awaiting Model Update*>,\n",
       " 5: <gurobi.Constr *Awaiting Model Update*>,\n",
       " 6: <gurobi.Constr *Awaiting Model Update*>}"
      ]
     },
     "execution_count": 7,
     "metadata": {},
     "output_type": "execute_result"
    }
   ],
   "source": [
    "# Demand is diverted from days of higher prices to days with lower prices\n",
    "model.addConstrs((d[n] == response[n][0] - response[n][1]*p[n] + 9*gb.quicksum(p[m] - p[n] for m in range(7)) for n in range(7)), \"Demand Constraint\")"
   ]
  },
  {
   "cell_type": "code",
   "execution_count": 8,
   "metadata": {},
   "outputs": [],
   "source": [
    "# If variable pricing is not allowed, we must add constraints to ensure that\n",
    "# the price on each day of the week is the same. \n",
    "if not isVariablePricing:\n",
    "    for n in range(6):\n",
    "        model.addConstr(p[n] == p[n+1], \"Equality Constraint %i\" %n)"
   ]
  },
  {
   "cell_type": "code",
   "execution_count": 9,
   "metadata": {},
   "outputs": [
    {
     "name": "stdout",
     "output_type": "stream",
     "text": [
      "Gurobi Optimizer version 11.0.0 build v11.0.0rc2 (win64 - Windows 11.0 (22621.2))\n",
      "\n",
      "CPU model: 13th Gen Intel(R) Core(TM) i7-13700H, instruction set [SSE2|AVX|AVX2]\n",
      "Thread count: 14 physical cores, 20 logical processors, using up to 20 threads\n",
      "\n",
      "Optimize a model with 7 rows, 14 columns and 56 nonzeros\n",
      "Model fingerprint: 0x2ff64bc2\n",
      "Model has 7 quadratic objective terms\n",
      "Coefficient statistics:\n",
      "  Matrix range     [1e+00, 1e+02]\n",
      "  Objective range  [2e+01, 2e+01]\n",
      "  QObjective range [2e+00, 2e+00]\n",
      "  Bounds range     [4e+01, 1e+03]\n",
      "  RHS range        [2e+03, 3e+03]\n",
      "\n",
      "Continuous model is non-convex -- solving as a MIP\n",
      "\n",
      "Presolve time: 0.00s\n",
      "Presolved: 22 rows, 22 columns, 99 nonzeros\n",
      "Presolved model has 7 bilinear constraint(s)\n",
      "Variable types: 22 continuous, 0 integer (0 binary)\n",
      "Found heuristic solution: objective 62186.852292\n",
      "\n",
      "Root relaxation: objective 9.142552e+04, 22 iterations, 0.00 seconds (0.00 work units)\n",
      "\n",
      "    Nodes    |    Current Node    |     Objective Bounds      |     Work\n",
      " Expl Unexpl |  Obj  Depth IntInf | Incumbent    BestBd   Gap | It/Node Time\n",
      "\n",
      "     0     0 91425.5196    0    7 62186.8523 91425.5196  47.0%     -    0s\n",
      "     0     0 76574.9942    0    7 62186.8523 76574.9942  23.1%     -    0s\n",
      "     0     0 75070.8214    0    7 62186.8523 75070.8214  20.7%     -    0s\n",
      "     0     0 74749.7329    0    7 62186.8523 74749.7329  20.2%     -    0s\n",
      "     0     0 74646.2949    0    7 62186.8523 74646.2949  20.0%     -    0s\n",
      "     0     0 74622.3047    0    7 62186.8523 74622.3047  20.0%     -    0s\n",
      "     0     0 74614.7309    0    7 62186.8523 74614.7309  20.0%     -    0s\n",
      "     0     2 74614.7309    0    7 62186.8523 74614.7309  20.0%     -    0s\n",
      "\n",
      "Cutting planes:\n",
      "  RLT: 29\n",
      "\n",
      "Explored 52619 nodes (85061 simplex iterations) in 1.04 seconds (0.18 work units)\n",
      "Thread count was 20 (of 20 available processors)\n",
      "\n",
      "Solution count 1: 62186.9 \n",
      "\n",
      "Optimal solution found (tolerance 1.00e-04)\n",
      "Best objective 6.218685229230e+04, best bound 6.218865176059e+04, gap 0.0029%\n"
     ]
    }
   ],
   "source": [
    "# Solve our model\n",
    "model.optimize()"
   ]
  },
  {
   "cell_type": "code",
   "execution_count": 10,
   "metadata": {},
   "outputs": [
    {
     "name": "stdout",
     "output_type": "stream",
     "text": [
      "\n",
      "    Variable            X \n",
      "-------------------------\n",
      "    Price[0]      33.1479 \n",
      "    Price[1]      30.3494 \n",
      "    Price[2]      31.4028 \n",
      "    Price[3]      31.0332 \n",
      "    Price[4]      30.2413 \n",
      "    Price[5]      32.2007 \n",
      "    Price[6]      34.3454 \n",
      "Daily Demand[0]          961 \n",
      "Daily Demand[1]          475 \n",
      "Daily Demand[2]          470 \n",
      "Daily Demand[3]          456 \n",
      "Daily Demand[4]        496.5 \n",
      "Daily Demand[5]          737 \n",
      "Daily Demand[6]         1080 \n"
     ]
    }
   ],
   "source": [
    "# Print the objective and decision variables\n",
    "model.printAttr('X')"
   ]
  }
 ],
 "metadata": {
  "kernelspec": {
   "display_name": "Python 3",
   "language": "python",
   "name": "python3"
  },
  "language_info": {
   "codemirror_mode": {
    "name": "ipython",
    "version": 3
   },
   "file_extension": ".py",
   "mimetype": "text/x-python",
   "name": "python",
   "nbconvert_exporter": "python",
   "pygments_lexer": "ipython3",
   "version": "3.12.0"
  }
 },
 "nbformat": 4,
 "nbformat_minor": 2
}
