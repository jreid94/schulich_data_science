{
 "cells": [
  {
   "cell_type": "code",
   "execution_count": 42,
   "metadata": {},
   "outputs": [],
   "source": [
    "import gurobipy as gb\n",
    "from gurobipy import GRB, quicksum\n",
    "import pandas as pd"
   ]
  },
  {
   "cell_type": "code",
   "execution_count": 43,
   "metadata": {},
   "outputs": [],
   "source": [
    "df = pd.read_csv(r\"C:\\Users\\johns\\OneDrive\\Desktop\\MBAN Semester 3\\OMIS 6000 - Models & Applications in Operational Research\\Midterm\\nurse_shift_costs.csv\")"
   ]
  },
  {
   "cell_type": "code",
   "execution_count": 44,
   "metadata": {},
   "outputs": [],
   "source": [
    "costs_weekday = df['Cost_Weekday'].tolist()\n",
    "costs_weekend = df['Cost_Weekend'].tolist()\n",
    "costs_overtime = df['Cost_Overtime'].tolist()\n",
    "nurse_categories = df['Category'].tolist()"
   ]
  },
  {
   "cell_type": "code",
   "execution_count": 45,
   "metadata": {},
   "outputs": [],
   "source": [
    "# Create a new model\n",
    "model = gb.Model(\"ICU_Nurse_Scheduling\")"
   ]
  },
  {
   "cell_type": "code",
   "execution_count": 46,
   "metadata": {},
   "outputs": [],
   "source": [
    "# Constants\n",
    "NUM_NURSES = 26\n",
    "NUM_SHIFTS = 14\n",
    "HOURS_PER_SHIFT = 12"
   ]
  },
  {
   "cell_type": "code",
   "execution_count": 47,
   "metadata": {},
   "outputs": [],
   "source": [
    "# Binary Variables\n",
    "# x[i, j] = 1 if nurse i is assigned to shift j\n",
    "x = model.addVars(NUM_NURSES, NUM_SHIFTS, vtype=GRB.BINARY, name=\"x\")"
   ]
  },
  {
   "cell_type": "code",
   "execution_count": 48,
   "metadata": {},
   "outputs": [],
   "source": [
    "# Overtime Variables\n",
    "# o[i, j] = 1 if shift j for nurse i is overtime\n",
    "o = model.addVars(NUM_NURSES, NUM_SHIFTS, vtype=GRB.BINARY, name=\"o\")"
   ]
  },
  {
   "cell_type": "code",
   "execution_count": 49,
   "metadata": {},
   "outputs": [],
   "source": [
    "# Objective Function: Minimize total cost\n",
    "model.setObjective(\n",
    "    gb.quicksum(x[i, j] * (costs_weekday[i] if j % 7 <= 4 else costs_weekend[i]) for i in range(NUM_NURSES) for j in range(NUM_SHIFTS))\n",
    "    + gb.quicksum(o[i, j] * costs_overtime[i] for i in range(NUM_NURSES) for j in range(NUM_SHIFTS)),\n",
    "    GRB.MINIMIZE)"
   ]
  },
  {
   "cell_type": "code",
   "execution_count": 50,
   "metadata": {},
   "outputs": [],
   "source": [
    "# Constraints\n",
    "\n",
    "# Each shift must have at least 6 nurses\n",
    "for j in range(NUM_SHIFTS):\n",
    "    model.addConstr(gb.quicksum(x[i, j] for i in range(NUM_NURSES)) >= 6, name=f\"min_nurses_shift_{j}\")\n",
    "\n",
    "# Each nurse works between 36 and 60 hours per week\n",
    "for i in range(NUM_NURSES):\n",
    "    model.addConstr(HOURS_PER_SHIFT * gb.quicksum(x[i, j] for j in range(NUM_SHIFTS)) >= 36, name=f\"min_hours_nurse_{i}\")\n",
    "    model.addConstr(HOURS_PER_SHIFT * gb.quicksum(x[i, j] for j in range(NUM_SHIFTS)) <= 60, name=f\"max_hours_nurse_{i}\")\n",
    "\n",
    "# Each shift includes at least one SRN\n",
    "for j in range(NUM_SHIFTS):\n",
    "    model.addConstr(gb.quicksum(x[i, j] for i in range(NUM_NURSES) if nurse_categories[i] == \"SRN\") >= 1, name=f\"srn_requirement_shift_{j}\")\n",
    "\n",
    "# No back-to-back shifts\n",
    "for i in range(NUM_NURSES):\n",
    "    for j in range(1, NUM_SHIFTS):\n",
    "        model.addConstr(x[i, j] + x[i, j-1] <= 1, name=f\"no_back_to_back_{i}_{j}\")\n",
    "\n",
    "# Overtime Constraints\n",
    "# Total weekly hours for each nurse\n",
    "weekly_hours = model.addVars(NUM_NURSES, vtype=GRB.CONTINUOUS, name=\"weekly_hours\")\n",
    "\n",
    "for i in range(NUM_NURSES):\n",
    "    model.addConstr(weekly_hours[i] == HOURS_PER_SHIFT * quicksum(x[i, j] for j in range(NUM_SHIFTS)), name=f\"total_hours_{i}\")\n",
    "\n",
    "    for j in range(NUM_SHIFTS):\n",
    "        # If total hours exceed 36, mark the shift as overtime\n",
    "        model.addConstr(o[i, j] >= (weekly_hours[i] - 36)/HOURS_PER_SHIFT - (NUM_SHIFTS - j), name=f\"overtime_{i}_{j}\")"
   ]
  },
  {
   "cell_type": "code",
   "execution_count": 51,
   "metadata": {},
   "outputs": [
    {
     "name": "stdout",
     "output_type": "stream",
     "text": [
      "Gurobi Optimizer version 11.0.0 build v11.0.0rc2 (win64 - Windows 11+.0 (22631.2))\n",
      "\n",
      "CPU model: 13th Gen Intel(R) Core(TM) i7-13700H, instruction set [SSE2|AVX|AVX2]\n",
      "Thread count: 14 physical cores, 20 logical processors, using up to 20 threads\n",
      "\n",
      "Optimize a model with 808 rows, 754 columns and 3026 nonzeros\n",
      "Model fingerprint: 0xac1791aa\n",
      "Variable types: 26 continuous, 728 integer (728 binary)\n",
      "Coefficient statistics:\n",
      "  Matrix range     [8e-02, 1e+01]\n",
      "  Objective range  [1e+02, 1e+03]\n",
      "  Bounds range     [1e+00, 1e+00]\n",
      "  RHS range        [1e+00, 6e+01]\n",
      "Found heuristic solution: objective 35854.000000\n",
      "Presolve removed 390 rows and 338 columns\n",
      "Presolve time: 0.00s\n",
      "Presolved: 418 rows, 416 columns, 1622 nonzeros\n",
      "Variable types: 0 continuous, 416 integer (390 binary)\n",
      "Found heuristic solution: objective 33364.000000\n",
      "\n",
      "Root relaxation: objective 2.776400e+04, 258 iterations, 0.00 seconds (0.00 work units)\n",
      "\n",
      "    Nodes    |    Current Node    |     Objective Bounds      |     Work\n",
      " Expl Unexpl |  Obj  Depth IntInf | Incumbent    BestBd   Gap | It/Node Time\n",
      "\n",
      "*    0     0               0    27764.000000 27764.0000  0.00%     -    0s\n",
      "\n",
      "Explored 1 nodes (258 simplex iterations) in 0.02 seconds (0.01 work units)\n",
      "Thread count was 20 (of 20 available processors)\n",
      "\n",
      "Solution count 3: 27764 33364 35854 \n",
      "\n",
      "Optimal solution found (tolerance 1.00e-04)\n",
      "Best objective 2.776400000000e+04, best bound 2.776400000000e+04, gap 0.0000%\n"
     ]
    }
   ],
   "source": [
    "# Optimize the model\n",
    "model.optimize()"
   ]
  },
  {
   "cell_type": "code",
   "execution_count": 55,
   "metadata": {},
   "outputs": [
    {
     "name": "stdout",
     "output_type": "stream",
     "text": [
      "Optimal Total Cost: 27764.0\n",
      "Total Number of Overtime Shifts: 0.0\n"
     ]
    }
   ],
   "source": [
    "if model.status == GRB.Status.OPTIMAL:\n",
    "    # (g) Print the optimal objective function value (minimum cost)\n",
    "    total_cost = model.ObjVal\n",
    "    print(f\"Optimal Total Cost: {total_cost}\")\n",
    "\n",
    "    # (h) Calculate and print the number of overtime shifts in the optimal schedule\n",
    "    total_overtime_shifts = sum(o[i, j].X for i in range(NUM_NURSES) for j in range(NUM_SHIFTS))\n",
    "    print(f\"Total Number of Overtime Shifts: {total_overtime_shifts}\")\n",
    "else:\n",
    "    print(\"No optimal solution found\")"
   ]
  },
  {
   "cell_type": "code",
   "execution_count": 52,
   "metadata": {},
   "outputs": [
    {
     "name": "stdout",
     "output_type": "stream",
     "text": [
      "Shift Assignments:\n",
      "Nurse 1 is assigned to shift 6\n",
      "Nurse 1 is assigned to shift 8\n",
      "Nurse 1 is assigned to shift 10\n",
      "Nurse 1 is assigned to shift 14\n",
      "Nurse 2 is assigned to shift 4\n",
      "Nurse 2 is assigned to shift 8\n",
      "Nurse 2 is assigned to shift 12\n",
      "Nurse 3 is assigned to shift 2\n",
      "Nurse 3 is assigned to shift 4\n",
      "Nurse 3 is assigned to shift 8\n",
      "Nurse 4 is assigned to shift 4\n",
      "Nurse 4 is assigned to shift 7\n",
      "Nurse 4 is assigned to shift 9\n",
      "Nurse 4 is assigned to shift 13\n",
      "Nurse 5 is assigned to shift 6\n",
      "Nurse 5 is assigned to shift 9\n",
      "Nurse 5 is assigned to shift 13\n",
      "Nurse 6 is assigned to shift 3\n",
      "Nurse 6 is assigned to shift 8\n",
      "Nurse 6 is assigned to shift 12\n",
      "Nurse 7 is assigned to shift 2\n",
      "Nurse 7 is assigned to shift 5\n",
      "Nurse 7 is assigned to shift 12\n",
      "Nurse 8 is assigned to shift 3\n",
      "Nurse 8 is assigned to shift 5\n",
      "Nurse 8 is assigned to shift 9\n",
      "Nurse 9 is assigned to shift 2\n",
      "Nurse 9 is assigned to shift 7\n",
      "Nurse 9 is assigned to shift 11\n",
      "Nurse 9 is assigned to shift 13\n",
      "Nurse 10 is assigned to shift 2\n",
      "Nurse 10 is assigned to shift 6\n",
      "Nurse 10 is assigned to shift 13\n",
      "Nurse 11 is assigned to shift 2\n",
      "Nurse 11 is assigned to shift 9\n",
      "Nurse 11 is assigned to shift 11\n",
      "Nurse 12 is assigned to shift 7\n",
      "Nurse 12 is assigned to shift 9\n",
      "Nurse 12 is assigned to shift 13\n",
      "Nurse 13 is assigned to shift 6\n",
      "Nurse 13 is assigned to shift 9\n",
      "Nurse 13 is assigned to shift 11\n",
      "Nurse 13 is assigned to shift 13\n",
      "Nurse 14 is assigned to shift 6\n",
      "Nurse 14 is assigned to shift 10\n",
      "Nurse 14 is assigned to shift 14\n",
      "Nurse 15 is assigned to shift 1\n",
      "Nurse 15 is assigned to shift 3\n",
      "Nurse 15 is assigned to shift 12\n",
      "Nurse 16 is assigned to shift 1\n",
      "Nurse 16 is assigned to shift 3\n",
      "Nurse 16 is assigned to shift 8\n",
      "Nurse 17 is assigned to shift 3\n",
      "Nurse 17 is assigned to shift 5\n",
      "Nurse 17 is assigned to shift 11\n",
      "Nurse 18 is assigned to shift 1\n",
      "Nurse 18 is assigned to shift 4\n",
      "Nurse 18 is assigned to shift 11\n",
      "Nurse 19 is assigned to shift 1\n",
      "Nurse 19 is assigned to shift 4\n",
      "Nurse 19 is assigned to shift 8\n",
      "Nurse 20 is assigned to shift 1\n",
      "Nurse 20 is assigned to shift 3\n",
      "Nurse 20 is assigned to shift 5\n",
      "Nurse 21 is assigned to shift 6\n",
      "Nurse 21 is assigned to shift 10\n",
      "Nurse 21 is assigned to shift 12\n",
      "Nurse 21 is assigned to shift 14\n",
      "Nurse 22 is assigned to shift 5\n",
      "Nurse 22 is assigned to shift 7\n",
      "Nurse 22 is assigned to shift 10\n",
      "Nurse 22 is assigned to shift 14\n",
      "Nurse 23 is assigned to shift 2\n",
      "Nurse 23 is assigned to shift 10\n",
      "Nurse 23 is assigned to shift 12\n",
      "Nurse 24 is assigned to shift 7\n",
      "Nurse 24 is assigned to shift 10\n",
      "Nurse 24 is assigned to shift 14\n",
      "Nurse 25 is assigned to shift 1\n",
      "Nurse 25 is assigned to shift 4\n",
      "Nurse 25 is assigned to shift 11\n",
      "Nurse 26 is assigned to shift 5\n",
      "Nurse 26 is assigned to shift 7\n",
      "Nurse 26 is assigned to shift 14\n"
     ]
    }
   ],
   "source": [
    "if model.status == GRB.Status.OPTIMAL:\n",
    "    # Print the assignment of nurses to shifts\n",
    "    print(\"Shift Assignments:\")\n",
    "    for i in range(NUM_NURSES):\n",
    "        for j in range(NUM_SHIFTS):\n",
    "            if x[i, j].X > 0.5:  # Assuming x[i, j] is 1 if nurse i is assigned to shift j\n",
    "                print(f\"Nurse {i+1} is assigned to shift {j+1}\")\n",
    "else:\n",
    "    print(\"No optimal solution found\")"
   ]
  },
  {
   "cell_type": "code",
   "execution_count": 53,
   "metadata": {},
   "outputs": [
    {
     "name": "stdout",
     "output_type": "stream",
     "text": [
      "\n",
      "Nurse Work Hours:\n",
      "Nurse 1: Total Hours = 48.0, Overtime Hours = 0.0\n",
      "Nurse 2: Total Hours = 36.0, Overtime Hours = 0.0\n",
      "Nurse 3: Total Hours = 36.0, Overtime Hours = 0.0\n",
      "Nurse 4: Total Hours = 48.0, Overtime Hours = 0.0\n",
      "Nurse 5: Total Hours = 36.0, Overtime Hours = 0.0\n",
      "Nurse 6: Total Hours = 36.0, Overtime Hours = 0.0\n",
      "Nurse 7: Total Hours = 36.0, Overtime Hours = 0.0\n",
      "Nurse 8: Total Hours = 36.0, Overtime Hours = 0.0\n",
      "Nurse 9: Total Hours = 48.0, Overtime Hours = 0.0\n",
      "Nurse 10: Total Hours = 36.0, Overtime Hours = 0.0\n",
      "Nurse 11: Total Hours = 36.0, Overtime Hours = 0.0\n",
      "Nurse 12: Total Hours = 36.0, Overtime Hours = 0.0\n",
      "Nurse 13: Total Hours = 48.0, Overtime Hours = 0.0\n",
      "Nurse 14: Total Hours = 36.0, Overtime Hours = 0.0\n",
      "Nurse 15: Total Hours = 36.0, Overtime Hours = 0.0\n",
      "Nurse 16: Total Hours = 36.0, Overtime Hours = 0.0\n",
      "Nurse 17: Total Hours = 36.0, Overtime Hours = 0.0\n",
      "Nurse 18: Total Hours = 36.0, Overtime Hours = 0.0\n",
      "Nurse 19: Total Hours = 36.0, Overtime Hours = 0.0\n",
      "Nurse 20: Total Hours = 36.0, Overtime Hours = 0.0\n",
      "Nurse 21: Total Hours = 48.0, Overtime Hours = 0.0\n",
      "Nurse 22: Total Hours = 48.0, Overtime Hours = 0.0\n",
      "Nurse 23: Total Hours = 36.0, Overtime Hours = 0.0\n",
      "Nurse 24: Total Hours = 36.0, Overtime Hours = 0.0\n",
      "Nurse 25: Total Hours = 36.0, Overtime Hours = 0.0\n",
      "Nurse 26: Total Hours = 36.0, Overtime Hours = 0.0\n"
     ]
    }
   ],
   "source": [
    "if model.status == GRB.Status.OPTIMAL:\n",
    "    # Print the total hours and overtime hours for each nurse\n",
    "    print(\"\\nNurse Work Hours:\")\n",
    "    for i in range(NUM_NURSES):\n",
    "        total_hours = sum(x[i, j].X * HOURS_PER_SHIFT for j in range(NUM_SHIFTS))\n",
    "        overtime_hours = sum(o[i, j].X * HOURS_PER_SHIFT for j in range(NUM_SHIFTS))\n",
    "        print(f\"Nurse {i+1}: Total Hours = {total_hours}, Overtime Hours = {overtime_hours}\")\n",
    "else:\n",
    "    print(\"No optimal solution found\")"
   ]
  },
  {
   "cell_type": "code",
   "execution_count": 54,
   "metadata": {},
   "outputs": [
    {
     "name": "stdout",
     "output_type": "stream",
     "text": [
      "\n",
      "Total Cost: 27764.0\n"
     ]
    }
   ],
   "source": [
    "# Print the total cost\n",
    "total_cost = model.ObjVal\n",
    "print(f\"\\nTotal Cost: {total_cost}\")"
   ]
  }
 ],
 "metadata": {
  "kernelspec": {
   "display_name": "Python 3",
   "language": "python",
   "name": "python3"
  },
  "language_info": {
   "codemirror_mode": {
    "name": "ipython",
    "version": 3
   },
   "file_extension": ".py",
   "mimetype": "text/x-python",
   "name": "python",
   "nbconvert_exporter": "python",
   "pygments_lexer": "ipython3",
   "version": "3.12.0"
  }
 },
 "nbformat": 4,
 "nbformat_minor": 2
}
