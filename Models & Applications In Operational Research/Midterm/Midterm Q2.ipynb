{
 "cells": [
  {
   "cell_type": "code",
   "execution_count": 109,
   "metadata": {},
   "outputs": [],
   "source": [
    "import pandas as pd\n",
    "from gurobipy import Model, GRB"
   ]
  },
  {
   "cell_type": "code",
   "execution_count": 110,
   "metadata": {},
   "outputs": [],
   "source": [
    "# Load the non-profit data from the CSV file\n",
    "df = pd.read_csv(r\"C:\\Users\\johns\\OneDrive\\Desktop\\MBAN Semester 3\\OMIS 6000 - Models & Applications in Operational Research\\Midterm\\non_profits.csv\")"
   ]
  },
  {
   "cell_type": "code",
   "execution_count": 111,
   "metadata": {},
   "outputs": [],
   "source": [
    "alpha = df['alpha_i'].tolist()\n",
    "beta = df['beta_i'].tolist()"
   ]
  },
  {
   "cell_type": "code",
   "execution_count": 112,
   "metadata": {},
   "outputs": [],
   "source": [
    "# Set up the optimization model\n",
    "model = Model('NonProfitFunding')"
   ]
  },
  {
   "cell_type": "code",
   "execution_count": 113,
   "metadata": {},
   "outputs": [],
   "source": [
    "# Define the budget\n",
    "budget = 50e6  # $50 million"
   ]
  },
  {
   "cell_type": "code",
   "execution_count": 114,
   "metadata": {},
   "outputs": [],
   "source": [
    "# Define the decision variables for allocations\n",
    "a = model.addVars(len(df), lb=0, name='Allocation')"
   ]
  },
  {
   "cell_type": "code",
   "execution_count": 115,
   "metadata": {},
   "outputs": [],
   "source": [
    "# Create auxiliary variables for the product of a[i] and beta_i\n",
    "product_vars = model.addVars(len(df), name='product', lb=0)\n",
    "\n",
    "# Create auxiliary variables to represent (product)^1/3\n",
    "aux_vars = model.addVars(len(df), name='aux', lb=0)\n",
    "\n",
    "# Create variables for the squared term (output)\n",
    "output_vars = model.addVars(len(df), name='output', lb=0)"
   ]
  },
  {
   "cell_type": "code",
   "execution_count": 116,
   "metadata": {},
   "outputs": [],
   "source": [
    "# Constraint for the budget\n",
    "model.addConstr(a.sum() <= budget, 'Budget')\n",
    "\n",
    "# Constraints that define the product of allocation and beta_i\n",
    "for i in range(len(df)):\n",
    "    model.addConstr(product_vars[i] == a[i] * df['beta_i'][i], name=f'product_{i}')"
   ]
  },
  {
   "cell_type": "code",
   "execution_count": 117,
   "metadata": {},
   "outputs": [],
   "source": [
    "# Add power constraints using addGenConstrPow\n",
    "for i in range(len(df)):\n",
    "    model.addGenConstrPow(product_vars[i], aux_vars[i], 1/3, name=f'Power_{i}')"
   ]
  },
  {
   "cell_type": "code",
   "execution_count": 118,
   "metadata": {},
   "outputs": [],
   "source": [
    "# Constraints that define the output as the square of the aux_vars\n",
    "for i in range(len(df)):\n",
    "    model.addConstr(output_vars[i] == aux_vars[i] * aux_vars[i], name=f'output_{i}')"
   ]
  },
  {
   "cell_type": "code",
   "execution_count": 119,
   "metadata": {},
   "outputs": [],
   "source": [
    "# Set the objective to maximize the total output\n",
    "model.setObjective(2 * output_vars.sum(), GRB.MAXIMIZE)"
   ]
  },
  {
   "cell_type": "code",
   "execution_count": 120,
   "metadata": {},
   "outputs": [
    {
     "name": "stdout",
     "output_type": "stream",
     "text": [
      "Gurobi Optimizer version 11.0.0 build v11.0.0rc2 (win64 - Windows 11+.0 (22631.2))\n",
      "\n",
      "CPU model: 13th Gen Intel(R) Core(TM) i7-13700H, instruction set [SSE2|AVX|AVX2]\n",
      "Thread count: 14 physical cores, 20 logical processors, using up to 20 threads\n",
      "\n"
     ]
    },
    {
     "ename": "GurobiError",
     "evalue": "Model too large for size-limited license; visit https://www.gurobi.com/free-trial for a full license",
     "output_type": "error",
     "traceback": [
      "\u001b[1;31m---------------------------------------------------------------------------\u001b[0m",
      "\u001b[1;31mGurobiError\u001b[0m                               Traceback (most recent call last)",
      "Cell \u001b[1;32mIn[120], line 2\u001b[0m\n\u001b[0;32m      1\u001b[0m \u001b[38;5;66;03m# Optimize the model\u001b[39;00m\n\u001b[1;32m----> 2\u001b[0m \u001b[43mmodel\u001b[49m\u001b[38;5;241;43m.\u001b[39;49m\u001b[43moptimize\u001b[49m\u001b[43m(\u001b[49m\u001b[43m)\u001b[49m\n",
      "File \u001b[1;32msrc\\\\gurobipy\\\\model.pxi:893\u001b[0m, in \u001b[0;36mgurobipy.Model.optimize\u001b[1;34m()\u001b[0m\n",
      "\u001b[1;31mGurobiError\u001b[0m: Model too large for size-limited license; visit https://www.gurobi.com/free-trial for a full license"
     ]
    }
   ],
   "source": [
    "# Optimize the model\n",
    "model.optimize()"
   ]
  },
  {
   "cell_type": "code",
   "execution_count": 121,
   "metadata": {},
   "outputs": [
    {
     "name": "stdout",
     "output_type": "stream",
     "text": [
      "No optimal solution found.\n"
     ]
    }
   ],
   "source": [
    "# Output the optimal allocations and the total expected output\n",
    "if model.status == GRB.OPTIMAL:\n",
    "    total_output = model.objVal\n",
    "    allocated_budget = sum(a[i].x for i in range(len(df)))\n",
    "    print(f'Total Expected Output: {total_output}')\n",
    "    for i in range(len(df)):\n",
    "        if a[i].x > 0:\n",
    "            print(f'Non-profit {i}: Allocation = {a[i].x}')\n",
    "else:\n",
    "    print('No optimal solution found.')"
   ]
  }
 ],
 "metadata": {
  "kernelspec": {
   "display_name": "Python 3",
   "language": "python",
   "name": "python3"
  },
  "language_info": {
   "codemirror_mode": {
    "name": "ipython",
    "version": 3
   },
   "file_extension": ".py",
   "mimetype": "text/x-python",
   "name": "python",
   "nbconvert_exporter": "python",
   "pygments_lexer": "ipython3",
   "version": "3.12.0"
  }
 },
 "nbformat": 4,
 "nbformat_minor": 2
}
