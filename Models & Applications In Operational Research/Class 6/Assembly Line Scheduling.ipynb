{
 "cells": [
  {
   "cell_type": "code",
   "execution_count": 1,
   "metadata": {},
   "outputs": [],
   "source": [
    "import gurobipy as gb\n",
    "from gurobipy import GRB"
   ]
  },
  {
   "cell_type": "code",
   "execution_count": 2,
   "metadata": {},
   "outputs": [
    {
     "name": "stdout",
     "output_type": "stream",
     "text": [
      "Restricted license - for non-production use only - expires 2025-11-24\n"
     ]
    }
   ],
   "source": [
    "# Create a new model\n",
    "model = gb.Model(\"Assembly Line Scheduling \")"
   ]
  },
  {
   "cell_type": "code",
   "execution_count": 3,
   "metadata": {},
   "outputs": [],
   "source": [
    "# Variables\n",
    "x = model.addVars(7, lb=0, vtype=GRB.INTEGER, name=\"Shift Variable\")"
   ]
  },
  {
   "cell_type": "code",
   "execution_count": 4,
   "metadata": {},
   "outputs": [],
   "source": [
    "# Objective function\n",
    "objective = 680 * x[0] + 705 * x[1] + 705 * x[2] + 705 * x[3] + 705 * x[4] + 680 * x[5] + 655 * x[6]\n",
    "model.setObjective(objective, GRB.MINIMIZE)"
   ]
  },
  {
   "cell_type": "code",
   "execution_count": 5,
   "metadata": {},
   "outputs": [
    {
     "data": {
      "text/plain": [
       "<gurobi.Constr *Awaiting Model Update*>"
      ]
     },
     "execution_count": 5,
     "metadata": {},
     "output_type": "execute_result"
    }
   ],
   "source": [
    "# Constraints\n",
    "model.addConstr(x[2] + x[3] + x[4] + x[5] + x[6] >= 27, \"Monday_Constraint\")\n",
    "model.addConstr(x[3] + x[4] + x[5] + x[6] + x[0] >= 22, \"Tuesday_Constraint\")\n",
    "model.addConstr(x[4] + x[5] + x[6] + x[0] + x[1] >= 26, \"Wednesday_Constraint\")\n",
    "model.addConstr(x[5] + x[6] + x[0] + x[1] + x[2] >= 25, \"Thursday_Constraint\")\n",
    "model.addConstr(x[6] + x[0] + x[1] + x[2] + x[3] >= 21, \"Friday_Constraint\")\n",
    "model.addConstr(x[0] + x[1] + x[2] + x[3] + x[4] >= 19, \"Saturday_Constraint\")\n",
    "model.addConstr(x[1] + x[2] + x[3] + x[4] + x[5] >= 18, \"Sunday_Constraint\")"
   ]
  },
  {
   "cell_type": "code",
   "execution_count": 6,
   "metadata": {},
   "outputs": [
    {
     "name": "stdout",
     "output_type": "stream",
     "text": [
      "Gurobi Optimizer version 11.0.0 build v11.0.0rc2 (win64 - Windows 11.0 (22621.2))\n",
      "\n",
      "CPU model: 13th Gen Intel(R) Core(TM) i7-13700H, instruction set [SSE2|AVX|AVX2]\n",
      "Thread count: 14 physical cores, 20 logical processors, using up to 20 threads\n",
      "\n",
      "Optimize a model with 7 rows, 7 columns and 35 nonzeros\n",
      "Model fingerprint: 0x4a7961e8\n",
      "Variable types: 0 continuous, 7 integer (0 binary)\n",
      "Coefficient statistics:\n",
      "  Matrix range     [1e+00, 1e+00]\n",
      "  Objective range  [7e+02, 7e+02]\n",
      "  Bounds range     [0e+00, 0e+00]\n",
      "  RHS range        [2e+01, 3e+01]\n",
      "Found heuristic solution: objective 29770.000000\n",
      "Presolve time: 0.00s\n",
      "Presolved: 7 rows, 7 columns, 35 nonzeros\n",
      "Variable types: 0 continuous, 7 integer (0 binary)\n",
      "Found heuristic solution: objective 29090.000000\n",
      "\n",
      "Root relaxation: objective 2.210333e+04, 6 iterations, 0.00 seconds (0.00 work units)\n",
      "\n",
      "    Nodes    |    Current Node    |     Objective Bounds      |     Work\n",
      " Expl Unexpl |  Obj  Depth IntInf | Incumbent    BestBd   Gap | It/Node Time\n",
      "\n",
      "     0     0 22103.3333    0    4 29090.0000 22103.3333  24.0%     -    0s\n",
      "H    0     0                    22565.000000 22103.3333  2.05%     -    0s\n",
      "H    0     0                    22540.000000 22103.3333  1.94%     -    0s\n",
      "     0     0 22212.5000    0    3 22540.0000 22212.5000  1.45%     -    0s\n",
      "\n",
      "Cutting planes:\n",
      "  Gomory: 1\n",
      "  Zero half: 1\n",
      "\n",
      "Explored 1 nodes (9 simplex iterations) in 0.05 seconds (0.00 work units)\n",
      "Thread count was 20 (of 20 available processors)\n",
      "\n",
      "Solution count 4: 22540 22565 29090 29770 \n",
      "\n",
      "Optimal solution found (tolerance 1.00e-04)\n",
      "Best objective 2.254000000000e+04, best bound 2.254000000000e+04, gap 0.0000%\n"
     ]
    }
   ],
   "source": [
    "# Optimize the model\n",
    "model.optimize()"
   ]
  },
  {
   "cell_type": "code",
   "execution_count": 7,
   "metadata": {},
   "outputs": [
    {
     "name": "stdout",
     "output_type": "stream",
     "text": [
      "Total Cost 22540.0\n",
      "LHS = 27.0, 27.0 = RHS\n",
      "LHS = 23.0, 22.0 = RHS\n",
      "LHS = 27.0, 26.0 = RHS\n",
      "LHS = 26.0, 25.0 = RHS\n",
      "LHS = 25.0, 21.0 = RHS\n",
      "LHS = 19.0, 19.0 = RHS\n",
      "LHS = 18.0, 18.0 = RHS\n"
     ]
    }
   ],
   "source": [
    "# Print the optimal solution\n",
    "if model.status == GRB.OPTIMAL:       \n",
    "    print(\"Total Cost\", model.ObjVal)          \n",
    "    # Print the LHS of the constraints\n",
    "    constraints = model.getConstrs()\n",
    "    for con in constraints:\n",
    "        print(f\"LHS = {model.getRow(con).getValue()}, {con.RHS} = RHS\")\n",
    "    \n",
    "else:\n",
    "    print(\"No solution found.\")"
   ]
  }
 ],
 "metadata": {
  "kernelspec": {
   "display_name": "Python 3",
   "language": "python",
   "name": "python3"
  },
  "language_info": {
   "codemirror_mode": {
    "name": "ipython",
    "version": 3
   },
   "file_extension": ".py",
   "mimetype": "text/x-python",
   "name": "python",
   "nbconvert_exporter": "python",
   "pygments_lexer": "ipython3",
   "version": "3.12.0"
  }
 },
 "nbformat": 4,
 "nbformat_minor": 2
}
