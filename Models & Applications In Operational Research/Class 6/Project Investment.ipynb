{
 "cells": [
  {
   "cell_type": "code",
   "execution_count": 1,
   "metadata": {},
   "outputs": [],
   "source": [
    "import gurobipy as gb\n",
    "from gurobipy import GRB"
   ]
  },
  {
   "cell_type": "code",
   "execution_count": 2,
   "metadata": {},
   "outputs": [
    {
     "name": "stdout",
     "output_type": "stream",
     "text": [
      "Restricted license - for non-production use only - expires 2025-11-24\n"
     ]
    }
   ],
   "source": [
    "# Create a new model\n",
    "model = gb.Model(\"Project Investment\")"
   ]
  },
  {
   "cell_type": "code",
   "execution_count": 3,
   "metadata": {},
   "outputs": [],
   "source": [
    "# Variables\n",
    "x = model.addVars(6, vtype=GRB.BINARY, name=\"Project\")"
   ]
  },
  {
   "cell_type": "code",
   "execution_count": 4,
   "metadata": {},
   "outputs": [],
   "source": [
    "# Objective function\n",
    "objective = 16 * x[0] + 22 * x[1] + 12 * x[2] + 8 * x[3] + 11 * x[4] + 19 * x[5]\n",
    "model.setObjective(objective, GRB.MAXIMIZE)"
   ]
  },
  {
   "cell_type": "code",
   "execution_count": 5,
   "metadata": {},
   "outputs": [
    {
     "data": {
      "text/plain": [
       "<gurobi.Constr *Awaiting Model Update*>"
      ]
     },
     "execution_count": 5,
     "metadata": {},
     "output_type": "execute_result"
    }
   ],
   "source": [
    "# Constraints\n",
    "model.addConstr(5 * x[0] + 7 * x[1] + 4 * x[2] + 3 * x[3] + 4 * x[4] + 6 * x[5] <= 14, \"Cash_Constraint\")\n",
    "model.addConstr(x[0] + x[1] + x[2] + x[3] + x[4] + x[5] == 3, \"Logical_Constraint1\")\n",
    "model.addConstr(x[1] <= x[0], \"Logical_Constraint2\")\n",
    "model.addConstr(x[0] + x[2] <= 1, \"Logical_Constraint3\")\n",
    "model.addConstr(x[3] + x[4] == 1, \"Logical_Constraint4\")\n",
    "model.addConstr(x[0] + x[1] <= 1 + x[2], \"Logical_Constraint5\")\n",
    "model.addConstr(1 <= x[5] + x[3] + x[4], \"Logical_Constraint6\")"
   ]
  },
  {
   "cell_type": "code",
   "execution_count": 6,
   "metadata": {},
   "outputs": [
    {
     "name": "stdout",
     "output_type": "stream",
     "text": [
      "Gurobi Optimizer version 11.0.0 build v11.0.0rc2 (win64 - Windows 11.0 (22621.2))\n",
      "\n",
      "CPU model: 13th Gen Intel(R) Core(TM) i7-13700H, instruction set [SSE2|AVX|AVX2]\n",
      "Thread count: 14 physical cores, 20 logical processors, using up to 20 threads\n",
      "\n",
      "Optimize a model with 7 rows, 6 columns and 24 nonzeros\n",
      "Model fingerprint: 0x0aae51f7\n",
      "Variable types: 0 continuous, 6 integer (6 binary)\n",
      "Coefficient statistics:\n",
      "  Matrix range     [1e+00, 7e+00]\n",
      "  Objective range  [8e+00, 2e+01]\n",
      "  Bounds range     [1e+00, 1e+00]\n",
      "  RHS range        [1e+00, 1e+01]\n",
      "Presolve removed 7 rows and 6 columns\n",
      "Presolve time: 0.00s\n",
      "Presolve: All rows and columns removed\n",
      "\n",
      "Explored 0 nodes (0 simplex iterations) in 0.01 seconds (0.00 work units)\n",
      "Thread count was 1 (of 20 available processors)\n",
      "\n",
      "Solution count 1: 43 \n",
      "\n",
      "Optimal solution found (tolerance 1.00e-04)\n",
      "Best objective 4.300000000000e+01, best bound 4.300000000000e+01, gap 0.0000%\n"
     ]
    }
   ],
   "source": [
    "# Optimize the model\n",
    "model.optimize()"
   ]
  },
  {
   "cell_type": "code",
   "execution_count": 7,
   "metadata": {},
   "outputs": [
    {
     "name": "stdout",
     "output_type": "stream",
     "text": [
      "Optimal objective value:  43.0\n",
      "Optimal solution:\n",
      "x0 = 1.0\n",
      "x1 = 0.0\n",
      "x2 = 0.0\n",
      "x3 = 1.0\n",
      "x4 = 0.0\n",
      "x5 = 1.0\n"
     ]
    }
   ],
   "source": [
    "# Print the optimal solution\n",
    "if model.status == GRB.OPTIMAL:\n",
    "    print(\"Optimal objective value: \", model.objVal)\n",
    "    print(\"Optimal solution:\")\n",
    "    for i, var in x.items():\n",
    "        print(f\"x{i} = {var.x}\")\n",
    "else:\n",
    "    print(\"No solution found.\")"
   ]
  }
 ],
 "metadata": {
  "kernelspec": {
   "display_name": "Python 3",
   "language": "python",
   "name": "python3"
  },
  "language_info": {
   "codemirror_mode": {
    "name": "ipython",
    "version": 3
   },
   "file_extension": ".py",
   "mimetype": "text/x-python",
   "name": "python",
   "nbconvert_exporter": "python",
   "pygments_lexer": "ipython3",
   "version": "3.12.0"
  }
 },
 "nbformat": 4,
 "nbformat_minor": 2
}
