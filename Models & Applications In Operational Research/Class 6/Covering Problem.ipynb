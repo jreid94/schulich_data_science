{
 "cells": [
  {
   "cell_type": "code",
   "execution_count": 1,
   "metadata": {},
   "outputs": [],
   "source": [
    "import gurobipy as gb\n",
    "from gurobipy import GRB"
   ]
  },
  {
   "cell_type": "code",
   "execution_count": 2,
   "metadata": {},
   "outputs": [
    {
     "name": "stdout",
     "output_type": "stream",
     "text": [
      "Restricted license - for non-production use only - expires 2025-11-24\n"
     ]
    }
   ],
   "source": [
    "# Create a new model\n",
    "model = gb.Model(\"Covering Problem\")"
   ]
  },
  {
   "cell_type": "code",
   "execution_count": 3,
   "metadata": {},
   "outputs": [],
   "source": [
    "# Variables\n",
    "x = model.addVars(16, vtype=GRB.BINARY, name=\"Region\")"
   ]
  },
  {
   "cell_type": "code",
   "execution_count": 4,
   "metadata": {},
   "outputs": [],
   "source": [
    "# Objective function\n",
    "objective = gb.quicksum(x[i] for i in range(16))\n",
    "model.setObjective(objective, GRB.MINIMIZE)"
   ]
  },
  {
   "cell_type": "code",
   "execution_count": 5,
   "metadata": {},
   "outputs": [
    {
     "data": {
      "text/plain": [
       "<gurobi.Constr *Awaiting Model Update*>"
      ]
     },
     "execution_count": 5,
     "metadata": {},
     "output_type": "execute_result"
    }
   ],
   "source": [
    "# Constraints\n",
    "model.addConstr(x[0] + x[1] + x[3] + x[4] >= 1, \"Covering 1\")\n",
    "model.addConstr(x[0] + x[1] + x[2] + x[4] + x[5] >= 1, \"Covering 2\")\n",
    "model.addConstr(x[1] + x[2] + x[5] + x[6] >= 1, \"Covering 3\")\n",
    "model.addConstr(x[0] + x[3] + x[4] + x[7] + x[9] + x[10] >= 1, \"Covering 4\")\n",
    "model.addConstr(x[0] + x[1] + x[3] + x[4] + x[5] + x[7] >= 1, \"Covering 5\")\n",
    "model.addConstr(x[1] + x[2] + x[4] + x[5] + x[6] + x[7] + x[8] >= 1, \"Covering 6\")\n",
    "model.addConstr(x[2] + x[5] + x[6] + x[8] + x[12] >= 1, \"Covering 7\")\n",
    "model.addConstr(x[3] + x[4] + x[5] + x[7] + x[8] + x[10] + x[11] >= 1, \"Covering 8\")\n",
    "model.addConstr(x[5] + x[6] + x[7] + x[8] + x[11] + x[12] >= 1, \"Covering 9\")\n",
    "model.addConstr(x[3] + x[9] + x[10] + x[13] >= 1, \"Covering 10\")\n",
    "model.addConstr(x[3] + x[7] + x[9] + x[10] + x[11] + x[13] >= 1, \"Covering 11\")\n",
    "model.addConstr(x[7] + x[8] + x[10] + x[11] + x[12] + x[14] >= 1, \"Covering 12\")\n",
    "model.addConstr(x[6] + x[8] + x[11] + x[12] + x[14] + x[15] >= 1, \"Covering 13\")\n",
    "model.addConstr(x[9] + x[10] + x[13] + x[14] >= 1, \"Covering 14\")\n",
    "model.addConstr(x[11] + x[12] + x[13] + x[14] + x[15] >= 1, \"Covering 15\")\n",
    "model.addConstr(x[12] + x[14] + x[15] >= 1, \"Covering 16\")"
   ]
  },
  {
   "cell_type": "code",
   "execution_count": 6,
   "metadata": {},
   "outputs": [
    {
     "name": "stdout",
     "output_type": "stream",
     "text": [
      "Gurobi Optimizer version 11.0.0 build v11.0.0rc2 (win64 - Windows 11.0 (22621.2))\n",
      "\n",
      "CPU model: 13th Gen Intel(R) Core(TM) i7-13700H, instruction set [SSE2|AVX|AVX2]\n",
      "Thread count: 14 physical cores, 20 logical processors, using up to 20 threads\n",
      "\n",
      "Optimize a model with 16 rows, 16 columns and 84 nonzeros\n",
      "Model fingerprint: 0x1c583895\n",
      "Variable types: 0 continuous, 16 integer (16 binary)\n",
      "Coefficient statistics:\n",
      "  Matrix range     [1e+00, 1e+00]\n",
      "  Objective range  [1e+00, 1e+00]\n",
      "  Bounds range     [1e+00, 1e+00]\n",
      "  RHS range        [1e+00, 1e+00]\n",
      "Found heuristic solution: objective 4.0000000\n",
      "Presolve removed 10 rows and 10 columns\n",
      "Presolve time: 0.00s\n",
      "Presolved: 6 rows, 6 columns, 12 nonzeros\n",
      "Found heuristic solution: objective 3.0000000\n",
      "Variable types: 0 continuous, 6 integer (6 binary)\n",
      "\n",
      "Root relaxation: cutoff, 3 iterations, 0.00 seconds (0.00 work units)\n",
      "\n",
      "    Nodes    |    Current Node    |     Objective Bounds      |     Work\n",
      " Expl Unexpl |  Obj  Depth IntInf | Incumbent    BestBd   Gap | It/Node Time\n",
      "\n",
      "     0     0     cutoff    0         3.00000    3.00000  0.00%     -    0s\n",
      "\n",
      "Explored 1 nodes (3 simplex iterations) in 0.02 seconds (0.00 work units)\n",
      "Thread count was 20 (of 20 available processors)\n",
      "\n",
      "Solution count 2: 3 4 \n",
      "\n",
      "Optimal solution found (tolerance 1.00e-04)\n",
      "Best objective 3.000000000000e+00, best bound 3.000000000000e+00, gap 0.0000%\n"
     ]
    }
   ],
   "source": [
    "# Optimize the model\n",
    "model.optimize()"
   ]
  },
  {
   "cell_type": "code",
   "execution_count": 7,
   "metadata": {},
   "outputs": [
    {
     "name": "stdout",
     "output_type": "stream",
     "text": [
      "Optimal solution:\n",
      "x0 = 0.0\n",
      "x1 = 0.0\n",
      "x2 = 0.0\n",
      "x3 = 1.0\n",
      "x4 = 0.0\n",
      "x5 = 1.0\n",
      "x6 = 0.0\n",
      "x7 = 0.0\n",
      "x8 = 0.0\n",
      "x9 = 0.0\n",
      "x10 = 0.0\n",
      "x11 = 0.0\n",
      "x12 = 0.0\n",
      "x13 = 0.0\n",
      "x14 = 1.0\n",
      "x15 = 0.0\n",
      "Number of Fire Stations 3.0\n"
     ]
    }
   ],
   "source": [
    "# Print the optimal solution\n",
    "if model.status == GRB.OPTIMAL:\n",
    "    print(\"Optimal solution:\")\n",
    "    for i, var in x.items():\n",
    "        print(f\"x{i} = {var.x}\")\n",
    "    \n",
    "    print(\"Number of Fire Stations\", model.ObjVal)\n",
    "else:\n",
    "    print(\"No solution found.\")"
   ]
  }
 ],
 "metadata": {
  "kernelspec": {
   "display_name": "Python 3",
   "language": "python",
   "name": "python3"
  },
  "language_info": {
   "codemirror_mode": {
    "name": "ipython",
    "version": 3
   },
   "file_extension": ".py",
   "mimetype": "text/x-python",
   "name": "python",
   "nbconvert_exporter": "python",
   "pygments_lexer": "ipython3",
   "version": "3.12.0"
  }
 },
 "nbformat": 4,
 "nbformat_minor": 2
}
