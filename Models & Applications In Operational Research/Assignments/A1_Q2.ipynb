{
 "cells": [
  {
   "cell_type": "code",
   "execution_count": 161,
   "metadata": {},
   "outputs": [],
   "source": [
    "from gurobipy import GRB\n",
    "import gurobipy as gb"
   ]
  },
  {
   "cell_type": "code",
   "execution_count": 162,
   "metadata": {},
   "outputs": [],
   "source": [
    "# Create the optimization model\n",
    "model = gb.Model(\"SunnyShore Bay\")"
   ]
  },
  {
   "cell_type": "code",
   "execution_count": 163,
   "metadata": {},
   "outputs": [],
   "source": [
    "C = model.addVars(4, lb=0, vtype=GRB.CONTINUOUS, name=\"Cash Balance\")\n",
    "B = model.addVars(4, lb=0, vtype=GRB.CONTINUOUS, name=\"Borrow\")"
   ]
  },
  {
   "cell_type": "code",
   "execution_count": 164,
   "metadata": {},
   "outputs": [],
   "source": [
    "# Define the objective function (minimize total repayment)\n",
    "model.setObjective(1.0275 * B[1] + 1.0225 * B[1] + 1.0175 * B[1] + 1.0175 * B[2] + 1.0225 * B[2] + 1.0175 * B[3], GRB.MINIMIZE)"
   ]
  },
  {
   "cell_type": "markdown",
   "metadata": {},
   "source": [
    "### Decision Variables"
   ]
  },
  {
   "cell_type": "code",
   "execution_count": 165,
   "metadata": {},
   "outputs": [
    {
     "data": {
      "text/plain": [
       "<gurobi.Constr *Awaiting Model Update*>"
      ]
     },
     "execution_count": 165,
     "metadata": {},
     "output_type": "execute_result"
    }
   ],
   "source": [
    "# Add the constraints\n",
    "model.addConstr(C[0] == 140000 + 180000 - 300000 + B[1], \"May\")\n",
    "model.addConstr(C[1] == C[0] + 260000 - 400000 + B[2] - 1.0175 * B[1], \"June\")\n",
    "model.addConstr(C[2] == C[1] + 420000 - 350000 + B[3] - 1.0225 * B[1] - 1.0175 * B[2], \"July\")\n",
    "model.addConstr(C[3] == C[2] + 580000 - 200000 - 1.0275 * B[1] - 1.0225 * B[2] - 1.0175 * B[3], \"August\")"
   ]
  },
  {
   "cell_type": "markdown",
   "metadata": {},
   "source": [
    "### Constraints"
   ]
  },
  {
   "cell_type": "code",
   "execution_count": 166,
   "metadata": {},
   "outputs": [
    {
     "data": {
      "text/plain": [
       "<gurobi.Constr *Awaiting Model Update*>"
      ]
     },
     "execution_count": 166,
     "metadata": {},
     "output_type": "execute_result"
    }
   ],
   "source": [
    "# Borrowing limits\n",
    "model.addConstr(B[1] <= 250000, \"Borrow_Limit_May\")\n",
    "model.addConstr(B[2] <= 150000, \"Borrow_Limit_June\")\n",
    "model.addConstr(B[3] <= 350000, \"Borrow_Limit_July\")"
   ]
  },
  {
   "cell_type": "code",
   "execution_count": 167,
   "metadata": {},
   "outputs": [
    {
     "data": {
      "text/plain": [
       "<gurobi.Constr *Awaiting Model Update*>"
      ]
     },
     "execution_count": 167,
     "metadata": {},
     "output_type": "execute_result"
    }
   ],
   "source": [
    "# Minimum cash balances\n",
    "model.addConstr(C[0] >= 25000, \"Min_Cash_Balance_May\")\n",
    "model.addConstr(C[1] >= 20000, \"Min_Cash_Balance_June\")\n",
    "model.addConstr(C[2] >= 35000, \"Min_Cash_Balance_July\")\n",
    "model.addConstr(C[3] >= 18000, \"Min_Cash_Balance_August\")"
   ]
  },
  {
   "cell_type": "code",
   "execution_count": 168,
   "metadata": {},
   "outputs": [
    {
     "data": {
      "text/plain": [
       "<gurobi.Constr *Awaiting Model Update*>"
      ]
     },
     "execution_count": 168,
     "metadata": {},
     "output_type": "execute_result"
    }
   ],
   "source": [
    "# Cash balance ratio constraint at the end of July\n",
    "model.addConstr(C[2] >= 0.65 * (C[0] + C[1]), \"Cash_Balance_Ratio_July\")"
   ]
  },
  {
   "cell_type": "code",
   "execution_count": 169,
   "metadata": {},
   "outputs": [
    {
     "name": "stdout",
     "output_type": "stream",
     "text": [
      "Gurobi Optimizer version 11.0.0 build v11.0.0rc2 (win64 - Windows 11.0 (22621.2))\n",
      "\n",
      "CPU model: 13th Gen Intel(R) Core(TM) i7-13700H, instruction set [SSE2|AVX|AVX2]\n",
      "Thread count: 14 physical cores, 20 logical processors, using up to 20 threads\n",
      "\n",
      "Optimize a model with 12 rows, 8 columns and 26 nonzeros\n",
      "Model fingerprint: 0x12dd5841\n",
      "Coefficient statistics:\n",
      "  Matrix range     [7e-01, 1e+00]\n",
      "  Objective range  [1e+00, 3e+00]\n",
      "  Bounds range     [0e+00, 0e+00]\n",
      "  RHS range        [2e+04, 4e+05]\n",
      "Presolve removed 8 rows and 4 columns\n",
      "Presolve time: 0.00s\n",
      "Presolved: 4 rows, 4 columns, 11 nonzeros\n",
      "\n",
      "Iteration    Objective       Primal Inf.    Dual Inf.      Time\n",
      "       0    3.8493300e+05   1.266610e+03   0.000000e+00      0s\n",
      "       2    3.9538893e+05   0.000000e+00   0.000000e+00      0s\n",
      "\n",
      "Solved in 2 iterations and 0.01 seconds (0.00 work units)\n",
      "Optimal objective  3.953889330e+05\n"
     ]
    }
   ],
   "source": [
    "# Optimize the model\n",
    "model.optimize()"
   ]
  },
  {
   "cell_type": "code",
   "execution_count": 170,
   "metadata": {},
   "outputs": [
    {
     "name": "stdout",
     "output_type": "stream",
     "text": [
      "Cash Balance[0]: 25000.0\n",
      "Cash Balance[1]: 20000.0\n",
      "Cash Balance[2]: 35000.0\n",
      "Cash Balance[3]: 172350.098203125\n",
      "Borrow[0]: 0.0\n",
      "Borrow[1]: 5000.0\n",
      "Borrow[2]: 140087.5\n",
      "Borrow[3]: 92651.53125\n",
      "Total Repayment: 395388.933046875\n"
     ]
    }
   ],
   "source": [
    "# Access the solution values\n",
    "for v in model.getVars():\n",
    "    print(f\"{v.VarName}: {v.x}\")\n",
    "\n",
    "# Access the objective value\n",
    "print(f\"Total Repayment: {model.objVal}\")"
   ]
  },
  {
   "cell_type": "markdown",
   "metadata": {},
   "source": [
    "(a) How many different investments can be made over the 4-month period?"
   ]
  },
  {
   "cell_type": "markdown",
   "metadata": {},
   "source": [
    "(b) Write down the cash balance constraint for money on-hand at the end of June."
   ]
  },
  {
   "cell_type": "markdown",
   "metadata": {},
   "source": [
    "(c) Write down the linear ratio constraint associated with the cash balance at the end of July."
   ]
  },
  {
   "cell_type": "markdown",
   "metadata": {},
   "source": [
    "(d) What is the total amount that Sunnyshore Bay has to repay to the bank over the entire season?"
   ]
  },
  {
   "cell_type": "markdown",
   "metadata": {},
   "source": [
    "(e) How much money does Sunnyshore Bay withdraw in May from all loans?"
   ]
  },
  {
   "cell_type": "markdown",
   "metadata": {},
   "source": [
    "(f) What is the cash balance at the end of August?"
   ]
  },
  {
   "cell_type": "markdown",
   "metadata": {},
   "source": [
    "(g) Due to potential unexpected repairs, one of the managers has suggested increasing the minimum\n",
    "cash balance for June to $27,500. How much will now have to be repaid if this change is approved?"
   ]
  },
  {
   "cell_type": "markdown",
   "metadata": {},
   "source": [
    "(h) Formulate and solve the dual linear program demonstrating that the model you create is, indeed,\n",
    "the correct dual problem of the primal formulation."
   ]
  },
  {
   "cell_type": "markdown",
   "metadata": {},
   "source": [
    "(i) Which formulation, the primal or the dual model, do you think is easier to solve?"
   ]
  }
 ],
 "metadata": {
  "kernelspec": {
   "display_name": "Python 3",
   "language": "python",
   "name": "python3"
  },
  "language_info": {
   "codemirror_mode": {
    "name": "ipython",
    "version": 3
   },
   "file_extension": ".py",
   "mimetype": "text/x-python",
   "name": "python",
   "nbconvert_exporter": "python",
   "pygments_lexer": "ipython3",
   "version": "3.12.0"
  }
 },
 "nbformat": 4,
 "nbformat_minor": 2
}
