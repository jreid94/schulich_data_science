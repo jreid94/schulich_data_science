{
 "cells": [
  {
   "cell_type": "code",
   "execution_count": 25,
   "metadata": {},
   "outputs": [],
   "source": [
    "import gurobipy as gp\n",
    "from gurobipy import Model, GRB\n",
    "import pandas as pd\n",
    "import numpy as np"
   ]
  },
  {
   "cell_type": "code",
   "execution_count": 26,
   "metadata": {},
   "outputs": [],
   "source": [
    "df = pd.read_csv(r\"C:\\Users\\johns\\OneDrive\\Desktop\\MBAN Semester 3\\OMIS 6000 - Models & Applications in Operational Research\\Assignment 2 Files\\BasketballPlayers.csv\") "
   ]
  },
  {
   "cell_type": "code",
   "execution_count": 27,
   "metadata": {},
   "outputs": [
    {
     "data": {
      "text/html": [
       "<div>\n",
       "<style scoped>\n",
       "    .dataframe tbody tr th:only-of-type {\n",
       "        vertical-align: middle;\n",
       "    }\n",
       "\n",
       "    .dataframe tbody tr th {\n",
       "        vertical-align: top;\n",
       "    }\n",
       "\n",
       "    .dataframe thead th {\n",
       "        text-align: right;\n",
       "    }\n",
       "</style>\n",
       "<table border=\"1\" class=\"dataframe\">\n",
       "  <thead>\n",
       "    <tr style=\"text-align: right;\">\n",
       "      <th></th>\n",
       "      <th>Number</th>\n",
       "      <th>Position</th>\n",
       "      <th>Ball Handling</th>\n",
       "      <th>Shooting</th>\n",
       "      <th>Rebounding</th>\n",
       "      <th>Defense</th>\n",
       "      <th>Athletic Ability</th>\n",
       "      <th>Toughness</th>\n",
       "      <th>Mental Acuity</th>\n",
       "    </tr>\n",
       "  </thead>\n",
       "  <tbody>\n",
       "    <tr>\n",
       "      <th>0</th>\n",
       "      <td>1</td>\n",
       "      <td>G/F</td>\n",
       "      <td>1</td>\n",
       "      <td>2</td>\n",
       "      <td>3</td>\n",
       "      <td>2</td>\n",
       "      <td>1</td>\n",
       "      <td>2</td>\n",
       "      <td>1</td>\n",
       "    </tr>\n",
       "    <tr>\n",
       "      <th>1</th>\n",
       "      <td>2</td>\n",
       "      <td>G/F</td>\n",
       "      <td>1</td>\n",
       "      <td>1</td>\n",
       "      <td>1</td>\n",
       "      <td>2</td>\n",
       "      <td>3</td>\n",
       "      <td>2</td>\n",
       "      <td>3</td>\n",
       "    </tr>\n",
       "    <tr>\n",
       "      <th>2</th>\n",
       "      <td>3</td>\n",
       "      <td>G/F</td>\n",
       "      <td>3</td>\n",
       "      <td>1</td>\n",
       "      <td>1</td>\n",
       "      <td>2</td>\n",
       "      <td>3</td>\n",
       "      <td>2</td>\n",
       "      <td>1</td>\n",
       "    </tr>\n",
       "    <tr>\n",
       "      <th>3</th>\n",
       "      <td>4</td>\n",
       "      <td>G/F</td>\n",
       "      <td>2</td>\n",
       "      <td>3</td>\n",
       "      <td>2</td>\n",
       "      <td>2</td>\n",
       "      <td>2</td>\n",
       "      <td>1</td>\n",
       "      <td>1</td>\n",
       "    </tr>\n",
       "    <tr>\n",
       "      <th>4</th>\n",
       "      <td>5</td>\n",
       "      <td>F/C</td>\n",
       "      <td>1</td>\n",
       "      <td>2</td>\n",
       "      <td>3</td>\n",
       "      <td>3</td>\n",
       "      <td>3</td>\n",
       "      <td>3</td>\n",
       "      <td>2</td>\n",
       "    </tr>\n",
       "    <tr>\n",
       "      <th>...</th>\n",
       "      <td>...</td>\n",
       "      <td>...</td>\n",
       "      <td>...</td>\n",
       "      <td>...</td>\n",
       "      <td>...</td>\n",
       "      <td>...</td>\n",
       "      <td>...</td>\n",
       "      <td>...</td>\n",
       "      <td>...</td>\n",
       "    </tr>\n",
       "    <tr>\n",
       "      <th>145</th>\n",
       "      <td>146</td>\n",
       "      <td>F/C</td>\n",
       "      <td>2</td>\n",
       "      <td>2</td>\n",
       "      <td>3</td>\n",
       "      <td>1</td>\n",
       "      <td>1</td>\n",
       "      <td>3</td>\n",
       "      <td>3</td>\n",
       "    </tr>\n",
       "    <tr>\n",
       "      <th>146</th>\n",
       "      <td>147</td>\n",
       "      <td>G/F</td>\n",
       "      <td>2</td>\n",
       "      <td>3</td>\n",
       "      <td>2</td>\n",
       "      <td>3</td>\n",
       "      <td>2</td>\n",
       "      <td>2</td>\n",
       "      <td>2</td>\n",
       "    </tr>\n",
       "    <tr>\n",
       "      <th>147</th>\n",
       "      <td>148</td>\n",
       "      <td>G/F</td>\n",
       "      <td>3</td>\n",
       "      <td>1</td>\n",
       "      <td>2</td>\n",
       "      <td>3</td>\n",
       "      <td>2</td>\n",
       "      <td>3</td>\n",
       "      <td>3</td>\n",
       "    </tr>\n",
       "    <tr>\n",
       "      <th>148</th>\n",
       "      <td>149</td>\n",
       "      <td>F/C</td>\n",
       "      <td>1</td>\n",
       "      <td>2</td>\n",
       "      <td>3</td>\n",
       "      <td>1</td>\n",
       "      <td>1</td>\n",
       "      <td>2</td>\n",
       "      <td>2</td>\n",
       "    </tr>\n",
       "    <tr>\n",
       "      <th>149</th>\n",
       "      <td>150</td>\n",
       "      <td>F/C</td>\n",
       "      <td>1</td>\n",
       "      <td>3</td>\n",
       "      <td>2</td>\n",
       "      <td>1</td>\n",
       "      <td>3</td>\n",
       "      <td>2</td>\n",
       "      <td>3</td>\n",
       "    </tr>\n",
       "  </tbody>\n",
       "</table>\n",
       "<p>150 rows × 9 columns</p>\n",
       "</div>"
      ],
      "text/plain": [
       "     Number Position  Ball Handling  Shooting  Rebounding  Defense  \\\n",
       "0         1      G/F              1         2           3        2   \n",
       "1         2      G/F              1         1           1        2   \n",
       "2         3      G/F              3         1           1        2   \n",
       "3         4      G/F              2         3           2        2   \n",
       "4         5      F/C              1         2           3        3   \n",
       "..      ...      ...            ...       ...         ...      ...   \n",
       "145     146      F/C              2         2           3        1   \n",
       "146     147      G/F              2         3           2        3   \n",
       "147     148      G/F              3         1           2        3   \n",
       "148     149      F/C              1         2           3        1   \n",
       "149     150      F/C              1         3           2        1   \n",
       "\n",
       "     Athletic Ability  Toughness  Mental Acuity  \n",
       "0                   1          2              1  \n",
       "1                   3          2              3  \n",
       "2                   3          2              1  \n",
       "3                   2          1              1  \n",
       "4                   3          3              2  \n",
       "..                ...        ...            ...  \n",
       "145                 1          3              3  \n",
       "146                 2          2              2  \n",
       "147                 2          3              3  \n",
       "148                 1          2              2  \n",
       "149                 3          2              3  \n",
       "\n",
       "[150 rows x 9 columns]"
      ]
     },
     "execution_count": 27,
     "metadata": {},
     "output_type": "execute_result"
    }
   ],
   "source": [
    "df"
   ]
  },
  {
   "cell_type": "code",
   "execution_count": 28,
   "metadata": {},
   "outputs": [],
   "source": [
    "m = gp.Model(\"BasketballTeamSelection\")"
   ]
  },
  {
   "cell_type": "code",
   "execution_count": 29,
   "metadata": {},
   "outputs": [],
   "source": [
    "# Add decision variables\n",
    "\n",
    "players = df.index.tolist()\n",
    "player_vars = m.addVars(players, vtype=GRB.BINARY, name=\"Player\")"
   ]
  },
  {
   "cell_type": "code",
   "execution_count": 30,
   "metadata": {},
   "outputs": [
    {
     "data": {
      "text/plain": [
       "<gurobi.Constr *Awaiting Model Update*>"
      ]
     },
     "execution_count": 30,
     "metadata": {},
     "output_type": "execute_result"
    }
   ],
   "source": [
    "# Constraints\n",
    "\n",
    "# Guard and Forward/Center allocation constraints\n",
    "guards = df[df['Position'].isin(['G', 'G/F'])].index\n",
    "forward_centers = df[df['Position'].isin(['F', 'C', 'F/C'])].index\n",
    "m.addConstr(player_vars.sum(guards) >= 0.3 * 21, \"MinGuards\")\n",
    "m.addConstr(player_vars.sum(forward_centers) >= 0.4 * 21, \"MinForwardCenters\")"
   ]
  },
  {
   "cell_type": "code",
   "execution_count": 31,
   "metadata": {},
   "outputs": [],
   "source": [
    "# Skill average constraints\n",
    "\n",
    "skills = ['Ball Handling', 'Shooting', 'Rebounding', 'Defense', 'Athletic Ability', 'Toughness', 'Mental Acuity']\n",
    "\n",
    "for skill in skills:\n",
    "    total_skill_points = gp.quicksum(player_vars[i] * df.at[i, skill] for i in players)\n",
    "    m.addConstr(total_skill_points >= 2.05 * 21, f\"Skill_{skill}_Adjusted\")"
   ]
  },
  {
   "cell_type": "code",
   "execution_count": 32,
   "metadata": {},
   "outputs": [
    {
     "data": {
      "text/plain": [
       "<gurobi.Constr *Awaiting Model Update*>"
      ]
     },
     "execution_count": 32,
     "metadata": {},
     "output_type": "execute_result"
    }
   ],
   "source": [
    "# Exclusive invitation constraints\n",
    "\n",
    "group1 = list(range(20, 25))\n",
    "group2 = list(range(72, 79))\n",
    "group3 = list(range(105, 115))\n",
    "group4 = list(range(45, 50))\n",
    "group5 = list(range(65, 70))\n",
    "m.addConstr(gp.quicksum(player_vars[i] for i in group1) * gp.quicksum(player_vars[i] for i in group2) == 0, \"Exclusive1\")\n",
    "m.addConstr(gp.quicksum(player_vars[i] for i in group3) <= (gp.quicksum(player_vars[i] for i in group4) + gp.quicksum(player_vars[i] for i in group5)), \"DependentInvitations\")"
   ]
  },
  {
   "cell_type": "code",
   "execution_count": 33,
   "metadata": {},
   "outputs": [],
   "source": [
    "# At least one player from each range constraint\n",
    "\n",
    "for start in range(1, 141, 10):\n",
    "    end = start + 9\n",
    "    m.addConstr(gp.quicksum(player_vars[i] for i in range(start, end+1)) >= 1, f\"AtLeastOne_{start}-{end}\")"
   ]
  },
  {
   "cell_type": "code",
   "execution_count": 34,
   "metadata": {},
   "outputs": [
    {
     "data": {
      "text/plain": [
       "<gurobi.Constr *Awaiting Model Update*>"
      ]
     },
     "execution_count": 34,
     "metadata": {},
     "output_type": "execute_result"
    }
   ],
   "source": [
    "m.addConstr(player_vars.sum() == 21, \"Exactly21Invitations\")"
   ]
  },
  {
   "cell_type": "code",
   "execution_count": 35,
   "metadata": {},
   "outputs": [],
   "source": [
    "m.setObjective(gp.quicksum(player_vars[i] * df.loc[i, skills].sum() for i in players), GRB.MAXIMIZE)"
   ]
  },
  {
   "cell_type": "code",
   "execution_count": 36,
   "metadata": {},
   "outputs": [
    {
     "name": "stdout",
     "output_type": "stream",
     "text": [
      "Gurobi Optimizer version 11.0.0 build v11.0.0rc2 (win64 - Windows 11.0 (22621.2))\n",
      "\n",
      "CPU model: 13th Gen Intel(R) Core(TM) i7-13700H, instruction set [SSE2|AVX|AVX2]\n",
      "Thread count: 14 physical cores, 20 logical processors, using up to 20 threads\n",
      "\n",
      "Optimize a model with 25 rows, 150 columns and 1510 nonzeros\n",
      "Model fingerprint: 0x7b25a2fb\n",
      "Model has 1 quadratic constraint\n",
      "Variable types: 0 continuous, 150 integer (150 binary)\n",
      "Coefficient statistics:\n",
      "  Matrix range     [1e+00, 3e+00]\n",
      "  QMatrix range    [1e+00, 1e+00]\n",
      "  Objective range  [9e+00, 2e+01]\n",
      "  Bounds range     [1e+00, 1e+00]\n",
      "  RHS range        [1e+00, 4e+01]\n",
      "Presolve added 35 rows and 0 columns\n",
      "Presolve time: 0.00s\n",
      "Presolved: 60 rows, 150 columns, 1241 nonzeros\n",
      "Variable types: 0 continuous, 150 integer (150 binary)\n",
      "\n",
      "Root relaxation: objective 3.620000e+02, 16 iterations, 0.00 seconds (0.00 work units)\n",
      "\n",
      "    Nodes    |    Current Node    |     Objective Bounds      |     Work\n",
      " Expl Unexpl |  Obj  Depth IntInf | Incumbent    BestBd   Gap | It/Node Time\n",
      "\n",
      "*    0     0               0     362.0000000  362.00000  0.00%     -    0s\n",
      "\n",
      "Explored 1 nodes (16 simplex iterations) in 0.01 seconds (0.01 work units)\n",
      "Thread count was 20 (of 20 available processors)\n",
      "\n",
      "Solution count 1: 362 \n",
      "\n",
      "Optimal solution found (tolerance 1.00e-04)\n",
      "Best objective 3.620000000000e+02, best bound 3.620000000000e+02, gap 0.0000%\n"
     ]
    }
   ],
   "source": [
    "# Optimize the model\n",
    "\n",
    "m.optimize()"
   ]
  },
  {
   "cell_type": "code",
   "execution_count": 37,
   "metadata": {},
   "outputs": [
    {
     "name": "stdout",
     "output_type": "stream",
     "text": [
      "Selected Players: [4, 6, 15, 25, 36, 46, 55, 69, 73, 75, 89, 94, 103, 109, 110, 117, 130, 131, 132, 133, 140]\n"
     ]
    }
   ],
   "source": [
    "# Extract the solution\n",
    "\n",
    "selected_players = [i for i in players if player_vars[i].X > 0.5]\n",
    "print(\"Selected Players:\", selected_players)"
   ]
  },
  {
   "cell_type": "code",
   "execution_count": 38,
   "metadata": {},
   "outputs": [
    {
     "data": {
      "text/plain": [
       "21"
      ]
     },
     "execution_count": 38,
     "metadata": {},
     "output_type": "execute_result"
    }
   ],
   "source": [
    "len(selected_players)"
   ]
  },
  {
   "cell_type": "code",
   "execution_count": 39,
   "metadata": {},
   "outputs": [
    {
     "name": "stdout",
     "output_type": "stream",
     "text": [
      "Optimal Objective Function Value: 362.0\n"
     ]
    }
   ],
   "source": [
    "optimal_value = m.objVal\n",
    "\n",
    "print(f\"Optimal Objective Function Value: {optimal_value}\")"
   ]
  },
  {
   "cell_type": "code",
   "execution_count": 40,
   "metadata": {},
   "outputs": [
    {
     "name": "stdout",
     "output_type": "stream",
     "text": [
      "Number of Guards Invited: 10.0\n"
     ]
    }
   ],
   "source": [
    "num_guards_invited = sum(player_vars[i].X for i in guards)\n",
    "print(f\"Number of Guards Invited: {num_guards_invited}\")"
   ]
  },
  {
   "cell_type": "code",
   "execution_count": 45,
   "metadata": {},
   "outputs": [],
   "source": [
    "def adjust_and_solve_model(min_invitations):\n",
    "    \n",
    "    m = gp.Model(\"BasketballTeamSelection\")\n",
    "    \n",
    "    # Define variables\n",
    "    players = df.index.tolist()\n",
    "    player_vars = m.addVars(players, vtype=GRB.BINARY, name=\"Player\")\n",
    "    \n",
    "    # Guards and Forward/Center allocation constraints based on current 'min_invitations'\n",
    "    guards = df[df['Position'].isin(['G', 'G/F'])].index\n",
    "    forward_centers = df[df['Position'].isin(['F', 'C', 'F/C'])].index\n",
    "    m.addConstr(player_vars.sum(guards) >= 0.3 * min_invitations, \"MinGuards\")\n",
    "    m.addConstr(player_vars.sum(forward_centers) >= 0.4 * min_invitations, \"MinForwardCenters\")\n",
    "    \n",
    "    # Skill average constraints adjusted for 'min_invitations'\n",
    "    for skill in skills:\n",
    "        total_skill_points = gp.quicksum(player_vars[i] * df.at[i, skill] for i in players)\n",
    "        m.addConstr(total_skill_points >= 2.05 * min_invitations, f\"Skill_{skill}_Adjusted\")\n",
    "    \n",
    "    # Exclusive invitation and dependent invitations constraints\n",
    "    m.addConstr(gp.quicksum(player_vars[i] for i in group1) * gp.quicksum(player_vars[i] for i in group2) == 0, \"Exclusive1\")\n",
    "    m.addConstr(gp.quicksum(player_vars[i] for i in group3) <= (gp.quicksum(player_vars[i] for i in group4) + gp.quicksum(player_vars[i] for i in group5)), \"DependentInvitations\")\n",
    "\n",
    "    for i in range(1, 151, 10):\n",
    "        m.addConstr(sum(x[j] for j in players.index if i <= players.loc[j, 'Number'] < i + 10) >= 1, f\"Group_{i}_{i+9}\")\n",
    "    \n",
    "    # Set objective\n",
    "    m.setObjective(gp.quicksum(player_vars[i] * df.loc[i, skills].sum() for i in players), GRB.MAXIMIZE)\n",
    "    \n",
    "    # Solve the model\n",
    "    m.optimize()\n",
    "    \n",
    "    return m"
   ]
  },
  {
   "cell_type": "code",
   "execution_count": 42,
   "metadata": {},
   "outputs": [],
   "source": [
    "min_invitations = 21"
   ]
  },
  {
   "cell_type": "code",
   "execution_count": 43,
   "metadata": {},
   "outputs": [
    {
     "ename": "TypeError",
     "evalue": "'builtin_function_or_method' object is not iterable",
     "output_type": "error",
     "traceback": [
      "\u001b[1;31m---------------------------------------------------------------------------\u001b[0m",
      "\u001b[1;31mTypeError\u001b[0m                                 Traceback (most recent call last)",
      "Cell \u001b[1;32mIn[43], line 2\u001b[0m\n\u001b[0;32m      1\u001b[0m \u001b[38;5;28;01mwhile\u001b[39;00m min_invitations \u001b[38;5;241m>\u001b[39m \u001b[38;5;241m0\u001b[39m:\n\u001b[1;32m----> 2\u001b[0m     model \u001b[38;5;241m=\u001b[39m \u001b[43madjust_and_solve_model\u001b[49m\u001b[43m(\u001b[49m\u001b[43mmin_invitations\u001b[49m\u001b[43m)\u001b[49m\n\u001b[0;32m      3\u001b[0m     \u001b[38;5;28;01mif\u001b[39;00m model\u001b[38;5;241m.\u001b[39mstatus \u001b[38;5;241m==\u001b[39m GRB\u001b[38;5;241m.\u001b[39mINFEASIBLE:\n\u001b[0;32m      4\u001b[0m         \u001b[38;5;28mprint\u001b[39m(\u001b[38;5;124mf\u001b[39m\u001b[38;5;124m\"\u001b[39m\u001b[38;5;124mModel becomes infeasible with \u001b[39m\u001b[38;5;132;01m{\u001b[39;00mmin_invitations\u001b[38;5;132;01m}\u001b[39;00m\u001b[38;5;124m invitations.\u001b[39m\u001b[38;5;124m\"\u001b[39m)\n",
      "Cell \u001b[1;32mIn[41], line 25\u001b[0m, in \u001b[0;36madjust_and_solve_model\u001b[1;34m(min_invitations)\u001b[0m\n\u001b[0;32m     22\u001b[0m m\u001b[38;5;241m.\u001b[39maddConstr(gp\u001b[38;5;241m.\u001b[39mquicksum(player_vars[i] \u001b[38;5;28;01mfor\u001b[39;00m i \u001b[38;5;129;01min\u001b[39;00m group3) \u001b[38;5;241m<\u001b[39m\u001b[38;5;241m=\u001b[39m (gp\u001b[38;5;241m.\u001b[39mquicksum(player_vars[i] \u001b[38;5;28;01mfor\u001b[39;00m i \u001b[38;5;129;01min\u001b[39;00m group4) \u001b[38;5;241m+\u001b[39m gp\u001b[38;5;241m.\u001b[39mquicksum(player_vars[i] \u001b[38;5;28;01mfor\u001b[39;00m i \u001b[38;5;129;01min\u001b[39;00m group5)), \u001b[38;5;124m\"\u001b[39m\u001b[38;5;124mDependentInvitations\u001b[39m\u001b[38;5;124m\"\u001b[39m)\n\u001b[0;32m     24\u001b[0m \u001b[38;5;28;01mfor\u001b[39;00m i \u001b[38;5;129;01min\u001b[39;00m \u001b[38;5;28mrange\u001b[39m(\u001b[38;5;241m1\u001b[39m, \u001b[38;5;241m151\u001b[39m, \u001b[38;5;241m10\u001b[39m):\n\u001b[1;32m---> 25\u001b[0m     m\u001b[38;5;241m.\u001b[39maddConstr(\u001b[38;5;28msum\u001b[39m\u001b[43m(\u001b[49m\u001b[43mx\u001b[49m\u001b[43m[\u001b[49m\u001b[43mj\u001b[49m\u001b[43m]\u001b[49m\u001b[43m \u001b[49m\u001b[38;5;28;43;01mfor\u001b[39;49;00m\u001b[43m \u001b[49m\u001b[43mj\u001b[49m\u001b[43m \u001b[49m\u001b[38;5;129;43;01min\u001b[39;49;00m\u001b[43m \u001b[49m\u001b[43mplayers\u001b[49m\u001b[38;5;241;43m.\u001b[39;49m\u001b[43mindex\u001b[49m\u001b[43m \u001b[49m\u001b[38;5;28;43;01mif\u001b[39;49;00m\u001b[43m \u001b[49m\u001b[43mi\u001b[49m\u001b[43m \u001b[49m\u001b[38;5;241;43m<\u001b[39;49m\u001b[38;5;241;43m=\u001b[39;49m\u001b[43m \u001b[49m\u001b[43mplayers\u001b[49m\u001b[38;5;241;43m.\u001b[39;49m\u001b[43mloc\u001b[49m\u001b[43m[\u001b[49m\u001b[43mj\u001b[49m\u001b[43m,\u001b[49m\u001b[43m \u001b[49m\u001b[38;5;124;43m'\u001b[39;49m\u001b[38;5;124;43mNumber\u001b[39;49m\u001b[38;5;124;43m'\u001b[39;49m\u001b[43m]\u001b[49m\u001b[43m \u001b[49m\u001b[38;5;241;43m<\u001b[39;49m\u001b[43m \u001b[49m\u001b[43mi\u001b[49m\u001b[43m \u001b[49m\u001b[38;5;241;43m+\u001b[39;49m\u001b[43m \u001b[49m\u001b[38;5;241;43m10\u001b[39;49m\u001b[43m)\u001b[49m \u001b[38;5;241m>\u001b[39m\u001b[38;5;241m=\u001b[39m \u001b[38;5;241m1\u001b[39m, \u001b[38;5;124mf\u001b[39m\u001b[38;5;124m\"\u001b[39m\u001b[38;5;124mGroup_\u001b[39m\u001b[38;5;132;01m{\u001b[39;00mi\u001b[38;5;132;01m}\u001b[39;00m\u001b[38;5;124m_\u001b[39m\u001b[38;5;132;01m{\u001b[39;00mi\u001b[38;5;241m+\u001b[39m\u001b[38;5;241m9\u001b[39m\u001b[38;5;132;01m}\u001b[39;00m\u001b[38;5;124m\"\u001b[39m)\n\u001b[0;32m     27\u001b[0m \u001b[38;5;66;03m# Set objective\u001b[39;00m\n\u001b[0;32m     28\u001b[0m m\u001b[38;5;241m.\u001b[39msetObjective(gp\u001b[38;5;241m.\u001b[39mquicksum(player_vars[i] \u001b[38;5;241m*\u001b[39m df\u001b[38;5;241m.\u001b[39mloc[i, skills]\u001b[38;5;241m.\u001b[39msum() \u001b[38;5;28;01mfor\u001b[39;00m i \u001b[38;5;129;01min\u001b[39;00m players), GRB\u001b[38;5;241m.\u001b[39mMAXIMIZE)\n",
      "\u001b[1;31mTypeError\u001b[0m: 'builtin_function_or_method' object is not iterable"
     ]
    }
   ],
   "source": [
    "while min_invitations > 0:\n",
    "    model = adjust_and_solve_model(min_invitations)\n",
    "    if model.status == GRB.INFEASIBLE:\n",
    "        print(f\"Model becomes infeasible with {min_invitations} invitations.\")\n",
    "        model.computeIIS()  # Identify infeasible constraints\n",
    "        # Print out all constraints that are part of the IIS\n",
    "        for c in model.getConstrs():\n",
    "            if c.IISConstr:\n",
    "                print(f\"Infeasible constraint: {c.constrName}\")\n",
    "    else:\n",
    "        min_invitations -= 1  # Decrease and try again\n",
    "\n",
    "if min_invitations == 0:\n",
    "    print(\"Model did not become infeasible with any number of invitations. Check constraints and model setup.\")"
   ]
  },
  {
   "cell_type": "code",
   "execution_count": 51,
   "metadata": {},
   "outputs": [
    {
     "ename": "GurobiError",
     "evalue": "Variable not in model",
     "output_type": "error",
     "traceback": [
      "\u001b[1;31m---------------------------------------------------------------------------\u001b[0m",
      "\u001b[1;31mGurobiError\u001b[0m                               Traceback (most recent call last)",
      "Cell \u001b[1;32mIn[51], line 26\u001b[0m\n\u001b[0;32m     23\u001b[0m total_players_selected \u001b[38;5;241m=\u001b[39m \u001b[38;5;28msum\u001b[39m(x[i] \u001b[38;5;28;01mfor\u001b[39;00m i \u001b[38;5;129;01min\u001b[39;00m filtered_players\u001b[38;5;241m.\u001b[39mindex)    \n\u001b[0;32m     25\u001b[0m \u001b[38;5;66;03m# At least 30% of the invitations should go to guards\u001b[39;00m\n\u001b[1;32m---> 26\u001b[0m \u001b[43mm\u001b[49m\u001b[38;5;241;43m.\u001b[39;49m\u001b[43maddConstr\u001b[49m\u001b[43m(\u001b[49m\u001b[43mplayer_vars\u001b[49m\u001b[38;5;241;43m.\u001b[39;49m\u001b[43msum\u001b[49m\u001b[43m(\u001b[49m\u001b[43mguards\u001b[49m\u001b[43m)\u001b[49m\u001b[43m \u001b[49m\u001b[38;5;241;43m>\u001b[39;49m\u001b[38;5;241;43m=\u001b[39;49m\u001b[43m \u001b[49m\u001b[38;5;241;43m0.3\u001b[39;49m\u001b[43m \u001b[49m\u001b[38;5;241;43m*\u001b[39;49m\u001b[43m \u001b[49m\u001b[43mmin_invitations\u001b[49m\u001b[43m,\u001b[49m\u001b[43m \u001b[49m\u001b[38;5;124;43m\"\u001b[39;49m\u001b[38;5;124;43mMinGuards\u001b[39;49m\u001b[38;5;124;43m\"\u001b[39;49m\u001b[43m)\u001b[49m\n\u001b[0;32m     28\u001b[0m \u001b[38;5;66;03m# At least 40% of the invitations should go to forwards/centers\u001b[39;00m\n\u001b[0;32m     29\u001b[0m m\u001b[38;5;241m.\u001b[39maddConstr(player_vars\u001b[38;5;241m.\u001b[39msum(forward_centers) \u001b[38;5;241m>\u001b[39m\u001b[38;5;241m=\u001b[39m \u001b[38;5;241m0.4\u001b[39m \u001b[38;5;241m*\u001b[39m min_invitations, \u001b[38;5;124m\"\u001b[39m\u001b[38;5;124mMinForwardCenters\u001b[39m\u001b[38;5;124m\"\u001b[39m)\n",
      "File \u001b[1;32msrc\\\\gurobipy\\\\model.pxi:3794\u001b[0m, in \u001b[0;36mgurobipy.Model.addConstr\u001b[1;34m()\u001b[0m\n",
      "File \u001b[1;32msrc\\\\gurobipy\\\\model.pxi:3462\u001b[0m, in \u001b[0;36mgurobipy.Model.__addConstr\u001b[1;34m()\u001b[0m\n",
      "\u001b[1;31mGurobiError\u001b[0m: Variable not in model"
     ]
    }
   ],
   "source": [
    "players = pd.read_csv(r\"C:\\Users\\johns\\OneDrive\\Desktop\\MBAN Semester 3\\OMIS 6000 - Models & Applications in Operational Research\\Assignment 2 Files\\BasketballPlayers.csv\") \n",
    "\n",
    "players['Average'] = players.iloc[:, 2:].mean(axis=1)\n",
    "\n",
    "# Filter players with average skill above 2.05 (without resetting the index)\n",
    "filtered_players = players[players['Average'] > 2.05]\n",
    "filtered_players = filtered_players.drop(columns=['Average'])\n",
    "\n",
    "# Number of players\n",
    "num_players = len(filtered_players)\n",
    "\n",
    "# Create the optimization model\n",
    "m = Model(\"BasketballTeamSelection\")\n",
    "\n",
    "# Create binary decision variables for each player (using original indices)\n",
    "x = m.addVars(filtered_players.index, vtype=GRB.BINARY, name=\"Player\")\n",
    "\n",
    "# Pre-compute the player positions using original indices\n",
    "guards = [i for i in filtered_players.index if filtered_players.loc[i, 'Position'] in ['G', 'G/F']]\n",
    "forwards_centers = [i for i in filtered_players.index if filtered_players.loc[i, 'Position'] in ['F', 'C', 'F/C']]\n",
    "\n",
    "# Total number of players selected\n",
    "total_players_selected = sum(x[i] for i in filtered_players.index)    \n",
    "    \n",
    "# At least 30% of the invitations should go to guards\n",
    "m.addConstr(player_vars.sum(guards) >= 0.3 * min_invitations, \"MinGuards\")\n",
    "\n",
    "# At least 40% of the invitations should go to forwards/centers\n",
    "m.addConstr(player_vars.sum(forward_centers) >= 0.4 * min_invitations, \"MinForwardCenters\")\n",
    "\n",
    "# If any player from 20-24 (inclusive) is invited, all players from 72-78 (inclusive) cannot be, and vice versa\n",
    "m.addConstr(sum(x[i] for i in filtered_players.index if 20 <= filtered_players.loc[i, 'Number'] <= 24) + sum(x[j] for j in filtered_players.index if 72 <= filtered_players.loc[j, 'Number'] <= 78) <= 1, \"Group_20_24_vs_72_78\")\n",
    "\n",
    "\n",
    "# If any player from 105-114 (inclusive) is invited, at least one player from 45-49 (inclusive) and 65-69 (inclusive) must be invited\n",
    "for i in [idx for idx in filtered_players.index if 105 <= filtered_players.loc[idx, 'Number'] <= 114]:\n",
    "    m.addConstr(x[i] <= sum(x[j] for j in filtered_players.index if 45 <= filtered_players.loc[j, 'Number'] <= 49) + sum(x[k] for k in filtered_players.index if 65 <= filtered_players.loc[k, 'Number'] <= 69), f\"Group_105_114_requires_{i}\")\n",
    "\n",
    "\n",
    "# At least one player must be invited from: 1-10, 11-20, 21-30, ..., 131-140, 141-150\n",
    "for i in range(1, 151, 10):\n",
    "    m.addConstr(sum(x[j] for j in filtered_players.index if i <= filtered_players.loc[j, 'Number'] < i + 10) >= 1, f\"Group_{i}_{i+9}\")\n",
    "\n",
    "# Update the model\n",
    "m.update()\n",
    "\n",
    "# Print the number of constraints in the model\n",
    "print(\"Number of constraints after adding:\", len(m.getConstrs()))\n",
    "\n",
    "# Check if there are any constraints in the model\n",
    "constraints = m.getConstrs()\n",
    "if not constraints:\n",
    "    raise ValueError(\"No constraints found in the model\")\n",
    "last_feasible_solution = constraints[0]\n",
    "\n",
    "# Change the objective function to minimize the total number of players selected\n",
    "m.setObjective(total_players_selected, GRB.MINIMIZE)\n",
    "\n",
    "# Find the smallest number of players that can be selected without causing infeasibility\n",
    "min_players_selected = num_players\n",
    "infeasible_constraint = None\n",
    "\n",
    "for i in range(num_players, 0, -1):\n",
    "    m.update()\n",
    "    m.optimize()\n",
    "\n",
    "    # Find the selected players\n",
    "    selected_players = [i for i in filtered_players.index if x[i].X > 0.5]\n",
    "\n",
    "# Print the details of the selected players\n",
    "    print(\"Selected players:\")\n",
    "    for player in selected_players:\n",
    "        player_data = filtered_players.loc[player]\n",
    "        print(f\"Player Number: {player_data['Number']}, Position: {player_data['Position']}\")\n",
    "\n",
    "    if m.status == GRB.INFEASIBLE:\n",
    "        infeasible_constraint = m.getConstrs()[m.getConstrs().index(last_feasible_solution) + 1].ConstrName\n",
    "        break\n",
    "    elif m.status == GRB.OPTIMAL:\n",
    "        min_players_selected = i\n",
    "        # Update last_feasible_solution only if it's not the last constraint\n",
    "        if m.getConstrs().index(last_feasible_solution) + 1 < len(m.getConstrs()):\n",
    "            last_feasible_solution = m.getConstrs()[m.getConstrs().index(last_feasible_solution) + 1]\n",
    "\n",
    "print(f\"Value of the objective function (total number of players selected): {m.ObjVal}\")\n",
    "if infeasible_constraint:\n",
    "    print(f\"The constraint that caused infeasibility: {infeasible_constraint}\")\n",
    "\n",
    "m.addConstr(total_players_selected <= m.ObjVal - 1, \"Reduced_Player_Selection\")\n",
    "m.optimize()\n",
    "if m.status == GRB.INFEASIBLE:\n",
    "    print(\"Model is infeasible. Identifying the problematic constraint(s)...\")\n",
    "    m.computeIIS()\n",
    "    for c in m.getConstrs():\n",
    "        if c.IISConstr:\n",
    "            print(f\"Constraint causing infeasibility: {c.ConstrName}\")"
   ]
  }
 ],
 "metadata": {
  "kernelspec": {
   "display_name": "Python 3",
   "language": "python",
   "name": "python3"
  },
  "language_info": {
   "codemirror_mode": {
    "name": "ipython",
    "version": 3
   },
   "file_extension": ".py",
   "mimetype": "text/x-python",
   "name": "python",
   "nbconvert_exporter": "python",
   "pygments_lexer": "ipython3",
   "version": "3.12.0"
  }
 },
 "nbformat": 4,
 "nbformat_minor": 2
}
