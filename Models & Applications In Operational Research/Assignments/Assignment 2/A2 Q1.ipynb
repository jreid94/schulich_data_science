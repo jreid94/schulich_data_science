{
 "cells": [
  {
   "cell_type": "code",
   "execution_count": 24,
   "metadata": {},
   "outputs": [],
   "source": [
    "import gurobipy as gp\n",
    "from gurobipy import GRB\n",
    "import pandas as pd"
   ]
  },
  {
   "cell_type": "code",
   "execution_count": 25,
   "metadata": {},
   "outputs": [],
   "source": [
    "# Read the data from the spreadsheet\n",
    "data = pd.read_csv(r\"C:\\Users\\johns\\OneDrive\\Desktop\\MBAN Semester 3\\OMIS 6000 - Models & Applications in Operational Research\\Assignment 2 Files\\price_response.csv\")"
   ]
  },
  {
   "cell_type": "code",
   "execution_count": 26,
   "metadata": {},
   "outputs": [],
   "source": [
    "# Extract relevant columns\n",
    "product_lines = data[\"Product\"].str.split(\" \", n=1, expand=True)[0].unique()\n",
    "versions = data[\"Product\"].str.split(\" \", n=2, expand=True)[2].unique()\n",
    "coefficients = {(line, version): (intercept, sensitivity) for line, version, intercept, sensitivity in zip(data[\"Product\"].str.split(\" \", n=2, expand=True)[0], data[\"Product\"].str.split(\" \", n=2, expand=True)[2], data[\"Intercept\"], data[\"Sensitivity\"])}"
   ]
  },
  {
   "cell_type": "markdown",
   "metadata": {},
   "source": [
    "### (a)\n",
    "\n",
    "When TechEssentials initially launched 15 years ago, it had just one product line (the EvoTech\n",
    "Pro Series computers) with two versions: Basic and Advanced. Apply the KKT conditions to\n",
    "find the optimal prices of each of the two computers within this series, taking into account that\n",
    "the Advanced version should have a higher price as compared to the Basic one. That is,\n",
    "\n",
    "Maximize p1 (a1 − b1p1) + p2 (a1 − b1p2)\n",
    "\n",
    "for some prices pi ≥ 0 and linear price response function coefficients ai ≥ 0 and bi ≥ 0 where\n",
    "i = {1, 2} subject to price ordering and demand non-negativity constraints."
   ]
  },
  {
   "cell_type": "code",
   "execution_count": 32,
   "metadata": {},
   "outputs": [],
   "source": [
    "# (a) Optimal prices for EvoTech Pro Series Basic and Advanced versions\n",
    "def optimal_prices_evotech(coefficients):\n",
    "    # Extract coefficients for EvoTech Pro Series Basic and Advanced versions\n",
    "    a1_basic = coefficients[('Line', 'Product 1')][0]\n",
    "    b1_basic = coefficients[('Line', 'Product 1')][1]\n",
    "    a1_advanced = coefficients[('Line', 'Product 2')][0]\n",
    "    b1_advanced = coefficients[('Line', 'Product 2')][1]\n",
    "\n",
    "    # Apply KKT conditions\n",
    "    optimal_price_basic = a1_basic / (2 * b1_basic)\n",
    "    optimal_price_advanced = a1_advanced / (2 * b1_advanced)\n",
    "\n",
    "    print(\"Optimal prices for EvoTech Pro Series Basic and Advanced versions:\")\n",
    "    print(\"Basic:\", optimal_price_basic)\n",
    "    print(\"Advanced:\", optimal_price_advanced)"
   ]
  },
  {
   "cell_type": "markdown",
   "metadata": {},
   "source": [
    "### (b) \n",
    "\n",
    "Contrast the solution obtained from the previous question with the solution obtained from the\n",
    "application of a projected gradient descent algorithm. Note that the constraint set is linear, so\n",
    "the projection step can be solved as a quadratic program. Start with all prices initialized to zero,\n",
    "a step size of 0.001, and a stopping criterion of 10−6\n",
    "\n",
    ", what do you get as the optimal prices?"
   ]
  },
  {
   "cell_type": "code",
   "execution_count": 33,
   "metadata": {},
   "outputs": [],
   "source": [
    "# (b) Projected Gradient Descent\n",
    "def projected_gradient_descent(coefficients):\n",
    "    # Initialization\n",
    "    prices = {('Line', 'Product 1'): 0, ('Line', 'Product 2'): 0, ('Line', 'Product 3'): 0}\n",
    "    step_size = 0.001\n",
    "    stopping_criterion = 1e-6\n",
    "\n",
    "    while True:\n",
    "        # Compute gradients\n",
    "        gradients = compute_gradients(prices, coefficients)\n",
    "\n",
    "        # Update prices with gradient descent\n",
    "        for key in prices:\n",
    "            prices[key] += step_size * gradients[key]\n",
    "\n",
    "        # Projection step to ensure non-negativity of prices\n",
    "        for key in prices:\n",
    "            prices[key] = max(prices[key], 0)\n",
    "\n",
    "        # Check stopping criterion\n",
    "        if max(abs(gradient) for gradient in gradients.values()) < stopping_criterion:\n",
    "            break\n",
    "\n",
    "    # Print optimal prices\n",
    "    print(\"Optimal prices (Projected Gradient Descent):\")\n",
    "    for key, value in prices.items():\n",
    "        print(f\"{key}: {value}\")\n",
    "\n",
    "# Helper function to compute gradients\n",
    "def compute_gradients(prices, coefficients):\n",
    "    gradients = {}\n",
    "    for key in prices:\n",
    "        p = prices[key]\n",
    "        gradients[key] = -2 * coefficients[key][1] * p + coefficients[key][0]\n",
    "    return gradients"
   ]
  },
  {
   "cell_type": "markdown",
   "metadata": {},
   "source": [
    "### (c)\n",
    "\n",
    "Now consider all three product lines and the three versions within each product line. Assuming\n",
    "that the Basic, Advanced, and Premium versions of the product should be increasing in price\n",
    "within each product line, formulate and solve a quadratic optimization problem in Gurobi. What\n",
    "is the optimal revenue suggested by the model?"
   ]
  },
  {
   "cell_type": "markdown",
   "metadata": {},
   "source": [
    "### (d) \n",
    "\n",
    "Considering that prices should increase (i) within each product line (Basic, Advanced, Pre-\n",
    "mium), and (ii) within the same version (e.g., a FusionBook Elite should be more expensive\n",
    "\n",
    "than an InfiniteEdge Notebook which should be more expensive than an EvoTech Pro), modify\n",
    "the previous quadratic optimization problem by adding new constraints to ensure this logic is\n",
    "captured in the model. What is the optimal revenue TechEssentials can anticipate now?"
   ]
  },
  {
   "cell_type": "code",
   "execution_count": 34,
   "metadata": {},
   "outputs": [],
   "source": [
    "# (c) and (d) Optimal prices for all product lines and versions\n",
    "def optimal_prices_all(coefficients):\n",
    "    model = gp.Model(\"Optimal_Prices_All\")\n",
    "\n",
    "    # Variables\n",
    "    prices = {(p, v): model.addVar(lb=0, vtype=GRB.CONTINUOUS, name=f\"price_{p}_{v}\") for p in product_lines for v in versions}\n",
    "\n",
    "    # Objective function\n",
    "    model.setObjective(gp.quicksum(prices[p, v] * (coefficients[p, v][0] - coefficients[p, v][1] * prices[p, v]) for p in product_lines for v in versions), sense=GRB.MAXIMIZE)\n",
    "\n",
    "    # Constraints\n",
    "    for p in product_lines:\n",
    "        for i in range(len(versions) - 1):\n",
    "            model.addConstr(prices[p, versions[i]] <= prices[p, versions[i + 1]])\n",
    "\n",
    "    for i in range(len(product_lines) - 1):\n",
    "        for v in versions:\n",
    "            model.addConstr(prices[product_lines[i], v] <= prices[product_lines[i + 1], v])\n",
    "\n",
    "    # Solve\n",
    "    model.optimize()\n",
    "\n",
    "    # Print results\n",
    "    print(\"Optimal prices for all product lines and versions:\")\n",
    "    for p in product_lines:\n",
    "        for v in versions:\n",
    "            print(f\"{p} - {v}: {prices[p, v].X}\")"
   ]
  },
  {
   "cell_type": "code",
   "execution_count": 31,
   "metadata": {},
   "outputs": [
    {
     "name": "stdout",
     "output_type": "stream",
     "text": [
      "Keys in the coefficients dictionary: dict_keys([('Line', 'Product 1'), ('Line', 'Product 2'), ('Line', 'Product 3')])\n"
     ]
    }
   ],
   "source": [
    "print(\"Keys in the coefficients dictionary:\", coefficients.keys())\n"
   ]
  },
  {
   "cell_type": "code",
   "execution_count": 35,
   "metadata": {},
   "outputs": [
    {
     "name": "stdout",
     "output_type": "stream",
     "text": [
      "Optimal prices for EvoTech Pro Series Basic and Advanced versions:\n",
      "Basic: -8138.453042277662\n",
      "Advanced: -4498.417684502101\n"
     ]
    }
   ],
   "source": [
    "# Example usage\n",
    "optimal_prices_evotech(coefficients)\n",
    "projected_gradient_descent(coefficients)\n",
    "optimal_prices_all(coefficients)"
   ]
  },
  {
   "cell_type": "markdown",
   "metadata": {},
   "source": [
    "### (e) \n",
    "\n",
    "What set of prices, from (c) or (d), do you think makes the most sense to implement in practice?"
   ]
  },
  {
   "cell_type": "markdown",
   "metadata": {},
   "source": [
    "### (f) \n",
    "\n",
    "Do you believe something is missing such that the model does not faithfully represent reality."
   ]
  }
 ],
 "metadata": {
  "kernelspec": {
   "display_name": "Python 3",
   "language": "python",
   "name": "python3"
  },
  "language_info": {
   "codemirror_mode": {
    "name": "ipython",
    "version": 3
   },
   "file_extension": ".py",
   "mimetype": "text/x-python",
   "name": "python",
   "nbconvert_exporter": "python",
   "pygments_lexer": "ipython3",
   "version": "3.12.0"
  }
 },
 "nbformat": 4,
 "nbformat_minor": 2
}
