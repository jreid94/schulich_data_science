{
 "cells": [
  {
   "cell_type": "markdown",
   "metadata": {},
   "source": [
    "### Import Necessary Packages"
   ]
  },
  {
   "cell_type": "code",
   "execution_count": 120,
   "metadata": {},
   "outputs": [],
   "source": [
    "import pandas as pd\n",
    "import gurobipy as gp\n",
    "from gurobipy import GRB"
   ]
  },
  {
   "cell_type": "markdown",
   "metadata": {},
   "source": [
    "### Import Basketball Players Data"
   ]
  },
  {
   "cell_type": "code",
   "execution_count": 121,
   "metadata": {},
   "outputs": [],
   "source": [
    "# Read the data from CSV file\n",
    "data = pd.read_csv(r\"C:\\Users\\johns\\OneDrive\\Desktop\\MBAN Semester 3\\OMIS 6000 - Models & Applications in Operational Research\\Assignment 2 Files\\BasketballPlayers.csv\")"
   ]
  },
  {
   "cell_type": "markdown",
   "metadata": {},
   "source": [
    "### Extract Relevant Information"
   ]
  },
  {
   "cell_type": "code",
   "execution_count": 122,
   "metadata": {},
   "outputs": [],
   "source": [
    "# Extract relevant information\n",
    "num_players = len(data)\n",
    "players = range(num_players)\n",
    "positions = data['Position']\n",
    "skill_score = skill_scores = data.iloc[:, 2:].sum(axis=1).tolist()"
   ]
  },
  {
   "cell_type": "code",
   "execution_count": 123,
   "metadata": {},
   "outputs": [
    {
     "name": "stdout",
     "output_type": "stream",
     "text": [
      "150\n",
      "range(0, 150)\n",
      "0    G/F\n",
      "1    G/F\n",
      "2    G/F\n",
      "3    G/F\n",
      "4    F/C\n",
      "Name: Position, dtype: object\n",
      "[12, 13, 13, 13, 17]\n"
     ]
    }
   ],
   "source": [
    "print(num_players)\n",
    "print(players)\n",
    "print(positions[:5])\n",
    "print(skill_score[:5])"
   ]
  },
  {
   "cell_type": "markdown",
   "metadata": {},
   "source": [
    "### Create model"
   ]
  },
  {
   "cell_type": "code",
   "execution_count": 124,
   "metadata": {},
   "outputs": [],
   "source": [
    "model = gp.Model(\"BasketballTrainingCamp\")"
   ]
  },
  {
   "cell_type": "markdown",
   "metadata": {},
   "source": [
    "### Decision Varibles"
   ]
  },
  {
   "cell_type": "code",
   "execution_count": 125,
   "metadata": {},
   "outputs": [],
   "source": [
    "x = model.addVars(players, vtype=GRB.BINARY, name=\"invite\")"
   ]
  },
  {
   "cell_type": "markdown",
   "metadata": {},
   "source": [
    "### Objective Function"
   ]
  },
  {
   "cell_type": "code",
   "execution_count": 126,
   "metadata": {},
   "outputs": [],
   "source": [
    "model.setObjective(gp.quicksum(skill_scores[i] * x[i] for i in players), GRB.MAXIMIZE)"
   ]
  },
  {
   "cell_type": "markdown",
   "metadata": {},
   "source": [
    "### Constraints"
   ]
  },
  {
   "cell_type": "code",
   "execution_count": 127,
   "metadata": {},
   "outputs": [
    {
     "data": {
      "text/plain": [
       "<gurobi.Constr *Awaiting Model Update*>"
      ]
     },
     "execution_count": 127,
     "metadata": {},
     "output_type": "execute_result"
    }
   ],
   "source": [
    "# Constraint to limit the total number of invitations to 21\n",
    "model.addConstr(gp.quicksum(x[i] for i in players) == 21, \"TotalInvitations\")"
   ]
  },
  {
   "cell_type": "code",
   "execution_count": 128,
   "metadata": {},
   "outputs": [
    {
     "data": {
      "text/plain": [
       "<gurobi.Constr *Awaiting Model Update*>"
      ]
     },
     "execution_count": 128,
     "metadata": {},
     "output_type": "execute_result"
    }
   ],
   "source": [
    "# At least 30% of the invitations should go to guard players\n",
    "guard_players = [i for i, pos in enumerate(positions) if 'G' in pos]\n",
    "model.addConstr(gp.quicksum(x[i] for i in guard_players) >= 0.3 * num_players, \"GuardPlayers\")"
   ]
  },
  {
   "cell_type": "code",
   "execution_count": 129,
   "metadata": {},
   "outputs": [
    {
     "data": {
      "text/plain": [
       "<gurobi.Constr *Awaiting Model Update*>"
      ]
     },
     "execution_count": 129,
     "metadata": {},
     "output_type": "execute_result"
    }
   ],
   "source": [
    "# At least 40% should go to forward/center players\n",
    "forward_center_players = [i for i, pos in enumerate(positions) if 'F' in pos or 'C' in pos]\n",
    "model.addConstr(gp.quicksum(x[i] for i in forward_center_players) >= 0.4 * num_players, \"ForwardCenterPlayers\")"
   ]
  },
  {
   "cell_type": "code",
   "execution_count": 130,
   "metadata": {},
   "outputs": [
    {
     "data": {
      "text/plain": [
       "<gurobi.Constr *Awaiting Model Update*>"
      ]
     },
     "execution_count": 130,
     "metadata": {},
     "output_type": "execute_result"
    }
   ],
   "source": [
    "# Average skill score constraint for each skill\n",
    "average_skill_score = sum(skill_scores) / num_players\n",
    "model.addConstr(gp.quicksum(skill_scores[i] * x[i] for i in players) >= 2.05 * num_players, f\"AverageSkillScore\")"
   ]
  },
  {
   "cell_type": "code",
   "execution_count": 131,
   "metadata": {},
   "outputs": [],
   "source": [
    "# If any player from 20-24 (inclusive) is invited, then all players from 72-78 (inclusive) cannot be invited\n",
    "for i in range(20, 25):\n",
    "    model.addConstr(gp.quicksum(x[j] for j in range(72, 79)) <= 6 - x[i-1], f\"ExcludeIf20to24Invited_{i}\")"
   ]
  },
  {
   "cell_type": "code",
   "execution_count": 132,
   "metadata": {},
   "outputs": [
    {
     "data": {
      "text/plain": [
       "<gurobi.Constr *Awaiting Model Update*>"
      ]
     },
     "execution_count": 132,
     "metadata": {},
     "output_type": "execute_result"
    }
   ],
   "source": [
    "# If player from 105-114 is invited, at least one player from 45-49 and 65-69 must be invited\n",
    "model.addConstr(gp.quicksum(x[i] for i in range(105, 115)) <= gp.quicksum(x[i] for i in range(44, 50)) + gp.quicksum(x[i] for i in range(64, 70)), \"ConditionalInvitations\")"
   ]
  },
  {
   "cell_type": "code",
   "execution_count": 133,
   "metadata": {},
   "outputs": [],
   "source": [
    "# At least one player must be invited from each group (1-10, 11-20, ..., 141-150)\n",
    "group_indices = [(i, min(i + 9, 150)) for i in range(1, 142, 10)]\n",
    "for group in group_indices:\n",
    "    model.addConstr(gp.quicksum(x[i] for i in range(group[0]-1, group[1])) >= 1, f\"AtLeastOneFromGroup_{group[0]}_{group[1]}\")"
   ]
  },
  {
   "cell_type": "code",
   "execution_count": 134,
   "metadata": {},
   "outputs": [
    {
     "name": "stdout",
     "output_type": "stream",
     "text": [
      "Gurobi Optimizer version 11.0.0 build v11.0.0rc2 (win64 - Windows 11.0 (22621.2))\n",
      "\n",
      "CPU model: 13th Gen Intel(R) Core(TM) i7-13700H, instruction set [SSE2|AVX|AVX2]\n",
      "Thread count: 14 physical cores, 20 logical processors, using up to 20 threads\n",
      "\n",
      "Optimize a model with 25 rows, 150 columns and 692 nonzeros\n",
      "Model fingerprint: 0x8615323c\n",
      "Variable types: 0 continuous, 150 integer (150 binary)\n",
      "Coefficient statistics:\n",
      "  Matrix range     [1e+00, 2e+01]\n",
      "  Objective range  [9e+00, 2e+01]\n",
      "  Bounds range     [1e+00, 1e+00]\n",
      "  RHS range        [1e+00, 3e+02]\n",
      "Presolve removed 0 rows and 22 columns\n",
      "Presolve time: 0.00s\n",
      "\n",
      "Explored 0 nodes (0 simplex iterations) in 0.00 seconds (0.00 work units)\n",
      "Thread count was 1 (of 20 available processors)\n",
      "\n",
      "Solution count 0\n",
      "No other solutions better than -1e+100\n",
      "\n",
      "Model is infeasible\n",
      "Best objective -, best bound -, gap -\n"
     ]
    }
   ],
   "source": [
    "# Optimize the model\n",
    "model.optimize()"
   ]
  },
  {
   "cell_type": "code",
   "execution_count": 137,
   "metadata": {},
   "outputs": [
    {
     "name": "stdout",
     "output_type": "stream",
     "text": [
      "Optimal solution not found. Please check your model and constraints.\n"
     ]
    }
   ],
   "source": [
    "# Print the optimal objective function value\n",
    "if model.status == GRB.OPTIMAL:\n",
    "    print(f\"Optimal objective function value: {model.objVal}\")\n",
    "\n",
    "    # Count the number of guards invited\n",
    "    num_guards_invited = sum(x[i].x for i in guard_players)\n",
    "    print(f\"Number of guards invited: {num_guards_invited}\")\n",
    "\n",
    "    # Print the list of invited players\n",
    "    print(\"Invited players:\")\n",
    "    for i in players:\n",
    "        if x[i].x > 0.5:\n",
    "            print(f\"Player {i+1} with skill scores {skill_scores[i]}\")\n",
    "else:\n",
    "    print(\"Optimal solution not found. Please check your model and constraints.\")"
   ]
  },
  {
   "cell_type": "markdown",
   "metadata": {},
   "source": [
    "### (a) What types of decision variables are needed to solve the problem?\n",
    "\n",
    "Binary Decision Variables are required to represent whether a player is invited to the training camp or not"
   ]
  },
  {
   "cell_type": "markdown",
   "metadata": {},
   "source": [
    "### (b) How many decision variables must be included in the model?\n",
    "\n",
    "150 Decision Variables will be used, one to represent each player"
   ]
  },
  {
   "cell_type": "markdown",
   "metadata": {},
   "source": [
    "### (c) What is the objective function? Defend why this is an appropriate choice.\n",
    "\n",
    "The Objective Function will attempt to maximize the skill level of the invited players. \n",
    "\n",
    "This is an appropriate choice as the goal of the model is to select 21 players that have the highest skill rating among the 150 options."
   ]
  },
  {
   "cell_type": "markdown",
   "metadata": {},
   "source": [
    "### (d) Write down the following constraint in mathematical notation but only for player 72: If any player from 20-24 (inclusive) is invited, all players from 72-78 (inclusive) cannot be.\n",
    "\n",
    "X20 + X21 + X22 + X23 + X24 <= 4 - 4X72"
   ]
  },
  {
   "cell_type": "markdown",
   "metadata": {},
   "source": [
    "### (e) Write down the following constraint in mathematical notation: At least 30% of the invitations should go to players that can play the guard position (G, G/F).\n",
    "\n",
    "∑i∈G xi ≥ 0.3×150"
   ]
  },
  {
   "cell_type": "markdown",
   "metadata": {},
   "source": [
    "### (f) What is the optimal objective function value?"
   ]
  },
  {
   "cell_type": "markdown",
   "metadata": {},
   "source": [
    "### (g) How many guards (G, G/F) are invited to the training camp?"
   ]
  },
  {
   "cell_type": "markdown",
   "metadata": {},
   "source": [
    "### (h) What is the smallest number of training camp invitations that can be sent before the model yields an infeasible solution? What constraint(s) cannot be satisfied?"
   ]
  },
  {
   "cell_type": "markdown",
   "metadata": {},
   "source": [
    "### (i) Describe (do not implement) the challenge of modifying your solution approach to ensure that players with a total score of 12 or under would not be invited to training camp."
   ]
  },
  {
   "cell_type": "markdown",
   "metadata": {},
   "source": [
    "### (j) What do you perceive as a problem with Victor’s approach of choosing participants?"
   ]
  }
 ],
 "metadata": {
  "kernelspec": {
   "display_name": "Python 3",
   "language": "python",
   "name": "python3"
  },
  "language_info": {
   "codemirror_mode": {
    "name": "ipython",
    "version": 3
   },
   "file_extension": ".py",
   "mimetype": "text/x-python",
   "name": "python",
   "nbconvert_exporter": "python",
   "pygments_lexer": "ipython3",
   "version": "3.12.0"
  }
 },
 "nbformat": 4,
 "nbformat_minor": 2
}
