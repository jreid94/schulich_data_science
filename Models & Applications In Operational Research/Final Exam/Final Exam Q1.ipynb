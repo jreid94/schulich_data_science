{
 "cells": [
  {
   "cell_type": "code",
   "execution_count": 150,
   "metadata": {},
   "outputs": [],
   "source": [
    "import pandas as pd\n",
    "import numpy as np\n",
    "from gurobipy import Model, GRB, quicksum\n",
    "import gurobipy as gb"
   ]
  },
  {
   "cell_type": "code",
   "execution_count": 151,
   "metadata": {},
   "outputs": [],
   "source": [
    "demand = pd.read_csv(r\"C:\\Users\\johns\\OneDrive\\Desktop\\MBAN Semester 3\\OMIS 6000 - Models & Applications in Operational Research\\Final Exam\\ecogreen_energy_demand.csv\")\n",
    "supply = pd.read_csv(r\"C:\\Users\\johns\\OneDrive\\Desktop\\MBAN Semester 3\\OMIS 6000 - Models & Applications in Operational Research\\Final Exam\\ecogreen_energy_supply.csv\")"
   ]
  },
  {
   "cell_type": "code",
   "execution_count": 152,
   "metadata": {},
   "outputs": [],
   "source": [
    "model = Model(\"EcoGreen Energy Expansion\")"
   ]
  },
  {
   "cell_type": "code",
   "execution_count": 153,
   "metadata": {},
   "outputs": [],
   "source": [
    "plants = [i for i in range(supply.shape[0])]\n",
    "provinces = [j for j in range(demand.shape[0])]"
   ]
  },
  {
   "cell_type": "code",
   "execution_count": 154,
   "metadata": {},
   "outputs": [],
   "source": [
    "x = model.addVars(plants, vtype=GRB.BINARY, name=\"Plant\")\n",
    "y = model.addVars(plants, provinces, vtype=GRB.CONTINUOUS, name=\"Energy_Supplied\")"
   ]
  },
  {
   "cell_type": "code",
   "execution_count": 155,
   "metadata": {},
   "outputs": [],
   "source": [
    "fixed_cost = gb.quicksum(supply.loc[i, \"Fixed\"] * x[i] for i in supply.index)\n",
    "variable_cost = gb.quicksum(supply.loc[i, f\"Province {j+1}\"] * y[i, j] for i in supply.index for j in range(10))"
   ]
  },
  {
   "cell_type": "code",
   "execution_count": 156,
   "metadata": {},
   "outputs": [],
   "source": [
    "model.setObjective(fixed_cost + variable_cost, GRB.MINIMIZE)"
   ]
  },
  {
   "cell_type": "code",
   "execution_count": 157,
   "metadata": {},
   "outputs": [
    {
     "data": {
      "text/plain": [
       "<gurobi.Constr *Awaiting Model Update*>"
      ]
     },
     "execution_count": 157,
     "metadata": {},
     "output_type": "execute_result"
    }
   ],
   "source": [
    "# Constraints\n",
    "\n",
    "# Capacity Constraints\n",
    "for i in plants:\n",
    "    model.addConstr(quicksum(y[i, j] for j in provinces) <= supply.loc[i, \"Capacity\"] * x[i], name=f\"Capacity_Plant_{i+1}\")\n",
    "\n",
    "# Demand Satisfaction Constraints\n",
    "for j in provinces:\n",
    "    model.addConstr(quicksum(y[i, j] for i in plants) == demand.loc[j, \"Demand\"], name=f\"Demand_Province_{j+1}\")\n",
    "\n",
    "# Exclusive site choices\n",
    "model.addConstr(x[9] + x[14] + x[19] <= 1, \"MutualExclusion_10_15_20\")\n",
    "\n",
    "# Conditional site openings\n",
    "model.addConstr(x[2] <= x[3], \"Link_3_4\")\n",
    "model.addConstr(x[2] <= x[4], \"Link_3_5\")\n",
    "model.addConstr(x[4] <= x[7] + x[8], \"Dependency_5_8_9\")\n",
    "\n",
    "# Region A & B Ratio\n",
    "model.addConstr(quicksum(x[i] for i in range(10)) <= 2 * quicksum(x[i] for i in range(10, 20)), \"Region_Ratio\")\n",
    "\n",
    "# Minimum output from sites 1-5\n",
    "min_output_sites_1_5 = quicksum(y[i, j] for i in range(5) for j in provinces)\n",
    "total_output_all_sites = quicksum(y[i, j] for i in plants for j in provinces)\n",
    "model.addConstr(min_output_sites_1_5 >= 0.3 * total_output_all_sites, \"Min_Output_1_5\")\n",
    "\n",
    "# Maximum energy contribution constraint for each plant to each province\n",
    "#for j in provinces:\n",
    "#    for i in plants:\n",
    "#        model.addConstr(y[i, j] <= 0.5 * demand.loc[j, \"Demand\"], f\"Max_Contribution_Plant_{i+1}_Province_{j+1}\")"
   ]
  },
  {
   "cell_type": "code",
   "execution_count": 158,
   "metadata": {},
   "outputs": [
    {
     "name": "stdout",
     "output_type": "stream",
     "text": [
      "Gurobi Optimizer version 11.0.0 build v11.0.0rc2 (win64 - Windows 11+.0 (22631.2))\n",
      "\n",
      "CPU model: 13th Gen Intel(R) Core(TM) i7-13700H, instruction set [SSE2|AVX|AVX2]\n",
      "Thread count: 14 physical cores, 20 logical processors, using up to 20 threads\n",
      "\n",
      "Optimize a model with 36 rows, 220 columns and 650 nonzeros\n",
      "Model fingerprint: 0xfad78706\n",
      "Variable types: 200 continuous, 20 integer (20 binary)\n",
      "Coefficient statistics:\n",
      "  Matrix range     [3e-01, 2e+05]\n",
      "  Objective range  [2e-01, 3e+07]\n",
      "  Bounds range     [1e+00, 1e+00]\n",
      "  RHS range        [1e+00, 2e+05]\n",
      "Found heuristic solution: objective 2.879195e+08\n",
      "Presolve time: 0.00s\n",
      "Presolved: 36 rows, 220 columns, 500 nonzeros\n",
      "Variable types: 200 continuous, 20 integer (20 binary)\n",
      "\n",
      "Root relaxation: objective 1.685643e+08, 66 iterations, 0.00 seconds (0.00 work units)\n",
      "\n",
      "    Nodes    |    Current Node    |     Objective Bounds      |     Work\n",
      " Expl Unexpl |  Obj  Depth IntInf | Incumbent    BestBd   Gap | It/Node Time\n",
      "\n",
      "     0     0 1.6856e+08    0    4 2.8792e+08 1.6856e+08  41.5%     -    0s\n",
      "H    0     0                    2.043695e+08 1.6856e+08  17.5%     -    0s\n",
      "H    0     0                    2.043663e+08 1.6856e+08  17.5%     -    0s\n",
      "H    0     0                    1.999962e+08 1.6856e+08  15.7%     -    0s\n",
      "     0     0 1.8519e+08    0    1 2.0000e+08 1.8519e+08  7.40%     -    0s\n",
      "H    0     0                    1.988870e+08 1.8519e+08  6.89%     -    0s\n",
      "H    0     0                    1.975155e+08 1.8519e+08  6.24%     -    0s\n",
      "     0     0 1.8732e+08    0    1 1.9752e+08 1.8732e+08  5.16%     -    0s\n",
      "     0     0 1.9175e+08    0    1 1.9752e+08 1.9175e+08  2.92%     -    0s\n",
      "H    0     0                    1.929807e+08 1.9200e+08  0.51%     -    0s\n",
      "     0     0 1.9225e+08    0    1 1.9298e+08 1.9225e+08  0.38%     -    0s\n",
      "     0     0 1.9225e+08    0    1 1.9298e+08 1.9225e+08  0.38%     -    0s\n",
      "\n",
      "Cutting planes:\n",
      "  Cover: 1\n",
      "  Implied bound: 1\n",
      "  MIR: 2\n",
      "  Flow cover: 1\n",
      "\n",
      "Explored 1 nodes (114 simplex iterations) in 0.02 seconds (0.00 work units)\n",
      "Thread count was 20 (of 20 available processors)\n",
      "\n",
      "Solution count 6: 1.92981e+08 1.97515e+08 1.98887e+08 ... 2.87919e+08\n",
      "\n",
      "Optimal solution found (tolerance 1.00e-04)\n",
      "Best objective 1.929806628948e+08, best bound 1.929794024351e+08, gap 0.0007%\n"
     ]
    }
   ],
   "source": [
    "# Solve the model\n",
    "model.optimize()"
   ]
  },
  {
   "cell_type": "code",
   "execution_count": 159,
   "metadata": {},
   "outputs": [
    {
     "name": "stdout",
     "output_type": "stream",
     "text": [
      "Optimal cost: 192980662.89\n",
      "Plants that will be opened:\n",
      "Plant 1\n",
      "Plant 2\n",
      "Plant 3\n",
      "Plant 4\n",
      "Plant 5\n",
      "Plant 7\n",
      "Plant 8\n",
      "Plant 11\n",
      "Plant 15\n",
      "Plant 16\n",
      "Plant 17\n"
     ]
    }
   ],
   "source": [
    "if model.status == GRB.OPTIMAL:\n",
    "    print(f'Optimal cost: {model.ObjVal:.2f}')\n",
    "    print(\"Plants that will be opened:\")\n",
    "    for i in plants:\n",
    "        if x[i].X > 0.5:\n",
    "            print(f\"Plant {i+1}\")\n",
    "else:\n",
    "    print(\"No optimal solution found.\")"
   ]
  },
  {
   "cell_type": "code",
   "execution_count": 160,
   "metadata": {},
   "outputs": [
    {
     "name": "stdout",
     "output_type": "stream",
     "text": [
      "\n",
      "Energy Supplied (GWh):\n",
      "Plant 1 to Province 4: 125260.00\n",
      "Plant 2 to Province 1: 134211.00\n",
      "Plant 2 to Province 3: 881.00\n",
      "Plant 3 to Province 7: 67681.00\n",
      "Plant 3 to Province 9: 1486.00\n",
      "Plant 4 to Province 6: 57834.00\n",
      "Plant 5 to Province 3: 79513.00\n",
      "Plant 7 to Province 3: 45112.00\n",
      "Plant 7 to Province 9: 94870.00\n",
      "Plant 8 to Province 7: 57981.00\n",
      "Plant 11 to Province 2: 19264.00\n",
      "Plant 11 to Province 7: 2043.00\n",
      "Plant 11 to Province 8: 171393.00\n",
      "Plant 15 to Province 4: 37883.00\n",
      "Plant 15 to Province 5: 116190.00\n",
      "Plant 16 to Province 9: 63684.00\n",
      "Plant 16 to Province 10: 114109.00\n",
      "Plant 17 to Province 2: 109494.00\n",
      "Plant 17 to Province 6: 80415.00\n"
     ]
    }
   ],
   "source": [
    "# Print Energy Supplied (y_ij)\n",
    "print(\"\\nEnergy Supplied (GWh):\")\n",
    "for i in supply.index:\n",
    "    for j in demand.index:\n",
    "        if y[i, j].x > 0:  # Check if energy is supplied\n",
    "            print(f\"Plant {i+1} to Province {j+1}: {y[i, j].x:.2f}\")"
   ]
  }
 ],
 "metadata": {
  "kernelspec": {
   "display_name": "Python 3",
   "language": "python",
   "name": "python3"
  },
  "language_info": {
   "codemirror_mode": {
    "name": "ipython",
    "version": 3
   },
   "file_extension": ".py",
   "mimetype": "text/x-python",
   "name": "python",
   "nbconvert_exporter": "python",
   "pygments_lexer": "ipython3",
   "version": "3.12.0"
  }
 },
 "nbformat": 4,
 "nbformat_minor": 2
}
