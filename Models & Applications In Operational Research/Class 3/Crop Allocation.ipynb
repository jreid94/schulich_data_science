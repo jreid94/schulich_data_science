{
 "cells": [
  {
   "cell_type": "code",
   "execution_count": 2,
   "metadata": {},
   "outputs": [],
   "source": [
    "from gurobipy import GRB\n",
    "import gurobipy as gb"
   ]
  },
  {
   "cell_type": "code",
   "execution_count": 3,
   "metadata": {},
   "outputs": [],
   "source": [
    "# The parameters\n",
    "oat_yield = 4.25\n",
    "maize_yield = 3.0\n",
    "soybean_yield = 20.0"
   ]
  },
  {
   "cell_type": "code",
   "execution_count": 4,
   "metadata": {},
   "outputs": [],
   "source": [
    "# Number of options\n",
    "CROPS = 3\n",
    "PURCHASED = 2\n",
    "SOLD = 4"
   ]
  },
  {
   "cell_type": "code",
   "execution_count": 5,
   "metadata": {},
   "outputs": [],
   "source": [
    "# Selling prices\n",
    "sell = [220, 260, 55, 26]\n",
    "purchase = [264, 312]"
   ]
  },
  {
   "cell_type": "code",
   "execution_count": 6,
   "metadata": {},
   "outputs": [
    {
     "name": "stdout",
     "output_type": "stream",
     "text": [
      "Restricted license - for non-production use only - expires 2025-11-24\n"
     ]
    }
   ],
   "source": [
    "# Create a new optimization model to maximize profit\n",
    "model = gb.Model(\"Farming Problem\")"
   ]
  },
  {
   "cell_type": "code",
   "execution_count": 7,
   "metadata": {},
   "outputs": [],
   "source": [
    "# Construct the decision variables.\n",
    "x = model.addVars(3, lb=0, vtype=GRB.CONTINUOUS, name=\"Crops\")\n",
    "w = model.addVars(4, lb=0, vtype=GRB.CONTINUOUS, name=\"Sold\")\n",
    "y = model.addVars(2, lb=0, vtype=GRB.CONTINUOUS, name=\"Purchased\")"
   ]
  },
  {
   "cell_type": "code",
   "execution_count": 8,
   "metadata": {},
   "outputs": [],
   "source": [
    "# Objective Function\n",
    "model.setObjective(gb.quicksum(w[i]*sell[i] for i in range(SOLD)) - gb.quicksum(y[i]*purchase[i] for i in range(PURCHASED)), GRB.MAXIMIZE)"
   ]
  },
  {
   "cell_type": "code",
   "execution_count": 9,
   "metadata": {},
   "outputs": [],
   "source": [
    "# Land capacity constraints \n",
    "land_constraint = model.addConstr(x[0] + x[1] + x[2] <= 500, \"Land Capacity\")\n",
    "\n",
    "# Cattle feed constraints (oats)\n",
    "cattle_constraint = model.addConstr(oat_yield*x[0] + y[0] - w[0] >= 200, \"Oats\")\n",
    "\n",
    "# Cattle feed constraints (Maize)\n",
    "oat_constraint = model.addConstr(maize_yield*x[1] + y[1] - w[1] >= 260, \"Oats\")\n",
    "\n",
    "# Quota constraints (Soybean)\n",
    "model.addConstr(w[2] <= 7000, \"Quota\")\n",
    "soy_constraint = model.addConstr(w[2] + w[3] == soybean_yield*x[2], \"Soybean\")"
   ]
  },
  {
   "cell_type": "code",
   "execution_count": 10,
   "metadata": {},
   "outputs": [
    {
     "name": "stdout",
     "output_type": "stream",
     "text": [
      "Gurobi Optimizer version 11.0.0 build v11.0.0rc2 (win64 - Windows 11.0 (22621.2))\n",
      "\n",
      "CPU model: 13th Gen Intel(R) Core(TM) i7-13700H, instruction set [SSE2|AVX|AVX2]\n",
      "Thread count: 14 physical cores, 20 logical processors, using up to 20 threads\n",
      "\n",
      "Optimize a model with 5 rows, 9 columns and 13 nonzeros\n",
      "Model fingerprint: 0x34930c79\n",
      "Coefficient statistics:\n",
      "  Matrix range     [1e+00, 2e+01]\n",
      "  Objective range  [3e+01, 3e+02]\n",
      "  Bounds range     [0e+00, 0e+00]\n",
      "  RHS range        [2e+02, 7e+03]\n",
      "Presolve removed 2 rows and 2 columns\n",
      "Presolve time: 0.01s\n",
      "Presolved: 3 rows, 7 columns, 9 nonzeros\n",
      "\n",
      "Iteration    Objective       Primal Inf.    Dual Inf.      Time\n",
      "       0    7.6800000e+33   2.000000e+30   7.680000e+03      0s\n",
      "       4    4.0021667e+05   0.000000e+00   0.000000e+00      0s\n",
      "\n",
      "Solved in 4 iterations and 0.01 seconds (0.00 work units)\n",
      "Optimal objective  4.002166667e+05\n"
     ]
    }
   ],
   "source": [
    "# Solve our model\n",
    "model.optimize()"
   ]
  },
  {
   "cell_type": "code",
   "execution_count": 11,
   "metadata": {},
   "outputs": [
    {
     "name": "stdout",
     "output_type": "stream",
     "text": [
      "The optimal solution:  400216.6666666667\n"
     ]
    }
   ],
   "source": [
    "# Append the objective function value\n",
    "print(\"The optimal solution: \", model.objVal)"
   ]
  },
  {
   "cell_type": "code",
   "execution_count": 12,
   "metadata": {},
   "outputs": [
    {
     "name": "stdout",
     "output_type": "stream",
     "text": [
      "Optimal Amount Sold:\n",
      "Oats = (69.16666666666669, 0.0, 220, 220.23529411764707, 183.5294117647059)\n",
      "Maize = (0.0, -51.66666666666663, 260, 311.66666666666663, -inf)\n",
      "Soybean = (7000.0, 0.0, 55, inf, 46.75)\n",
      "Soybean = (0.0, -20.75, 26, 46.75, -inf)\n"
     ]
    }
   ],
   "source": [
    "# Check if the optimization was successful\n",
    "if model.status == gb.GRB.OPTIMAL:\n",
    "    # Print the sensitivity analysis for the amount sold\n",
    "    print(\"Optimal Amount Sold:\")\n",
    "    print(f\"{'Oats'} = {w[0].x, w[0].RC, sell[0], w[0].SAObjUp, w[0].SAObjLow}\")\n",
    "    print(f\"{'Maize'} = {w[1].x, w[1].RC, sell[1], w[1].SAObjUp, w[1].SAObjLow}\")\n",
    "    print(f\"{'Soybean'} = {w[2].x, w[2].RC, sell[2], w[2].SAObjUp, w[2].SAObjLow}\")\n",
    "    print(f\"{'Soybean'} = {w[3].x, w[3].RC, sell[3], w[3].SAObjUp, w[3].SAObjLow}\")\n",
    "else:\n",
    "    print(\"Optimization was not successful.\")"
   ]
  },
  {
   "cell_type": "code",
   "execution_count": 13,
   "metadata": {},
   "outputs": [
    {
     "name": "stdout",
     "output_type": "stream",
     "text": [
      "\n",
      "Sensitivity Information for Land Capacity Constraint 935.00:\n",
      "(LHS, RHS, Slack):  (500.0, 500.0, 0.0)\n",
      "Shadow Price:  935.0\n",
      "Range of Feasibility:  (inf, 483.72549019607845)\n"
     ]
    }
   ],
   "source": [
    "# Print sensitivity information\n",
    "print(\"\")\n",
    "print(f\"Sensitivity Information for Land Capacity Constraint {land_constraint.pi:.2f}:\")\n",
    "print(\"(LHS, RHS, Slack): \", (model.getRow(land_constraint).getValue(), land_constraint.RHS, land_constraint.slack))\n",
    "print(\"Shadow Price: \", land_constraint.pi)\n",
    "print(\"Range of Feasibility: \", (land_constraint.SARHSUp, land_constraint.SARHSLow))"
   ]
  }
 ],
 "metadata": {
  "kernelspec": {
   "display_name": "Python 3",
   "language": "python",
   "name": "python3"
  },
  "language_info": {
   "codemirror_mode": {
    "name": "ipython",
    "version": 3
   },
   "file_extension": ".py",
   "mimetype": "text/x-python",
   "name": "python",
   "nbconvert_exporter": "python",
   "pygments_lexer": "ipython3",
   "version": "3.12.0"
  }
 },
 "nbformat": 4,
 "nbformat_minor": 2
}
