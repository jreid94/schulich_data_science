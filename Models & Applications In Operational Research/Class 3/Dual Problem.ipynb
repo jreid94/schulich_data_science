{
 "cells": [
  {
   "cell_type": "code",
   "execution_count": 1,
   "metadata": {},
   "outputs": [],
   "source": [
    "import gurobipy as gb"
   ]
  },
  {
   "cell_type": "code",
   "execution_count": 2,
   "metadata": {},
   "outputs": [
    {
     "name": "stdout",
     "output_type": "stream",
     "text": [
      "Restricted license - for non-production use only - expires 2025-11-24\n"
     ]
    }
   ],
   "source": [
    "# Create a new optimization model for the dual problem\n",
    "model = gb.Model(\"Dual Problem\")"
   ]
  },
  {
   "cell_type": "code",
   "execution_count": 3,
   "metadata": {},
   "outputs": [],
   "source": [
    "# Dual variables\n",
    "y1 = model.addVar(lb=0, vtype=gb.GRB.CONTINUOUS, name=\"y1\")\n",
    "y2 = model.addVar(lb=0, vtype=gb.GRB.CONTINUOUS, name=\"y2\")\n",
    "y3 = model.addVar(lb=0, vtype=gb.GRB.CONTINUOUS, name=\"y3\")"
   ]
  },
  {
   "cell_type": "code",
   "execution_count": 4,
   "metadata": {},
   "outputs": [],
   "source": [
    "# Set the objective function to minimize\n",
    "model.setObjective(4*y1 + 13*y2 + 31*y3, gb.GRB.MINIMIZE)"
   ]
  },
  {
   "cell_type": "code",
   "execution_count": 5,
   "metadata": {},
   "outputs": [],
   "source": [
    "# Add constraints\n",
    "dual_constraint1 = model.addConstr(y1 + y2 + 5*y3 >= 5, \"Dual_Constraint1\")\n",
    "dual_constraint2 = model.addConstr(2*y2 + 3*y3 >= 4, \"Dual_Constraint2\")"
   ]
  },
  {
   "cell_type": "code",
   "execution_count": 6,
   "metadata": {},
   "outputs": [
    {
     "name": "stdout",
     "output_type": "stream",
     "text": [
      "Gurobi Optimizer version 11.0.0 build v11.0.0rc2 (win64 - Windows 11.0 (22621.2))\n",
      "\n",
      "CPU model: 13th Gen Intel(R) Core(TM) i7-13700H, instruction set [SSE2|AVX|AVX2]\n",
      "Thread count: 14 physical cores, 20 logical processors, using up to 20 threads\n",
      "\n",
      "Optimize a model with 2 rows, 3 columns and 5 nonzeros\n",
      "Model fingerprint: 0x5fb558cc\n",
      "Coefficient statistics:\n",
      "  Matrix range     [1e+00, 5e+00]\n",
      "  Objective range  [4e+00, 3e+01]\n",
      "  Bounds range     [0e+00, 0e+00]\n",
      "  RHS range        [4e+00, 5e+00]\n",
      "Presolve time: 0.00s\n",
      "Presolved: 2 rows, 3 columns, 5 nonzeros\n",
      "\n",
      "Iteration    Objective       Primal Inf.    Dual Inf.      Time\n",
      "       0    0.0000000e+00   1.625000e+00   0.000000e+00      0s\n",
      "       2    3.5857143e+01   0.000000e+00   0.000000e+00      0s\n",
      "\n",
      "Solved in 2 iterations and 0.01 seconds (0.00 work units)\n",
      "Optimal objective  3.585714286e+01\n"
     ]
    }
   ],
   "source": [
    "# Optimize the dual model\n",
    "model.optimize()"
   ]
  },
  {
   "cell_type": "code",
   "execution_count": 7,
   "metadata": {},
   "outputs": [
    {
     "name": "stdout",
     "output_type": "stream",
     "text": [
      "Optimal Dual Solution:\n",
      "y1 = 0.0\n",
      "y2 = 0.7142857142857144\n",
      "y3 = 0.8571428571428571\n",
      "Optimal Dual Objective Value:\n",
      "Dual z = 35.85714285714286\n",
      "Shadow Prices:  (3.2857142857142856, 4.857142857142858)\n"
     ]
    }
   ],
   "source": [
    "# Check if the optimization was successful\n",
    "if model.status == gb.GRB.OPTIMAL:\n",
    "    # Get the optimal solution and objective value for the dual problem\n",
    "    optimal_y1 = y1.x\n",
    "    optimal_y2 = y2.x\n",
    "    optimal_y3 = y3.x\n",
    "    optimal_dual_objective_value = model.objVal\n",
    "\n",
    "    # Print the results\n",
    "    print(\"Optimal Dual Solution:\")\n",
    "    print(f\"y1 = {optimal_y1}\")\n",
    "    print(f\"y2 = {optimal_y2}\")\n",
    "    print(f\"y3 = {optimal_y3}\")\n",
    "    print(\"Optimal Dual Objective Value:\")\n",
    "    print(f\"Dual z = {optimal_dual_objective_value}\")\n",
    "    \n",
    "    # These should equal the optimal solution to the primal problem\n",
    "    print(\"Shadow Prices: \", (dual_constraint1.pi, dual_constraint2.pi))\n",
    "else:\n",
    "    print(\"No feasible solution found for the dual problem.\")"
   ]
  }
 ],
 "metadata": {
  "kernelspec": {
   "display_name": "Python 3",
   "language": "python",
   "name": "python3"
  },
  "language_info": {
   "codemirror_mode": {
    "name": "ipython",
    "version": 3
   },
   "file_extension": ".py",
   "mimetype": "text/x-python",
   "name": "python",
   "nbconvert_exporter": "python",
   "pygments_lexer": "ipython3",
   "version": "3.12.0"
  }
 },
 "nbformat": 4,
 "nbformat_minor": 2
}
