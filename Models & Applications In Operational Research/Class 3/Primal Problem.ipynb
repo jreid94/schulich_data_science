{
 "cells": [
  {
   "cell_type": "code",
   "execution_count": 1,
   "metadata": {},
   "outputs": [],
   "source": [
    "import gurobipy as gb"
   ]
  },
  {
   "cell_type": "code",
   "execution_count": 2,
   "metadata": {},
   "outputs": [
    {
     "name": "stdout",
     "output_type": "stream",
     "text": [
      "Restricted license - for non-production use only - expires 2025-11-24\n"
     ]
    }
   ],
   "source": [
    "# Create a new optimization model\n",
    "model = gb.Model(\"Primal Problem\")"
   ]
  },
  {
   "cell_type": "code",
   "execution_count": 3,
   "metadata": {},
   "outputs": [],
   "source": [
    "# Decision variables\n",
    "x1 = model.addVar(lb=0, vtype=gb.GRB.CONTINUOUS, name=\"x1\")\n",
    "x2 = model.addVar(lb=0, vtype=gb.GRB.CONTINUOUS, name=\"x2\")"
   ]
  },
  {
   "cell_type": "code",
   "execution_count": 4,
   "metadata": {},
   "outputs": [],
   "source": [
    "# Set the objective function to maximize\n",
    "model.setObjective(5*x1 + 4*x2, gb.GRB.MAXIMIZE)"
   ]
  },
  {
   "cell_type": "code",
   "execution_count": 5,
   "metadata": {},
   "outputs": [],
   "source": [
    "# Add constraints\n",
    "constraint1 = model.addConstr(x1 <= 4, \"Constraint1\")\n",
    "constraint2 = model.addConstr(x1 + 2*x2 <= 13, \"Constraint2\")\n",
    "constraint3 = model.addConstr(5*x1 + 3*x2 <= 31, \"Constraint3\")"
   ]
  },
  {
   "cell_type": "code",
   "execution_count": 6,
   "metadata": {},
   "outputs": [
    {
     "name": "stdout",
     "output_type": "stream",
     "text": [
      "Gurobi Optimizer version 11.0.0 build v11.0.0rc2 (win64 - Windows 11.0 (22621.2))\n",
      "\n",
      "CPU model: 13th Gen Intel(R) Core(TM) i7-13700H, instruction set [SSE2|AVX|AVX2]\n",
      "Thread count: 14 physical cores, 20 logical processors, using up to 20 threads\n",
      "\n",
      "Optimize a model with 3 rows, 2 columns and 5 nonzeros\n",
      "Model fingerprint: 0x9e66d9f9\n",
      "Coefficient statistics:\n",
      "  Matrix range     [1e+00, 5e+00]\n",
      "  Objective range  [4e+00, 5e+00]\n",
      "  Bounds range     [0e+00, 0e+00]\n",
      "  RHS range        [4e+00, 3e+01]\n",
      "Presolve removed 1 rows and 0 columns\n",
      "Presolve time: 0.01s\n",
      "Presolved: 2 rows, 2 columns, 4 nonzeros\n",
      "\n",
      "Iteration    Objective       Primal Inf.    Dual Inf.      Time\n",
      "       0    6.5000000e+01   1.325000e+01   0.000000e+00      0s\n",
      "       2    3.5857143e+01   0.000000e+00   0.000000e+00      0s\n",
      "\n",
      "Solved in 2 iterations and 0.01 seconds (0.00 work units)\n",
      "Optimal objective  3.585714286e+01\n"
     ]
    }
   ],
   "source": [
    "# Optimize the model\n",
    "model.optimize()"
   ]
  },
  {
   "cell_type": "code",
   "execution_count": 7,
   "metadata": {},
   "outputs": [
    {
     "name": "stdout",
     "output_type": "stream",
     "text": [
      "Optimal Solution:\n",
      "x1 = 3.2857142857142856\n",
      "x2 = 4.857142857142858\n",
      "Optimal Objective Value:\n",
      "z = 35.85714285714286\n",
      "Shadow Prices:  (0.0, 0.7142857142857144, 0.8571428571428571)\n"
     ]
    }
   ],
   "source": [
    "# Check if the optimization was successful\n",
    "if model.status == gb.GRB.OPTIMAL:\n",
    "    # Get the optimal solution and objective value\n",
    "    optimal_x1 = x1.x\n",
    "    optimal_x2 = x2.x\n",
    "    optimal_objective_value = model.objVal\n",
    "\n",
    "    # Print the results\n",
    "    print(\"Optimal Solution:\")\n",
    "    print(f\"x1 = {optimal_x1}\")\n",
    "    print(f\"x2 = {optimal_x2}\")\n",
    "    print(\"Optimal Objective Value:\")\n",
    "    print(f\"z = {optimal_objective_value}\")\n",
    "    \n",
    "    # These should equal the optimal solution to the dual problem\n",
    "    print(\"Shadow Prices: \", (constraint1.pi, constraint2.pi, constraint3.pi))\n",
    "else:\n",
    "    print(\"No feasible solution found.\")"
   ]
  }
 ],
 "metadata": {
  "kernelspec": {
   "display_name": "Python 3",
   "language": "python",
   "name": "python3"
  },
  "language_info": {
   "codemirror_mode": {
    "name": "ipython",
    "version": 3
   },
   "file_extension": ".py",
   "mimetype": "text/x-python",
   "name": "python",
   "nbconvert_exporter": "python",
   "pygments_lexer": "ipython3",
   "version": "3.12.0"
  }
 },
 "nbformat": 4,
 "nbformat_minor": 2
}
