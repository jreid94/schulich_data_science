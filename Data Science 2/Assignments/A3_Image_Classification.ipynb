{
  "nbformat": 4,
  "nbformat_minor": 0,
  "metadata": {
    "colab": {
      "provenance": [],
      "gpuType": "T4"
    },
    "kernelspec": {
      "name": "python3",
      "display_name": "Python 3"
    },
    "language_info": {
      "name": "python"
    },
    "accelerator": "GPU"
  },
  "cells": [
    {
      "cell_type": "markdown",
      "source": [
        "# Assignment 3: Image Classification"
      ],
      "metadata": {
        "id": "5Nxe4h1yv_Yz"
      }
    },
    {
      "cell_type": "markdown",
      "source": [
        "### By: John Reid"
      ],
      "metadata": {
        "id": "3Xk8gC1qwCyj"
      }
    },
    {
      "cell_type": "markdown",
      "source": [
        "Import the required packages"
      ],
      "metadata": {
        "id": "qMJDMyoSv63O"
      }
    },
    {
      "cell_type": "code",
      "source": [
        "import tensorflow as tf\n",
        "import tensorflow_datasets as tfds\n",
        "from tensorflow.keras import layers, models, optimizers\n",
        "from tensorflow.keras.optimizers import Adam\n",
        "from tensorflow.keras.callbacks import EarlyStopping, ModelCheckpoint, LearningRateScheduler\n",
        "from tensorflow.image import resize_with_crop_or_pad\n",
        "from tensorflow.keras.models import load_model\n",
        "\n",
        "import numpy as np\n",
        "import pandas as pd\n",
        "import seaborn as sns\n",
        "import scipy\n",
        "import matplotlib.pyplot as plt\n",
        "\n",
        "from sklearn.ensemble import RandomForestClassifier\n",
        "from sklearn.linear_model import LogisticRegression\n",
        "from sklearn.preprocessing import StandardScaler, OneHotEncoder\n",
        "from sklearn.metrics import accuracy_score, confusion_matrix, classification_report\n",
        "from sklearn.model_selection import train_test_split"
      ],
      "metadata": {
        "id": "uBiC4eJpoHX5"
      },
      "execution_count": 126,
      "outputs": []
    },
    {
      "cell_type": "markdown",
      "source": [
        "# 1. Data Preprocessing"
      ],
      "metadata": {
        "id": "pTzJ0K36GXAg"
      }
    },
    {
      "cell_type": "markdown",
      "source": [
        "Loading the stanord dogs dataset using the tensorflow datasets. The data is then split into training and testing datasets."
      ],
      "metadata": {
        "id": "wnW3ITclwVBS"
      }
    },
    {
      "cell_type": "code",
      "source": [
        "def load_data():\n",
        "    (train_data, test_data), info = tfds.load('stanford_dogs', split=['train', 'test'], with_info=True, as_supervised=True)\n",
        "    return train_data, test_data, info"
      ],
      "metadata": {
        "id": "rQRGOeaxfm9I"
      },
      "execution_count": 127,
      "outputs": []
    },
    {
      "cell_type": "markdown",
      "source": [
        "First, we resize the image to the desired image size, this ensures there is a consistent size of 128x128.\n",
        "\n",
        "Next, we one hot encode the label and use a depth of 120."
      ],
      "metadata": {
        "id": "yyfq9otxww3y"
      }
    },
    {
      "cell_type": "code",
      "source": [
        "def preprocess(image, label):\n",
        "    image = tf.image.resize(image, image_size)\n",
        "    image = resize_with_crop_or_pad(image, 128, 128)\n",
        "    label = tf.one_hot(label, depth=120)\n",
        "    return image, label"
      ],
      "metadata": {
        "id": "M05fDPDqR-2R"
      },
      "execution_count": 128,
      "outputs": []
    },
    {
      "cell_type": "markdown",
      "source": [
        "This sets the deisred image size to 128x128 and the desired validation split which is 10%"
      ],
      "metadata": {
        "id": "G_ga0pAXxE2U"
      }
    },
    {
      "cell_type": "code",
      "source": [
        "image_size = (128, 128)\n",
        "validation_split = 0.1"
      ],
      "metadata": {
        "id": "t4Wtb9QJQH6z"
      },
      "execution_count": 129,
      "outputs": []
    },
    {
      "cell_type": "code",
      "source": [
        "train_data, test_data, info = load_data()"
      ],
      "metadata": {
        "id": "RLImJiv-HFSr"
      },
      "execution_count": 130,
      "outputs": []
    },
    {
      "cell_type": "code",
      "source": [
        "train_data = train_data.map(preprocess)"
      ],
      "metadata": {
        "id": "940LsVsUgONW"
      },
      "execution_count": 131,
      "outputs": []
    },
    {
      "cell_type": "markdown",
      "source": [
        "# 2. Model Building"
      ],
      "metadata": {
        "id": "fm5bf6xQGf8K"
      }
    },
    {
      "cell_type": "markdown",
      "source": [
        "Here we are designing the convolutional neural network by defining the layers we want to use along with the number of neurons and other required information."
      ],
      "metadata": {
        "id": "aWES3e6TxVxL"
      }
    },
    {
      "cell_type": "markdown",
      "source": [
        "Conv2D is the convolutional layers which extract features using 64, 128, and 256 filters which all have the size 3x3.\n",
        "\n",
        "MaxPooling2D is the pooling layer which reduces spatial dimensions.\n",
        "\n",
        "Dropout is the dropout layer which is applied to the fully connected layer in order to reduce overfitting.\n",
        "\n",
        "Dense is the fully connected layer and is using 1024 neurons and relu activiation."
      ],
      "metadata": {
        "id": "dhEcR8ycaI4i"
      }
    },
    {
      "cell_type": "code",
      "source": [
        "custom_model = models.Sequential()\n",
        "\n",
        "custom_model.add(layers.Conv2D(64, (3, 3), activation='relu', input_shape=(128, 128, 3)))\n",
        "custom_model.add(layers.MaxPooling2D((2, 2)))\n",
        "custom_model.add(layers.BatchNormalization())\n",
        "\n",
        "custom_model.add(layers.Conv2D(128, (3, 3), activation='relu'))\n",
        "custom_model.add(layers.MaxPooling2D((2, 2)))\n",
        "custom_model.add(layers.BatchNormalization())\n",
        "\n",
        "custom_model.add(layers.Conv2D(256, (3, 3), activation='relu'))\n",
        "custom_model.add(layers.MaxPooling2D((2, 2)))\n",
        "custom_model.add(layers.BatchNormalization())\n",
        "\n",
        "custom_model.add(layers.Flatten())\n",
        "\n",
        "custom_model.add(layers.Dense(512, activation='relu'))\n",
        "custom_model.add(layers.Dropout(0.5))\n",
        "custom_model.add(layers.BatchNormalization())\n",
        "\n",
        "custom_model.add(layers.Dense(1024, activation='relu'))\n",
        "custom_model.add(layers.Dropout(0.5))\n",
        "custom_model.add(layers.BatchNormalization())\n",
        "\n",
        "custom_model.add(layers.Dense(info.features['label'].num_classes, activation='softmax'))\n",
        "\n",
        "custom_model.summary()"
      ],
      "metadata": {
        "colab": {
          "base_uri": "https://localhost:8080/"
        },
        "id": "jQINhjLyI788",
        "outputId": "7fa78585-181f-4333-e936-52bd6690a238"
      },
      "execution_count": 132,
      "outputs": [
        {
          "output_type": "stream",
          "name": "stdout",
          "text": [
            "Model: \"sequential_6\"\n",
            "_________________________________________________________________\n",
            " Layer (type)                Output Shape              Param #   \n",
            "=================================================================\n",
            " conv2d_18 (Conv2D)          (None, 126, 126, 64)      1792      \n",
            "                                                                 \n",
            " max_pooling2d_18 (MaxPooli  (None, 63, 63, 64)        0         \n",
            " ng2D)                                                           \n",
            "                                                                 \n",
            " batch_normalization_30 (Ba  (None, 63, 63, 64)        256       \n",
            " tchNormalization)                                               \n",
            "                                                                 \n",
            " conv2d_19 (Conv2D)          (None, 61, 61, 128)       73856     \n",
            "                                                                 \n",
            " max_pooling2d_19 (MaxPooli  (None, 30, 30, 128)       0         \n",
            " ng2D)                                                           \n",
            "                                                                 \n",
            " batch_normalization_31 (Ba  (None, 30, 30, 128)       512       \n",
            " tchNormalization)                                               \n",
            "                                                                 \n",
            " conv2d_20 (Conv2D)          (None, 28, 28, 256)       295168    \n",
            "                                                                 \n",
            " max_pooling2d_20 (MaxPooli  (None, 14, 14, 256)       0         \n",
            " ng2D)                                                           \n",
            "                                                                 \n",
            " batch_normalization_32 (Ba  (None, 14, 14, 256)       1024      \n",
            " tchNormalization)                                               \n",
            "                                                                 \n",
            " flatten_6 (Flatten)         (None, 50176)             0         \n",
            "                                                                 \n",
            " dense_18 (Dense)            (None, 512)               25690624  \n",
            "                                                                 \n",
            " dropout_12 (Dropout)        (None, 512)               0         \n",
            "                                                                 \n",
            " batch_normalization_33 (Ba  (None, 512)               2048      \n",
            " tchNormalization)                                               \n",
            "                                                                 \n",
            " dense_19 (Dense)            (None, 1024)              525312    \n",
            "                                                                 \n",
            " dropout_13 (Dropout)        (None, 1024)              0         \n",
            "                                                                 \n",
            " batch_normalization_34 (Ba  (None, 1024)              4096      \n",
            " tchNormalization)                                               \n",
            "                                                                 \n",
            " dense_20 (Dense)            (None, 120)               123000    \n",
            "                                                                 \n",
            "=================================================================\n",
            "Total params: 26717688 (101.92 MB)\n",
            "Trainable params: 26713720 (101.90 MB)\n",
            "Non-trainable params: 3968 (15.50 KB)\n",
            "_________________________________________________________________\n"
          ]
        }
      ]
    },
    {
      "cell_type": "markdown",
      "source": [
        "# 3. Model Training and Optimization"
      ],
      "metadata": {
        "id": "CfhjKr1QGl9M"
      }
    },
    {
      "cell_type": "code",
      "source": [
        "custom_model1 = custom_model\n",
        "custom_model2 = custom_model\n",
        "#custom_model3 = custom_model"
      ],
      "metadata": {
        "id": "gcx9_O9avpVK"
      },
      "execution_count": 133,
      "outputs": []
    },
    {
      "cell_type": "markdown",
      "source": [
        "We start by retrieving the number of training samples from the information within the dataset.\n",
        "\n",
        "Then calculate the number of validation samples using the total training samples and the validation split specified above."
      ],
      "metadata": {
        "id": "Qpog1GKnx7Y3"
      }
    },
    {
      "cell_type": "code",
      "source": [
        "total_train_samples = info.splits['train'].num_examples\n",
        "num_validation_samples = int(validation_split * total_train_samples)"
      ],
      "metadata": {
        "id": "d4348wPVgpkr"
      },
      "execution_count": 134,
      "outputs": []
    },
    {
      "cell_type": "markdown",
      "source": [
        "Here we are creating a validation dataset by taking the num_validation_samples from the training data then adjusting the training dataset by using the skip function to exclude the num_validation_samples from the training set"
      ],
      "metadata": {
        "id": "oHC_f6XjyKFm"
      }
    },
    {
      "cell_type": "code",
      "source": [
        "val_data = train_data.take(num_validation_samples)\n",
        "train_data = train_data.skip(num_validation_samples)"
      ],
      "metadata": {
        "id": "T5rkfu4cx6by"
      },
      "execution_count": 135,
      "outputs": []
    },
    {
      "cell_type": "markdown",
      "source": [
        "This is to retrive the amount of images in the validation and training sets."
      ],
      "metadata": {
        "id": "r9uhO7WOym-Q"
      }
    },
    {
      "cell_type": "code",
      "source": [
        "num_val_images = tf.data.experimental.cardinality(val_data).numpy()\n",
        "num_train_images = tf.data.experimental.cardinality(train_data).numpy()\n",
        "\n",
        "print(f\"Number of images in val_data: {num_val_images}\")\n",
        "print(f\"Number of images in train_data: {num_train_images}\")"
      ],
      "metadata": {
        "colab": {
          "base_uri": "https://localhost:8080/"
        },
        "id": "poiVo6q7iuUa",
        "outputId": "82fd18e0-308d-43ad-b834-517565792195"
      },
      "execution_count": 136,
      "outputs": [
        {
          "output_type": "stream",
          "name": "stdout",
          "text": [
            "Number of images in val_data: 1200\n",
            "Number of images in train_data: 10800\n"
          ]
        }
      ]
    },
    {
      "cell_type": "markdown",
      "source": [
        "Define the bath size for both the training and validation set."
      ],
      "metadata": {
        "id": "_nhY9Nlpy46o"
      }
    },
    {
      "cell_type": "code",
      "source": [
        "batch_size = 32"
      ],
      "metadata": {
        "id": "1qZOPj19y6PU"
      },
      "execution_count": 137,
      "outputs": []
    },
    {
      "cell_type": "markdown",
      "source": [
        "batch both sets with the specified batch_size."
      ],
      "metadata": {
        "id": "4UerQpdKzAmV"
      }
    },
    {
      "cell_type": "code",
      "source": [
        "train_data = train_data.batch(batch_size)\n",
        "val_data = val_data.batch(batch_size)"
      ],
      "metadata": {
        "id": "PiSbnTrjgjd_"
      },
      "execution_count": 138,
      "outputs": []
    },
    {
      "cell_type": "markdown",
      "source": [
        "calculate the number of epoch steps there should be for both sets."
      ],
      "metadata": {
        "id": "fjuA7FERzISC"
      }
    },
    {
      "cell_type": "code",
      "source": [
        "train_steps_per_epoch = len(train_data)\n",
        "val_steps_per_epoch = len(val_data)"
      ],
      "metadata": {
        "id": "w6BgDEbbzH-t"
      },
      "execution_count": 139,
      "outputs": []
    },
    {
      "cell_type": "markdown",
      "source": [
        "monitors the val loss value to determine if there should be early stop.\n",
        "\n",
        "The patience of 6 tells us that without any improvement after the 6th epoch, the training will stop.\n",
        "\n",
        "Restore best weights makes sure model weights are restored to the best values after the training is complete."
      ],
      "metadata": {
        "id": "Wc6R4_DszYa4"
      }
    },
    {
      "cell_type": "code",
      "source": [
        "early_stopping = EarlyStopping(monitor='val_loss', patience=6, restore_best_weights=True)"
      ],
      "metadata": {
        "id": "r2DRrldwzAHa"
      },
      "execution_count": 140,
      "outputs": []
    },
    {
      "cell_type": "markdown",
      "source": [
        "saves the best model which is evaluated on the val_accuracy"
      ],
      "metadata": {
        "id": "dZzY0dCPzUbW"
      }
    },
    {
      "cell_type": "code",
      "source": [
        "model_checkpoint = ModelCheckpoint('best_model.h5', monitor='val_accuracy', save_best_only=True)"
      ],
      "metadata": {
        "id": "Dd-LsPXkzS5K"
      },
      "execution_count": 141,
      "outputs": []
    },
    {
      "cell_type": "markdown",
      "source": [
        "Optimizer is set to adam as it works well for a large array of models and is a good place to start.\n",
        "\n",
        "The loss function is set to categorical_crossentropy as this is ideal for multi-class classification tasks like the Stanford dogs datset."
      ],
      "metadata": {
        "id": "AjdXk8R1zwCQ"
      }
    },
    {
      "cell_type": "code",
      "source": [
        "custom_model1.compile(optimizer='adam', loss='categorical_crossentropy', metrics=['accuracy'])"
      ],
      "metadata": {
        "id": "Yl_m52ICg6wn"
      },
      "execution_count": 142,
      "outputs": []
    },
    {
      "cell_type": "code",
      "source": [
        "history = custom_model1.fit(\n",
        "    train_data,\n",
        "    steps_per_epoch=train_steps_per_epoch,\n",
        "    epochs=20,\n",
        "    validation_data=val_data,\n",
        "    validation_steps=val_steps_per_epoch,\n",
        "    callbacks=[early_stopping, model_checkpoint]\n",
        ")"
      ],
      "metadata": {
        "colab": {
          "base_uri": "https://localhost:8080/"
        },
        "id": "_LHXC3VBgEBd",
        "outputId": "77f4837e-a015-4d2a-f1aa-6e367f0364cf"
      },
      "execution_count": 143,
      "outputs": [
        {
          "output_type": "stream",
          "name": "stdout",
          "text": [
            "Epoch 1/20\n",
            "337/338 [============================>.] - ETA: 0s - loss: 5.3070 - accuracy: 0.0167"
          ]
        },
        {
          "output_type": "stream",
          "name": "stderr",
          "text": [
            "/usr/local/lib/python3.10/dist-packages/keras/src/engine/training.py:3079: UserWarning: You are saving your model as an HDF5 file via `model.save()`. This file format is considered legacy. We recommend using instead the native Keras format, e.g. `model.save('my_model.keras')`.\n",
            "  saving_api.save_model(\n"
          ]
        },
        {
          "output_type": "stream",
          "name": "stdout",
          "text": [
            "\b\b\b\b\b\b\b\b\b\b\b\b\b\b\b\b\b\b\b\b\b\b\b\b\b\b\b\b\b\b\b\b\b\b\b\b\b\b\b\b\b\b\b\b\b\b\b\b\b\b\b\b\b\b\b\b\b\b\b\b\b\b\b\b\b\b\b\b\b\b\b\b\b\b\b\b\b\b\b\b\b\b\b\b\r338/338 [==============================] - 44s 112ms/step - loss: 5.3063 - accuracy: 0.0168 - val_loss: 4.7313 - val_accuracy: 0.0375\n",
            "Epoch 2/20\n",
            "338/338 [==============================] - 21s 58ms/step - loss: 4.8537 - accuracy: 0.0316 - val_loss: 4.7029 - val_accuracy: 0.0325\n",
            "Epoch 3/20\n",
            "338/338 [==============================] - 29s 82ms/step - loss: 4.6111 - accuracy: 0.0458 - val_loss: 4.3189 - val_accuracy: 0.0592\n",
            "Epoch 4/20\n",
            "338/338 [==============================] - 28s 79ms/step - loss: 4.3732 - accuracy: 0.0592 - val_loss: 5.0183 - val_accuracy: 0.0342\n",
            "Epoch 5/20\n",
            "338/338 [==============================] - 22s 63ms/step - loss: 4.1540 - accuracy: 0.0819 - val_loss: 5.1605 - val_accuracy: 0.0325\n",
            "Epoch 6/20\n",
            "338/338 [==============================] - 29s 82ms/step - loss: 3.9323 - accuracy: 0.1037 - val_loss: 4.5355 - val_accuracy: 0.0617\n",
            "Epoch 7/20\n",
            "338/338 [==============================] - 29s 82ms/step - loss: 3.6944 - accuracy: 0.1377 - val_loss: 4.1588 - val_accuracy: 0.0992\n",
            "Epoch 8/20\n",
            "338/338 [==============================] - 23s 64ms/step - loss: 3.4197 - accuracy: 0.1882 - val_loss: 4.2328 - val_accuracy: 0.0792\n",
            "Epoch 9/20\n",
            "338/338 [==============================] - 21s 59ms/step - loss: 3.1510 - accuracy: 0.2377 - val_loss: 4.0985 - val_accuracy: 0.0908\n",
            "Epoch 10/20\n",
            "338/338 [==============================] - 23s 66ms/step - loss: 2.8668 - accuracy: 0.2945 - val_loss: 4.3185 - val_accuracy: 0.0925\n",
            "Epoch 11/20\n",
            "338/338 [==============================] - 23s 64ms/step - loss: 2.4332 - accuracy: 0.3808 - val_loss: 4.5206 - val_accuracy: 0.0833\n",
            "Epoch 12/20\n",
            "338/338 [==============================] - 21s 59ms/step - loss: 2.3248 - accuracy: 0.3954 - val_loss: 4.6579 - val_accuracy: 0.0825\n",
            "Epoch 13/20\n",
            "338/338 [==============================] - 23s 64ms/step - loss: 2.4317 - accuracy: 0.3790 - val_loss: 4.8109 - val_accuracy: 0.0875\n",
            "Epoch 14/20\n",
            "338/338 [==============================] - 21s 59ms/step - loss: 1.9396 - accuracy: 0.4812 - val_loss: 4.6149 - val_accuracy: 0.0883\n",
            "Epoch 15/20\n",
            "338/338 [==============================] - 22s 63ms/step - loss: 1.9300 - accuracy: 0.4964 - val_loss: 4.8663 - val_accuracy: 0.0933\n"
          ]
        }
      ]
    },
    {
      "cell_type": "markdown",
      "source": [
        "The training accuracy has improved by a large margin which is a positive sign. However, the validation accuracy seems to not have had the same increase which could suggest overfitting or the model is not dealing with new data very well."
      ],
      "metadata": {
        "id": "TzL7hYcWtEVf"
      }
    },
    {
      "cell_type": "markdown",
      "source": [
        "Optimizer changed to Nadam to see if there are improvements over the base Adam optimizer."
      ],
      "metadata": {
        "id": "Hv_llMvDrEr_"
      }
    },
    {
      "cell_type": "code",
      "source": [
        "custom_model2.compile(optimizer='Nadam', loss='categorical_crossentropy', metrics=['accuracy'])"
      ],
      "metadata": {
        "id": "VoCQOHI2rYVb"
      },
      "execution_count": 144,
      "outputs": []
    },
    {
      "cell_type": "code",
      "source": [
        "history = custom_model2.fit(\n",
        "    train_data,\n",
        "    steps_per_epoch=train_steps_per_epoch,\n",
        "    epochs=20,\n",
        "    validation_data=val_data,\n",
        "    validation_steps=val_steps_per_epoch,\n",
        "    callbacks=[early_stopping, model_checkpoint]\n",
        ")"
      ],
      "metadata": {
        "colab": {
          "base_uri": "https://localhost:8080/"
        },
        "id": "OhKt8yLerblv",
        "outputId": "90d6ea7a-7ec3-43bf-dae9-f8bdef8ab4ec"
      },
      "execution_count": 145,
      "outputs": [
        {
          "output_type": "stream",
          "name": "stdout",
          "text": [
            "Epoch 1/20\n",
            "338/338 [==============================] - 52s 83ms/step - loss: 2.8384 - accuracy: 0.2914 - val_loss: 4.1788 - val_accuracy: 0.1050\n",
            "Epoch 2/20\n",
            "338/338 [==============================] - 22s 60ms/step - loss: 2.5061 - accuracy: 0.3556 - val_loss: 4.5161 - val_accuracy: 0.0967\n",
            "Epoch 3/20\n",
            "338/338 [==============================] - 22s 60ms/step - loss: 2.3266 - accuracy: 0.4040 - val_loss: 4.3697 - val_accuracy: 0.1033\n",
            "Epoch 4/20\n",
            "338/338 [==============================] - 21s 60ms/step - loss: 2.0312 - accuracy: 0.4645 - val_loss: 4.8361 - val_accuracy: 0.0983\n",
            "Epoch 5/20\n",
            "338/338 [==============================] - 23s 66ms/step - loss: 1.7121 - accuracy: 0.5379 - val_loss: 4.7430 - val_accuracy: 0.0667\n",
            "Epoch 6/20\n",
            "338/338 [==============================] - 28s 79ms/step - loss: 1.5607 - accuracy: 0.5750 - val_loss: 4.6547 - val_accuracy: 0.1100\n",
            "Epoch 7/20\n",
            "338/338 [==============================] - 23s 64ms/step - loss: 1.2845 - accuracy: 0.6410 - val_loss: 4.7944 - val_accuracy: 0.0950\n"
          ]
        }
      ]
    },
    {
      "cell_type": "markdown",
      "source": [
        "The accuracy of this model is better than the last indicating it is better fitting with the training data. Unfortunatelly, the val_accuracy is still not improving which continues to suggest possible overfitting."
      ],
      "metadata": {
        "id": "vnTzyINduQN3"
      }
    },
    {
      "cell_type": "markdown",
      "source": [
        "The Optimizer Nadam was used as it yielded a higher accuracy with the categorical_crossentropy loss function.\n",
        "\n",
        "Loss function was changed to binary_crossentropy out of curiosity to see if any improvements can be made. I know this can not be used for our final model which is why it was commented out, but I wondered how putting the multi-class classification problem through a binary classification method would affect it."
      ],
      "metadata": {
        "id": "bqzyrQRyrku0"
      }
    },
    {
      "cell_type": "code",
      "source": [
        "#custom_model3.compile(optimizer='Nadam', loss='binary_crossentropy', metrics=['accuracy'])"
      ],
      "metadata": {
        "id": "cKC-D_Fkul9Z"
      },
      "execution_count": 146,
      "outputs": []
    },
    {
      "cell_type": "code",
      "source": [
        "#history = custom_model3.fit(\n",
        "#    train_data,\n",
        "#    steps_per_epoch=train_steps_per_epoch,\n",
        "#    epochs=20,\n",
        "#    validation_data=val_data,\n",
        "#    validation_steps=val_steps_per_epoch,\n",
        "#    callbacks=[early_stopping, model_checkpoint]\n",
        "#)"
      ],
      "metadata": {
        "id": "y6fYjhWUun54"
      },
      "execution_count": 147,
      "outputs": []
    },
    {
      "cell_type": "markdown",
      "source": [
        "This model achieves the highest accuracy by a large margin but does still struggle with the problem of overfitting. It is interesting to see how this greatly improves the accuracy."
      ],
      "metadata": {
        "id": "OatUTybf3Hnj"
      }
    },
    {
      "cell_type": "markdown",
      "source": [
        "# 4. Evaluation"
      ],
      "metadata": {
        "id": "GDaqlybkGp1X"
      }
    },
    {
      "cell_type": "markdown",
      "source": [
        "Load the best model"
      ],
      "metadata": {
        "id": "zAYQPNvp7B6o"
      }
    },
    {
      "cell_type": "code",
      "source": [
        "best_model = load_model('best_model.h5')"
      ],
      "metadata": {
        "id": "WyEoHduF7EkC"
      },
      "execution_count": 148,
      "outputs": []
    },
    {
      "cell_type": "markdown",
      "source": [
        "This function is used in order to get the predictions for the data along with the true labels."
      ],
      "metadata": {
        "id": "Dq68HbDe7JlF"
      }
    },
    {
      "cell_type": "code",
      "source": [
        "def get_predictions(model, data):\n",
        "    predictions = []\n",
        "    true_labels = []\n",
        "\n",
        "    for batch in data:\n",
        "        images, labels = batch\n",
        "        predictions_batch = model.predict(images)\n",
        "        predictions.extend(np.argmax(predictions_batch, axis=1))\n",
        "        true_labels.extend(np.argmax(labels, axis=1))\n",
        "\n",
        "    return np.array(predictions), np.array(true_labels)"
      ],
      "metadata": {
        "id": "07_w5Rxz7H1Z"
      },
      "execution_count": 149,
      "outputs": []
    },
    {
      "cell_type": "markdown",
      "source": [
        "Retrieve the predictions for both the custom models"
      ],
      "metadata": {
        "id": "GJMTDkCp7dpV"
      }
    },
    {
      "cell_type": "code",
      "source": [
        "predictions_one, true_labels_one = get_predictions(custom_model1, val_data)\n",
        "predictions_two, true_labels_two = get_predictions(custom_model2, val_data)"
      ],
      "metadata": {
        "colab": {
          "base_uri": "https://localhost:8080/"
        },
        "id": "RKmFoZwY7dWN",
        "outputId": "e6b35237-e0b3-4139-e928-f9bf35f61117"
      },
      "execution_count": 150,
      "outputs": [
        {
          "output_type": "stream",
          "name": "stdout",
          "text": [
            "1/1 [==============================] - 0s 134ms/step\n",
            "1/1 [==============================] - 0s 35ms/step\n",
            "1/1 [==============================] - 0s 23ms/step\n",
            "1/1 [==============================] - 0s 22ms/step\n",
            "1/1 [==============================] - 0s 22ms/step\n",
            "1/1 [==============================] - 0s 27ms/step\n",
            "1/1 [==============================] - 0s 23ms/step\n",
            "1/1 [==============================] - 0s 25ms/step\n",
            "1/1 [==============================] - 0s 30ms/step\n",
            "1/1 [==============================] - 0s 25ms/step\n",
            "1/1 [==============================] - 0s 28ms/step\n",
            "1/1 [==============================] - 0s 26ms/step\n",
            "1/1 [==============================] - 0s 26ms/step\n",
            "1/1 [==============================] - 0s 23ms/step\n",
            "1/1 [==============================] - 0s 29ms/step\n",
            "1/1 [==============================] - 0s 23ms/step\n",
            "1/1 [==============================] - 0s 28ms/step\n",
            "1/1 [==============================] - 0s 21ms/step\n",
            "1/1 [==============================] - 0s 25ms/step\n",
            "1/1 [==============================] - 0s 29ms/step\n",
            "1/1 [==============================] - 0s 21ms/step\n",
            "1/1 [==============================] - 0s 23ms/step\n",
            "1/1 [==============================] - 0s 29ms/step\n",
            "1/1 [==============================] - 0s 20ms/step\n",
            "1/1 [==============================] - 0s 28ms/step\n",
            "1/1 [==============================] - 0s 25ms/step\n",
            "1/1 [==============================] - 0s 27ms/step\n",
            "1/1 [==============================] - 0s 26ms/step\n",
            "1/1 [==============================] - 0s 31ms/step\n",
            "1/1 [==============================] - 0s 26ms/step\n",
            "1/1 [==============================] - 0s 25ms/step\n",
            "1/1 [==============================] - 0s 24ms/step\n",
            "1/1 [==============================] - 0s 22ms/step\n",
            "1/1 [==============================] - 0s 23ms/step\n",
            "1/1 [==============================] - 0s 25ms/step\n",
            "1/1 [==============================] - 0s 22ms/step\n",
            "1/1 [==============================] - 0s 20ms/step\n",
            "1/1 [==============================] - 0s 136ms/step\n",
            "1/1 [==============================] - 0s 21ms/step\n",
            "1/1 [==============================] - 0s 40ms/step\n",
            "1/1 [==============================] - 0s 32ms/step\n",
            "1/1 [==============================] - 0s 23ms/step\n",
            "1/1 [==============================] - 0s 25ms/step\n",
            "1/1 [==============================] - 0s 22ms/step\n",
            "1/1 [==============================] - 0s 38ms/step\n",
            "1/1 [==============================] - 0s 36ms/step\n",
            "1/1 [==============================] - 0s 33ms/step\n",
            "1/1 [==============================] - 0s 38ms/step\n",
            "1/1 [==============================] - 0s 32ms/step\n",
            "1/1 [==============================] - 0s 37ms/step\n",
            "1/1 [==============================] - 0s 28ms/step\n",
            "1/1 [==============================] - 0s 26ms/step\n",
            "1/1 [==============================] - 0s 31ms/step\n",
            "1/1 [==============================] - 0s 23ms/step\n",
            "1/1 [==============================] - 0s 23ms/step\n",
            "1/1 [==============================] - 0s 29ms/step\n",
            "1/1 [==============================] - 0s 33ms/step\n",
            "1/1 [==============================] - 0s 30ms/step\n",
            "1/1 [==============================] - 0s 26ms/step\n",
            "1/1 [==============================] - 0s 27ms/step\n",
            "1/1 [==============================] - 0s 24ms/step\n",
            "1/1 [==============================] - 0s 22ms/step\n",
            "1/1 [==============================] - 0s 26ms/step\n",
            "1/1 [==============================] - 0s 25ms/step\n",
            "1/1 [==============================] - 0s 24ms/step\n",
            "1/1 [==============================] - 0s 27ms/step\n",
            "1/1 [==============================] - 0s 25ms/step\n",
            "1/1 [==============================] - 0s 22ms/step\n",
            "1/1 [==============================] - 0s 22ms/step\n",
            "1/1 [==============================] - 0s 22ms/step\n",
            "1/1 [==============================] - 0s 29ms/step\n",
            "1/1 [==============================] - 0s 27ms/step\n",
            "1/1 [==============================] - 0s 23ms/step\n",
            "1/1 [==============================] - 0s 24ms/step\n",
            "1/1 [==============================] - 0s 22ms/step\n",
            "1/1 [==============================] - 0s 22ms/step\n"
          ]
        }
      ]
    },
    {
      "cell_type": "markdown",
      "source": [
        "Create the confusion matrices"
      ],
      "metadata": {
        "id": "Qvcm33_S7l7x"
      }
    },
    {
      "cell_type": "code",
      "source": [
        "conf_matrix_one = confusion_matrix(true_labels_one, predictions_one)\n",
        "conf_matrix_two = confusion_matrix(true_labels_two, predictions_two)"
      ],
      "metadata": {
        "id": "Sm3RrjBx7oR6"
      },
      "execution_count": 151,
      "outputs": []
    },
    {
      "cell_type": "markdown",
      "source": [
        "Plot the confusion matrices"
      ],
      "metadata": {
        "id": "1rA98FcD7xn9"
      }
    },
    {
      "cell_type": "code",
      "source": [
        "fig, axes = plt.subplots(1, 2, figsize=(15, 5))\n",
        "axes[0].matshow(conf_matrix_one, cmap='Blues')\n",
        "axes[0].set_title('Custom Model 1')\n",
        "axes[1].matshow(conf_matrix_two, cmap='Blues')\n",
        "axes[1].set_title('Custom Model 2')\n",
        "plt.show()"
      ],
      "metadata": {
        "colab": {
          "base_uri": "https://localhost:8080/",
          "height": 472
        },
        "id": "mrr4DSpZ7zt1",
        "outputId": "f5cd7b14-8f8f-44a5-c759-003915770f03"
      },
      "execution_count": 152,
      "outputs": [
        {
          "output_type": "display_data",
          "data": {
            "text/plain": [
              "<Figure size 1500x500 with 2 Axes>"
            ],
            "image/png": "[encoded data removed]"
          },
          "metadata": {}
        }
      ]
    },
    {
      "cell_type": "code",
      "source": [
        "accuracy_one = accuracy_score(true_labels_one, predictions_one)\n",
        "accuracy_two = accuracy_score(true_labels_two, predictions_two)\n",
        "\n",
        "print(f'Accuracy for Custom Model 1: {accuracy_one:.4f}')\n",
        "print(f'Accuracy for Custom Model 2: {accuracy_two:.4f}')"
      ],
      "metadata": {
        "colab": {
          "base_uri": "https://localhost:8080/"
        },
        "id": "CwtD1cgk6xWY",
        "outputId": "c5bb2d23-d599-4750-9017-b28d447f462d"
      },
      "execution_count": 153,
      "outputs": [
        {
          "output_type": "stream",
          "name": "stdout",
          "text": [
            "Accuracy for Custom Model 1: 0.1050\n",
            "Accuracy for Custom Model 2: 0.1050\n"
          ]
        }
      ]
    },
    {
      "cell_type": "markdown",
      "source": [
        "# 5. Write-up"
      ],
      "metadata": {
        "id": "SQ08sSYWGsUc"
      }
    },
    {
      "cell_type": "markdown",
      "source": [
        "### Challenges\n",
        "\n",
        "1) One of the main problems faced while creating the models was achieving a good accuracy. The only way for me to achieve a good accuracy was to use binary crossentropy which is not applicable in this scenario as it is not a binary classification problem. To achieve the best accuracy I did using a multi-class problem required testing different layers and changing the optimizer and loss function to fit the model better and still did not yield a very good accuracy\n",
        "\n",
        "2) Overfitting was another issue faced. No matter what parameters were inputted, there was no increase in the val_Accuracy which could indecate the model was overfit. Even when the loss function was changed to the binary classification, the model still struggled with overfitting.\n",
        "\n",
        "3) Computational power was the final issue. These models took a long time to run and as the models improved they took more and more time to run. These can be effective in this scenario but may not work very well in a business setting."
      ],
      "metadata": {
        "id": "WjU6AsRM3YrU"
      }
    },
    {
      "cell_type": "markdown",
      "source": [
        "### What worked and what did not\n",
        "\n",
        "1) the optimizer was best when set to Nadam. Initally, I tried the adam optimizer as it was a good general optimizer. However, the results achievied were not ideal so I tried using other optimizers and came across Nadam. This is an extension of Adam and was able to achieve a higher accuracy.\n",
        "\n",
        "2) The loss function yielded the highest accuracy when it was set to binary_crossentropy but this cant be used given the dataset. For this reason the loss function that must be used should be categorical_crossentropy. Unfortunately the accuracy achieved with this loss function is poor and also struggles with overfitting.\n",
        "\n",
        "3) Setting the early stop helped with the computational problem greatly. In some cases only 6 epochs would run which greatly reduced the time required to run the models. Without this the time required would be much higher with no meaningful improvements to the models."
      ],
      "metadata": {
        "id": "u4Uhh6cn4HqK"
      }
    }
  ]
}