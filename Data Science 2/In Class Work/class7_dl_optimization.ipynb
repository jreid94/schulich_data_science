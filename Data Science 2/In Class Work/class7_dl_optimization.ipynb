{
 "cells": [
  {
   "cell_type": "code",
   "execution_count": 1,
   "metadata": {},
   "outputs": [],
   "source": [
    "import pandas as pd\n",
    "import tensorflow as tf\n",
    "import numpy as np\n",
    "import matplotlib.pyplot as plt"
   ]
  },
  {
   "cell_type": "code",
   "execution_count": 3,
   "metadata": {},
   "outputs": [
    {
     "ename": "AttributeError",
     "evalue": "module 'tensorflow' has no attribute 'load'",
     "output_type": "error",
     "traceback": [
      "\u001b[1;31m---------------------------------------------------------------------------\u001b[0m",
      "\u001b[1;31mAttributeError\u001b[0m                            Traceback (most recent call last)",
      "\u001b[1;32mjreid94\\schulich_data_science\\Data Science 2\\In Class Work\\class7_dl_optimization.ipynb Cell 2\u001b[0m line \u001b[0;36m1\n\u001b[1;32m----> <a href='vscode-notebook-cell://github/jreid94/schulich_data_science/Data%20Science%202/In%20Class%20Work/class7_dl_optimization.ipynb#W3sdnNjb2RlLXZmcw%3D%3D?line=0'>1</a>\u001b[0m (train, test) \u001b[39m=\u001b[39m tf\u001b[39m.\u001b[39;49mload(\u001b[39m'\u001b[39m\u001b[39mmnist\u001b[39m\u001b[39m'\u001b[39m,split\u001b[39m=\u001b[39m[\u001b[39m'\u001b[39m\u001b[39mtrain\u001b[39m\u001b[39m'\u001b[39m,\u001b[39m'\u001b[39m\u001b[39mtest\u001b[39m\u001b[39m'\u001b[39m])\n",
      "\u001b[1;31mAttributeError\u001b[0m: module 'tensorflow' has no attribute 'load'"
     ]
    }
   ],
   "source": [
    "(train, test) = tfds.load('mnist',split=['train','test'])"
   ]
  },
  {
   "cell_type": "code",
   "execution_count": null,
   "metadata": {},
   "outputs": [
    {
     "data": {
      "text/plain": [
       "<_PrefetchDataset element_spec={'image': TensorSpec(shape=(28, 28, 1), dtype=tf.uint8, name=None), 'label': TensorSpec(shape=(), dtype=tf.int64, name=None)}>"
      ]
     },
     "execution_count": 5,
     "metadata": {},
     "output_type": "execute_result"
    }
   ],
   "source": [
    "train"
   ]
  },
  {
   "cell_type": "code",
   "execution_count": null,
   "metadata": {},
   "outputs": [
    {
     "data": {
      "text/plain": [
       "<_PrefetchDataset element_spec={'image': TensorSpec(shape=(28, 28, 1), dtype=tf.uint8, name=None), 'label': TensorSpec(shape=(), dtype=tf.int64, name=None)}>"
      ]
     },
     "execution_count": 6,
     "metadata": {},
     "output_type": "execute_result"
    }
   ],
   "source": [
    "test"
   ]
  },
  {
   "cell_type": "code",
   "execution_count": null,
   "metadata": {},
   "outputs": [],
   "source": [
    "from sklearn.preprocessing import StandardScaler, OneHotEncoder"
   ]
  },
  {
   "cell_type": "code",
   "execution_count": null,
   "metadata": {},
   "outputs": [],
   "source": [
    "def load_dataset(train_size,test_size):\n",
    "    train, test = tf.keras.datasets.mnist.load_data()\n",
    "    #take a sample\n",
    "    train_idx = np.random.randint(low=0,high=train[0].shape[0],size=train_size)\n",
    "    test_idx = np.random.randint(low=0,high=test[0].shape[0],size=test_size)\n",
    "    X_train = train[0][train_idx].reshape(-1,28*28)\n",
    "    y_train = train[1][train_idx].reshape(-1,1)\n",
    "    X_test = test[0][test_idx].reshape(-1,28*28)\n",
    "    y_test = test[1][test_idx].reshape(-1,1)\n",
    "    \n",
    "    scale = StandardScaler()\n",
    "    X_train = scale.fit_transform(X_train)\n",
    "    X_test = scale.transform(X_test)\n",
    "\n",
    "    OH = OneHotEncoder(categories='auto', sparse=False)\n",
    "    y_train = OH.fit_transform(y_train)\n",
    "    y_test = OH.transform(y_test)\n",
    "    \n",
    "    print('X_train:',X_train.shape)\n",
    "    print('y_train:',y_train.shape)\n",
    "    print('X_test:',X_test.shape)\n",
    "    print('y_test:',y_test.shape)\n",
    "    print('Min:', X_train.min())\n",
    "    print('Max:', X_train.max())\n",
    "\n",
    "    return X_train, X_test, y_train, y_test"
   ]
  },
  {
   "cell_type": "code",
   "execution_count": null,
   "metadata": {},
   "outputs": [
    {
     "name": "stdout",
     "output_type": "stream",
     "text": [
      "X_train: (60000, 784)\n",
      "y_train: (60000, 10)\n",
      "X_test: (10000, 784)\n",
      "y_test: (10000, 10)\n",
      "Min: -1.2719725258483647\n",
      "Max: 244.94693302873148\n"
     ]
    },
    {
     "name": "stderr",
     "output_type": "stream",
     "text": [
      "/Library/Frameworks/Python.framework/Versions/3.11/lib/python3.11/site-packages/sklearn/preprocessing/_encoders.py:868: FutureWarning: `sparse` was renamed to `sparse_output` in version 1.2 and will be removed in 1.4. `sparse_output` is ignored unless you leave `sparse` to its default value.\n",
      "  warnings.warn(\n"
     ]
    }
   ],
   "source": [
    "X_train, X_test, y_train, y_test = load_dataset(60000,10000)"
   ]
  },
  {
   "attachments": {},
   "cell_type": "markdown",
   "metadata": {},
   "source": [
    "#### Optimizing at the Initialization Stage"
   ]
  },
  {
   "cell_type": "code",
   "execution_count": null,
   "metadata": {},
   "outputs": [
    {
     "name": "stderr",
     "output_type": "stream",
     "text": [
      "WARNING:absl:At this time, the v2.11+ optimizer `tf.keras.optimizers.SGD` runs slowly on M1/M2 Macs, please use the legacy Keras optimizer instead, located at `tf.keras.optimizers.legacy.SGD`.\n"
     ]
    }
   ],
   "source": [
    "init = tf.initializers.zeros()\n",
    "activate = 'relu'\n",
    "\n",
    "optimizer = tf.keras.optimizers.SGD(learning_rate=0.01)"
   ]
  },
  {
   "cell_type": "code",
   "execution_count": null,
   "metadata": {},
   "outputs": [],
   "source": [
    "from tensorflow.keras import layers"
   ]
  },
  {
   "cell_type": "code",
   "execution_count": null,
   "metadata": {},
   "outputs": [],
   "source": [
    "def simple_model(initializer, activation = 'relu'):\n",
    "    return tf.keras.Sequential([layers.Dense(32,activation, input_shape=(784,), kernel_initializer=initializer),\n",
    "                                layers.Dense(32,activation, input_shape=(784,), kernel_initializer=initializer),\n",
    "                                layers.Dense(32,activation, input_shape=(784,), kernel_initializer=initializer),\n",
    "                                layers.Dense(32,activation, input_shape=(784,), kernel_initializer=initializer),\n",
    "                                layers.Dense(10,activation='softmax',kernel_initializer = tf.keras.initializers.glorot_normal())])"
   ]
  },
  {
   "cell_type": "code",
   "execution_count": null,
   "metadata": {},
   "outputs": [
    {
     "name": "stderr",
     "output_type": "stream",
     "text": [
      "WARNING:absl:At this time, the v2.11+ optimizer `tf.keras.optimizers.SGD` runs slowly on M1/M2 Macs, please use the legacy Keras optimizer instead, located at `tf.keras.optimizers.legacy.SGD`.\n"
     ]
    }
   ],
   "source": [
    "init = tf.initializers.zeros()\n",
    "activate = 'relu'\n",
    "optimizer = tf.keras.optimizers.SGD(learning_rate=0.01)"
   ]
  },
  {
   "cell_type": "code",
   "execution_count": null,
   "metadata": {},
   "outputs": [],
   "source": [
    "model_zeros = simple_model(init, activate)"
   ]
  },
  {
   "cell_type": "code",
   "execution_count": null,
   "metadata": {},
   "outputs": [
    {
     "name": "stdout",
     "output_type": "stream",
     "text": [
      "Epoch 1/10\n",
      "19/19 [==============================] - 1s 13ms/step - loss: 2.3026 - accuracy: 0.1119 - val_loss: 2.3025 - val_accuracy: 0.1095\n",
      "Epoch 2/10\n",
      "19/19 [==============================] - 0s 5ms/step - loss: 2.3025 - accuracy: 0.1126 - val_loss: 2.3025 - val_accuracy: 0.1095\n",
      "Epoch 3/10\n",
      "19/19 [==============================] - 0s 6ms/step - loss: 2.3024 - accuracy: 0.1126 - val_loss: 2.3024 - val_accuracy: 0.1095\n",
      "Epoch 4/10\n",
      "19/19 [==============================] - 0s 5ms/step - loss: 2.3024 - accuracy: 0.1126 - val_loss: 2.3024 - val_accuracy: 0.1095\n",
      "Epoch 5/10\n",
      "19/19 [==============================] - 0s 5ms/step - loss: 2.3023 - accuracy: 0.1126 - val_loss: 2.3023 - val_accuracy: 0.1095\n",
      "Epoch 6/10\n",
      "19/19 [==============================] - 0s 5ms/step - loss: 2.3023 - accuracy: 0.1126 - val_loss: 2.3023 - val_accuracy: 0.1095\n",
      "Epoch 7/10\n",
      "19/19 [==============================] - 0s 6ms/step - loss: 2.3022 - accuracy: 0.1126 - val_loss: 2.3023 - val_accuracy: 0.1095\n",
      "Epoch 8/10\n",
      "19/19 [==============================] - 0s 6ms/step - loss: 2.3022 - accuracy: 0.1126 - val_loss: 2.3022 - val_accuracy: 0.1095\n",
      "Epoch 9/10\n",
      "19/19 [==============================] - 0s 6ms/step - loss: 2.3021 - accuracy: 0.1126 - val_loss: 2.3022 - val_accuracy: 0.1095\n",
      "Epoch 10/10\n",
      "19/19 [==============================] - 0s 6ms/step - loss: 2.3021 - accuracy: 0.1126 - val_loss: 2.3022 - val_accuracy: 0.1095\n"
     ]
    },
    {
     "data": {
      "text/plain": [
       "<keras.src.callbacks.History at 0x2a0378210>"
      ]
     },
     "execution_count": 15,
     "metadata": {},
     "output_type": "execute_result"
    }
   ],
   "source": [
    "model_zeros.compile(optimizer=optimizer,loss='categorical_crossentropy',metrics=['accuracy'])\n",
    "model_zeros.fit(X_train, y_train, epochs=10, batch_size=3200, validation_data=(X_test, y_test))"
   ]
  },
  {
   "cell_type": "code",
   "execution_count": null,
   "metadata": {},
   "outputs": [
    {
     "name": "stderr",
     "output_type": "stream",
     "text": [
      "WARNING:absl:At this time, the v2.11+ optimizer `tf.keras.optimizers.SGD` runs slowly on M1/M2 Macs, please use the legacy Keras optimizer instead, located at `tf.keras.optimizers.legacy.SGD`.\n",
      "/Library/Frameworks/Python.framework/Versions/3.11/lib/python3.11/site-packages/keras/src/initializers/initializers.py:120: UserWarning: The initializer RandomNormal is unseeded and being called multiple times, which will return identical values each time (even if the initializer is unseeded). Please update your code to provide a seed to the initializer, or avoid using the same initializer instance more than once.\n",
      "  warnings.warn(\n"
     ]
    },
    {
     "name": "stdout",
     "output_type": "stream",
     "text": [
      "Epoch 1/10\n",
      "19/19 [==============================] - 0s 11ms/step - loss: 2.3023 - accuracy: 0.1111 - val_loss: 2.3019 - val_accuracy: 0.1310\n",
      "Epoch 2/10\n",
      "19/19 [==============================] - 0s 5ms/step - loss: 2.3018 - accuracy: 0.1326 - val_loss: 2.3015 - val_accuracy: 0.1313\n",
      "Epoch 3/10\n",
      "19/19 [==============================] - 0s 5ms/step - loss: 2.3014 - accuracy: 0.1325 - val_loss: 2.3011 - val_accuracy: 0.1246\n",
      "Epoch 4/10\n",
      "19/19 [==============================] - 0s 6ms/step - loss: 2.3010 - accuracy: 0.1290 - val_loss: 2.3008 - val_accuracy: 0.1223\n",
      "Epoch 5/10\n",
      "19/19 [==============================] - 0s 6ms/step - loss: 2.3007 - accuracy: 0.1277 - val_loss: 2.3004 - val_accuracy: 0.1215\n",
      "Epoch 6/10\n",
      "19/19 [==============================] - 0s 6ms/step - loss: 2.3004 - accuracy: 0.1260 - val_loss: 2.3001 - val_accuracy: 0.1195\n",
      "Epoch 7/10\n",
      "19/19 [==============================] - 0s 5ms/step - loss: 2.3000 - accuracy: 0.1252 - val_loss: 2.2998 - val_accuracy: 0.1191\n",
      "Epoch 8/10\n",
      "19/19 [==============================] - 0s 6ms/step - loss: 2.2997 - accuracy: 0.1245 - val_loss: 2.2995 - val_accuracy: 0.1183\n",
      "Epoch 9/10\n",
      "19/19 [==============================] - 0s 6ms/step - loss: 2.2994 - accuracy: 0.1243 - val_loss: 2.2992 - val_accuracy: 0.1185\n",
      "Epoch 10/10\n",
      "19/19 [==============================] - 0s 6ms/step - loss: 2.2991 - accuracy: 0.1239 - val_loss: 2.2989 - val_accuracy: 0.1183\n"
     ]
    },
    {
     "data": {
      "text/plain": [
       "<keras.src.callbacks.History at 0x2a0382150>"
      ]
     },
     "execution_count": 16,
     "metadata": {},
     "output_type": "execute_result"
    }
   ],
   "source": [
    "init = tf.initializers.random_normal()\n",
    "activate = 'relu'\n",
    "optimizer = tf.keras.optimizers.SGD(learning_rate=0.01)\n",
    "model_normal = simple_model(init, activate)\n",
    "model_normal.compile(optimizer=optimizer, loss='categorical_crossentropy', metrics=['accuracy'])\n",
    "model_normal.fit(X_train, y_train, epochs=10, batch_size=3200, validation_data=(X_test, y_test))"
   ]
  },
  {
   "cell_type": "code",
   "execution_count": null,
   "metadata": {},
   "outputs": [
    {
     "name": "stderr",
     "output_type": "stream",
     "text": [
      "WARNING:absl:At this time, the v2.11+ optimizer `tf.keras.optimizers.SGD` runs slowly on M1/M2 Macs, please use the legacy Keras optimizer instead, located at `tf.keras.optimizers.legacy.SGD`.\n",
      "/Library/Frameworks/Python.framework/Versions/3.11/lib/python3.11/site-packages/keras/src/initializers/initializers.py:120: UserWarning: The initializer GlorotUniform is unseeded and being called multiple times, which will return identical values each time (even if the initializer is unseeded). Please update your code to provide a seed to the initializer, or avoid using the same initializer instance more than once.\n",
      "  warnings.warn(\n"
     ]
    },
    {
     "name": "stdout",
     "output_type": "stream",
     "text": [
      "Epoch 1/10\n",
      "19/19 [==============================] - 1s 23ms/step - loss: 2.2831 - accuracy: 0.1446 - val_loss: 2.2621 - val_accuracy: 0.1690\n",
      "Epoch 2/10\n",
      "19/19 [==============================] - 0s 6ms/step - loss: 2.2336 - accuracy: 0.1991 - val_loss: 2.2142 - val_accuracy: 0.2275\n",
      "Epoch 3/10\n",
      "19/19 [==============================] - 0s 6ms/step - loss: 2.1852 - accuracy: 0.2592 - val_loss: 2.1647 - val_accuracy: 0.2892\n",
      "Epoch 4/10\n",
      "19/19 [==============================] - 0s 6ms/step - loss: 2.1333 - accuracy: 0.3141 - val_loss: 2.1097 - val_accuracy: 0.3398\n",
      "Epoch 5/10\n",
      "19/19 [==============================] - 0s 5ms/step - loss: 2.0744 - accuracy: 0.3600 - val_loss: 2.0470 - val_accuracy: 0.3768\n",
      "Epoch 6/10\n",
      "19/19 [==============================] - 0s 5ms/step - loss: 2.0066 - accuracy: 0.3983 - val_loss: 1.9755 - val_accuracy: 0.4056\n",
      "Epoch 7/10\n",
      "19/19 [==============================] - 0s 6ms/step - loss: 1.9297 - accuracy: 0.4229 - val_loss: 1.8959 - val_accuracy: 0.4253\n",
      "Epoch 8/10\n",
      "19/19 [==============================] - 0s 6ms/step - loss: 1.8453 - accuracy: 0.4411 - val_loss: 1.8110 - val_accuracy: 0.4403\n",
      "Epoch 9/10\n",
      "19/19 [==============================] - 0s 6ms/step - loss: 1.7577 - accuracy: 0.4570 - val_loss: 1.7253 - val_accuracy: 0.4594\n",
      "Epoch 10/10\n",
      "19/19 [==============================] - 0s 6ms/step - loss: 1.6725 - accuracy: 0.4722 - val_loss: 1.6442 - val_accuracy: 0.4788\n"
     ]
    },
    {
     "data": {
      "text/plain": [
       "<keras.src.callbacks.History at 0x2a0721fd0>"
      ]
     },
     "execution_count": 17,
     "metadata": {},
     "output_type": "execute_result"
    }
   ],
   "source": [
    "init = tf.initializers.glorot_uniform()\n",
    "activate = 'relu'\n",
    "optimizer = tf.keras.optimizers.SGD(learning_rate=0.01)\n",
    "model_glorotu = simple_model(init, activate)\n",
    "model_glorotu.compile(optimizer=optimizer, loss='categorical_crossentropy', metrics=['accuracy'])\n",
    "model_glorotu.fit(X_train, y_train, epochs=10, batch_size=3200, validation_data=(X_test, y_test))"
   ]
  },
  {
   "cell_type": "code",
   "execution_count": null,
   "metadata": {},
   "outputs": [],
   "source": []
  }
 ],
 "metadata": {
  "kernelspec": {
   "display_name": "Python 3",
   "language": "python",
   "name": "python3"
  },
  "language_info": {
   "codemirror_mode": {
    "name": "ipython",
    "version": 3
   },
   "file_extension": ".py",
   "mimetype": "text/x-python",
   "name": "python",
   "nbconvert_exporter": "python",
   "pygments_lexer": "ipython3",
   "version": "3.11.5"
  },
  "orig_nbformat": 4
 },
 "nbformat": 4,
 "nbformat_minor": 2
}
