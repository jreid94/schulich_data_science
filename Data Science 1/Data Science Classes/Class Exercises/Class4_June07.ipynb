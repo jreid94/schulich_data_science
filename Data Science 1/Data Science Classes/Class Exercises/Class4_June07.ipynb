{
 "cells": [
  {
   "cell_type": "code",
   "execution_count": 3,
   "metadata": {},
   "outputs": [],
   "source": [
    "import pandas as pd"
   ]
  },
  {
   "cell_type": "code",
   "execution_count": 12,
   "metadata": {},
   "outputs": [],
   "source": [
    "import seaborn as sns"
   ]
  },
  {
   "cell_type": "code",
   "execution_count": 13,
   "metadata": {},
   "outputs": [],
   "source": [
    "import numpy as np"
   ]
  },
  {
   "cell_type": "code",
   "execution_count": 4,
   "metadata": {},
   "outputs": [],
   "source": [
    "df = pd.read_csv(r'C:\\Users\\jsrei\\OneDrive\\Desktop\\MBAN 6110\\new_data.csv')"
   ]
  },
  {
   "cell_type": "code",
   "execution_count": 14,
   "metadata": {},
   "outputs": [
    {
     "name": "stdout",
     "output_type": "stream",
     "text": [
      "<class 'pandas.core.frame.DataFrame'>\n",
      "RangeIndex: 10000000 entries, 0 to 9999999\n",
      "Data columns (total 10 columns):\n",
      " #   Column         Dtype  \n",
      "---  ------         -----  \n",
      " 0   Unnamed: 0     int64  \n",
      " 1   event_time     object \n",
      " 2   event_type     object \n",
      " 3   product_id     int64  \n",
      " 4   category_id    int64  \n",
      " 5   category_code  object \n",
      " 6   brand          object \n",
      " 7   price          float64\n",
      " 8   user_id        int64  \n",
      " 9   user_session   object \n",
      "dtypes: float64(1), int64(4), object(5)\n",
      "memory usage: 762.9+ MB\n"
     ]
    }
   ],
   "source": [
    "df.info()"
   ]
  },
  {
   "cell_type": "code",
   "execution_count": 7,
   "metadata": {},
   "outputs": [
    {
     "data": {
      "text/html": [
       "<div>\n",
       "<style scoped>\n",
       "    .dataframe tbody tr th:only-of-type {\n",
       "        vertical-align: middle;\n",
       "    }\n",
       "\n",
       "    .dataframe tbody tr th {\n",
       "        vertical-align: top;\n",
       "    }\n",
       "\n",
       "    .dataframe thead th {\n",
       "        text-align: right;\n",
       "    }\n",
       "</style>\n",
       "<table border=\"1\" class=\"dataframe\">\n",
       "  <thead>\n",
       "    <tr style=\"text-align: right;\">\n",
       "      <th></th>\n",
       "      <th>Unnamed: 0</th>\n",
       "      <th>event_time</th>\n",
       "      <th>event_type</th>\n",
       "      <th>product_id</th>\n",
       "      <th>category_id</th>\n",
       "      <th>category_code</th>\n",
       "      <th>brand</th>\n",
       "      <th>price</th>\n",
       "      <th>user_id</th>\n",
       "      <th>user_session</th>\n",
       "    </tr>\n",
       "  </thead>\n",
       "  <tbody>\n",
       "    <tr>\n",
       "      <th>0</th>\n",
       "      <td>0</td>\n",
       "      <td>2019-11-01 00:00:00 UTC</td>\n",
       "      <td>view</td>\n",
       "      <td>1003461</td>\n",
       "      <td>2053013555631882655</td>\n",
       "      <td>electronics.smartphone</td>\n",
       "      <td>xiaomi</td>\n",
       "      <td>489.07</td>\n",
       "      <td>520088904</td>\n",
       "      <td>4d3b30da-a5e4-49df-b1a8-ba5943f1dd33</td>\n",
       "    </tr>\n",
       "    <tr>\n",
       "      <th>1</th>\n",
       "      <td>1</td>\n",
       "      <td>2019-11-01 00:00:00 UTC</td>\n",
       "      <td>view</td>\n",
       "      <td>5000088</td>\n",
       "      <td>2053013566100866035</td>\n",
       "      <td>appliances.sewing_machine</td>\n",
       "      <td>janome</td>\n",
       "      <td>293.65</td>\n",
       "      <td>530496790</td>\n",
       "      <td>8e5f4f83-366c-4f70-860e-ca7417414283</td>\n",
       "    </tr>\n",
       "    <tr>\n",
       "      <th>2</th>\n",
       "      <td>2</td>\n",
       "      <td>2019-11-01 00:00:01 UTC</td>\n",
       "      <td>view</td>\n",
       "      <td>17302664</td>\n",
       "      <td>2053013553853497655</td>\n",
       "      <td>NaN</td>\n",
       "      <td>creed</td>\n",
       "      <td>28.31</td>\n",
       "      <td>561587266</td>\n",
       "      <td>755422e7-9040-477b-9bd2-6a6e8fd97387</td>\n",
       "    </tr>\n",
       "    <tr>\n",
       "      <th>3</th>\n",
       "      <td>3</td>\n",
       "      <td>2019-11-01 00:00:01 UTC</td>\n",
       "      <td>view</td>\n",
       "      <td>3601530</td>\n",
       "      <td>2053013563810775923</td>\n",
       "      <td>appliances.kitchen.washer</td>\n",
       "      <td>lg</td>\n",
       "      <td>712.87</td>\n",
       "      <td>518085591</td>\n",
       "      <td>3bfb58cd-7892-48cc-8020-2f17e6de6e7f</td>\n",
       "    </tr>\n",
       "    <tr>\n",
       "      <th>4</th>\n",
       "      <td>4</td>\n",
       "      <td>2019-11-01 00:00:01 UTC</td>\n",
       "      <td>view</td>\n",
       "      <td>1004775</td>\n",
       "      <td>2053013555631882655</td>\n",
       "      <td>electronics.smartphone</td>\n",
       "      <td>xiaomi</td>\n",
       "      <td>183.27</td>\n",
       "      <td>558856683</td>\n",
       "      <td>313628f1-68b8-460d-84f6-cec7a8796ef2</td>\n",
       "    </tr>\n",
       "  </tbody>\n",
       "</table>\n",
       "</div>"
      ],
      "text/plain": [
       "   Unnamed: 0               event_time event_type  product_id   \n",
       "0           0  2019-11-01 00:00:00 UTC       view     1003461  \\\n",
       "1           1  2019-11-01 00:00:00 UTC       view     5000088   \n",
       "2           2  2019-11-01 00:00:01 UTC       view    17302664   \n",
       "3           3  2019-11-01 00:00:01 UTC       view     3601530   \n",
       "4           4  2019-11-01 00:00:01 UTC       view     1004775   \n",
       "\n",
       "           category_id              category_code   brand   price    user_id   \n",
       "0  2053013555631882655     electronics.smartphone  xiaomi  489.07  520088904  \\\n",
       "1  2053013566100866035  appliances.sewing_machine  janome  293.65  530496790   \n",
       "2  2053013553853497655                        NaN   creed   28.31  561587266   \n",
       "3  2053013563810775923  appliances.kitchen.washer      lg  712.87  518085591   \n",
       "4  2053013555631882655     electronics.smartphone  xiaomi  183.27  558856683   \n",
       "\n",
       "                           user_session  \n",
       "0  4d3b30da-a5e4-49df-b1a8-ba5943f1dd33  \n",
       "1  8e5f4f83-366c-4f70-860e-ca7417414283  \n",
       "2  755422e7-9040-477b-9bd2-6a6e8fd97387  \n",
       "3  3bfb58cd-7892-48cc-8020-2f17e6de6e7f  \n",
       "4  313628f1-68b8-460d-84f6-cec7a8796ef2  "
      ]
     },
     "execution_count": 7,
     "metadata": {},
     "output_type": "execute_result"
    }
   ],
   "source": [
    "df.head()"
   ]
  },
  {
   "cell_type": "code",
   "execution_count": 11,
   "metadata": {},
   "outputs": [
    {
     "data": {
      "text/html": [
       "<div>\n",
       "<style scoped>\n",
       "    .dataframe tbody tr th:only-of-type {\n",
       "        vertical-align: middle;\n",
       "    }\n",
       "\n",
       "    .dataframe tbody tr th {\n",
       "        vertical-align: top;\n",
       "    }\n",
       "\n",
       "    .dataframe thead th {\n",
       "        text-align: right;\n",
       "    }\n",
       "</style>\n",
       "<table border=\"1\" class=\"dataframe\">\n",
       "  <thead>\n",
       "    <tr style=\"text-align: right;\">\n",
       "      <th></th>\n",
       "      <th>Unnamed: 0</th>\n",
       "      <th>event_time</th>\n",
       "      <th>event_type</th>\n",
       "      <th>product_id</th>\n",
       "      <th>category_id</th>\n",
       "      <th>category_code</th>\n",
       "      <th>brand</th>\n",
       "      <th>price</th>\n",
       "      <th>user_id</th>\n",
       "      <th>user_session</th>\n",
       "    </tr>\n",
       "  </thead>\n",
       "  <tbody>\n",
       "    <tr>\n",
       "      <th>9999995</th>\n",
       "      <td>9999995</td>\n",
       "      <td>2019-11-07 05:08:21 UTC</td>\n",
       "      <td>view</td>\n",
       "      <td>1005115</td>\n",
       "      <td>2053013555631882655</td>\n",
       "      <td>electronics.smartphone</td>\n",
       "      <td>apple</td>\n",
       "      <td>915.69</td>\n",
       "      <td>517800555</td>\n",
       "      <td>c6b764e0-561c-4c17-a546-2e922196bb49</td>\n",
       "    </tr>\n",
       "    <tr>\n",
       "      <th>9999996</th>\n",
       "      <td>9999996</td>\n",
       "      <td>2019-11-07 05:08:21 UTC</td>\n",
       "      <td>view</td>\n",
       "      <td>12707281</td>\n",
       "      <td>2053013553559896355</td>\n",
       "      <td>NaN</td>\n",
       "      <td>gislaved</td>\n",
       "      <td>90.86</td>\n",
       "      <td>539095445</td>\n",
       "      <td>b1673b33-d0ff-4a09-bf57-56dedc3d016e</td>\n",
       "    </tr>\n",
       "    <tr>\n",
       "      <th>9999997</th>\n",
       "      <td>9999997</td>\n",
       "      <td>2019-11-07 05:08:21 UTC</td>\n",
       "      <td>view</td>\n",
       "      <td>3601405</td>\n",
       "      <td>2053013563810775923</td>\n",
       "      <td>appliances.kitchen.washer</td>\n",
       "      <td>beko</td>\n",
       "      <td>180.16</td>\n",
       "      <td>548916637</td>\n",
       "      <td>e020a307-551c-4e58-a787-126701d30d41</td>\n",
       "    </tr>\n",
       "    <tr>\n",
       "      <th>9999998</th>\n",
       "      <td>9999998</td>\n",
       "      <td>2019-11-07 05:08:21 UTC</td>\n",
       "      <td>view</td>\n",
       "      <td>12711053</td>\n",
       "      <td>2053013553559896355</td>\n",
       "      <td>NaN</td>\n",
       "      <td>tunga</td>\n",
       "      <td>32.69</td>\n",
       "      <td>521586999</td>\n",
       "      <td>c8c48941-2ca1-4ce4-8d44-c96eb5df4fb5</td>\n",
       "    </tr>\n",
       "    <tr>\n",
       "      <th>9999999</th>\n",
       "      <td>9999999</td>\n",
       "      <td>2019-11-07 05:08:21 UTC</td>\n",
       "      <td>cart</td>\n",
       "      <td>1005121</td>\n",
       "      <td>2053013555631882655</td>\n",
       "      <td>electronics.smartphone</td>\n",
       "      <td>apple</td>\n",
       "      <td>947.98</td>\n",
       "      <td>563025983</td>\n",
       "      <td>9b19a94a-78b9-4ff8-8334-f48eed7cc0a0</td>\n",
       "    </tr>\n",
       "  </tbody>\n",
       "</table>\n",
       "</div>"
      ],
      "text/plain": [
       "         Unnamed: 0               event_time event_type  product_id   \n",
       "9999995     9999995  2019-11-07 05:08:21 UTC       view     1005115  \\\n",
       "9999996     9999996  2019-11-07 05:08:21 UTC       view    12707281   \n",
       "9999997     9999997  2019-11-07 05:08:21 UTC       view     3601405   \n",
       "9999998     9999998  2019-11-07 05:08:21 UTC       view    12711053   \n",
       "9999999     9999999  2019-11-07 05:08:21 UTC       cart     1005121   \n",
       "\n",
       "                 category_id              category_code     brand   price   \n",
       "9999995  2053013555631882655     electronics.smartphone     apple  915.69  \\\n",
       "9999996  2053013553559896355                        NaN  gislaved   90.86   \n",
       "9999997  2053013563810775923  appliances.kitchen.washer      beko  180.16   \n",
       "9999998  2053013553559896355                        NaN     tunga   32.69   \n",
       "9999999  2053013555631882655     electronics.smartphone     apple  947.98   \n",
       "\n",
       "           user_id                          user_session  \n",
       "9999995  517800555  c6b764e0-561c-4c17-a546-2e922196bb49  \n",
       "9999996  539095445  b1673b33-d0ff-4a09-bf57-56dedc3d016e  \n",
       "9999997  548916637  e020a307-551c-4e58-a787-126701d30d41  \n",
       "9999998  521586999  c8c48941-2ca1-4ce4-8d44-c96eb5df4fb5  \n",
       "9999999  563025983  9b19a94a-78b9-4ff8-8334-f48eed7cc0a0  "
      ]
     },
     "execution_count": 11,
     "metadata": {},
     "output_type": "execute_result"
    }
   ],
   "source": [
    "df.tail()"
   ]
  },
  {
   "cell_type": "code",
   "execution_count": 44,
   "metadata": {},
   "outputs": [
    {
     "data": {
      "text/plain": [
       "brand\n",
       "samsung      1158050\n",
       "apple         973075\n",
       "xiaomi        689221\n",
       "huawei        225057\n",
       "cordiant      150393\n",
       "              ...   \n",
       "qazaqkhan          1\n",
       "suda               1\n",
       "kladez             1\n",
       "qplay              1\n",
       "carino             1\n",
       "Name: brand, Length: 3373, dtype: int64"
      ]
     },
     "execution_count": 44,
     "metadata": {},
     "output_type": "execute_result"
    }
   ],
   "source": [
    "df.groupby('brand')['brand'].count().sort_values(ascending=False)"
   ]
  },
  {
   "cell_type": "code",
   "execution_count": 50,
   "metadata": {},
   "outputs": [
    {
     "data": {
      "text/plain": [
       "<Axes: xlabel='event_type'>"
      ]
     },
     "execution_count": 50,
     "metadata": {},
     "output_type": "execute_result"
    },
    {
     "data": {
      "image/png": "[encoded data removed]",
      "text/plain": [
       "<Figure size 640x480 with 1 Axes>"
      ]
     },
     "metadata": {},
     "output_type": "display_data"
    }
   ],
   "source": [
    "top_10_values = df['brand'].value_counts().nlargest(10).index.tolist()\n",
    "filtered_data = df[df['brand'].isin(top_10_values)]\n",
    "grouped_data = filtered_data.groupby('brand')['event_type'].count()\n",
    "colors = ['red', 'yellow', 'green']\n",
    "    \n",
    "sns.barplot(x=grouped_data, palette=colors)"
   ]
  }
 ],
 "metadata": {
  "kernelspec": {
   "display_name": "Python 3",
   "language": "python",
   "name": "python3"
  },
  "language_info": {
   "codemirror_mode": {
    "name": "ipython",
    "version": 3
   },
   "file_extension": ".py",
   "mimetype": "text/x-python",
   "name": "python",
   "nbconvert_exporter": "python",
   "pygments_lexer": "ipython3",
   "version": "3.11.0"
  },
  "orig_nbformat": 4
 },
 "nbformat": 4,
 "nbformat_minor": 2
}
