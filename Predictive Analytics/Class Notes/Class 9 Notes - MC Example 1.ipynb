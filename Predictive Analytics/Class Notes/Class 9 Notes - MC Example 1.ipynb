{
 "cells": [
  {
   "cell_type": "code",
   "execution_count": 1,
   "metadata": {},
   "outputs": [],
   "source": [
    "import numpy as np\n",
    "import pandas as pd\n",
    "import matplotlib.pyplot as plt"
   ]
  },
  {
   "cell_type": "code",
   "execution_count": 2,
   "metadata": {},
   "outputs": [],
   "source": [
    "values = np.array([1,2,3,4,5,6,7,8])\n",
    "hits = np.array([12,13,43,65,10,5,4,3])"
   ]
  },
  {
   "cell_type": "code",
   "execution_count": 3,
   "metadata": {},
   "outputs": [
    {
     "data": {
      "text/plain": [
       "array([0.07741935, 0.08387097, 0.27741935, 0.41935484, 0.06451613,\n",
       "       0.03225806, 0.02580645, 0.01935484])"
      ]
     },
     "execution_count": 3,
     "metadata": {},
     "output_type": "execute_result"
    }
   ],
   "source": [
    "# Now we calculate the probability values from hits (i.e., frequencies)\n",
    "probs = hits/np.sum(hits)\n",
    "probs"
   ]
  },
  {
   "cell_type": "code",
   "execution_count": 4,
   "metadata": {},
   "outputs": [
    {
     "data": {
      "text/plain": [
       "array([0.07741935, 0.16129032, 0.43870968, 0.85806452, 0.92258065,\n",
       "       0.95483871, 0.98064516, 1.        ])"
      ]
     },
     "execution_count": 4,
     "metadata": {},
     "output_type": "execute_result"
    }
   ],
   "source": [
    "cum_probs = np.cumsum(probs)\n",
    "cum_probs"
   ]
  },
  {
   "cell_type": "code",
   "execution_count": 5,
   "metadata": {},
   "outputs": [],
   "source": [
    "# we now generate a random variable between zero and one\n",
    "random_variable = np.random.uniform(0,1,1)\n",
    "# this function gives the index value of the row such that random variable lies between lower and upper bounds\n",
    "index_value = min(np.argwhere(cum_probs>random_variable).ravel())\n",
    "# the assigned value then becomes\n",
    "assigned_value = values[index_value]"
   ]
  },
  {
   "cell_type": "code",
   "execution_count": 6,
   "metadata": {},
   "outputs": [],
   "source": [
    "# we now calculate the profit of the agent\n",
    "profit = 3*(assigned_value<5)+5*(assigned_value>=5)"
   ]
  },
  {
   "cell_type": "code",
   "execution_count": 7,
   "metadata": {},
   "outputs": [
    {
     "data": {
      "text/plain": [
       "[array([0.32106963]), 3, 3]"
      ]
     },
     "execution_count": 7,
     "metadata": {},
     "output_type": "execute_result"
    }
   ],
   "source": [
    "list([random_variable.ravel(), assigned_value, profit])"
   ]
  },
  {
   "cell_type": "code",
   "execution_count": 8,
   "metadata": {},
   "outputs": [],
   "source": [
    "m = 1000\n",
    "N = 100\n",
    "random_variable = np.random.uniform(0,1,[m,N])\n",
    "profit_values = np.zeros((m,N))\n",
    "for i in range(N):\n",
    "    profit_m = []\n",
    "    for j in range(m):\n",
    "        index_value = min(np.argwhere(cum_probs>random_variable[j,i]).ravel())\n",
    "        assigned_value = values[index_value]\n",
    "        profit_val = 3*(assigned_value<5)+5*(assigned_value>=5)\n",
    "        profit_m.append(profit_val)\n",
    "    profit_values[:,i] = profit_m"
   ]
  },
  {
   "cell_type": "code",
   "execution_count": 9,
   "metadata": {},
   "outputs": [
    {
     "data": {
      "text/plain": [
       "list[3.2755741642431078, 3.28048, 3.285385835756892]"
      ]
     },
     "execution_count": 9,
     "metadata": {},
     "output_type": "execute_result"
    }
   ],
   "source": [
    "# calculate the mean of each sample\n",
    "mean_sample = np.mean(profit_values, axis = 0)\n",
    "# calculate standard deviation\n",
    "sigma = np.std(mean_sample)\n",
    "# Mean of means\n",
    "f_bar_bar = np.mean(mean_sample)\n",
    "# Lower bound of CI\n",
    "lower_bound = f_bar_bar-1.96*sigma/np.sqrt(N)\n",
    "# Upper bound of CI\n",
    "upper_bound = f_bar_bar+1.96*sigma/np.sqrt(N)\n",
    "# Summary statistics Lower Bound, Mean of Means, Upper Bound\n",
    "list[lower_bound,f_bar_bar,upper_bound]"
   ]
  }
 ],
 "metadata": {
  "kernelspec": {
   "display_name": "Python 3",
   "language": "python",
   "name": "python3"
  },
  "language_info": {
   "codemirror_mode": {
    "name": "ipython",
    "version": 3
   },
   "file_extension": ".py",
   "mimetype": "text/x-python",
   "name": "python",
   "nbconvert_exporter": "python",
   "pygments_lexer": "ipython3",
   "version": "3.12.0"
  }
 },
 "nbformat": 4,
 "nbformat_minor": 2
}
