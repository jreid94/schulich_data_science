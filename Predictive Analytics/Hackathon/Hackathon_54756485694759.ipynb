{
 "cells": [
  {
   "cell_type": "markdown",
   "metadata": {},
   "source": [
    "# Group 5 Hackathon"
   ]
  },
  {
   "cell_type": "markdown",
   "metadata": {},
   "source": [
    "import necessary packages"
   ]
  },
  {
   "cell_type": "code",
   "execution_count": 516,
   "metadata": {},
   "outputs": [],
   "source": [
    "import pandas as pd\n",
    "import numpy as np\n",
    "from datetime import date, datetime, timedelta\n",
    "import matplotlib.pyplot as plt\n",
    "import seaborn as sns\n",
    "from sklearn.model_selection import train_test_split\n",
    "from sklearn.linear_model import LogisticRegression, Ridge, RidgeClassifier\n",
    "from sklearn.metrics import log_loss, accuracy_score, classification_report, confusion_matrix, mean_squared_error\n",
    "from sklearn.preprocessing import OneHotEncoder, StandardScaler, LabelEncoder\n",
    "from sklearn.impute import SimpleImputer\n",
    "from sklearn.compose import ColumnTransformer\n",
    "from sklearn.pipeline import Pipeline\n",
    "from statsmodels.tsa.stattools import adfuller\n",
    "from statsmodels.graphics.tsaplots import plot_acf, plot_pacf\n",
    "import statsmodels.api as sm\n",
    "from statsmodels.tsa.arima.model import ARIMA\n",
    "import warnings\n",
    "\n",
    "# Suppress warnings\n",
    "warnings.filterwarnings(\"ignore\")"
   ]
  },
  {
   "cell_type": "markdown",
   "metadata": {},
   "source": [
    "## Data Cleaning"
   ]
  },
  {
   "cell_type": "markdown",
   "metadata": {},
   "source": [
    "import the dataset"
   ]
  },
  {
   "cell_type": "code",
   "execution_count": 517,
   "metadata": {},
   "outputs": [],
   "source": [
    "df = pd.read_csv(r\"C:\\Users\\johns\\OneDrive\\Desktop\\MBAN Semester 2\\Predictive Analytics\\Hackathon\\Hackathon\\data_set_hackathon.csv\")"
   ]
  },
  {
   "cell_type": "markdown",
   "metadata": {},
   "source": [
    "get an overview of the data"
   ]
  },
  {
   "cell_type": "code",
   "execution_count": 518,
   "metadata": {},
   "outputs": [
    {
     "data": {
      "text/html": [
       "<div>\n",
       "<style scoped>\n",
       "    .dataframe tbody tr th:only-of-type {\n",
       "        vertical-align: middle;\n",
       "    }\n",
       "\n",
       "    .dataframe tbody tr th {\n",
       "        vertical-align: top;\n",
       "    }\n",
       "\n",
       "    .dataframe thead th {\n",
       "        text-align: right;\n",
       "    }\n",
       "</style>\n",
       "<table border=\"1\" class=\"dataframe\">\n",
       "  <thead>\n",
       "    <tr style=\"text-align: right;\">\n",
       "      <th></th>\n",
       "      <th>order_date</th>\n",
       "      <th>requested_delivery_date</th>\n",
       "      <th>Customer Country Code</th>\n",
       "      <th>Product Code</th>\n",
       "      <th>Description</th>\n",
       "      <th>order_type</th>\n",
       "      <th>Customer Order Code</th>\n",
       "      <th>value</th>\n",
       "      <th>Curr</th>\n",
       "      <th>items</th>\n",
       "      <th>Route</th>\n",
       "    </tr>\n",
       "  </thead>\n",
       "  <tbody>\n",
       "    <tr>\n",
       "      <th>0</th>\n",
       "      <td>13.07.2009</td>\n",
       "      <td>28.01.2010</td>\n",
       "      <td>RU</td>\n",
       "      <td>L10705000</td>\n",
       "      <td>Parka Outdoor Lifestyle STD</td>\n",
       "      <td>VO</td>\n",
       "      <td>3200435553</td>\n",
       "      <td>2337.00</td>\n",
       "      <td>RUB</td>\n",
       "      <td>6</td>\n",
       "      <td>RU0001</td>\n",
       "    </tr>\n",
       "    <tr>\n",
       "      <th>1</th>\n",
       "      <td>15.07.2009</td>\n",
       "      <td>24.03.2010</td>\n",
       "      <td>RU</td>\n",
       "      <td>L10705000</td>\n",
       "      <td>Parka Outdoor Lifestyle STD</td>\n",
       "      <td>VO</td>\n",
       "      <td>3200435694</td>\n",
       "      <td>10160.25</td>\n",
       "      <td>RUB</td>\n",
       "      <td>23</td>\n",
       "      <td>RU0001</td>\n",
       "    </tr>\n",
       "    <tr>\n",
       "      <th>2</th>\n",
       "      <td>16.07.2009</td>\n",
       "      <td>04.02.2010</td>\n",
       "      <td>RU</td>\n",
       "      <td>L10705000</td>\n",
       "      <td>Parka Outdoor Lifestyle STD</td>\n",
       "      <td>VO</td>\n",
       "      <td>3200435741</td>\n",
       "      <td>2992.50</td>\n",
       "      <td>RUB</td>\n",
       "      <td>7</td>\n",
       "      <td>RU0001</td>\n",
       "    </tr>\n",
       "    <tr>\n",
       "      <th>3</th>\n",
       "      <td>17.07.2009</td>\n",
       "      <td>04.02.2010</td>\n",
       "      <td>RU</td>\n",
       "      <td>L10705000</td>\n",
       "      <td>Parka Outdoor Lifestyle STD</td>\n",
       "      <td>VO</td>\n",
       "      <td>3200435907</td>\n",
       "      <td>4061.25</td>\n",
       "      <td>RUB</td>\n",
       "      <td>9</td>\n",
       "      <td>RU0001</td>\n",
       "    </tr>\n",
       "    <tr>\n",
       "      <th>4</th>\n",
       "      <td>21.07.2009</td>\n",
       "      <td>01.02.2010</td>\n",
       "      <td>RU</td>\n",
       "      <td>L10705000</td>\n",
       "      <td>Parka Outdoor Lifestyle STD</td>\n",
       "      <td>VO</td>\n",
       "      <td>3200435963</td>\n",
       "      <td>2208.75</td>\n",
       "      <td>RUB</td>\n",
       "      <td>5</td>\n",
       "      <td>RU0001</td>\n",
       "    </tr>\n",
       "  </tbody>\n",
       "</table>\n",
       "</div>"
      ],
      "text/plain": [
       "   order_date requested_delivery_date Customer Country Code Product Code  \\\n",
       "0  13.07.2009              28.01.2010                    RU    L10705000   \n",
       "1  15.07.2009              24.03.2010                    RU    L10705000   \n",
       "2  16.07.2009              04.02.2010                    RU    L10705000   \n",
       "3  17.07.2009              04.02.2010                    RU    L10705000   \n",
       "4  21.07.2009              01.02.2010                    RU    L10705000   \n",
       "\n",
       "                   Description order_type  Customer Order Code     value Curr  \\\n",
       "0  Parka Outdoor Lifestyle STD         VO           3200435553   2337.00  RUB   \n",
       "1  Parka Outdoor Lifestyle STD         VO           3200435694  10160.25  RUB   \n",
       "2  Parka Outdoor Lifestyle STD         VO           3200435741   2992.50  RUB   \n",
       "3  Parka Outdoor Lifestyle STD         VO           3200435907   4061.25  RUB   \n",
       "4  Parka Outdoor Lifestyle STD         VO           3200435963   2208.75  RUB   \n",
       "\n",
       "  items   Route  \n",
       "0     6  RU0001  \n",
       "1    23  RU0001  \n",
       "2     7  RU0001  \n",
       "3     9  RU0001  \n",
       "4     5  RU0001  "
      ]
     },
     "execution_count": 518,
     "metadata": {},
     "output_type": "execute_result"
    }
   ],
   "source": [
    "df.head()"
   ]
  },
  {
   "cell_type": "code",
   "execution_count": 519,
   "metadata": {},
   "outputs": [
    {
     "name": "stdout",
     "output_type": "stream",
     "text": [
      "<class 'pandas.core.frame.DataFrame'>\n",
      "RangeIndex: 2420 entries, 0 to 2419\n",
      "Data columns (total 11 columns):\n",
      " #   Column                   Non-Null Count  Dtype  \n",
      "---  ------                   --------------  -----  \n",
      " 0   order_date               2420 non-null   object \n",
      " 1   requested_delivery_date  2420 non-null   object \n",
      " 2   Customer Country Code    2420 non-null   object \n",
      " 3   Product Code             2420 non-null   object \n",
      " 4   Description              2420 non-null   object \n",
      " 5   order_type               2420 non-null   object \n",
      " 6   Customer Order Code      2420 non-null   int64  \n",
      " 7   value                    2420 non-null   float64\n",
      " 8   Curr                     2420 non-null   object \n",
      " 9   items                    2420 non-null   object \n",
      " 10  Route                    2420 non-null   object \n",
      "dtypes: float64(1), int64(1), object(9)\n",
      "memory usage: 208.1+ KB\n"
     ]
    }
   ],
   "source": [
    "df.info()"
   ]
  },
  {
   "cell_type": "markdown",
   "metadata": {},
   "source": [
    "Check the amount of unique product codes"
   ]
  },
  {
   "cell_type": "code",
   "execution_count": 520,
   "metadata": {},
   "outputs": [
    {
     "data": {
      "text/plain": [
       "array(['L10705000', 'L10705100', 'L10705200', 'L10705300', 'L10705400',\n",
       "       'L10705500', 'L10705600', 'L10705700', 'L10850600', 'L10850700',\n",
       "       'L10850800', 'L10850900', 'L10852800', 'L10852900', 'L10853100',\n",
       "       'L12134400', 'L12134500', 'L12134600', 'L12134700', 'L12135800',\n",
       "       'L12135900', 'L12136000', 'L12136100', 'L12916800', 'L12916900',\n",
       "       'L12917000', 'L12917100', 'L12917700', 'L12917800', 'L12917900',\n",
       "       'L12918000', 'L12918400', 'L12918500', 'L12918600', 'L12918700',\n",
       "       'L12918800', 'L12918900', 'L12919000', 'L12919100', 'L12919200'],\n",
       "      dtype=object)"
      ]
     },
     "execution_count": 520,
     "metadata": {},
     "output_type": "execute_result"
    }
   ],
   "source": [
    "df['Product Code'].unique()"
   ]
  },
  {
   "cell_type": "markdown",
   "metadata": {},
   "source": [
    "Set date values to datetime format"
   ]
  },
  {
   "cell_type": "code",
   "execution_count": 521,
   "metadata": {},
   "outputs": [],
   "source": [
    "df['order_date'] = pd.to_datetime(df['order_date'], format='%d.%m.%Y')\n",
    "df['requested_delivery_date'] = pd.to_datetime(df['requested_delivery_date'], format='%d.%m.%Y')"
   ]
  },
  {
   "cell_type": "markdown",
   "metadata": {},
   "source": [
    "Sort the values by datetime"
   ]
  },
  {
   "cell_type": "code",
   "execution_count": 522,
   "metadata": {},
   "outputs": [],
   "source": [
    "from datetime import date\n",
    "df.sort_values(by='order_date', inplace=True)"
   ]
  },
  {
   "cell_type": "code",
   "execution_count": 523,
   "metadata": {},
   "outputs": [
    {
     "data": {
      "text/html": [
       "<div>\n",
       "<style scoped>\n",
       "    .dataframe tbody tr th:only-of-type {\n",
       "        vertical-align: middle;\n",
       "    }\n",
       "\n",
       "    .dataframe tbody tr th {\n",
       "        vertical-align: top;\n",
       "    }\n",
       "\n",
       "    .dataframe thead th {\n",
       "        text-align: right;\n",
       "    }\n",
       "</style>\n",
       "<table border=\"1\" class=\"dataframe\">\n",
       "  <thead>\n",
       "    <tr style=\"text-align: right;\">\n",
       "      <th></th>\n",
       "      <th>order_date</th>\n",
       "      <th>requested_delivery_date</th>\n",
       "      <th>Customer Country Code</th>\n",
       "      <th>Product Code</th>\n",
       "      <th>Description</th>\n",
       "      <th>order_type</th>\n",
       "      <th>Customer Order Code</th>\n",
       "      <th>value</th>\n",
       "      <th>Curr</th>\n",
       "      <th>items</th>\n",
       "      <th>Route</th>\n",
       "    </tr>\n",
       "  </thead>\n",
       "  <tbody>\n",
       "    <tr>\n",
       "      <th>25</th>\n",
       "      <td>2009-07-08</td>\n",
       "      <td>2010-01-28</td>\n",
       "      <td>RU</td>\n",
       "      <td>L10705100</td>\n",
       "      <td>Parka Outdoor Lifestyle STD</td>\n",
       "      <td>VO</td>\n",
       "      <td>3200435289</td>\n",
       "      <td>2650.50</td>\n",
       "      <td>RUB</td>\n",
       "      <td>6</td>\n",
       "      <td>RU0001</td>\n",
       "    </tr>\n",
       "    <tr>\n",
       "      <th>35</th>\n",
       "      <td>2009-07-08</td>\n",
       "      <td>2010-01-28</td>\n",
       "      <td>RU</td>\n",
       "      <td>L10705200</td>\n",
       "      <td>Parka Outdoor Lifestyle STD</td>\n",
       "      <td>VO</td>\n",
       "      <td>3200435289</td>\n",
       "      <td>2650.50</td>\n",
       "      <td>RUB</td>\n",
       "      <td>6</td>\n",
       "      <td>RU0001</td>\n",
       "    </tr>\n",
       "    <tr>\n",
       "      <th>136</th>\n",
       "      <td>2009-07-08</td>\n",
       "      <td>2010-01-28</td>\n",
       "      <td>RU</td>\n",
       "      <td>L10705700</td>\n",
       "      <td>Parka Outdoor Lifestyle STD</td>\n",
       "      <td>VO</td>\n",
       "      <td>3200435289</td>\n",
       "      <td>3092.25</td>\n",
       "      <td>RUB</td>\n",
       "      <td>7</td>\n",
       "      <td>RU0001</td>\n",
       "    </tr>\n",
       "    <tr>\n",
       "      <th>112</th>\n",
       "      <td>2009-07-08</td>\n",
       "      <td>2010-01-28</td>\n",
       "      <td>RU</td>\n",
       "      <td>L10705600</td>\n",
       "      <td>Parka Outdoor Lifestyle STD</td>\n",
       "      <td>VO</td>\n",
       "      <td>3200435289</td>\n",
       "      <td>2208.75</td>\n",
       "      <td>RUB</td>\n",
       "      <td>5</td>\n",
       "      <td>RU0001</td>\n",
       "    </tr>\n",
       "    <tr>\n",
       "      <th>67</th>\n",
       "      <td>2009-07-08</td>\n",
       "      <td>2010-01-28</td>\n",
       "      <td>RU</td>\n",
       "      <td>L10705400</td>\n",
       "      <td>Parka Outdoor Lifestyle STD</td>\n",
       "      <td>VO</td>\n",
       "      <td>3200435289</td>\n",
       "      <td>2208.75</td>\n",
       "      <td>RUB</td>\n",
       "      <td>5</td>\n",
       "      <td>RU0001</td>\n",
       "    </tr>\n",
       "  </tbody>\n",
       "</table>\n",
       "</div>"
      ],
      "text/plain": [
       "    order_date requested_delivery_date Customer Country Code Product Code  \\\n",
       "25  2009-07-08              2010-01-28                    RU    L10705100   \n",
       "35  2009-07-08              2010-01-28                    RU    L10705200   \n",
       "136 2009-07-08              2010-01-28                    RU    L10705700   \n",
       "112 2009-07-08              2010-01-28                    RU    L10705600   \n",
       "67  2009-07-08              2010-01-28                    RU    L10705400   \n",
       "\n",
       "                     Description order_type  Customer Order Code    value  \\\n",
       "25   Parka Outdoor Lifestyle STD         VO           3200435289  2650.50   \n",
       "35   Parka Outdoor Lifestyle STD         VO           3200435289  2650.50   \n",
       "136  Parka Outdoor Lifestyle STD         VO           3200435289  3092.25   \n",
       "112  Parka Outdoor Lifestyle STD         VO           3200435289  2208.75   \n",
       "67   Parka Outdoor Lifestyle STD         VO           3200435289  2208.75   \n",
       "\n",
       "    Curr items   Route  \n",
       "25   RUB     6  RU0001  \n",
       "35   RUB     6  RU0001  \n",
       "136  RUB     7  RU0001  \n",
       "112  RUB     5  RU0001  \n",
       "67   RUB     5  RU0001  "
      ]
     },
     "execution_count": 523,
     "metadata": {},
     "output_type": "execute_result"
    }
   ],
   "source": [
    "df.head()"
   ]
  },
  {
   "cell_type": "markdown",
   "metadata": {},
   "source": [
    "Check to see if there are any null values within the dataset"
   ]
  },
  {
   "cell_type": "code",
   "execution_count": 524,
   "metadata": {},
   "outputs": [
    {
     "name": "stdout",
     "output_type": "stream",
     "text": [
      "NaN values per column:\n",
      "order_date                 0\n",
      "requested_delivery_date    0\n",
      "Customer Country Code      0\n",
      "Product Code               0\n",
      "Description                0\n",
      "order_type                 0\n",
      "Customer Order Code        0\n",
      "value                      0\n",
      "Curr                       0\n",
      "items                      0\n",
      "Route                      0\n",
      "dtype: int64\n"
     ]
    }
   ],
   "source": [
    "nan_values = df.isna().sum()\n",
    "print(\"NaN values per column:\")\n",
    "print(nan_values)"
   ]
  },
  {
   "cell_type": "markdown",
   "metadata": {},
   "source": [
    "Check to see how many of the values within the items column are not numeric (/n)"
   ]
  },
  {
   "cell_type": "code",
   "execution_count": 525,
   "metadata": {},
   "outputs": [
    {
     "name": "stdout",
     "output_type": "stream",
     "text": [
      "order_date                 346\n",
      "requested_delivery_date    346\n",
      "Customer Country Code      346\n",
      "Product Code               346\n",
      "Description                346\n",
      "order_type                 346\n",
      "Customer Order Code        346\n",
      "value                      346\n",
      "Curr                       346\n",
      "items                      346\n",
      "Route                      346\n",
      "dtype: int64\n"
     ]
    }
   ],
   "source": [
    "# count the values in this dataframe where the items is not a number.\n",
    "print(df[~df['items'].str.isnumeric()].count())"
   ]
  },
  {
   "cell_type": "markdown",
   "metadata": {},
   "source": [
    "Drop these values"
   ]
  },
  {
   "cell_type": "code",
   "execution_count": 526,
   "metadata": {},
   "outputs": [],
   "source": [
    "# drop these  rows \n",
    "df = df[df['items'].str.isnumeric()]"
   ]
  },
  {
   "cell_type": "code",
   "execution_count": 527,
   "metadata": {},
   "outputs": [],
   "source": [
    "df['items'] = df['items'].apply(pd.to_numeric)"
   ]
  },
  {
   "cell_type": "code",
   "execution_count": 528,
   "metadata": {},
   "outputs": [
    {
     "data": {
      "text/plain": [
       "count    2074.000000\n",
       "mean        8.288814\n",
       "std        19.637378\n",
       "min         1.000000\n",
       "25%         4.000000\n",
       "50%         6.000000\n",
       "75%         8.000000\n",
       "max       410.000000\n",
       "Name: items, dtype: float64"
      ]
     },
     "execution_count": 528,
     "metadata": {},
     "output_type": "execute_result"
    }
   ],
   "source": [
    "df['items'].describe()"
   ]
  },
  {
   "cell_type": "markdown",
   "metadata": {},
   "source": [
    "67 is 3 standard deviations away from the mean.\n",
    "\n",
    "For this reason we will remove these values"
   ]
  },
  {
   "cell_type": "code",
   "execution_count": 529,
   "metadata": {},
   "outputs": [],
   "source": [
    "df = df[df['items'] < 67]"
   ]
  },
  {
   "cell_type": "code",
   "execution_count": 530,
   "metadata": {},
   "outputs": [
    {
     "name": "stdout",
     "output_type": "stream",
     "text": [
      "<class 'pandas.core.frame.DataFrame'>\n",
      "Index: 2063 entries, 25 to 477\n",
      "Data columns (total 11 columns):\n",
      " #   Column                   Non-Null Count  Dtype         \n",
      "---  ------                   --------------  -----         \n",
      " 0   order_date               2063 non-null   datetime64[ns]\n",
      " 1   requested_delivery_date  2063 non-null   datetime64[ns]\n",
      " 2   Customer Country Code    2063 non-null   object        \n",
      " 3   Product Code             2063 non-null   object        \n",
      " 4   Description              2063 non-null   object        \n",
      " 5   order_type               2063 non-null   object        \n",
      " 6   Customer Order Code      2063 non-null   int64         \n",
      " 7   value                    2063 non-null   float64       \n",
      " 8   Curr                     2063 non-null   object        \n",
      " 9   items                    2063 non-null   int64         \n",
      " 10  Route                    2063 non-null   object        \n",
      "dtypes: datetime64[ns](2), float64(1), int64(2), object(6)\n",
      "memory usage: 193.4+ KB\n"
     ]
    }
   ],
   "source": [
    "df.info()"
   ]
  },
  {
   "cell_type": "markdown",
   "metadata": {},
   "source": [
    "Drop the duplicate values"
   ]
  },
  {
   "cell_type": "code",
   "execution_count": 531,
   "metadata": {},
   "outputs": [],
   "source": [
    "df.drop_duplicates(inplace=True)"
   ]
  },
  {
   "cell_type": "markdown",
   "metadata": {},
   "source": [
    "There were 2 exact values"
   ]
  },
  {
   "cell_type": "code",
   "execution_count": 532,
   "metadata": {},
   "outputs": [
    {
     "name": "stdout",
     "output_type": "stream",
     "text": [
      "<class 'pandas.core.frame.DataFrame'>\n",
      "Index: 2061 entries, 25 to 477\n",
      "Data columns (total 11 columns):\n",
      " #   Column                   Non-Null Count  Dtype         \n",
      "---  ------                   --------------  -----         \n",
      " 0   order_date               2061 non-null   datetime64[ns]\n",
      " 1   requested_delivery_date  2061 non-null   datetime64[ns]\n",
      " 2   Customer Country Code    2061 non-null   object        \n",
      " 3   Product Code             2061 non-null   object        \n",
      " 4   Description              2061 non-null   object        \n",
      " 5   order_type               2061 non-null   object        \n",
      " 6   Customer Order Code      2061 non-null   int64         \n",
      " 7   value                    2061 non-null   float64       \n",
      " 8   Curr                     2061 non-null   object        \n",
      " 9   items                    2061 non-null   int64         \n",
      " 10  Route                    2061 non-null   object        \n",
      "dtypes: datetime64[ns](2), float64(1), int64(2), object(6)\n",
      "memory usage: 193.2+ KB\n"
     ]
    }
   ],
   "source": [
    "df.info()"
   ]
  },
  {
   "cell_type": "markdown",
   "metadata": {},
   "source": [
    "Check to see if requested delivery date is before the order date and remove those rows"
   ]
  },
  {
   "cell_type": "code",
   "execution_count": 533,
   "metadata": {},
   "outputs": [
    {
     "name": "stdout",
     "output_type": "stream",
     "text": [
      "    order_date requested_delivery_date Customer Country Code Product Code  \\\n",
      "523 2012-11-19              2012-11-16                    FR    L12134500   \n",
      "583 2012-11-19              2012-11-16                    FR    L12134600   \n",
      "742 2012-11-19              2012-11-16                    FR    L12135800   \n",
      "477 2012-11-19              2012-11-16                    FR    L12134400   \n",
      "\n",
      "                     Description order_type  Customer Order Code  value Curr  \\\n",
      "523  Parka Outdoor Lifestyle STD         VO           3201061588  525.0  EUR   \n",
      "583  Parka Outdoor Lifestyle STD         VO           3201061588   15.0  EUR   \n",
      "742  Parka Outdoor Lifestyle STD         VO           3201061588  495.0  EUR   \n",
      "477  Parka Outdoor Lifestyle STD         VO           3201061588  120.0  EUR   \n",
      "\n",
      "     items   Route Lead Time  \n",
      "523     35  FR0001   -3 days  \n",
      "583      1  FR0001   -3 days  \n",
      "742     33  FR0001   -3 days  \n",
      "477      8  FR0001   -3 days  \n",
      "Empty DataFrame\n",
      "Columns: [order_date, requested_delivery_date, Customer Country Code, Product Code, Description, order_type, Customer Order Code, value, Curr, items, Route, Lead Time]\n",
      "Index: []\n"
     ]
    }
   ],
   "source": [
    "# calculate the lead time by subtracting order_date from requested_delivery_date\n",
    "df['Lead Time'] = df['requested_delivery_date'] - df['order_date']\n",
    "# print check if any lead time is negative\n",
    "print(df[df['Lead Time'] < timedelta(days=0)])\n",
    "# delete the rows with negative lead time\n",
    "df = df[df['Lead Time'] > timedelta(days=0)]\n",
    "# check if any lead time is negative\n",
    "print(df[df['Lead Time'] < timedelta(days=0)])\n",
    "# change the lead time to date time format\n",
    "df['Lead Time'] = df['Lead Time'].dt.days"
   ]
  },
  {
   "cell_type": "markdown",
   "metadata": {},
   "source": [
    "4 rows were removed"
   ]
  },
  {
   "cell_type": "code",
   "execution_count": 534,
   "metadata": {},
   "outputs": [
    {
     "name": "stdout",
     "output_type": "stream",
     "text": [
      "<class 'pandas.core.frame.DataFrame'>\n",
      "Index: 2057 entries, 25 to 841\n",
      "Data columns (total 12 columns):\n",
      " #   Column                   Non-Null Count  Dtype         \n",
      "---  ------                   --------------  -----         \n",
      " 0   order_date               2057 non-null   datetime64[ns]\n",
      " 1   requested_delivery_date  2057 non-null   datetime64[ns]\n",
      " 2   Customer Country Code    2057 non-null   object        \n",
      " 3   Product Code             2057 non-null   object        \n",
      " 4   Description              2057 non-null   object        \n",
      " 5   order_type               2057 non-null   object        \n",
      " 6   Customer Order Code      2057 non-null   int64         \n",
      " 7   value                    2057 non-null   float64       \n",
      " 8   Curr                     2057 non-null   object        \n",
      " 9   items                    2057 non-null   int64         \n",
      " 10  Route                    2057 non-null   object        \n",
      " 11  Lead Time                2057 non-null   int64         \n",
      "dtypes: datetime64[ns](2), float64(1), int64(3), object(6)\n",
      "memory usage: 208.9+ KB\n"
     ]
    }
   ],
   "source": [
    "df.info()"
   ]
  },
  {
   "cell_type": "markdown",
   "metadata": {},
   "source": [
    "Creates buckets for seasons and assign each a number\n",
    "\n",
    "Create a variable for delivery month, lead time, advanced order, and value per item"
   ]
  },
  {
   "cell_type": "code",
   "execution_count": 535,
   "metadata": {},
   "outputs": [
    {
     "name": "stdout",
     "output_type": "stream",
     "text": [
      "<class 'pandas.core.frame.DataFrame'>\n",
      "Index: 2057 entries, 25 to 841\n",
      "Data columns (total 12 columns):\n",
      " #   Column                   Non-Null Count  Dtype         \n",
      "---  ------                   --------------  -----         \n",
      " 0   order_date               2057 non-null   datetime64[ns]\n",
      " 1   requested_delivery_date  2057 non-null   datetime64[ns]\n",
      " 2   Customer Country Code    2057 non-null   object        \n",
      " 3   Product Code             2057 non-null   object        \n",
      " 4   Description              2057 non-null   object        \n",
      " 5   order_type               2057 non-null   object        \n",
      " 6   Customer Order Code      2057 non-null   int64         \n",
      " 7   value                    2057 non-null   float64       \n",
      " 8   Curr                     2057 non-null   object        \n",
      " 9   items                    2057 non-null   int64         \n",
      " 10  Route                    2057 non-null   object        \n",
      " 11  Lead Time                2057 non-null   int64         \n",
      "dtypes: datetime64[ns](2), float64(1), int64(3), object(6)\n",
      "memory usage: 208.9+ KB\n"
     ]
    }
   ],
   "source": [
    "df.info()"
   ]
  },
  {
   "cell_type": "code",
   "execution_count": 536,
   "metadata": {},
   "outputs": [],
   "source": [
    "def month_to_season(month):\n",
    "    if month in [3, 4, 5]:\n",
    "        return 'Spring'\n",
    "    elif month in [6, 7, 8]:\n",
    "        return 'Summer'\n",
    "    elif month in [9, 10, 11]:\n",
    "        return 'Fall'\n",
    "    else:\n",
    "        return 'Winter'\n",
    "\n",
    "df['Delivery Month'] = df['requested_delivery_date'].dt.month\n",
    "df['Season'] = df['Delivery Month'].apply(month_to_season)\n",
    "\n",
    "df['advanced_order'] = (df['Lead Time'] >= 30).astype(int)\n",
    "\n",
    "# Ensure 'value' and 'items' columns contain numerical values\n",
    "df['Value/Item'] = pd.to_numeric(df['value'], errors='coerce') / pd.to_numeric(df['items'], errors='coerce')\n",
    "\n",
    "df['Season_Num'] = df['Season'].map({'Winter': 1, 'Spring': 2, 'Summer': 3, 'Fall': 4})"
   ]
  },
  {
   "cell_type": "code",
   "execution_count": 537,
   "metadata": {},
   "outputs": [],
   "source": [
    "df['Previous Month'] = df['order_date'].dt.to_period('M') - 1\n",
    "\n",
    "# Initialize the 'Estimated Price' column with zeros\n",
    "df['Estimated Price'] = 0.0\n",
    "\n",
    "# Iterate through each row to calculate the estimated price\n",
    "for index, row in df.iterrows():\n",
    "    previous_month_price = df.loc[\n",
    "        (df['Product Code'] == row['Product Code']) & (df['Previous Month'] == row['order_date'].to_period('M')),\n",
    "        'Value/Item'\n",
    "    ].mean()\n",
    "\n",
    "    # Update 'Estimated Price' with the calculated value\n",
    "    df.at[index, 'Estimated Price'] = previous_month_price if not pd.isnull(previous_month_price) else 0.0\n",
    "\n",
    "# Drop the 'Previous Month' column if no longer needed\n",
    "df = df.drop(columns=['Previous Month'])"
   ]
  },
  {
   "cell_type": "code",
   "execution_count": 538,
   "metadata": {},
   "outputs": [],
   "source": [
    "df['Order Month'] = df['order_date'].dt.to_period('M')\n",
    "df['Estimated price next month'] = df.groupby(['Product Code', 'Order Month'])['value'].transform('mean')\n",
    "df['Estimated price next month'] = df.groupby(['Product Code'])['Estimated price next month'].shift(1)\n",
    "df.loc[df['Order Month'] == '2009-07-08', 'Estimated price next month'] = 0.0"
   ]
  },
  {
   "cell_type": "code",
   "execution_count": 539,
   "metadata": {},
   "outputs": [
    {
     "data": {
      "text/html": [
       "<div>\n",
       "<style scoped>\n",
       "    .dataframe tbody tr th:only-of-type {\n",
       "        vertical-align: middle;\n",
       "    }\n",
       "\n",
       "    .dataframe tbody tr th {\n",
       "        vertical-align: top;\n",
       "    }\n",
       "\n",
       "    .dataframe thead th {\n",
       "        text-align: right;\n",
       "    }\n",
       "</style>\n",
       "<table border=\"1\" class=\"dataframe\">\n",
       "  <thead>\n",
       "    <tr style=\"text-align: right;\">\n",
       "      <th></th>\n",
       "      <th>Estimated price next month</th>\n",
       "      <th>order_date</th>\n",
       "      <th>Product Code</th>\n",
       "      <th>Value/Item</th>\n",
       "    </tr>\n",
       "  </thead>\n",
       "  <tbody>\n",
       "    <tr>\n",
       "      <th>25</th>\n",
       "      <td>0.0</td>\n",
       "      <td>2009-07-08</td>\n",
       "      <td>L10705100</td>\n",
       "      <td>441.75</td>\n",
       "    </tr>\n",
       "    <tr>\n",
       "      <th>35</th>\n",
       "      <td>0.0</td>\n",
       "      <td>2009-07-08</td>\n",
       "      <td>L10705200</td>\n",
       "      <td>441.75</td>\n",
       "    </tr>\n",
       "    <tr>\n",
       "      <th>136</th>\n",
       "      <td>0.0</td>\n",
       "      <td>2009-07-08</td>\n",
       "      <td>L10705700</td>\n",
       "      <td>441.75</td>\n",
       "    </tr>\n",
       "    <tr>\n",
       "      <th>112</th>\n",
       "      <td>0.0</td>\n",
       "      <td>2009-07-08</td>\n",
       "      <td>L10705600</td>\n",
       "      <td>441.75</td>\n",
       "    </tr>\n",
       "    <tr>\n",
       "      <th>67</th>\n",
       "      <td>0.0</td>\n",
       "      <td>2009-07-08</td>\n",
       "      <td>L10705400</td>\n",
       "      <td>441.75</td>\n",
       "    </tr>\n",
       "  </tbody>\n",
       "</table>\n",
       "</div>"
      ],
      "text/plain": [
       "     Estimated price next month order_date Product Code  Value/Item\n",
       "25                          0.0 2009-07-08    L10705100      441.75\n",
       "35                          0.0 2009-07-08    L10705200      441.75\n",
       "136                         0.0 2009-07-08    L10705700      441.75\n",
       "112                         0.0 2009-07-08    L10705600      441.75\n",
       "67                          0.0 2009-07-08    L10705400      441.75"
      ]
     },
     "execution_count": 539,
     "metadata": {},
     "output_type": "execute_result"
    }
   ],
   "source": [
    "df[['Estimated price next month', 'order_date', 'Product Code', 'Value/Item']].head()"
   ]
  },
  {
   "cell_type": "code",
   "execution_count": 540,
   "metadata": {},
   "outputs": [],
   "source": [
    "df['Order Year'] = df['order_date'].dt.to_period('Y')"
   ]
  },
  {
   "cell_type": "code",
   "execution_count": 541,
   "metadata": {},
   "outputs": [],
   "source": [
    "df['Year-Season'] = df['Order Year'].astype(str) + '-' + df['Season']\n",
    "\n",
    "year_season_orders = df.groupby('Year-Season').agg({'value': 'sum'}).reset_index()\n",
    "\n",
    "year_season_orders['Year-Season'] = pd.Categorical(year_season_orders['Year-Season'], categories=sorted(df['Year-Season'].unique()), ordered=True)\n",
    "year_season_orders = year_season_orders.sort_values('Year-Season')"
   ]
  },
  {
   "cell_type": "code",
   "execution_count": 542,
   "metadata": {},
   "outputs": [
    {
     "data": {
      "text/plain": [
       "<Axes: >"
      ]
     },
     "execution_count": 542,
     "metadata": {},
     "output_type": "execute_result"
    },
    {
     "data": {
      "image/png": "[encoded data removed]",
      "text/plain": [
       "<Figure size 640x480 with 1 Axes>"
      ]
     },
     "metadata": {},
     "output_type": "display_data"
    }
   ],
   "source": [
    "# check the distribution of the lead time in the df_1 dataframe\n",
    "df['Lead Time'].hist(bins=100)"
   ]
  },
  {
   "cell_type": "code",
   "execution_count": 543,
   "metadata": {},
   "outputs": [
    {
     "data": {
      "text/plain": [
       "count    2057.000000\n",
       "mean      220.700049\n",
       "std        51.708203\n",
       "min        15.000000\n",
       "25%       195.000000\n",
       "50%       217.000000\n",
       "75%       251.000000\n",
       "max       448.000000\n",
       "Name: Lead Time, dtype: float64"
      ]
     },
     "execution_count": 543,
     "metadata": {},
     "output_type": "execute_result"
    }
   ],
   "source": [
    "df['Lead Time'].describe()"
   ]
  },
  {
   "cell_type": "code",
   "execution_count": 544,
   "metadata": {},
   "outputs": [],
   "source": [
    "# make bins for the lead time  and assign them to the dataframe\n",
    "def lead_time_bins(x):\n",
    "    if x <= 30:\n",
    "        return 'Super Urgent'\n",
    "    elif x <= 60:\n",
    "        return 'Urgent'\n",
    "    elif x <= 90:\n",
    "        return 'Fairly Urgent'\n",
    "    elif x <= 120:\n",
    "        return 'Normal'\n",
    "    elif x <= 150:\n",
    "        return 'Not Urgent'\n",
    "    else:\n",
    "        return 'Not Urgent At All'"
   ]
  },
  {
   "cell_type": "code",
   "execution_count": 545,
   "metadata": {},
   "outputs": [],
   "source": [
    "df[\"Item_urgency\"]  = df['Lead Time'].apply(lead_time_bins)"
   ]
  },
  {
   "cell_type": "code",
   "execution_count": 546,
   "metadata": {},
   "outputs": [
    {
     "data": {
      "text/plain": [
       "Item_urgency\n",
       "Not Urgent At All    1937\n",
       "Not Urgent             63\n",
       "Super Urgent           21\n",
       "Fairly Urgent          15\n",
       "Urgent                 13\n",
       "Normal                  8\n",
       "Name: count, dtype: int64"
      ]
     },
     "execution_count": 546,
     "metadata": {},
     "output_type": "execute_result"
    }
   ],
   "source": [
    "df['Item_urgency'].value_counts()"
   ]
  },
  {
   "cell_type": "markdown",
   "metadata": {},
   "source": [
    "## EDA"
   ]
  },
  {
   "cell_type": "markdown",
   "metadata": {},
   "source": [
    "Group the data by country code and season in order to find in which seasons certain countries have the highest and lowest ordered items"
   ]
  },
  {
   "cell_type": "code",
   "execution_count": 547,
   "metadata": {},
   "outputs": [],
   "source": [
    "grouped_data = df.groupby(['Customer Country Code', 'Season'])['items'].sum().reset_index()"
   ]
  },
  {
   "cell_type": "code",
   "execution_count": 548,
   "metadata": {},
   "outputs": [
    {
     "name": "stdout",
     "output_type": "stream",
     "text": [
      "Countries with the highest number of items in each season:\n",
      "   Customer Country Code  Season  items\n",
      "62                    RU    Fall   1327\n",
      "63                    RU  Spring   2847\n",
      "4                     AT  Summer    884\n",
      "65                    RU  Winter   1154\n",
      "\n",
      "Countries with the lowest number of items in each season:\n",
      "   Customer Country Code  Season  items\n",
      "34                    FI    Fall      9\n",
      "6                     BE  Spring      2\n",
      "20                    CZ  Summer      1\n",
      "55                    NO  Winter      2\n"
     ]
    }
   ],
   "source": [
    "# Find the country with the highest number of items in each season\n",
    "max_items = grouped_data.loc[grouped_data.groupby('Season')['items'].idxmax()]\n",
    "\n",
    "# Find the country with the lowest number of items in each season\n",
    "min_items = grouped_data.loc[grouped_data.groupby('Season')['items'].idxmin()]\n",
    "\n",
    "# Display the results\n",
    "print(\"Countries with the highest number of items in each season:\")\n",
    "print(max_items)\n",
    "\n",
    "print(\"\\nCountries with the lowest number of items in each season:\")\n",
    "print(min_items)"
   ]
  },
  {
   "cell_type": "markdown",
   "metadata": {},
   "source": [
    "In Fall, Russia has the highest number of orders and Finland has the lowest\n",
    "\n",
    "In Spring, Russia has the highest number of orders and Belgium has the lowest\n",
    "\n",
    "In Summer, Austria has the highest number of orders and the Czech Republic has the lowest\n",
    "\n",
    "In Winter, Switzerland has the highest number of orders and Norway has the lowest"
   ]
  },
  {
   "cell_type": "code",
   "execution_count": 549,
   "metadata": {},
   "outputs": [
    {
     "data": {
      "image/png": "[encoded data removed]",
      "text/plain": [
       "<Figure size 1200x600 with 1 Axes>"
      ]
     },
     "metadata": {},
     "output_type": "display_data"
    }
   ],
   "source": [
    "agg_df = df.groupby('order_date')['items'].sum().reset_index()\n",
    "\n",
    "plt.figure(figsize=(12, 6))\n",
    "plt.plot(agg_df['order_date'], agg_df['items'], marker='o', linestyle='-', color='b')\n",
    "plt.title('Aggregated Items Over Time')\n",
    "plt.xlabel('order_date')\n",
    "plt.ylabel('Total Items')\n",
    "plt.xticks(rotation=45)\n",
    "plt.grid(True)\n",
    "plt.show()"
   ]
  },
  {
   "cell_type": "markdown",
   "metadata": {},
   "source": [
    "There are 3 peaks of order. These come in Fall of 2009, Winter of 2011, and Summer of 2011"
   ]
  },
  {
   "cell_type": "code",
   "execution_count": 550,
   "metadata": {},
   "outputs": [
    {
     "data": {
      "image/png": "[encoded data removed]",
      "text/plain": [
       "<Figure size 1000x600 with 1 Axes>"
      ]
     },
     "metadata": {},
     "output_type": "display_data"
    }
   ],
   "source": [
    "average_items_by_lead_time = df.groupby('Lead Time')['items'].mean().reset_index()\n",
    "\n",
    "# Line plot\n",
    "plt.figure(figsize=(10, 6))\n",
    "sns.lineplot(x='Lead Time', y='items', data=average_items_by_lead_time)\n",
    "\n",
    "# Set plot title and labels\n",
    "plt.title('Average Number of Items vs Lead Time')\n",
    "plt.xlabel('Lead Time')\n",
    "plt.ylabel('Average Number of Items')\n",
    "\n",
    "# Show the plot\n",
    "plt.show()"
   ]
  },
  {
   "cell_type": "markdown",
   "metadata": {},
   "source": [
    "As the number of orders goes up, this seems to not have an effect on the lead time of the order\n",
    "\n",
    "The higest peak of an average number of items in an order reaches 100, this does not affect the lead time as it stays in the middle around 220"
   ]
  },
  {
   "cell_type": "code",
   "execution_count": 551,
   "metadata": {},
   "outputs": [
    {
     "data": {
      "image/png": "[encoded data removed]",
      "text/plain": [
       "<Figure size 800x500 with 1 Axes>"
      ]
     },
     "metadata": {},
     "output_type": "display_data"
    }
   ],
   "source": [
    "avg_items_by_advance_order = df.groupby('advanced_order')['items'].mean().reset_index()\n",
    "\n",
    "# Bar plot\n",
    "plt.figure(figsize=(8, 5))\n",
    "sns.barplot(x='advanced_order', y='items', data=avg_items_by_advance_order)\n",
    "\n",
    "# Set plot title and labels\n",
    "plt.title('Average Number of Items with and without Advance Orders')\n",
    "plt.xlabel('Advance Order (1: Yes, 0: No)')\n",
    "plt.ylabel('Average Number of Items')\n",
    "\n",
    "# Show the plot\n",
    "plt.show()"
   ]
  },
  {
   "cell_type": "markdown",
   "metadata": {},
   "source": [
    "More items are ordered not in advance\n",
    "\n",
    "Not in advance means the order is placed within the month of the requested delivery date"
   ]
  },
  {
   "cell_type": "markdown",
   "metadata": {},
   "source": [
    "## Choice Probability Model"
   ]
  },
  {
   "cell_type": "markdown",
   "metadata": {},
   "source": [
    "Setting the required features for the model and splitting them into X and y\n",
    "\n",
    "These are then fed through a label encoder\n",
    "\n",
    "Then the categorical feastures are put through one hot encoding and the numerical features are scaled"
   ]
  },
  {
   "cell_type": "code",
   "execution_count": 552,
   "metadata": {},
   "outputs": [],
   "source": [
    "features = ['order_date', 'requested_delivery_date', 'Customer Country Code', 'Description', 'order_type', 'Customer Order Code', \n",
    "            'value', 'Curr', 'items', 'Route', 'Lead Time', 'Delivery Month', 'Season', 'advanced_order', 'Value/Item', 'Order Month', \n",
    "            'Estimated Price', 'Year-Season', 'Item_urgency']\n",
    "\n",
    "X = df[features]\n",
    "y = df['Product Code']\n",
    "\n",
    "le = LabelEncoder()\n",
    "y_encoded = le.fit_transform(y)\n",
    "\n",
    "categorical_features = ['Season', 'Customer Country Code', 'Route', 'advanced_order', 'Item_urgency']\n",
    "categorical_transformer = Pipeline(steps=[\n",
    "    ('onehot', OneHotEncoder(handle_unknown='ignore'))])\n",
    "\n",
    "numerical_features = ['Lead Time', 'items', 'value', 'Value/Item', 'Estimated Price']\n",
    "numerical_transformer = Pipeline(steps=[\n",
    "    ('scaler', StandardScaler())])\n"
   ]
  },
  {
   "cell_type": "markdown",
   "metadata": {},
   "source": [
    "Setting up the preprocessor and the pipeline\n",
    "\n",
    "The class is set to multinomial"
   ]
  },
  {
   "cell_type": "code",
   "execution_count": 553,
   "metadata": {},
   "outputs": [],
   "source": [
    "preprocessor = ColumnTransformer(\n",
    "    transformers=[\n",
    "        ('num', numerical_transformer, numerical_features),\n",
    "        ('cat', categorical_transformer, categorical_features)])\n",
    "\n",
    "model = Pipeline([\n",
    "    ('preprocessor', preprocessor),\n",
    "    ('classifier', LogisticRegression(max_iter=1000, multi_class='multinomial'))\n",
    "])"
   ]
  },
  {
   "cell_type": "markdown",
   "metadata": {},
   "source": [
    "Find the log loss which is used to evaluate a binary classification model"
   ]
  },
  {
   "cell_type": "code",
   "execution_count": 554,
   "metadata": {},
   "outputs": [
    {
     "name": "stdout",
     "output_type": "stream",
     "text": [
      "Log Loss: 2.3324\n"
     ]
    }
   ],
   "source": [
    "from sklearn.metrics import log_loss\n",
    "\n",
    "X_train, X_test, y_train, y_test = train_test_split(X, y_encoded, test_size=0.2, stratify=y_encoded)\n",
    "model.fit(X_train, y_train)\n",
    "\n",
    "y_pred_probs = model.predict_proba(X_test)\n",
    "\n",
    "logloss = log_loss(y_test, y_pred_probs)\n",
    "print(f'Log Loss: {logloss:.4f}')"
   ]
  },
  {
   "cell_type": "markdown",
   "metadata": {},
   "source": [
    "The high log loss shows there is a lot of uncertainty within the model\n",
    "\n",
    "However a higher log loss is more accetable when dealing with a multi class problem in contrast to a binary classification problem where a log loss close to zero is preferred "
   ]
  },
  {
   "cell_type": "markdown",
   "metadata": {},
   "source": [
    "Below produces the choice probabilities of the specific products across the different seasons"
   ]
  },
  {
   "cell_type": "code",
   "execution_count": 555,
   "metadata": {},
   "outputs": [
    {
     "name": "stdout",
     "output_type": "stream",
     "text": [
      "Accuracy: 0.2476\n",
      "\n",
      "        prob_L10705000  prob_L10705100  prob_L10705200  prob_L10705300  \\\n",
      "Season                                                                   \n",
      "Fall          0.002456        0.001769        0.001694        0.002650   \n",
      "Spring        0.006871        0.001327        0.002928        0.004466   \n",
      "Summer        0.004384        0.003070        0.001927        0.003457   \n",
      "Winter        0.039271        0.021312        0.029474        0.033820   \n",
      "\n",
      "        prob_L10705400  prob_L10705500  prob_L10705600  prob_L10705700  \\\n",
      "Season                                                                   \n",
      "Fall          0.002362        0.002201        0.003057        0.001715   \n",
      "Spring        0.004030        0.002073        0.005661        0.001746   \n",
      "Summer        0.001478        0.002986        0.006969        0.001186   \n",
      "Winter        0.051209        0.030337        0.046420        0.022502   \n",
      "\n",
      "        prob_L10850600  prob_L10850700  ...  prob_L12918000  prob_L12918400  \\\n",
      "Season                                  ...                                   \n",
      "Fall          0.091085        0.017142  ...        0.003053        0.003724   \n",
      "Spring        0.002182        0.001378  ...        0.059949        0.091417   \n",
      "Summer        0.062625        0.011044  ...        0.005064        0.007951   \n",
      "Winter        0.005952        0.002588  ...        0.050863        0.049960   \n",
      "\n",
      "        prob_L12918500  prob_L12918600  prob_L12918700  prob_L12918800  \\\n",
      "Season                                                                   \n",
      "Fall          0.003994        0.002852        0.003801        0.002187   \n",
      "Spring        0.078166        0.059193        0.085888        0.022953   \n",
      "Summer        0.007182        0.003978        0.007459        0.004052   \n",
      "Winter        0.020032        0.010363        0.052387        0.018679   \n",
      "\n",
      "        prob_L12918900  prob_L12919000  prob_L12919100  prob_L12919200  \n",
      "Season                                                                  \n",
      "Fall          0.003249        0.003907        0.002878        0.004148  \n",
      "Spring        0.041267        0.059175        0.032335        0.063279  \n",
      "Summer        0.012698        0.013686        0.009831        0.012314  \n",
      "Winter        0.024537        0.079277        0.013390        0.096566  \n",
      "\n",
      "[4 rows x 40 columns]\n"
     ]
    }
   ],
   "source": [
    "from sklearn.metrics import accuracy_score\n",
    "\n",
    "y_pred = model.predict(X_test)\n",
    "accuracy = accuracy_score(y_test, y_pred)\n",
    "print(f'Accuracy: {accuracy:.4f}')\n",
    "\n",
    "probabilities = model.predict_proba(X)\n",
    "\n",
    "prob_cols = [f'prob_{code}' for code in le.classes_]\n",
    "df_probs = pd.DataFrame(probabilities, columns=prob_cols, index=X.index)\n",
    "\n",
    "df_with_probs = df.join(df_probs)\n",
    "\n",
    "seasonal_choice_probabilities = df_with_probs.groupby('Season')[prob_cols].mean()\n",
    "\n",
    "print('')\n",
    "print(seasonal_choice_probabilities)"
   ]
  },
  {
   "cell_type": "code",
   "execution_count": 556,
   "metadata": {},
   "outputs": [
    {
     "name": "stdout",
     "output_type": "stream",
     "text": [
      "\n",
      "Confusion Matrix:\n",
      "[[3 0 0 ... 0 0 0]\n",
      " [0 0 1 ... 0 0 0]\n",
      " [0 0 3 ... 0 0 0]\n",
      " ...\n",
      " [0 0 0 ... 1 1 2]\n",
      " [0 0 0 ... 0 0 0]\n",
      " [0 0 0 ... 0 0 3]]\n",
      "\n",
      "Classification Report:\n",
      "              precision    recall  f1-score   support\n",
      "\n",
      "           0       1.00      0.60      0.75         5\n",
      "           1       0.00      0.00      0.00         2\n",
      "           2       0.75      1.00      0.86         3\n",
      "           3       0.75      1.00      0.86         3\n",
      "           4       0.44      0.80      0.57         5\n",
      "           5       0.00      0.00      0.00         3\n",
      "           6       0.43      0.60      0.50         5\n",
      "           7       0.00      0.00      0.00         2\n",
      "           8       0.43      0.46      0.44        13\n",
      "           9       0.00      0.00      0.00         3\n",
      "          10       0.07      0.11      0.09         9\n",
      "          11       1.00      0.20      0.33         5\n",
      "          12       0.00      0.00      0.00         9\n",
      "          13       0.00      0.00      0.00         6\n",
      "          14       0.00      0.00      0.00         1\n",
      "          15       0.30      0.50      0.37        16\n",
      "          16       0.00      0.00      0.00         8\n",
      "          17       0.00      0.00      0.00        10\n",
      "          18       0.00      0.00      0.00         5\n",
      "          19       0.59      0.76      0.67        25\n",
      "          20       0.00      0.00      0.00        10\n",
      "          21       0.00      0.00      0.00         8\n",
      "          22       0.23      0.16      0.19        19\n",
      "          23       0.00      0.00      0.00         9\n",
      "          24       0.21      0.71      0.32        24\n",
      "          25       0.00      0.00      0.00         5\n",
      "          26       0.00      0.00      0.00         3\n",
      "          27       0.06      0.08      0.07        13\n",
      "          28       0.56      0.42      0.48        12\n",
      "          29       0.27      0.19      0.22        21\n",
      "          30       0.29      0.13      0.18        15\n",
      "          31       0.21      0.18      0.20        22\n",
      "          32       0.17      0.24      0.20        17\n",
      "          33       0.12      0.08      0.10        12\n",
      "          34       0.14      0.29      0.18        21\n",
      "          35       0.00      0.00      0.00         6\n",
      "          36       0.00      0.00      0.00        11\n",
      "          37       0.25      0.06      0.09        18\n",
      "          38       0.00      0.00      0.00         8\n",
      "          39       0.30      0.15      0.20        20\n",
      "\n",
      "    accuracy                           0.25       412\n",
      "   macro avg       0.21      0.22      0.20       412\n",
      "weighted avg       0.23      0.25      0.22       412\n",
      "\n"
     ]
    }
   ],
   "source": [
    "from sklearn.metrics import classification_report, confusion_matrix\n",
    "\n",
    "conf_matrix = confusion_matrix(y_test, y_pred)\n",
    "classification_rep = classification_report(y_test, y_pred)\n",
    "\n",
    "print(\"\\nConfusion Matrix:\")\n",
    "print(conf_matrix)\n",
    "print(\"\\nClassification Report:\")\n",
    "print(classification_rep)"
   ]
  },
  {
   "cell_type": "markdown",
   "metadata": {},
   "source": [
    "### Ridge Regression"
   ]
  },
  {
   "cell_type": "code",
   "execution_count": 557,
   "metadata": {},
   "outputs": [],
   "source": [
    "features = ['order_date', 'requested_delivery_date', 'Customer Country Code', 'Description', 'order_type', 'Customer Order Code', \n",
    "            'value', 'Curr', 'Route', 'Lead Time', 'Delivery Month', 'Season', 'advanced_order', 'Value/Item', 'Order Month', \n",
    "            'Estimated Price', 'Year-Season', 'Item_urgency']\n",
    "\n",
    "X = df[features]\n",
    "y = df['items']"
   ]
  },
  {
   "cell_type": "code",
   "execution_count": 558,
   "metadata": {},
   "outputs": [],
   "source": [
    "label_encoder = LabelEncoder()\n",
    "y_encoded = label_encoder.fit_transform(y)"
   ]
  },
  {
   "cell_type": "code",
   "execution_count": 559,
   "metadata": {},
   "outputs": [],
   "source": [
    "categorical_features = ['Season', 'Customer Country Code', 'Route', 'advanced_order', 'Item_urgency']\n",
    "categorical_transformer = Pipeline(steps=[\n",
    "    ('onehot', OneHotEncoder(handle_unknown='ignore'))])\n",
    "\n",
    "numerical_features = ['Lead Time', 'value', 'Value/Item', 'Estimated Price']\n",
    "numerical_transformer = Pipeline(steps=[\n",
    "    ('scaler', StandardScaler())])\n",
    "\n",
    "preprocessor = ColumnTransformer(\n",
    "    transformers=[\n",
    "        ('num', numerical_transformer, numerical_features),\n",
    "        ('cat', categorical_transformer, categorical_features)])"
   ]
  },
  {
   "cell_type": "code",
   "execution_count": 560,
   "metadata": {},
   "outputs": [],
   "source": [
    "X_train, X_test, y_train, y_test = train_test_split(X, y_encoded, test_size=0.2, random_state=42)"
   ]
  },
  {
   "cell_type": "code",
   "execution_count": 561,
   "metadata": {},
   "outputs": [
    {
     "data": {
      "text/html": [
       "<style>#sk-container-id-7 {color: black;}#sk-container-id-7 pre{padding: 0;}#sk-container-id-7 div.sk-toggleable {background-color: white;}#sk-container-id-7 label.sk-toggleable__label {cursor: pointer;display: block;width: 100%;margin-bottom: 0;padding: 0.3em;box-sizing: border-box;text-align: center;}#sk-container-id-7 label.sk-toggleable__label-arrow:before {content: \"▸\";float: left;margin-right: 0.25em;color: #696969;}#sk-container-id-7 label.sk-toggleable__label-arrow:hover:before {color: black;}#sk-container-id-7 div.sk-estimator:hover label.sk-toggleable__label-arrow:before {color: black;}#sk-container-id-7 div.sk-toggleable__content {max-height: 0;max-width: 0;overflow: hidden;text-align: left;background-color: #f0f8ff;}#sk-container-id-7 div.sk-toggleable__content pre {margin: 0.2em;color: black;border-radius: 0.25em;background-color: #f0f8ff;}#sk-container-id-7 input.sk-toggleable__control:checked~div.sk-toggleable__content {max-height: 200px;max-width: 100%;overflow: auto;}#sk-container-id-7 input.sk-toggleable__control:checked~label.sk-toggleable__label-arrow:before {content: \"▾\";}#sk-container-id-7 div.sk-estimator input.sk-toggleable__control:checked~label.sk-toggleable__label {background-color: #d4ebff;}#sk-container-id-7 div.sk-label input.sk-toggleable__control:checked~label.sk-toggleable__label {background-color: #d4ebff;}#sk-container-id-7 input.sk-hidden--visually {border: 0;clip: rect(1px 1px 1px 1px);clip: rect(1px, 1px, 1px, 1px);height: 1px;margin: -1px;overflow: hidden;padding: 0;position: absolute;width: 1px;}#sk-container-id-7 div.sk-estimator {font-family: monospace;background-color: #f0f8ff;border: 1px dotted black;border-radius: 0.25em;box-sizing: border-box;margin-bottom: 0.5em;}#sk-container-id-7 div.sk-estimator:hover {background-color: #d4ebff;}#sk-container-id-7 div.sk-parallel-item::after {content: \"\";width: 100%;border-bottom: 1px solid gray;flex-grow: 1;}#sk-container-id-7 div.sk-label:hover label.sk-toggleable__label {background-color: #d4ebff;}#sk-container-id-7 div.sk-serial::before {content: \"\";position: absolute;border-left: 1px solid gray;box-sizing: border-box;top: 0;bottom: 0;left: 50%;z-index: 0;}#sk-container-id-7 div.sk-serial {display: flex;flex-direction: column;align-items: center;background-color: white;padding-right: 0.2em;padding-left: 0.2em;position: relative;}#sk-container-id-7 div.sk-item {position: relative;z-index: 1;}#sk-container-id-7 div.sk-parallel {display: flex;align-items: stretch;justify-content: center;background-color: white;position: relative;}#sk-container-id-7 div.sk-item::before, #sk-container-id-7 div.sk-parallel-item::before {content: \"\";position: absolute;border-left: 1px solid gray;box-sizing: border-box;top: 0;bottom: 0;left: 50%;z-index: -1;}#sk-container-id-7 div.sk-parallel-item {display: flex;flex-direction: column;z-index: 1;position: relative;background-color: white;}#sk-container-id-7 div.sk-parallel-item:first-child::after {align-self: flex-end;width: 50%;}#sk-container-id-7 div.sk-parallel-item:last-child::after {align-self: flex-start;width: 50%;}#sk-container-id-7 div.sk-parallel-item:only-child::after {width: 0;}#sk-container-id-7 div.sk-dashed-wrapped {border: 1px dashed gray;margin: 0 0.4em 0.5em 0.4em;box-sizing: border-box;padding-bottom: 0.4em;background-color: white;}#sk-container-id-7 div.sk-label label {font-family: monospace;font-weight: bold;display: inline-block;line-height: 1.2em;}#sk-container-id-7 div.sk-label-container {text-align: center;}#sk-container-id-7 div.sk-container {/* jupyter's `normalize.less` sets `[hidden] { display: none; }` but bootstrap.min.css set `[hidden] { display: none !important; }` so we also need the `!important` here to be able to override the default hidden behavior on the sphinx rendered scikit-learn.org. See: https://github.com/scikit-learn/scikit-learn/issues/21755 */display: inline-block !important;position: relative;}#sk-container-id-7 div.sk-text-repr-fallback {display: none;}</style><div id=\"sk-container-id-7\" class=\"sk-top-container\"><div class=\"sk-text-repr-fallback\"><pre>RidgeClassifier()</pre><b>In a Jupyter environment, please rerun this cell to show the HTML representation or trust the notebook. <br />On GitHub, the HTML representation is unable to render, please try loading this page with nbviewer.org.</b></div><div class=\"sk-container\" hidden><div class=\"sk-item\"><div class=\"sk-estimator sk-toggleable\"><input class=\"sk-toggleable__control sk-hidden--visually\" id=\"sk-estimator-id-7\" type=\"checkbox\" checked><label for=\"sk-estimator-id-7\" class=\"sk-toggleable__label sk-toggleable__label-arrow\">RidgeClassifier</label><div class=\"sk-toggleable__content\"><pre>RidgeClassifier()</pre></div></div></div></div></div>"
      ],
      "text/plain": [
       "RidgeClassifier()"
      ]
     },
     "execution_count": 561,
     "metadata": {},
     "output_type": "execute_result"
    }
   ],
   "source": [
    "ridge_model = RidgeClassifier()\n",
    "ridge_model.fit(preprocessor.fit_transform(X_train), y_train)"
   ]
  },
  {
   "cell_type": "code",
   "execution_count": 562,
   "metadata": {},
   "outputs": [
    {
     "name": "stdout",
     "output_type": "stream",
     "text": [
      "Accuracy (Ridge Classifier): 0.3034\n"
     ]
    }
   ],
   "source": [
    "y_pred = ridge_model.predict(preprocessor.transform(X_test))\n",
    "accuracy = accuracy_score(y_test, y_pred)\n",
    "print(f'Accuracy (Ridge Classifier): {accuracy:.4f}')"
   ]
  },
  {
   "cell_type": "code",
   "execution_count": 563,
   "metadata": {},
   "outputs": [
    {
     "name": "stdout",
     "output_type": "stream",
     "text": [
      "Mean Squared Error (Ridge): 31.58009708737864\n"
     ]
    }
   ],
   "source": [
    "mse = mean_squared_error(y_test, y_pred)\n",
    "print(f'Mean Squared Error (Ridge): {mse}')"
   ]
  },
  {
   "cell_type": "code",
   "execution_count": 564,
   "metadata": {},
   "outputs": [],
   "source": [
    "df_2011 = df[df['order_date'].dt.year == 2011]\n",
    "X_2011 = df_2011[features]"
   ]
  },
  {
   "cell_type": "markdown",
   "metadata": {},
   "source": [
    "Make predictions for the year 2011"
   ]
  },
  {
   "cell_type": "code",
   "execution_count": 565,
   "metadata": {},
   "outputs": [],
   "source": [
    "total_demand_2011 = ridge_model.predict(preprocessor.transform(X_2011))"
   ]
  },
  {
   "cell_type": "markdown",
   "metadata": {},
   "source": [
    "Take the sum of all the predicted demands in order to get the aggregate demand for 2011"
   ]
  },
  {
   "cell_type": "code",
   "execution_count": 566,
   "metadata": {},
   "outputs": [
    {
     "name": "stdout",
     "output_type": "stream",
     "text": [
      "Total Demand for the Year 2011 (Predicted): 6976.00\n"
     ]
    }
   ],
   "source": [
    "total_demand_2011_sum = total_demand_2011.sum()\n",
    "print(f'Total Demand for the Year 2011 (Predicted): {total_demand_2011_sum:.2f}')"
   ]
  },
  {
   "cell_type": "markdown",
   "metadata": {},
   "source": [
    "This is to multiple the total demand by choice probabilities for individual product codes\n",
    "\n",
    "The result of this would give us the predicted demand for each product code for a particular season."
   ]
  },
  {
   "cell_type": "code",
   "execution_count": 568,
   "metadata": {},
   "outputs": [
    {
     "ename": "ValueError",
     "evalue": "len(left_on) must equal the number of levels in the index of \"right\"",
     "output_type": "error",
     "traceback": [
      "\u001b[1;31m---------------------------------------------------------------------------\u001b[0m",
      "\u001b[1;31mValueError\u001b[0m                                Traceback (most recent call last)",
      "Cell \u001b[1;32mIn[568], line 7\u001b[0m\n\u001b[0;32m      4\u001b[0m total_demand_by_season \u001b[38;5;241m=\u001b[39m df_2011\u001b[38;5;241m.\u001b[39mgroupby([\u001b[38;5;124m'\u001b[39m\u001b[38;5;124mSeason\u001b[39m\u001b[38;5;124m'\u001b[39m, \u001b[38;5;124m'\u001b[39m\u001b[38;5;124mProduct Code\u001b[39m\u001b[38;5;124m'\u001b[39m])[\u001b[38;5;124m'\u001b[39m\u001b[38;5;124mTotal Demand\u001b[39m\u001b[38;5;124m'\u001b[39m]\u001b[38;5;241m.\u001b[39msum()\u001b[38;5;241m.\u001b[39mreset_index()\n\u001b[0;32m      6\u001b[0m \u001b[38;5;66;03m# Merge with the probability DataFrame on Season and Product Code\u001b[39;00m\n\u001b[1;32m----> 7\u001b[0m merged_df \u001b[38;5;241m=\u001b[39m \u001b[43mpd\u001b[49m\u001b[38;5;241;43m.\u001b[39;49m\u001b[43mmerge\u001b[49m\u001b[43m(\u001b[49m\u001b[43mtotal_demand_by_season\u001b[49m\u001b[43m,\u001b[49m\u001b[43m \u001b[49m\u001b[43mdf_with_probs\u001b[49m\u001b[43m,\u001b[49m\u001b[43m \u001b[49m\u001b[43mleft_on\u001b[49m\u001b[38;5;241;43m=\u001b[39;49m\u001b[43m[\u001b[49m\u001b[38;5;124;43m'\u001b[39;49m\u001b[38;5;124;43mSeason\u001b[39;49m\u001b[38;5;124;43m'\u001b[39;49m\u001b[43m,\u001b[49m\u001b[43m \u001b[49m\u001b[38;5;124;43m'\u001b[39;49m\u001b[38;5;124;43mProduct Code\u001b[39;49m\u001b[38;5;124;43m'\u001b[39;49m\u001b[43m]\u001b[49m\u001b[43m,\u001b[49m\u001b[43m \u001b[49m\u001b[43mright_index\u001b[49m\u001b[38;5;241;43m=\u001b[39;49m\u001b[38;5;28;43;01mTrue\u001b[39;49;00m\u001b[43m)\u001b[49m\n\u001b[0;32m      9\u001b[0m \u001b[38;5;66;03m# Multiply total demand with choice probabilities for each product code\u001b[39;00m\n\u001b[0;32m     10\u001b[0m \u001b[38;5;28;01mfor\u001b[39;00m product_code \u001b[38;5;129;01min\u001b[39;00m df_with_probs\u001b[38;5;241m.\u001b[39mcolumns:\n",
      "File \u001b[1;32mc:\\Users\\johns\\AppData\\Local\\Programs\\Python\\Python312\\Lib\\site-packages\\pandas\\core\\reshape\\merge.py:169\u001b[0m, in \u001b[0;36mmerge\u001b[1;34m(left, right, how, on, left_on, right_on, left_index, right_index, sort, suffixes, copy, indicator, validate)\u001b[0m\n\u001b[0;32m    154\u001b[0m     \u001b[38;5;28;01mreturn\u001b[39;00m _cross_merge(\n\u001b[0;32m    155\u001b[0m         left_df,\n\u001b[0;32m    156\u001b[0m         right_df,\n\u001b[1;32m   (...)\u001b[0m\n\u001b[0;32m    166\u001b[0m         copy\u001b[38;5;241m=\u001b[39mcopy,\n\u001b[0;32m    167\u001b[0m     )\n\u001b[0;32m    168\u001b[0m \u001b[38;5;28;01melse\u001b[39;00m:\n\u001b[1;32m--> 169\u001b[0m     op \u001b[38;5;241m=\u001b[39m \u001b[43m_MergeOperation\u001b[49m\u001b[43m(\u001b[49m\n\u001b[0;32m    170\u001b[0m \u001b[43m        \u001b[49m\u001b[43mleft_df\u001b[49m\u001b[43m,\u001b[49m\n\u001b[0;32m    171\u001b[0m \u001b[43m        \u001b[49m\u001b[43mright_df\u001b[49m\u001b[43m,\u001b[49m\n\u001b[0;32m    172\u001b[0m \u001b[43m        \u001b[49m\u001b[43mhow\u001b[49m\u001b[38;5;241;43m=\u001b[39;49m\u001b[43mhow\u001b[49m\u001b[43m,\u001b[49m\n\u001b[0;32m    173\u001b[0m \u001b[43m        \u001b[49m\u001b[43mon\u001b[49m\u001b[38;5;241;43m=\u001b[39;49m\u001b[43mon\u001b[49m\u001b[43m,\u001b[49m\n\u001b[0;32m    174\u001b[0m \u001b[43m        \u001b[49m\u001b[43mleft_on\u001b[49m\u001b[38;5;241;43m=\u001b[39;49m\u001b[43mleft_on\u001b[49m\u001b[43m,\u001b[49m\n\u001b[0;32m    175\u001b[0m \u001b[43m        \u001b[49m\u001b[43mright_on\u001b[49m\u001b[38;5;241;43m=\u001b[39;49m\u001b[43mright_on\u001b[49m\u001b[43m,\u001b[49m\n\u001b[0;32m    176\u001b[0m \u001b[43m        \u001b[49m\u001b[43mleft_index\u001b[49m\u001b[38;5;241;43m=\u001b[39;49m\u001b[43mleft_index\u001b[49m\u001b[43m,\u001b[49m\n\u001b[0;32m    177\u001b[0m \u001b[43m        \u001b[49m\u001b[43mright_index\u001b[49m\u001b[38;5;241;43m=\u001b[39;49m\u001b[43mright_index\u001b[49m\u001b[43m,\u001b[49m\n\u001b[0;32m    178\u001b[0m \u001b[43m        \u001b[49m\u001b[43msort\u001b[49m\u001b[38;5;241;43m=\u001b[39;49m\u001b[43msort\u001b[49m\u001b[43m,\u001b[49m\n\u001b[0;32m    179\u001b[0m \u001b[43m        \u001b[49m\u001b[43msuffixes\u001b[49m\u001b[38;5;241;43m=\u001b[39;49m\u001b[43msuffixes\u001b[49m\u001b[43m,\u001b[49m\n\u001b[0;32m    180\u001b[0m \u001b[43m        \u001b[49m\u001b[43mindicator\u001b[49m\u001b[38;5;241;43m=\u001b[39;49m\u001b[43mindicator\u001b[49m\u001b[43m,\u001b[49m\n\u001b[0;32m    181\u001b[0m \u001b[43m        \u001b[49m\u001b[43mvalidate\u001b[49m\u001b[38;5;241;43m=\u001b[39;49m\u001b[43mvalidate\u001b[49m\u001b[43m,\u001b[49m\n\u001b[0;32m    182\u001b[0m \u001b[43m    \u001b[49m\u001b[43m)\u001b[49m\n\u001b[0;32m    183\u001b[0m     \u001b[38;5;28;01mreturn\u001b[39;00m op\u001b[38;5;241m.\u001b[39mget_result(copy\u001b[38;5;241m=\u001b[39mcopy)\n",
      "File \u001b[1;32mc:\\Users\\johns\\AppData\\Local\\Programs\\Python\\Python312\\Lib\\site-packages\\pandas\\core\\reshape\\merge.py:783\u001b[0m, in \u001b[0;36m_MergeOperation.__init__\u001b[1;34m(self, left, right, how, on, left_on, right_on, left_index, right_index, sort, suffixes, indicator, validate)\u001b[0m\n\u001b[0;32m    776\u001b[0m     msg \u001b[38;5;241m=\u001b[39m (\n\u001b[0;32m    777\u001b[0m         \u001b[38;5;124m\"\u001b[39m\u001b[38;5;124mNot allowed to merge between different levels. \u001b[39m\u001b[38;5;124m\"\u001b[39m\n\u001b[0;32m    778\u001b[0m         \u001b[38;5;124mf\u001b[39m\u001b[38;5;124m\"\u001b[39m\u001b[38;5;124m(\u001b[39m\u001b[38;5;132;01m{\u001b[39;00m_left\u001b[38;5;241m.\u001b[39mcolumns\u001b[38;5;241m.\u001b[39mnlevels\u001b[38;5;132;01m}\u001b[39;00m\u001b[38;5;124m levels on the left, \u001b[39m\u001b[38;5;124m\"\u001b[39m\n\u001b[0;32m    779\u001b[0m         \u001b[38;5;124mf\u001b[39m\u001b[38;5;124m\"\u001b[39m\u001b[38;5;132;01m{\u001b[39;00m_right\u001b[38;5;241m.\u001b[39mcolumns\u001b[38;5;241m.\u001b[39mnlevels\u001b[38;5;132;01m}\u001b[39;00m\u001b[38;5;124m on the right)\u001b[39m\u001b[38;5;124m\"\u001b[39m\n\u001b[0;32m    780\u001b[0m     )\n\u001b[0;32m    781\u001b[0m     \u001b[38;5;28;01mraise\u001b[39;00m MergeError(msg)\n\u001b[1;32m--> 783\u001b[0m \u001b[38;5;28mself\u001b[39m\u001b[38;5;241m.\u001b[39mleft_on, \u001b[38;5;28mself\u001b[39m\u001b[38;5;241m.\u001b[39mright_on \u001b[38;5;241m=\u001b[39m \u001b[38;5;28;43mself\u001b[39;49m\u001b[38;5;241;43m.\u001b[39;49m\u001b[43m_validate_left_right_on\u001b[49m\u001b[43m(\u001b[49m\u001b[43mleft_on\u001b[49m\u001b[43m,\u001b[49m\u001b[43m \u001b[49m\u001b[43mright_on\u001b[49m\u001b[43m)\u001b[49m\n\u001b[0;32m    785\u001b[0m (\n\u001b[0;32m    786\u001b[0m     \u001b[38;5;28mself\u001b[39m\u001b[38;5;241m.\u001b[39mleft_join_keys,\n\u001b[0;32m    787\u001b[0m     \u001b[38;5;28mself\u001b[39m\u001b[38;5;241m.\u001b[39mright_join_keys,\n\u001b[1;32m   (...)\u001b[0m\n\u001b[0;32m    790\u001b[0m     right_drop,\n\u001b[0;32m    791\u001b[0m ) \u001b[38;5;241m=\u001b[39m \u001b[38;5;28mself\u001b[39m\u001b[38;5;241m.\u001b[39m_get_merge_keys()\n\u001b[0;32m    793\u001b[0m \u001b[38;5;28;01mif\u001b[39;00m left_drop:\n",
      "File \u001b[1;32mc:\\Users\\johns\\AppData\\Local\\Programs\\Python\\Python312\\Lib\\site-packages\\pandas\\core\\reshape\\merge.py:1573\u001b[0m, in \u001b[0;36m_MergeOperation._validate_left_right_on\u001b[1;34m(self, left_on, right_on)\u001b[0m\n\u001b[0;32m   1571\u001b[0m     \u001b[38;5;28;01mif\u001b[39;00m \u001b[38;5;28mself\u001b[39m\u001b[38;5;241m.\u001b[39mright_index:\n\u001b[0;32m   1572\u001b[0m         \u001b[38;5;28;01mif\u001b[39;00m \u001b[38;5;28mlen\u001b[39m(left_on) \u001b[38;5;241m!=\u001b[39m \u001b[38;5;28mself\u001b[39m\u001b[38;5;241m.\u001b[39mright\u001b[38;5;241m.\u001b[39mindex\u001b[38;5;241m.\u001b[39mnlevels:\n\u001b[1;32m-> 1573\u001b[0m             \u001b[38;5;28;01mraise\u001b[39;00m \u001b[38;5;167;01mValueError\u001b[39;00m(\n\u001b[0;32m   1574\u001b[0m                 \u001b[38;5;124m\"\u001b[39m\u001b[38;5;124mlen(left_on) must equal the number \u001b[39m\u001b[38;5;124m\"\u001b[39m\n\u001b[0;32m   1575\u001b[0m                 \u001b[38;5;124m'\u001b[39m\u001b[38;5;124mof levels in the index of \u001b[39m\u001b[38;5;124m\"\u001b[39m\u001b[38;5;124mright\u001b[39m\u001b[38;5;124m\"\u001b[39m\u001b[38;5;124m'\u001b[39m\n\u001b[0;32m   1576\u001b[0m             )\n\u001b[0;32m   1577\u001b[0m         right_on \u001b[38;5;241m=\u001b[39m [\u001b[38;5;28;01mNone\u001b[39;00m] \u001b[38;5;241m*\u001b[39m n\n\u001b[0;32m   1578\u001b[0m \u001b[38;5;28;01melif\u001b[39;00m right_on \u001b[38;5;129;01mis\u001b[39;00m \u001b[38;5;129;01mnot\u001b[39;00m \u001b[38;5;28;01mNone\u001b[39;00m:\n",
      "\u001b[1;31mValueError\u001b[0m: len(left_on) must equal the number of levels in the index of \"right\""
     ]
    }
   ],
   "source": [
    "df_2011['Total Demand'] = total_demand_2011\n",
    "\n",
    "total_demand_by_season = df_2011.groupby(['Season', 'Product Code'])['Total Demand'].sum().reset_index()\n",
    "\n",
    "merged_df = pd.merge(total_demand_by_season, df_with_probs, left_on=['Season', 'Product Code'], right_index=True)\n",
    "\n",
    "for product_code in df_with_probs.columns:\n",
    "    merged_df[f'Total Demand x {product_code}'] = merged_df['Total Demand'] * merged_df[f'prob_{product_code}']\n",
    "\n",
    "print(merged_df)"
   ]
  }
 ],
 "metadata": {
  "kernelspec": {
   "display_name": "Python 3",
   "language": "python",
   "name": "python3"
  },
  "language_info": {
   "codemirror_mode": {
    "name": "ipython",
    "version": 3
   },
   "file_extension": ".py",
   "mimetype": "text/x-python",
   "name": "python",
   "nbconvert_exporter": "python",
   "pygments_lexer": "ipython3",
   "version": "3.12.0"
  }
 },
 "nbformat": 4,
 "nbformat_minor": 2
}
