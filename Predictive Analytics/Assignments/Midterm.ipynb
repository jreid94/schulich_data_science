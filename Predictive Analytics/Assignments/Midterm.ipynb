{
 "cells": [
  {
   "cell_type": "markdown",
   "metadata": {},
   "source": [
    "# Midterm"
   ]
  },
  {
   "cell_type": "code",
   "execution_count": 10,
   "metadata": {},
   "outputs": [],
   "source": [
    "import pandas as pd\n",
    "from statsmodels.sandbox.regression.gmm import GMM"
   ]
  },
  {
   "cell_type": "markdown",
   "metadata": {},
   "source": [
    "## Part 1"
   ]
  },
  {
   "cell_type": "code",
   "execution_count": 11,
   "metadata": {},
   "outputs": [],
   "source": [
    "df = pd.read_csv(r\"C:\\Users\\johns\\OneDrive\\Desktop\\MBAN Semester 2\\Predictive Analytics\\Midterm\\midterm_partone.csv\")"
   ]
  },
  {
   "cell_type": "code",
   "execution_count": 12,
   "metadata": {},
   "outputs": [
    {
     "name": "stdout",
     "output_type": "stream",
     "text": [
      "<class 'pandas.core.frame.DataFrame'>\n",
      "RangeIndex: 1696 entries, 0 to 1695\n",
      "Data columns (total 8 columns):\n",
      " #   Column              Non-Null Count  Dtype  \n",
      "---  ------              --------------  -----  \n",
      " 0   Constant            1696 non-null   int64  \n",
      " 1   Stock Change        1696 non-null   float64\n",
      " 2   Inventory Turnover  1696 non-null   float64\n",
      " 3   Operating Profit    1696 non-null   float64\n",
      " 4   Interaction Effect  1696 non-null   float64\n",
      " 5   Current Ratio       1696 non-null   float64\n",
      " 6   Quick Ratio         1696 non-null   float64\n",
      " 7   Debt Asset Ratio    1696 non-null   float64\n",
      "dtypes: float64(7), int64(1)\n",
      "memory usage: 106.1 KB\n"
     ]
    }
   ],
   "source": [
    "df.info()"
   ]
  },
  {
   "cell_type": "code",
   "execution_count": 13,
   "metadata": {},
   "outputs": [
    {
     "data": {
      "text/html": [
       "<div>\n",
       "<style scoped>\n",
       "    .dataframe tbody tr th:only-of-type {\n",
       "        vertical-align: middle;\n",
       "    }\n",
       "\n",
       "    .dataframe tbody tr th {\n",
       "        vertical-align: top;\n",
       "    }\n",
       "\n",
       "    .dataframe thead th {\n",
       "        text-align: right;\n",
       "    }\n",
       "</style>\n",
       "<table border=\"1\" class=\"dataframe\">\n",
       "  <thead>\n",
       "    <tr style=\"text-align: right;\">\n",
       "      <th></th>\n",
       "      <th>Constant</th>\n",
       "      <th>Stock Change</th>\n",
       "      <th>Inventory Turnover</th>\n",
       "      <th>Operating Profit</th>\n",
       "      <th>Interaction Effect</th>\n",
       "      <th>Current Ratio</th>\n",
       "      <th>Quick Ratio</th>\n",
       "      <th>Debt Asset Ratio</th>\n",
       "    </tr>\n",
       "  </thead>\n",
       "  <tbody>\n",
       "    <tr>\n",
       "      <th>0</th>\n",
       "      <td>1</td>\n",
       "      <td>0.870332</td>\n",
       "      <td>1.795946</td>\n",
       "      <td>0.115846</td>\n",
       "      <td>0.208053</td>\n",
       "      <td>1.672527</td>\n",
       "      <td>0.255171</td>\n",
       "      <td>0.473317</td>\n",
       "    </tr>\n",
       "    <tr>\n",
       "      <th>1</th>\n",
       "      <td>1</td>\n",
       "      <td>-0.047347</td>\n",
       "      <td>1.395501</td>\n",
       "      <td>0.436967</td>\n",
       "      <td>0.609788</td>\n",
       "      <td>1.637261</td>\n",
       "      <td>0.221763</td>\n",
       "      <td>0.489967</td>\n",
       "    </tr>\n",
       "    <tr>\n",
       "      <th>2</th>\n",
       "      <td>1</td>\n",
       "      <td>0.001176</td>\n",
       "      <td>1.664563</td>\n",
       "      <td>0.541016</td>\n",
       "      <td>0.900555</td>\n",
       "      <td>1.640619</td>\n",
       "      <td>0.189141</td>\n",
       "      <td>0.374269</td>\n",
       "    </tr>\n",
       "    <tr>\n",
       "      <th>3</th>\n",
       "      <td>1</td>\n",
       "      <td>-0.901200</td>\n",
       "      <td>1.605738</td>\n",
       "      <td>0.539399</td>\n",
       "      <td>0.866133</td>\n",
       "      <td>1.436221</td>\n",
       "      <td>0.131944</td>\n",
       "      <td>0.224399</td>\n",
       "    </tr>\n",
       "    <tr>\n",
       "      <th>4</th>\n",
       "      <td>1</td>\n",
       "      <td>-0.176353</td>\n",
       "      <td>1.591451</td>\n",
       "      <td>0.539938</td>\n",
       "      <td>0.859285</td>\n",
       "      <td>1.433140</td>\n",
       "      <td>0.183095</td>\n",
       "      <td>0.213446</td>\n",
       "    </tr>\n",
       "  </tbody>\n",
       "</table>\n",
       "</div>"
      ],
      "text/plain": [
       "   Constant  Stock Change  Inventory Turnover  Operating Profit  \\\n",
       "0         1      0.870332            1.795946          0.115846   \n",
       "1         1     -0.047347            1.395501          0.436967   \n",
       "2         1      0.001176            1.664563          0.541016   \n",
       "3         1     -0.901200            1.605738          0.539399   \n",
       "4         1     -0.176353            1.591451          0.539938   \n",
       "\n",
       "   Interaction Effect  Current Ratio  Quick Ratio  Debt Asset Ratio  \n",
       "0            0.208053       1.672527     0.255171          0.473317  \n",
       "1            0.609788       1.637261     0.221763          0.489967  \n",
       "2            0.900555       1.640619     0.189141          0.374269  \n",
       "3            0.866133       1.436221     0.131944          0.224399  \n",
       "4            0.859285       1.433140     0.183095          0.213446  "
      ]
     },
     "execution_count": 13,
     "metadata": {},
     "output_type": "execute_result"
    }
   ],
   "source": [
    "df.head()"
   ]
  },
  {
   "cell_type": "code",
   "execution_count": 21,
   "metadata": {},
   "outputs": [
    {
     "ename": "ValueError",
     "evalue": "shapes (9,) and (7,7) not aligned: 9 (dim 0) != 7 (dim 0)",
     "output_type": "error",
     "traceback": [
      "\u001b[1;31m---------------------------------------------------------------------------\u001b[0m",
      "\u001b[1;31mValueError\u001b[0m                                Traceback (most recent call last)",
      "\u001b[1;32mjreid94\\schulich_data_science\\Predictive Analytics\\Assignments\\Midterm.ipynb Cell 7\u001b[0m line \u001b[0;36m2\n\u001b[0;32m     <a href='vscode-notebook-cell://github/jreid94/schulich_data_science/Predictive%20Analytics/Assignments/Midterm.ipynb#W6sdnNjb2RlLXZmcw%3D%3D?line=24'>25</a>\u001b[0m gmm_model\u001b[39m.\u001b[39mdelta \u001b[39m=\u001b[39m \u001b[39m0.1\u001b[39m\n\u001b[0;32m     <a href='vscode-notebook-cell://github/jreid94/schulich_data_science/Predictive%20Analytics/Assignments/Midterm.ipynb#W6sdnNjb2RlLXZmcw%3D%3D?line=26'>27</a>\u001b[0m beta0 \u001b[39m=\u001b[39m np\u001b[39m.\u001b[39marray([\u001b[39m1\u001b[39m, \u001b[39m1\u001b[39m, \u001b[39m1\u001b[39m, \u001b[39m1\u001b[39m])\n\u001b[1;32m---> <a href='vscode-notebook-cell://github/jreid94/schulich_data_science/Predictive%20Analytics/Assignments/Midterm.ipynb#W6sdnNjb2RlLXZmcw%3D%3D?line=27'>28</a>\u001b[0m res \u001b[39m=\u001b[39m gmm_model\u001b[39m.\u001b[39;49mfit(beta0)\n\u001b[0;32m     <a href='vscode-notebook-cell://github/jreid94/schulich_data_science/Predictive%20Analytics/Assignments/Midterm.ipynb#W6sdnNjb2RlLXZmcw%3D%3D?line=29'>30</a>\u001b[0m res\u001b[39m.\u001b[39msummary()\n",
      "File \u001b[1;32mc:\\Users\\johns\\AppData\\Local\\Programs\\Python\\Python312\\Lib\\site-packages\\statsmodels\\sandbox\\regression\\gmm.py:670\u001b[0m, in \u001b[0;36mGMM.fit\u001b[1;34m(self, start_params, maxiter, inv_weights, weights_method, wargs, has_optimal_weights, optim_method, optim_args)\u001b[0m\n\u001b[0;32m    668\u001b[0m     weights_ \u001b[39m=\u001b[39m weights  \u001b[39m# temporary alias used in jval\u001b[39;00m\n\u001b[0;32m    669\u001b[0m \u001b[39melse\u001b[39;00m:\n\u001b[1;32m--> 670\u001b[0m     params, weights \u001b[39m=\u001b[39m \u001b[39mself\u001b[39;49m\u001b[39m.\u001b[39;49mfititer(start,\n\u001b[0;32m    671\u001b[0m                                    maxiter\u001b[39m=\u001b[39;49mmaxiter,\n\u001b[0;32m    672\u001b[0m                                    start_invweights\u001b[39m=\u001b[39;49minv_weights,\n\u001b[0;32m    673\u001b[0m                                    weights_method\u001b[39m=\u001b[39;49mweights_method,\n\u001b[0;32m    674\u001b[0m                                    wargs\u001b[39m=\u001b[39;49mwargs,\n\u001b[0;32m    675\u001b[0m                                    optim_method\u001b[39m=\u001b[39;49moptim_method,\n\u001b[0;32m    676\u001b[0m                                    optim_args\u001b[39m=\u001b[39;49moptim_args)\n\u001b[0;32m    677\u001b[0m     \u001b[39m# TODO weights returned by fititer is inv_weights - not true anymore\u001b[39;00m\n\u001b[0;32m    678\u001b[0m     \u001b[39m# weights_ currently not necessary and used anymore\u001b[39;00m\n\u001b[0;32m    679\u001b[0m     weights_ \u001b[39m=\u001b[39m np\u001b[39m.\u001b[39mlinalg\u001b[39m.\u001b[39mpinv(weights)\n",
      "File \u001b[1;32mc:\\Users\\johns\\AppData\\Local\\Programs\\Python\\Python312\\Lib\\site-packages\\statsmodels\\sandbox\\regression\\gmm.py:916\u001b[0m, in \u001b[0;36mGMM.fititer\u001b[1;34m(self, start, maxiter, start_invweights, weights_method, wargs, optim_method, optim_args)\u001b[0m\n\u001b[0;32m    912\u001b[0m             w \u001b[39m=\u001b[39m np\u001b[39m.\u001b[39mlinalg\u001b[39m.\u001b[39mpinv(winv)\n\u001b[0;32m    913\u001b[0m             \u001b[39m#this is still calling function not method\u001b[39;00m\n\u001b[0;32m    914\u001b[0m \u001b[39m##            resgmm = fitgmm(momcond, (), start, weights=winv, fixed=None,\u001b[39;00m\n\u001b[0;32m    915\u001b[0m \u001b[39m##                            weightsoptimal=False)\u001b[39;00m\n\u001b[1;32m--> 916\u001b[0m             resgmm \u001b[39m=\u001b[39m \u001b[39mself\u001b[39;49m\u001b[39m.\u001b[39;49mfitgmm(start, weights\u001b[39m=\u001b[39;49mw, optim_method\u001b[39m=\u001b[39;49moptim_method,\n\u001b[0;32m    917\u001b[0m                                  optim_args\u001b[39m=\u001b[39;49moptim_args)\n\u001b[0;32m    919\u001b[0m             moms \u001b[39m=\u001b[39m momcond(resgmm)\n\u001b[0;32m    920\u001b[0m             \u001b[39m# the following is S = cov_moments\u001b[39;00m\n",
      "File \u001b[1;32mc:\\Users\\johns\\AppData\\Local\\Programs\\Python\\Python312\\Lib\\site-packages\\statsmodels\\sandbox\\regression\\gmm.py:768\u001b[0m, in \u001b[0;36mGMM.fitgmm\u001b[1;34m(self, start, weights, optim_method, optim_args)\u001b[0m\n\u001b[0;32m    765\u001b[0m     \u001b[39mprint\u001b[39m(np\u001b[39m.\u001b[39mlinalg\u001b[39m.\u001b[39mdet(weights))\n\u001b[0;32m    767\u001b[0m \u001b[39m#TODO: add other optimization options and results\u001b[39;00m\n\u001b[1;32m--> 768\u001b[0m \u001b[39mreturn\u001b[39;00m optimizer(\u001b[39mself\u001b[39;49m\u001b[39m.\u001b[39;49mgmmobjective, start, args\u001b[39m=\u001b[39;49m(weights,),\n\u001b[0;32m    769\u001b[0m                  \u001b[39m*\u001b[39;49m\u001b[39m*\u001b[39;49moptim_args)\n",
      "File \u001b[1;32mc:\\Users\\johns\\AppData\\Local\\Programs\\Python\\Python312\\Lib\\site-packages\\scipy\\optimize\\_optimize.py:1360\u001b[0m, in \u001b[0;36mfmin_bfgs\u001b[1;34m(f, x0, fprime, args, gtol, norm, epsilon, maxiter, full_output, disp, retall, callback, xrtol)\u001b[0m\n\u001b[0;32m   1351\u001b[0m opts \u001b[39m=\u001b[39m {\u001b[39m'\u001b[39m\u001b[39mgtol\u001b[39m\u001b[39m'\u001b[39m: gtol,\n\u001b[0;32m   1352\u001b[0m         \u001b[39m'\u001b[39m\u001b[39mnorm\u001b[39m\u001b[39m'\u001b[39m: norm,\n\u001b[0;32m   1353\u001b[0m         \u001b[39m'\u001b[39m\u001b[39meps\u001b[39m\u001b[39m'\u001b[39m: epsilon,\n\u001b[1;32m   (...)\u001b[0m\n\u001b[0;32m   1356\u001b[0m         \u001b[39m'\u001b[39m\u001b[39mreturn_all\u001b[39m\u001b[39m'\u001b[39m: retall,\n\u001b[0;32m   1357\u001b[0m         \u001b[39m'\u001b[39m\u001b[39mxrtol\u001b[39m\u001b[39m'\u001b[39m: xrtol}\n\u001b[0;32m   1359\u001b[0m callback \u001b[39m=\u001b[39m _wrap_callback(callback)\n\u001b[1;32m-> 1360\u001b[0m res \u001b[39m=\u001b[39m _minimize_bfgs(f, x0, args, fprime, callback\u001b[39m=\u001b[39;49mcallback, \u001b[39m*\u001b[39;49m\u001b[39m*\u001b[39;49mopts)\n\u001b[0;32m   1362\u001b[0m \u001b[39mif\u001b[39;00m full_output:\n\u001b[0;32m   1363\u001b[0m     retlist \u001b[39m=\u001b[39m (res[\u001b[39m'\u001b[39m\u001b[39mx\u001b[39m\u001b[39m'\u001b[39m], res[\u001b[39m'\u001b[39m\u001b[39mfun\u001b[39m\u001b[39m'\u001b[39m], res[\u001b[39m'\u001b[39m\u001b[39mjac\u001b[39m\u001b[39m'\u001b[39m], res[\u001b[39m'\u001b[39m\u001b[39mhess_inv\u001b[39m\u001b[39m'\u001b[39m],\n\u001b[0;32m   1364\u001b[0m                res[\u001b[39m'\u001b[39m\u001b[39mnfev\u001b[39m\u001b[39m'\u001b[39m], res[\u001b[39m'\u001b[39m\u001b[39mnjev\u001b[39m\u001b[39m'\u001b[39m], res[\u001b[39m'\u001b[39m\u001b[39mstatus\u001b[39m\u001b[39m'\u001b[39m])\n",
      "File \u001b[1;32mc:\\Users\\johns\\AppData\\Local\\Programs\\Python\\Python312\\Lib\\site-packages\\scipy\\optimize\\_optimize.py:1419\u001b[0m, in \u001b[0;36m_minimize_bfgs\u001b[1;34m(fun, x0, args, jac, callback, gtol, norm, eps, maxiter, disp, return_all, finite_diff_rel_step, xrtol, **unknown_options)\u001b[0m\n\u001b[0;32m   1416\u001b[0m \u001b[39mif\u001b[39;00m maxiter \u001b[39mis\u001b[39;00m \u001b[39mNone\u001b[39;00m:\n\u001b[0;32m   1417\u001b[0m     maxiter \u001b[39m=\u001b[39m \u001b[39mlen\u001b[39m(x0) \u001b[39m*\u001b[39m \u001b[39m200\u001b[39m\n\u001b[1;32m-> 1419\u001b[0m sf \u001b[39m=\u001b[39m _prepare_scalar_function(fun, x0, jac, args\u001b[39m=\u001b[39;49margs, epsilon\u001b[39m=\u001b[39;49meps,\n\u001b[0;32m   1420\u001b[0m                               finite_diff_rel_step\u001b[39m=\u001b[39;49mfinite_diff_rel_step)\n\u001b[0;32m   1422\u001b[0m f \u001b[39m=\u001b[39m sf\u001b[39m.\u001b[39mfun\n\u001b[0;32m   1423\u001b[0m myfprime \u001b[39m=\u001b[39m sf\u001b[39m.\u001b[39mgrad\n",
      "File \u001b[1;32mc:\\Users\\johns\\AppData\\Local\\Programs\\Python\\Python312\\Lib\\site-packages\\scipy\\optimize\\_optimize.py:383\u001b[0m, in \u001b[0;36m_prepare_scalar_function\u001b[1;34m(fun, x0, jac, args, bounds, epsilon, finite_diff_rel_step, hess)\u001b[0m\n\u001b[0;32m    379\u001b[0m     bounds \u001b[39m=\u001b[39m (\u001b[39m-\u001b[39mnp\u001b[39m.\u001b[39minf, np\u001b[39m.\u001b[39minf)\n\u001b[0;32m    381\u001b[0m \u001b[39m# ScalarFunction caches. Reuse of fun(x) during grad\u001b[39;00m\n\u001b[0;32m    382\u001b[0m \u001b[39m# calculation reduces overall function evaluations.\u001b[39;00m\n\u001b[1;32m--> 383\u001b[0m sf \u001b[39m=\u001b[39m ScalarFunction(fun, x0, args, grad, hess,\n\u001b[0;32m    384\u001b[0m                     finite_diff_rel_step, bounds, epsilon\u001b[39m=\u001b[39;49mepsilon)\n\u001b[0;32m    386\u001b[0m \u001b[39mreturn\u001b[39;00m sf\n",
      "File \u001b[1;32mc:\\Users\\johns\\AppData\\Local\\Programs\\Python\\Python312\\Lib\\site-packages\\scipy\\optimize\\_differentiable_functions.py:158\u001b[0m, in \u001b[0;36mScalarFunction.__init__\u001b[1;34m(self, fun, x0, args, grad, hess, finite_diff_rel_step, finite_diff_bounds, epsilon)\u001b[0m\n\u001b[0;32m    155\u001b[0m     \u001b[39mself\u001b[39m\u001b[39m.\u001b[39mf \u001b[39m=\u001b[39m fun_wrapped(\u001b[39mself\u001b[39m\u001b[39m.\u001b[39mx)\n\u001b[0;32m    157\u001b[0m \u001b[39mself\u001b[39m\u001b[39m.\u001b[39m_update_fun_impl \u001b[39m=\u001b[39m update_fun\n\u001b[1;32m--> 158\u001b[0m \u001b[39mself\u001b[39;49m\u001b[39m.\u001b[39;49m_update_fun()\n\u001b[0;32m    160\u001b[0m \u001b[39m# Gradient evaluation\u001b[39;00m\n\u001b[0;32m    161\u001b[0m \u001b[39mif\u001b[39;00m \u001b[39mcallable\u001b[39m(grad):\n",
      "File \u001b[1;32mc:\\Users\\johns\\AppData\\Local\\Programs\\Python\\Python312\\Lib\\site-packages\\scipy\\optimize\\_differentiable_functions.py:251\u001b[0m, in \u001b[0;36mScalarFunction._update_fun\u001b[1;34m(self)\u001b[0m\n\u001b[0;32m    249\u001b[0m \u001b[39mdef\u001b[39;00m \u001b[39m_update_fun\u001b[39m(\u001b[39mself\u001b[39m):\n\u001b[0;32m    250\u001b[0m     \u001b[39mif\u001b[39;00m \u001b[39mnot\u001b[39;00m \u001b[39mself\u001b[39m\u001b[39m.\u001b[39mf_updated:\n\u001b[1;32m--> 251\u001b[0m         \u001b[39mself\u001b[39;49m\u001b[39m.\u001b[39;49m_update_fun_impl()\n\u001b[0;32m    252\u001b[0m         \u001b[39mself\u001b[39m\u001b[39m.\u001b[39mf_updated \u001b[39m=\u001b[39m \u001b[39mTrue\u001b[39;00m\n",
      "File \u001b[1;32mc:\\Users\\johns\\AppData\\Local\\Programs\\Python\\Python312\\Lib\\site-packages\\scipy\\optimize\\_differentiable_functions.py:155\u001b[0m, in \u001b[0;36mScalarFunction.__init__.<locals>.update_fun\u001b[1;34m()\u001b[0m\n\u001b[0;32m    154\u001b[0m \u001b[39mdef\u001b[39;00m \u001b[39mupdate_fun\u001b[39m():\n\u001b[1;32m--> 155\u001b[0m     \u001b[39mself\u001b[39m\u001b[39m.\u001b[39mf \u001b[39m=\u001b[39m fun_wrapped(\u001b[39mself\u001b[39;49m\u001b[39m.\u001b[39;49mx)\n",
      "File \u001b[1;32mc:\\Users\\johns\\AppData\\Local\\Programs\\Python\\Python312\\Lib\\site-packages\\scipy\\optimize\\_differentiable_functions.py:137\u001b[0m, in \u001b[0;36mScalarFunction.__init__.<locals>.fun_wrapped\u001b[1;34m(x)\u001b[0m\n\u001b[0;32m    133\u001b[0m \u001b[39mself\u001b[39m\u001b[39m.\u001b[39mnfev \u001b[39m+\u001b[39m\u001b[39m=\u001b[39m \u001b[39m1\u001b[39m\n\u001b[0;32m    134\u001b[0m \u001b[39m# Send a copy because the user may overwrite it.\u001b[39;00m\n\u001b[0;32m    135\u001b[0m \u001b[39m# Overwriting results in undefined behaviour because\u001b[39;00m\n\u001b[0;32m    136\u001b[0m \u001b[39m# fun(self.x) will change self.x, with the two no longer linked.\u001b[39;00m\n\u001b[1;32m--> 137\u001b[0m fx \u001b[39m=\u001b[39m fun(np\u001b[39m.\u001b[39;49mcopy(x), \u001b[39m*\u001b[39;49margs)\n\u001b[0;32m    138\u001b[0m \u001b[39m# Make sure the function returns a true scalar\u001b[39;00m\n\u001b[0;32m    139\u001b[0m \u001b[39mif\u001b[39;00m \u001b[39mnot\u001b[39;00m np\u001b[39m.\u001b[39misscalar(fx):\n",
      "File \u001b[1;32mc:\\Users\\johns\\AppData\\Local\\Programs\\Python\\Python312\\Lib\\site-packages\\statsmodels\\sandbox\\regression\\gmm.py:833\u001b[0m, in \u001b[0;36mGMM.gmmobjective\u001b[1;34m(self, params, weights)\u001b[0m\n\u001b[0;32m    816\u001b[0m \u001b[39m\u001b[39m\u001b[39m'''\u001b[39;00m\n\u001b[0;32m    817\u001b[0m \u001b[39mobjective function for GMM minimization\u001b[39;00m\n\u001b[0;32m    818\u001b[0m \n\u001b[1;32m   (...)\u001b[0m\n\u001b[0;32m    830\u001b[0m \n\u001b[0;32m    831\u001b[0m \u001b[39m'''\u001b[39;00m\n\u001b[0;32m    832\u001b[0m moms \u001b[39m=\u001b[39m \u001b[39mself\u001b[39m\u001b[39m.\u001b[39mmomcond_mean(params)\n\u001b[1;32m--> 833\u001b[0m \u001b[39mreturn\u001b[39;00m np\u001b[39m.\u001b[39mdot(np\u001b[39m.\u001b[39;49mdot(moms, weights), moms)\n",
      "\u001b[1;31mValueError\u001b[0m: shapes (9,) and (7,7) not aligned: 9 (dim 0) != 7 (dim 0)"
     ]
    }
   ],
   "source": [
    "y_vals  = np.array(df[\"Stock Change\"])                                                  # Endogenous variable\n",
    "x_vals  = np.array(df[[\"Inventory Turnover\",\"Operating Profit\",\"Interaction Effect\"]])  # Exogenous variables\n",
    "iv_vals = np.array(df[[\"Current Ratio\",\"Quick Ratio\",\"Debt Asset Ratio\"]])              # Instrumental variables\n",
    "\n",
    "class gmm(GMM):\n",
    "    def momcond(self, params):\n",
    "        p0, p1, p2, p3 = params\n",
    "        endog = self.endog\n",
    "        exog = self.exog\n",
    "        inst = self.instrument   \n",
    "\n",
    "        error0 =  endog - p0 - p1 * exog[:,0] - p2 * exog[:,1] - p3 * exog[:,2]\n",
    "        error1 = (endog - p0 - p1 * exog[:,0] - p2 * exog[:,1] - p3 * exog[:,2]) * exog[:,1]\n",
    "        error2 = (endog - p0 - p1 * exog[:,0] - p2 * exog[:,1] - p3 * exog[:,2]) * exog[:,2]\n",
    "        error3 = (endog - p0 - p1 * exog[:,0] - p2 * exog[:,1] - p3 * exog[:,2]) * inst[:,0] \n",
    "        error4 = (endog - p0 - p1 * exog[:,0] - p2 * exog[:,1] - p3 * exog[:,2]) * inst[:,1] \n",
    "        error5 = (endog - p0 - p1 * exog[:,0] - p2 * exog[:,1] - p3 * exog[:,2]) * inst[:,2] \n",
    "\n",
    "        bias_term = np.array([[1, 1, 1]] * len(endog)) * self.delta\n",
    "        g = np.column_stack((error0, error1, error2, error3, error4, error5, bias_term))\n",
    "        return g\n",
    "\n",
    "gmm_model = gmm(endog=y_vals, exog=x_vals, instrument=iv_vals, k_moms=7, k_params=4)\n",
    "\n",
    "gmm_model.delta = 0.1\n",
    "\n",
    "beta0 = np.array([1, 1, 1, 1])\n",
    "res = gmm_model.fit(beta0)\n",
    "\n",
    "res.summary()"
   ]
  }
 ],
 "metadata": {
  "kernelspec": {
   "display_name": "Python 3",
   "language": "python",
   "name": "python3"
  },
  "language_info": {
   "codemirror_mode": {
    "name": "ipython",
    "version": 3
   },
   "file_extension": ".py",
   "mimetype": "text/x-python",
   "name": "python",
   "nbconvert_exporter": "python",
   "pygments_lexer": "ipython3",
   "version": "3.12.0"
  }
 },
 "nbformat": 4,
 "nbformat_minor": 2
}
