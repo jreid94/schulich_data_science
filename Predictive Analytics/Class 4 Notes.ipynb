{
 "cells": [
  {
   "cell_type": "code",
   "execution_count": 1,
   "metadata": {},
   "outputs": [],
   "source": [
    "import numpy as np\n",
    "import pandas as pd\n",
    "import matplotlib.pyplot as plt\n",
    "import statsmodels.api as sm\n",
    "from sklearn import linear_model as lm"
   ]
  },
  {
   "cell_type": "code",
   "execution_count": 2,
   "metadata": {},
   "outputs": [],
   "source": [
    "x_1 = np.random.uniform(10,40,100)\n",
    "x_2 = np.random.uniform(-50,20,100)\n",
    "x_3 = np.random.uniform(20,60,100)\n",
    "x_4 = np.random.uniform(10,40,100)\n",
    "x_5 = np.random.uniform(-50,20,100)\n",
    "x_6 = np.random.uniform(20,60,100)\n",
    "epsilon = np.random.normal(0,10,100)"
   ]
  },
  {
   "cell_type": "code",
   "execution_count": 3,
   "metadata": {},
   "outputs": [],
   "source": [
    "y=-30+1.3*x_1+1.6*x_2+1.1*x_3+0.7*x_4-2.1*x_5-0.9*x_6+epsilon"
   ]
  },
  {
   "cell_type": "code",
   "execution_count": 4,
   "metadata": {},
   "outputs": [],
   "source": [
    "X_ols=pd.DataFrame()\n",
    "X_ols['Constant']=pd.Series(np.ones(100))\n",
    "X_ols['X1'] = pd.Series(x_1)\n",
    "X_ols['X2'] = pd.Series(x_2)\n",
    "X_ols['X3'] = pd.Series(x_3)\n",
    "X_ols['X4'] = pd.Series(x_4)\n",
    "X_ols['X5'] = pd.Series(x_5)\n",
    "X_ols['X6'] = pd.Series(x_6)"
   ]
  },
  {
   "cell_type": "code",
   "execution_count": 5,
   "metadata": {},
   "outputs": [
    {
     "data": {
      "text/html": [
       "<table class=\"simpletable\">\n",
       "<caption>OLS Regression Results</caption>\n",
       "<tr>\n",
       "  <th>Dep. Variable:</th>            <td>y</td>        <th>  R-squared:         </th> <td>   0.962</td>\n",
       "</tr>\n",
       "<tr>\n",
       "  <th>Model:</th>                   <td>OLS</td>       <th>  Adj. R-squared:    </th> <td>   0.960</td>\n",
       "</tr>\n",
       "<tr>\n",
       "  <th>Method:</th>             <td>Least Squares</td>  <th>  F-statistic:       </th> <td>   392.1</td>\n",
       "</tr>\n",
       "<tr>\n",
       "  <th>Date:</th>             <td>Thu, 21 Sep 2023</td> <th>  Prob (F-statistic):</th> <td>1.00e-63</td>\n",
       "</tr>\n",
       "<tr>\n",
       "  <th>Time:</th>                 <td>19:02:54</td>     <th>  Log-Likelihood:    </th> <td> -373.39</td>\n",
       "</tr>\n",
       "<tr>\n",
       "  <th>No. Observations:</th>      <td>   100</td>      <th>  AIC:               </th> <td>   760.8</td>\n",
       "</tr>\n",
       "<tr>\n",
       "  <th>Df Residuals:</th>          <td>    93</td>      <th>  BIC:               </th> <td>   779.0</td>\n",
       "</tr>\n",
       "<tr>\n",
       "  <th>Df Model:</th>              <td>     6</td>      <th>                     </th>     <td> </td>   \n",
       "</tr>\n",
       "<tr>\n",
       "  <th>Covariance Type:</th>      <td>nonrobust</td>    <th>                     </th>     <td> </td>   \n",
       "</tr>\n",
       "</table>\n",
       "<table class=\"simpletable\">\n",
       "<tr>\n",
       "      <td></td>        <th>coef</th>     <th>std err</th>      <th>t</th>      <th>P>|t|</th>  <th>[0.025</th>    <th>0.975]</th>  \n",
       "</tr>\n",
       "<tr>\n",
       "  <th>Constant</th> <td>  -43.7535</td> <td>    7.461</td> <td>   -5.864</td> <td> 0.000</td> <td>  -58.570</td> <td>  -28.937</td>\n",
       "</tr>\n",
       "<tr>\n",
       "  <th>X1</th>       <td>    1.5968</td> <td>    0.134</td> <td>   11.914</td> <td> 0.000</td> <td>    1.331</td> <td>    1.863</td>\n",
       "</tr>\n",
       "<tr>\n",
       "  <th>X2</th>       <td>    1.4692</td> <td>    0.060</td> <td>   24.454</td> <td> 0.000</td> <td>    1.350</td> <td>    1.589</td>\n",
       "</tr>\n",
       "<tr>\n",
       "  <th>X3</th>       <td>    1.2367</td> <td>    0.097</td> <td>   12.730</td> <td> 0.000</td> <td>    1.044</td> <td>    1.430</td>\n",
       "</tr>\n",
       "<tr>\n",
       "  <th>X4</th>       <td>    0.7847</td> <td>    0.122</td> <td>    6.412</td> <td> 0.000</td> <td>    0.542</td> <td>    1.028</td>\n",
       "</tr>\n",
       "<tr>\n",
       "  <th>X5</th>       <td>   -2.0275</td> <td>    0.051</td> <td>  -39.532</td> <td> 0.000</td> <td>   -2.129</td> <td>   -1.926</td>\n",
       "</tr>\n",
       "<tr>\n",
       "  <th>X6</th>       <td>   -0.9325</td> <td>    0.094</td> <td>   -9.876</td> <td> 0.000</td> <td>   -1.120</td> <td>   -0.745</td>\n",
       "</tr>\n",
       "</table>\n",
       "<table class=\"simpletable\">\n",
       "<tr>\n",
       "  <th>Omnibus:</th>       <td> 4.760</td> <th>  Durbin-Watson:     </th> <td>   2.179</td>\n",
       "</tr>\n",
       "<tr>\n",
       "  <th>Prob(Omnibus):</th> <td> 0.093</td> <th>  Jarque-Bera (JB):  </th> <td>   2.697</td>\n",
       "</tr>\n",
       "<tr>\n",
       "  <th>Skew:</th>          <td> 0.168</td> <th>  Prob(JB):          </th> <td>   0.260</td>\n",
       "</tr>\n",
       "<tr>\n",
       "  <th>Kurtosis:</th>      <td> 2.269</td> <th>  Cond. No.          </th> <td>    508.</td>\n",
       "</tr>\n",
       "</table><br/><br/>Notes:<br/>[1] Standard Errors assume that the covariance matrix of the errors is correctly specified."
      ],
      "text/latex": [
       "\\begin{center}\n",
       "\\begin{tabular}{lclc}\n",
       "\\toprule\n",
       "\\textbf{Dep. Variable:}    &        y         & \\textbf{  R-squared:         } &     0.962   \\\\\n",
       "\\textbf{Model:}            &       OLS        & \\textbf{  Adj. R-squared:    } &     0.960   \\\\\n",
       "\\textbf{Method:}           &  Least Squares   & \\textbf{  F-statistic:       } &     392.1   \\\\\n",
       "\\textbf{Date:}             & Thu, 21 Sep 2023 & \\textbf{  Prob (F-statistic):} &  1.00e-63   \\\\\n",
       "\\textbf{Time:}             &     19:02:54     & \\textbf{  Log-Likelihood:    } &   -373.39   \\\\\n",
       "\\textbf{No. Observations:} &         100      & \\textbf{  AIC:               } &     760.8   \\\\\n",
       "\\textbf{Df Residuals:}     &          93      & \\textbf{  BIC:               } &     779.0   \\\\\n",
       "\\textbf{Df Model:}         &           6      & \\textbf{                     } &             \\\\\n",
       "\\textbf{Covariance Type:}  &    nonrobust     & \\textbf{                     } &             \\\\\n",
       "\\bottomrule\n",
       "\\end{tabular}\n",
       "\\begin{tabular}{lcccccc}\n",
       "                  & \\textbf{coef} & \\textbf{std err} & \\textbf{t} & \\textbf{P$> |$t$|$} & \\textbf{[0.025} & \\textbf{0.975]}  \\\\\n",
       "\\midrule\n",
       "\\textbf{Constant} &     -43.7535  &        7.461     &    -5.864  &         0.000        &      -58.570    &      -28.937     \\\\\n",
       "\\textbf{X1}       &       1.5968  &        0.134     &    11.914  &         0.000        &        1.331    &        1.863     \\\\\n",
       "\\textbf{X2}       &       1.4692  &        0.060     &    24.454  &         0.000        &        1.350    &        1.589     \\\\\n",
       "\\textbf{X3}       &       1.2367  &        0.097     &    12.730  &         0.000        &        1.044    &        1.430     \\\\\n",
       "\\textbf{X4}       &       0.7847  &        0.122     &     6.412  &         0.000        &        0.542    &        1.028     \\\\\n",
       "\\textbf{X5}       &      -2.0275  &        0.051     &   -39.532  &         0.000        &       -2.129    &       -1.926     \\\\\n",
       "\\textbf{X6}       &      -0.9325  &        0.094     &    -9.876  &         0.000        &       -1.120    &       -0.745     \\\\\n",
       "\\bottomrule\n",
       "\\end{tabular}\n",
       "\\begin{tabular}{lclc}\n",
       "\\textbf{Omnibus:}       &  4.760 & \\textbf{  Durbin-Watson:     } &    2.179  \\\\\n",
       "\\textbf{Prob(Omnibus):} &  0.093 & \\textbf{  Jarque-Bera (JB):  } &    2.697  \\\\\n",
       "\\textbf{Skew:}          &  0.168 & \\textbf{  Prob(JB):          } &    0.260  \\\\\n",
       "\\textbf{Kurtosis:}      &  2.269 & \\textbf{  Cond. No.          } &     508.  \\\\\n",
       "\\bottomrule\n",
       "\\end{tabular}\n",
       "%\\caption{OLS Regression Results}\n",
       "\\end{center}\n",
       "\n",
       "Notes: \\newline\n",
       " [1] Standard Errors assume that the covariance matrix of the errors is correctly specified."
      ],
      "text/plain": [
       "<class 'statsmodels.iolib.summary.Summary'>\n",
       "\"\"\"\n",
       "                            OLS Regression Results                            \n",
       "==============================================================================\n",
       "Dep. Variable:                      y   R-squared:                       0.962\n",
       "Model:                            OLS   Adj. R-squared:                  0.960\n",
       "Method:                 Least Squares   F-statistic:                     392.1\n",
       "Date:                Thu, 21 Sep 2023   Prob (F-statistic):           1.00e-63\n",
       "Time:                        19:02:54   Log-Likelihood:                -373.39\n",
       "No. Observations:                 100   AIC:                             760.8\n",
       "Df Residuals:                      93   BIC:                             779.0\n",
       "Df Model:                           6                                         \n",
       "Covariance Type:            nonrobust                                         \n",
       "==============================================================================\n",
       "                 coef    std err          t      P>|t|      [0.025      0.975]\n",
       "------------------------------------------------------------------------------\n",
       "Constant     -43.7535      7.461     -5.864      0.000     -58.570     -28.937\n",
       "X1             1.5968      0.134     11.914      0.000       1.331       1.863\n",
       "X2             1.4692      0.060     24.454      0.000       1.350       1.589\n",
       "X3             1.2367      0.097     12.730      0.000       1.044       1.430\n",
       "X4             0.7847      0.122      6.412      0.000       0.542       1.028\n",
       "X5            -2.0275      0.051    -39.532      0.000      -2.129      -1.926\n",
       "X6            -0.9325      0.094     -9.876      0.000      -1.120      -0.745\n",
       "==============================================================================\n",
       "Omnibus:                        4.760   Durbin-Watson:                   2.179\n",
       "Prob(Omnibus):                  0.093   Jarque-Bera (JB):                2.697\n",
       "Skew:                           0.168   Prob(JB):                        0.260\n",
       "Kurtosis:                       2.269   Cond. No.                         508.\n",
       "==============================================================================\n",
       "\n",
       "Notes:\n",
       "[1] Standard Errors assume that the covariance matrix of the errors is correctly specified.\n",
       "\"\"\""
      ]
     },
     "execution_count": 5,
     "metadata": {},
     "output_type": "execute_result"
    }
   ],
   "source": [
    "model_reg = sm.OLS(y,X_ols).fit()\n",
    "model_reg.summary()"
   ]
  },
  {
   "cell_type": "code",
   "execution_count": 6,
   "metadata": {},
   "outputs": [],
   "source": [
    "# Now we add some unrelated coefficients\n",
    "x_7 = np.random.uniform(10,40,100)\n",
    "x_8 = np.random.uniform(-50,20,100)\n",
    "x_9 = np.random.uniform(20,60,100)\n",
    "x_10 = np.random.uniform(10,40,100)\n",
    "x_11 = np.random.uniform(-50,20,100)\n",
    "x_12 = np.random.uniform(20,60,100)"
   ]
  },
  {
   "cell_type": "code",
   "execution_count": 7,
   "metadata": {},
   "outputs": [],
   "source": [
    "X_ext = pd.DataFrame()\n",
    "X_ext['Constant']=pd.Series(np.ones(100))\n",
    "X_ext['X1'] = pd.Series(x_1)\n",
    "X_ext['X2'] = pd.Series(x_2)\n",
    "X_ext['X3'] = pd.Series(x_3)\n",
    "X_ext['X4'] = pd.Series(x_4)\n",
    "X_ext['X5'] = pd.Series(x_5)\n",
    "X_ext['X6'] = pd.Series(x_6)\n",
    "X_ext['X7'] = pd.Series(x_7)\n",
    "X_ext['X8'] = pd.Series(x_8)\n",
    "X_ext['X9'] = pd.Series(x_9)\n",
    "X_ext['X10'] = pd.Series(x_10)\n",
    "X_ext['X11'] = pd.Series(x_11)\n",
    "X_ext['X12'] = pd.Series(x_12)"
   ]
  },
  {
   "cell_type": "code",
   "execution_count": 8,
   "metadata": {},
   "outputs": [
    {
     "data": {
      "text/html": [
       "<table class=\"simpletable\">\n",
       "<caption>OLS Regression Results</caption>\n",
       "<tr>\n",
       "  <th>Dep. Variable:</th>            <td>y</td>        <th>  R-squared:         </th> <td>   0.963</td>\n",
       "</tr>\n",
       "<tr>\n",
       "  <th>Model:</th>                   <td>OLS</td>       <th>  Adj. R-squared:    </th> <td>   0.958</td>\n",
       "</tr>\n",
       "<tr>\n",
       "  <th>Method:</th>             <td>Least Squares</td>  <th>  F-statistic:       </th> <td>   188.9</td>\n",
       "</tr>\n",
       "<tr>\n",
       "  <th>Date:</th>             <td>Thu, 21 Sep 2023</td> <th>  Prob (F-statistic):</th> <td>7.42e-57</td>\n",
       "</tr>\n",
       "<tr>\n",
       "  <th>Time:</th>                 <td>19:14:36</td>     <th>  Log-Likelihood:    </th> <td> -371.96</td>\n",
       "</tr>\n",
       "<tr>\n",
       "  <th>No. Observations:</th>      <td>   100</td>      <th>  AIC:               </th> <td>   769.9</td>\n",
       "</tr>\n",
       "<tr>\n",
       "  <th>Df Residuals:</th>          <td>    87</td>      <th>  BIC:               </th> <td>   803.8</td>\n",
       "</tr>\n",
       "<tr>\n",
       "  <th>Df Model:</th>              <td>    12</td>      <th>                     </th>     <td> </td>   \n",
       "</tr>\n",
       "<tr>\n",
       "  <th>Covariance Type:</th>      <td>nonrobust</td>    <th>                     </th>     <td> </td>   \n",
       "</tr>\n",
       "</table>\n",
       "<table class=\"simpletable\">\n",
       "<tr>\n",
       "      <td></td>        <th>coef</th>     <th>std err</th>      <th>t</th>      <th>P>|t|</th>  <th>[0.025</th>    <th>0.975]</th>  \n",
       "</tr>\n",
       "<tr>\n",
       "  <th>Constant</th> <td>  -42.2630</td> <td>   11.125</td> <td>   -3.799</td> <td> 0.000</td> <td>  -64.374</td> <td>  -20.152</td>\n",
       "</tr>\n",
       "<tr>\n",
       "  <th>X1</th>       <td>    1.5934</td> <td>    0.139</td> <td>   11.496</td> <td> 0.000</td> <td>    1.318</td> <td>    1.869</td>\n",
       "</tr>\n",
       "<tr>\n",
       "  <th>X2</th>       <td>    1.4626</td> <td>    0.062</td> <td>   23.431</td> <td> 0.000</td> <td>    1.339</td> <td>    1.587</td>\n",
       "</tr>\n",
       "<tr>\n",
       "  <th>X3</th>       <td>    1.2550</td> <td>    0.101</td> <td>   12.453</td> <td> 0.000</td> <td>    1.055</td> <td>    1.455</td>\n",
       "</tr>\n",
       "<tr>\n",
       "  <th>X4</th>       <td>    0.7889</td> <td>    0.129</td> <td>    6.129</td> <td> 0.000</td> <td>    0.533</td> <td>    1.045</td>\n",
       "</tr>\n",
       "<tr>\n",
       "  <th>X5</th>       <td>   -2.0283</td> <td>    0.053</td> <td>  -38.588</td> <td> 0.000</td> <td>   -2.133</td> <td>   -1.924</td>\n",
       "</tr>\n",
       "<tr>\n",
       "  <th>X6</th>       <td>   -0.9416</td> <td>    0.097</td> <td>   -9.695</td> <td> 0.000</td> <td>   -1.135</td> <td>   -0.749</td>\n",
       "</tr>\n",
       "<tr>\n",
       "  <th>X7</th>       <td>    0.0694</td> <td>    0.128</td> <td>    0.541</td> <td> 0.590</td> <td>   -0.186</td> <td>    0.325</td>\n",
       "</tr>\n",
       "<tr>\n",
       "  <th>X8</th>       <td>   -0.0133</td> <td>    0.056</td> <td>   -0.239</td> <td> 0.812</td> <td>   -0.124</td> <td>    0.098</td>\n",
       "</tr>\n",
       "<tr>\n",
       "  <th>X9</th>       <td>   -0.1167</td> <td>    0.100</td> <td>   -1.166</td> <td> 0.247</td> <td>   -0.316</td> <td>    0.082</td>\n",
       "</tr>\n",
       "<tr>\n",
       "  <th>X10</th>      <td>    0.0407</td> <td>    0.130</td> <td>    0.313</td> <td> 0.755</td> <td>   -0.217</td> <td>    0.299</td>\n",
       "</tr>\n",
       "<tr>\n",
       "  <th>X11</th>      <td>   -0.0393</td> <td>    0.054</td> <td>   -0.729</td> <td> 0.468</td> <td>   -0.147</td> <td>    0.068</td>\n",
       "</tr>\n",
       "<tr>\n",
       "  <th>X12</th>      <td>   -0.0294</td> <td>    0.099</td> <td>   -0.298</td> <td> 0.767</td> <td>   -0.226</td> <td>    0.167</td>\n",
       "</tr>\n",
       "</table>\n",
       "<table class=\"simpletable\">\n",
       "<tr>\n",
       "  <th>Omnibus:</th>       <td> 4.164</td> <th>  Durbin-Watson:     </th> <td>   2.100</td>\n",
       "</tr>\n",
       "<tr>\n",
       "  <th>Prob(Omnibus):</th> <td> 0.125</td> <th>  Jarque-Bera (JB):  </th> <td>   2.841</td>\n",
       "</tr>\n",
       "<tr>\n",
       "  <th>Skew:</th>          <td> 0.244</td> <th>  Prob(JB):          </th> <td>   0.242</td>\n",
       "</tr>\n",
       "<tr>\n",
       "  <th>Kurtosis:</th>      <td> 2.334</td> <th>  Cond. No.          </th> <td>1.04e+03</td>\n",
       "</tr>\n",
       "</table><br/><br/>Notes:<br/>[1] Standard Errors assume that the covariance matrix of the errors is correctly specified.<br/>[2] The condition number is large, 1.04e+03. This might indicate that there are<br/>strong multicollinearity or other numerical problems."
      ],
      "text/latex": [
       "\\begin{center}\n",
       "\\begin{tabular}{lclc}\n",
       "\\toprule\n",
       "\\textbf{Dep. Variable:}    &        y         & \\textbf{  R-squared:         } &     0.963   \\\\\n",
       "\\textbf{Model:}            &       OLS        & \\textbf{  Adj. R-squared:    } &     0.958   \\\\\n",
       "\\textbf{Method:}           &  Least Squares   & \\textbf{  F-statistic:       } &     188.9   \\\\\n",
       "\\textbf{Date:}             & Thu, 21 Sep 2023 & \\textbf{  Prob (F-statistic):} &  7.42e-57   \\\\\n",
       "\\textbf{Time:}             &     19:14:36     & \\textbf{  Log-Likelihood:    } &   -371.96   \\\\\n",
       "\\textbf{No. Observations:} &         100      & \\textbf{  AIC:               } &     769.9   \\\\\n",
       "\\textbf{Df Residuals:}     &          87      & \\textbf{  BIC:               } &     803.8   \\\\\n",
       "\\textbf{Df Model:}         &          12      & \\textbf{                     } &             \\\\\n",
       "\\textbf{Covariance Type:}  &    nonrobust     & \\textbf{                     } &             \\\\\n",
       "\\bottomrule\n",
       "\\end{tabular}\n",
       "\\begin{tabular}{lcccccc}\n",
       "                  & \\textbf{coef} & \\textbf{std err} & \\textbf{t} & \\textbf{P$> |$t$|$} & \\textbf{[0.025} & \\textbf{0.975]}  \\\\\n",
       "\\midrule\n",
       "\\textbf{Constant} &     -42.2630  &       11.125     &    -3.799  &         0.000        &      -64.374    &      -20.152     \\\\\n",
       "\\textbf{X1}       &       1.5934  &        0.139     &    11.496  &         0.000        &        1.318    &        1.869     \\\\\n",
       "\\textbf{X2}       &       1.4626  &        0.062     &    23.431  &         0.000        &        1.339    &        1.587     \\\\\n",
       "\\textbf{X3}       &       1.2550  &        0.101     &    12.453  &         0.000        &        1.055    &        1.455     \\\\\n",
       "\\textbf{X4}       &       0.7889  &        0.129     &     6.129  &         0.000        &        0.533    &        1.045     \\\\\n",
       "\\textbf{X5}       &      -2.0283  &        0.053     &   -38.588  &         0.000        &       -2.133    &       -1.924     \\\\\n",
       "\\textbf{X6}       &      -0.9416  &        0.097     &    -9.695  &         0.000        &       -1.135    &       -0.749     \\\\\n",
       "\\textbf{X7}       &       0.0694  &        0.128     &     0.541  &         0.590        &       -0.186    &        0.325     \\\\\n",
       "\\textbf{X8}       &      -0.0133  &        0.056     &    -0.239  &         0.812        &       -0.124    &        0.098     \\\\\n",
       "\\textbf{X9}       &      -0.1167  &        0.100     &    -1.166  &         0.247        &       -0.316    &        0.082     \\\\\n",
       "\\textbf{X10}      &       0.0407  &        0.130     &     0.313  &         0.755        &       -0.217    &        0.299     \\\\\n",
       "\\textbf{X11}      &      -0.0393  &        0.054     &    -0.729  &         0.468        &       -0.147    &        0.068     \\\\\n",
       "\\textbf{X12}      &      -0.0294  &        0.099     &    -0.298  &         0.767        &       -0.226    &        0.167     \\\\\n",
       "\\bottomrule\n",
       "\\end{tabular}\n",
       "\\begin{tabular}{lclc}\n",
       "\\textbf{Omnibus:}       &  4.164 & \\textbf{  Durbin-Watson:     } &    2.100  \\\\\n",
       "\\textbf{Prob(Omnibus):} &  0.125 & \\textbf{  Jarque-Bera (JB):  } &    2.841  \\\\\n",
       "\\textbf{Skew:}          &  0.244 & \\textbf{  Prob(JB):          } &    0.242  \\\\\n",
       "\\textbf{Kurtosis:}      &  2.334 & \\textbf{  Cond. No.          } & 1.04e+03  \\\\\n",
       "\\bottomrule\n",
       "\\end{tabular}\n",
       "%\\caption{OLS Regression Results}\n",
       "\\end{center}\n",
       "\n",
       "Notes: \\newline\n",
       " [1] Standard Errors assume that the covariance matrix of the errors is correctly specified. \\newline\n",
       " [2] The condition number is large, 1.04e+03. This might indicate that there are \\newline\n",
       " strong multicollinearity or other numerical problems."
      ],
      "text/plain": [
       "<class 'statsmodels.iolib.summary.Summary'>\n",
       "\"\"\"\n",
       "                            OLS Regression Results                            \n",
       "==============================================================================\n",
       "Dep. Variable:                      y   R-squared:                       0.963\n",
       "Model:                            OLS   Adj. R-squared:                  0.958\n",
       "Method:                 Least Squares   F-statistic:                     188.9\n",
       "Date:                Thu, 21 Sep 2023   Prob (F-statistic):           7.42e-57\n",
       "Time:                        19:14:36   Log-Likelihood:                -371.96\n",
       "No. Observations:                 100   AIC:                             769.9\n",
       "Df Residuals:                      87   BIC:                             803.8\n",
       "Df Model:                          12                                         \n",
       "Covariance Type:            nonrobust                                         \n",
       "==============================================================================\n",
       "                 coef    std err          t      P>|t|      [0.025      0.975]\n",
       "------------------------------------------------------------------------------\n",
       "Constant     -42.2630     11.125     -3.799      0.000     -64.374     -20.152\n",
       "X1             1.5934      0.139     11.496      0.000       1.318       1.869\n",
       "X2             1.4626      0.062     23.431      0.000       1.339       1.587\n",
       "X3             1.2550      0.101     12.453      0.000       1.055       1.455\n",
       "X4             0.7889      0.129      6.129      0.000       0.533       1.045\n",
       "X5            -2.0283      0.053    -38.588      0.000      -2.133      -1.924\n",
       "X6            -0.9416      0.097     -9.695      0.000      -1.135      -0.749\n",
       "X7             0.0694      0.128      0.541      0.590      -0.186       0.325\n",
       "X8            -0.0133      0.056     -0.239      0.812      -0.124       0.098\n",
       "X9            -0.1167      0.100     -1.166      0.247      -0.316       0.082\n",
       "X10            0.0407      0.130      0.313      0.755      -0.217       0.299\n",
       "X11           -0.0393      0.054     -0.729      0.468      -0.147       0.068\n",
       "X12           -0.0294      0.099     -0.298      0.767      -0.226       0.167\n",
       "==============================================================================\n",
       "Omnibus:                        4.164   Durbin-Watson:                   2.100\n",
       "Prob(Omnibus):                  0.125   Jarque-Bera (JB):                2.841\n",
       "Skew:                           0.244   Prob(JB):                        0.242\n",
       "Kurtosis:                       2.334   Cond. No.                     1.04e+03\n",
       "==============================================================================\n",
       "\n",
       "Notes:\n",
       "[1] Standard Errors assume that the covariance matrix of the errors is correctly specified.\n",
       "[2] The condition number is large, 1.04e+03. This might indicate that there are\n",
       "strong multicollinearity or other numerical problems.\n",
       "\"\"\""
      ]
     },
     "execution_count": 8,
     "metadata": {},
     "output_type": "execute_result"
    }
   ],
   "source": [
    "model_reg = sm.OLS(y,X_ext).fit()\n",
    "model_reg.summary()"
   ]
  },
  {
   "cell_type": "code",
   "execution_count": 9,
   "metadata": {},
   "outputs": [
    {
     "data": {
      "text/plain": [
       "array([ 1.58061656,  1.45919464,  1.24359852,  0.76963254, -2.02457275,\n",
       "       -0.93253585,  0.0551373 , -0.01116676, -0.10621488,  0.0219051 ,\n",
       "       -0.03616585, -0.02035702])"
      ]
     },
     "execution_count": 9,
     "metadata": {},
     "output_type": "execute_result"
    }
   ],
   "source": [
    "# When we input the matrix, we don't need to add the column of ones because \\\n",
    "# Lasso automatically takes it into account\n",
    "\n",
    "X_ext = X_ext.drop(columns=['Constant'])\n",
    "model_lasso = lm.Lasso(alpha=1).fit(X_ext,y)\n",
    "model_lasso.coef_"
   ]
  },
  {
   "cell_type": "code",
   "execution_count": 10,
   "metadata": {},
   "outputs": [
    {
     "data": {
      "text/plain": [
       "array([ 1.45494432,  1.43260601,  1.15789565,  0.62400463, -1.98679659,\n",
       "       -0.86315309,  0.        , -0.        , -0.0319987 , -0.        ,\n",
       "       -0.01449377, -0.        ])"
      ]
     },
     "execution_count": 10,
     "metadata": {},
     "output_type": "execute_result"
    }
   ],
   "source": [
    "model_lasso = lm.Lasso(alpha=10).fit(X_ext,y)\n",
    "model_lasso.coef_"
   ]
  },
  {
   "cell_type": "code",
   "execution_count": 11,
   "metadata": {},
   "outputs": [
    {
     "data": {
      "text/plain": [
       "array([ 1.59094038,  1.46214235,  1.25385439,  0.78755932, -2.02760989,\n",
       "       -0.94092734,  0.06952431, -0.01322758, -0.11653358,  0.04033035,\n",
       "       -0.03929612, -0.02933034])"
      ]
     },
     "execution_count": 11,
     "metadata": {},
     "output_type": "execute_result"
    }
   ],
   "source": [
    "# We now apply Ridge Regression to our data\n",
    "\n",
    "model_ridge = lm.Ridge(alpha=10).fit(X_ext,y)\n",
    "model_ridge.coef_"
   ]
  },
  {
   "cell_type": "code",
   "execution_count": 12,
   "metadata": {},
   "outputs": [
    {
     "data": {
      "text/plain": [
       "array([ 6.48105706e-01,  1.11287932e+00,  6.66928538e-01,  2.33590952e-01,\n",
       "       -1.54850423e+00, -5.54493830e-01,  7.14380195e-02,  3.45530772e-02,\n",
       "       -3.75722252e-02, -4.50899553e-02, -3.52393017e-02,  1.54010017e-03])"
      ]
     },
     "execution_count": 12,
     "metadata": {},
     "output_type": "execute_result"
    }
   ],
   "source": [
    "model_ridge = lm.Ridge(alpha=10000).fit(X_ext,y)\n",
    "model_ridge.coef_"
   ]
  }
 ],
 "metadata": {
  "kernelspec": {
   "display_name": "Python 3",
   "language": "python",
   "name": "python3"
  },
  "language_info": {
   "codemirror_mode": {
    "name": "ipython",
    "version": 3
   },
   "file_extension": ".py",
   "mimetype": "text/x-python",
   "name": "python",
   "nbconvert_exporter": "python",
   "pygments_lexer": "ipython3",
   "version": "3.11.0"
  },
  "orig_nbformat": 4
 },
 "nbformat": 4,
 "nbformat_minor": 2
}
