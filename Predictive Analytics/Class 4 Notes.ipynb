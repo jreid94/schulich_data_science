{
 "cells": [
  {
   "cell_type": "code",
   "execution_count": 1,
   "metadata": {},
   "outputs": [],
   "source": [
    "import numpy as np\n",
    "import pandas as pd\n",
    "import matplotlib.pyplot as plt\n",
    "import statsmodels.api as sm\n",
    "from sklearn import linear_model as lm"
   ]
  },
  {
   "cell_type": "code",
   "execution_count": 2,
   "metadata": {},
   "outputs": [],
   "source": [
    "x_1 = np.random.uniform(10,40,100)\n",
    "x_2 = np.random.uniform(-50,20,100)\n",
    "x_3 = np.random.uniform(20,60,100)\n",
    "x_4 = np.random.uniform(10,40,100)\n",
    "x_5 = np.random.uniform(-50,20,100)\n",
    "x_6 = np.random.uniform(20,60,100)\n",
    "epsilon = np.random.normal(0,10,100)"
   ]
  },
  {
   "cell_type": "code",
   "execution_count": 3,
   "metadata": {},
   "outputs": [],
   "source": [
    "y=-30+1.3*x_1+1.6*x_2+1.1*x_3+0.7*x_4-2.1*x_5-0.9*x_6+epsilon"
   ]
  },
  {
   "cell_type": "code",
   "execution_count": 4,
   "metadata": {},
   "outputs": [],
   "source": [
    "X_ols=pd.DataFrame()\n",
    "X_ols['Constant']=pd.Series(np.ones(100))\n",
    "X_ols['X1'] = pd.Series(x_1)\n",
    "X_ols['X2'] = pd.Series(x_2)\n",
    "X_ols['X3'] = pd.Series(x_3)\n",
    "X_ols['X4'] = pd.Series(x_4)\n",
    "X_ols['X5'] = pd.Series(x_5)\n",
    "X_ols['X6'] = pd.Series(x_6)"
   ]
  },
  {
   "cell_type": "code",
   "execution_count": 5,
   "metadata": {},
   "outputs": [
    {
     "data": {
      "text/html": [
       "<table class=\"simpletable\">\n",
       "<caption>OLS Regression Results</caption>\n",
       "<tr>\n",
       "  <th>Dep. Variable:</th>            <td>y</td>        <th>  R-squared:         </th> <td>   0.972</td>\n",
       "</tr>\n",
       "<tr>\n",
       "  <th>Model:</th>                   <td>OLS</td>       <th>  Adj. R-squared:    </th> <td>   0.970</td>\n",
       "</tr>\n",
       "<tr>\n",
       "  <th>Method:</th>             <td>Least Squares</td>  <th>  F-statistic:       </th> <td>   540.7</td>\n",
       "</tr>\n",
       "<tr>\n",
       "  <th>Date:</th>             <td>Mon, 02 Oct 2023</td> <th>  Prob (F-statistic):</th> <td>5.43e-70</td>\n",
       "</tr>\n",
       "<tr>\n",
       "  <th>Time:</th>                 <td>19:44:55</td>     <th>  Log-Likelihood:    </th> <td> -365.44</td>\n",
       "</tr>\n",
       "<tr>\n",
       "  <th>No. Observations:</th>      <td>   100</td>      <th>  AIC:               </th> <td>   744.9</td>\n",
       "</tr>\n",
       "<tr>\n",
       "  <th>Df Residuals:</th>          <td>    93</td>      <th>  BIC:               </th> <td>   763.1</td>\n",
       "</tr>\n",
       "<tr>\n",
       "  <th>Df Model:</th>              <td>     6</td>      <th>                     </th>     <td> </td>   \n",
       "</tr>\n",
       "<tr>\n",
       "  <th>Covariance Type:</th>      <td>nonrobust</td>    <th>                     </th>     <td> </td>   \n",
       "</tr>\n",
       "</table>\n",
       "<table class=\"simpletable\">\n",
       "<tr>\n",
       "      <td></td>        <th>coef</th>     <th>std err</th>      <th>t</th>      <th>P>|t|</th>  <th>[0.025</th>    <th>0.975]</th>  \n",
       "</tr>\n",
       "<tr>\n",
       "  <th>Constant</th> <td>  -23.1715</td> <td>    7.102</td> <td>   -3.263</td> <td> 0.002</td> <td>  -37.274</td> <td>   -9.069</td>\n",
       "</tr>\n",
       "<tr>\n",
       "  <th>X1</th>       <td>    1.1656</td> <td>    0.112</td> <td>   10.406</td> <td> 0.000</td> <td>    0.943</td> <td>    1.388</td>\n",
       "</tr>\n",
       "<tr>\n",
       "  <th>X2</th>       <td>    1.5993</td> <td>    0.053</td> <td>   30.192</td> <td> 0.000</td> <td>    1.494</td> <td>    1.704</td>\n",
       "</tr>\n",
       "<tr>\n",
       "  <th>X3</th>       <td>    1.1394</td> <td>    0.084</td> <td>   13.621</td> <td> 0.000</td> <td>    0.973</td> <td>    1.305</td>\n",
       "</tr>\n",
       "<tr>\n",
       "  <th>X4</th>       <td>    0.6669</td> <td>    0.114</td> <td>    5.840</td> <td> 0.000</td> <td>    0.440</td> <td>    0.894</td>\n",
       "</tr>\n",
       "<tr>\n",
       "  <th>X5</th>       <td>   -2.0392</td> <td>    0.049</td> <td>  -41.275</td> <td> 0.000</td> <td>   -2.137</td> <td>   -1.941</td>\n",
       "</tr>\n",
       "<tr>\n",
       "  <th>X6</th>       <td>   -1.0214</td> <td>    0.087</td> <td>  -11.688</td> <td> 0.000</td> <td>   -1.195</td> <td>   -0.848</td>\n",
       "</tr>\n",
       "</table>\n",
       "<table class=\"simpletable\">\n",
       "<tr>\n",
       "  <th>Omnibus:</th>       <td> 2.193</td> <th>  Durbin-Watson:     </th> <td>   2.299</td>\n",
       "</tr>\n",
       "<tr>\n",
       "  <th>Prob(Omnibus):</th> <td> 0.334</td> <th>  Jarque-Bera (JB):  </th> <td>   1.801</td>\n",
       "</tr>\n",
       "<tr>\n",
       "  <th>Skew:</th>          <td>-0.325</td> <th>  Prob(JB):          </th> <td>   0.406</td>\n",
       "</tr>\n",
       "<tr>\n",
       "  <th>Kurtosis:</th>      <td> 3.097</td> <th>  Cond. No.          </th> <td>    536.</td>\n",
       "</tr>\n",
       "</table><br/><br/>Notes:<br/>[1] Standard Errors assume that the covariance matrix of the errors is correctly specified."
      ],
      "text/latex": [
       "\\begin{center}\n",
       "\\begin{tabular}{lclc}\n",
       "\\toprule\n",
       "\\textbf{Dep. Variable:}    &        y         & \\textbf{  R-squared:         } &     0.972   \\\\\n",
       "\\textbf{Model:}            &       OLS        & \\textbf{  Adj. R-squared:    } &     0.970   \\\\\n",
       "\\textbf{Method:}           &  Least Squares   & \\textbf{  F-statistic:       } &     540.7   \\\\\n",
       "\\textbf{Date:}             & Mon, 02 Oct 2023 & \\textbf{  Prob (F-statistic):} &  5.43e-70   \\\\\n",
       "\\textbf{Time:}             &     19:44:55     & \\textbf{  Log-Likelihood:    } &   -365.44   \\\\\n",
       "\\textbf{No. Observations:} &         100      & \\textbf{  AIC:               } &     744.9   \\\\\n",
       "\\textbf{Df Residuals:}     &          93      & \\textbf{  BIC:               } &     763.1   \\\\\n",
       "\\textbf{Df Model:}         &           6      & \\textbf{                     } &             \\\\\n",
       "\\textbf{Covariance Type:}  &    nonrobust     & \\textbf{                     } &             \\\\\n",
       "\\bottomrule\n",
       "\\end{tabular}\n",
       "\\begin{tabular}{lcccccc}\n",
       "                  & \\textbf{coef} & \\textbf{std err} & \\textbf{t} & \\textbf{P$> |$t$|$} & \\textbf{[0.025} & \\textbf{0.975]}  \\\\\n",
       "\\midrule\n",
       "\\textbf{Constant} &     -23.1715  &        7.102     &    -3.263  &         0.002        &      -37.274    &       -9.069     \\\\\n",
       "\\textbf{X1}       &       1.1656  &        0.112     &    10.406  &         0.000        &        0.943    &        1.388     \\\\\n",
       "\\textbf{X2}       &       1.5993  &        0.053     &    30.192  &         0.000        &        1.494    &        1.704     \\\\\n",
       "\\textbf{X3}       &       1.1394  &        0.084     &    13.621  &         0.000        &        0.973    &        1.305     \\\\\n",
       "\\textbf{X4}       &       0.6669  &        0.114     &     5.840  &         0.000        &        0.440    &        0.894     \\\\\n",
       "\\textbf{X5}       &      -2.0392  &        0.049     &   -41.275  &         0.000        &       -2.137    &       -1.941     \\\\\n",
       "\\textbf{X6}       &      -1.0214  &        0.087     &   -11.688  &         0.000        &       -1.195    &       -0.848     \\\\\n",
       "\\bottomrule\n",
       "\\end{tabular}\n",
       "\\begin{tabular}{lclc}\n",
       "\\textbf{Omnibus:}       &  2.193 & \\textbf{  Durbin-Watson:     } &    2.299  \\\\\n",
       "\\textbf{Prob(Omnibus):} &  0.334 & \\textbf{  Jarque-Bera (JB):  } &    1.801  \\\\\n",
       "\\textbf{Skew:}          & -0.325 & \\textbf{  Prob(JB):          } &    0.406  \\\\\n",
       "\\textbf{Kurtosis:}      &  3.097 & \\textbf{  Cond. No.          } &     536.  \\\\\n",
       "\\bottomrule\n",
       "\\end{tabular}\n",
       "%\\caption{OLS Regression Results}\n",
       "\\end{center}\n",
       "\n",
       "Notes: \\newline\n",
       " [1] Standard Errors assume that the covariance matrix of the errors is correctly specified."
      ],
      "text/plain": [
       "<class 'statsmodels.iolib.summary.Summary'>\n",
       "\"\"\"\n",
       "                            OLS Regression Results                            \n",
       "==============================================================================\n",
       "Dep. Variable:                      y   R-squared:                       0.972\n",
       "Model:                            OLS   Adj. R-squared:                  0.970\n",
       "Method:                 Least Squares   F-statistic:                     540.7\n",
       "Date:                Mon, 02 Oct 2023   Prob (F-statistic):           5.43e-70\n",
       "Time:                        19:44:55   Log-Likelihood:                -365.44\n",
       "No. Observations:                 100   AIC:                             744.9\n",
       "Df Residuals:                      93   BIC:                             763.1\n",
       "Df Model:                           6                                         \n",
       "Covariance Type:            nonrobust                                         \n",
       "==============================================================================\n",
       "                 coef    std err          t      P>|t|      [0.025      0.975]\n",
       "------------------------------------------------------------------------------\n",
       "Constant     -23.1715      7.102     -3.263      0.002     -37.274      -9.069\n",
       "X1             1.1656      0.112     10.406      0.000       0.943       1.388\n",
       "X2             1.5993      0.053     30.192      0.000       1.494       1.704\n",
       "X3             1.1394      0.084     13.621      0.000       0.973       1.305\n",
       "X4             0.6669      0.114      5.840      0.000       0.440       0.894\n",
       "X5            -2.0392      0.049    -41.275      0.000      -2.137      -1.941\n",
       "X6            -1.0214      0.087    -11.688      0.000      -1.195      -0.848\n",
       "==============================================================================\n",
       "Omnibus:                        2.193   Durbin-Watson:                   2.299\n",
       "Prob(Omnibus):                  0.334   Jarque-Bera (JB):                1.801\n",
       "Skew:                          -0.325   Prob(JB):                        0.406\n",
       "Kurtosis:                       3.097   Cond. No.                         536.\n",
       "==============================================================================\n",
       "\n",
       "Notes:\n",
       "[1] Standard Errors assume that the covariance matrix of the errors is correctly specified.\n",
       "\"\"\""
      ]
     },
     "execution_count": 5,
     "metadata": {},
     "output_type": "execute_result"
    }
   ],
   "source": [
    "model_reg = sm.OLS(y,X_ols).fit()\n",
    "model_reg.summary()"
   ]
  },
  {
   "cell_type": "code",
   "execution_count": 6,
   "metadata": {},
   "outputs": [],
   "source": [
    "# Now we add some unrelated coefficients\n",
    "x_7 = np.random.uniform(10,40,100)\n",
    "x_8 = np.random.uniform(-50,20,100)\n",
    "x_9 = np.random.uniform(20,60,100)\n",
    "x_10 = np.random.uniform(10,40,100)\n",
    "x_11 = np.random.uniform(-50,20,100)\n",
    "x_12 = np.random.uniform(20,60,100)"
   ]
  },
  {
   "cell_type": "code",
   "execution_count": 7,
   "metadata": {},
   "outputs": [],
   "source": [
    "X_ext = pd.DataFrame()\n",
    "X_ext['Constant']=pd.Series(np.ones(100))\n",
    "X_ext['X1'] = pd.Series(x_1)\n",
    "X_ext['X2'] = pd.Series(x_2)\n",
    "X_ext['X3'] = pd.Series(x_3)\n",
    "X_ext['X4'] = pd.Series(x_4)\n",
    "X_ext['X5'] = pd.Series(x_5)\n",
    "X_ext['X6'] = pd.Series(x_6)\n",
    "X_ext['X7'] = pd.Series(x_7)\n",
    "X_ext['X8'] = pd.Series(x_8)\n",
    "X_ext['X9'] = pd.Series(x_9)\n",
    "X_ext['X10'] = pd.Series(x_10)\n",
    "X_ext['X11'] = pd.Series(x_11)\n",
    "X_ext['X12'] = pd.Series(x_12)"
   ]
  },
  {
   "cell_type": "code",
   "execution_count": 8,
   "metadata": {},
   "outputs": [
    {
     "data": {
      "text/html": [
       "<table class=\"simpletable\">\n",
       "<caption>OLS Regression Results</caption>\n",
       "<tr>\n",
       "  <th>Dep. Variable:</th>            <td>y</td>        <th>  R-squared:         </th> <td>   0.976</td>\n",
       "</tr>\n",
       "<tr>\n",
       "  <th>Model:</th>                   <td>OLS</td>       <th>  Adj. R-squared:    </th> <td>   0.973</td>\n",
       "</tr>\n",
       "<tr>\n",
       "  <th>Method:</th>             <td>Least Squares</td>  <th>  F-statistic:       </th> <td>   300.4</td>\n",
       "</tr>\n",
       "<tr>\n",
       "  <th>Date:</th>             <td>Mon, 02 Oct 2023</td> <th>  Prob (F-statistic):</th> <td>2.51e-65</td>\n",
       "</tr>\n",
       "<tr>\n",
       "  <th>Time:</th>                 <td>19:44:55</td>     <th>  Log-Likelihood:    </th> <td> -357.05</td>\n",
       "</tr>\n",
       "<tr>\n",
       "  <th>No. Observations:</th>      <td>   100</td>      <th>  AIC:               </th> <td>   740.1</td>\n",
       "</tr>\n",
       "<tr>\n",
       "  <th>Df Residuals:</th>          <td>    87</td>      <th>  BIC:               </th> <td>   774.0</td>\n",
       "</tr>\n",
       "<tr>\n",
       "  <th>Df Model:</th>              <td>    12</td>      <th>                     </th>     <td> </td>   \n",
       "</tr>\n",
       "<tr>\n",
       "  <th>Covariance Type:</th>      <td>nonrobust</td>    <th>                     </th>     <td> </td>   \n",
       "</tr>\n",
       "</table>\n",
       "<table class=\"simpletable\">\n",
       "<tr>\n",
       "      <td></td>        <th>coef</th>     <th>std err</th>      <th>t</th>      <th>P>|t|</th>  <th>[0.025</th>    <th>0.975]</th>  \n",
       "</tr>\n",
       "<tr>\n",
       "  <th>Constant</th> <td>  -36.8580</td> <td>   10.770</td> <td>   -3.422</td> <td> 0.001</td> <td>  -58.264</td> <td>  -15.452</td>\n",
       "</tr>\n",
       "<tr>\n",
       "  <th>X1</th>       <td>    1.1539</td> <td>    0.109</td> <td>   10.611</td> <td> 0.000</td> <td>    0.938</td> <td>    1.370</td>\n",
       "</tr>\n",
       "<tr>\n",
       "  <th>X2</th>       <td>    1.6499</td> <td>    0.054</td> <td>   30.802</td> <td> 0.000</td> <td>    1.543</td> <td>    1.756</td>\n",
       "</tr>\n",
       "<tr>\n",
       "  <th>X3</th>       <td>    1.1194</td> <td>    0.082</td> <td>   13.693</td> <td> 0.000</td> <td>    0.957</td> <td>    1.282</td>\n",
       "</tr>\n",
       "<tr>\n",
       "  <th>X4</th>       <td>    0.6965</td> <td>    0.112</td> <td>    6.213</td> <td> 0.000</td> <td>    0.474</td> <td>    0.919</td>\n",
       "</tr>\n",
       "<tr>\n",
       "  <th>X5</th>       <td>   -2.0568</td> <td>    0.048</td> <td>  -42.962</td> <td> 0.000</td> <td>   -2.152</td> <td>   -1.962</td>\n",
       "</tr>\n",
       "<tr>\n",
       "  <th>X6</th>       <td>   -0.9574</td> <td>    0.086</td> <td>  -11.129</td> <td> 0.000</td> <td>   -1.128</td> <td>   -0.786</td>\n",
       "</tr>\n",
       "<tr>\n",
       "  <th>X7</th>       <td>   -0.0437</td> <td>    0.119</td> <td>   -0.368</td> <td> 0.714</td> <td>   -0.280</td> <td>    0.193</td>\n",
       "</tr>\n",
       "<tr>\n",
       "  <th>X8</th>       <td>   -0.0345</td> <td>    0.047</td> <td>   -0.729</td> <td> 0.468</td> <td>   -0.128</td> <td>    0.059</td>\n",
       "</tr>\n",
       "<tr>\n",
       "  <th>X9</th>       <td>    0.0334</td> <td>    0.083</td> <td>    0.404</td> <td> 0.687</td> <td>   -0.131</td> <td>    0.198</td>\n",
       "</tr>\n",
       "<tr>\n",
       "  <th>X10</th>      <td>    0.0745</td> <td>    0.113</td> <td>    0.657</td> <td> 0.513</td> <td>   -0.151</td> <td>    0.300</td>\n",
       "</tr>\n",
       "<tr>\n",
       "  <th>X11</th>      <td>    0.0945</td> <td>    0.047</td> <td>    2.021</td> <td> 0.046</td> <td>    0.002</td> <td>    0.187</td>\n",
       "</tr>\n",
       "<tr>\n",
       "  <th>X12</th>      <td>    0.2593</td> <td>    0.083</td> <td>    3.128</td> <td> 0.002</td> <td>    0.095</td> <td>    0.424</td>\n",
       "</tr>\n",
       "</table>\n",
       "<table class=\"simpletable\">\n",
       "<tr>\n",
       "  <th>Omnibus:</th>       <td> 0.202</td> <th>  Durbin-Watson:     </th> <td>   2.448</td>\n",
       "</tr>\n",
       "<tr>\n",
       "  <th>Prob(Omnibus):</th> <td> 0.904</td> <th>  Jarque-Bera (JB):  </th> <td>   0.044</td>\n",
       "</tr>\n",
       "<tr>\n",
       "  <th>Skew:</th>          <td> 0.049</td> <th>  Prob(JB):          </th> <td>   0.978</td>\n",
       "</tr>\n",
       "<tr>\n",
       "  <th>Kurtosis:</th>      <td> 3.035</td> <th>  Cond. No.          </th> <td>1.19e+03</td>\n",
       "</tr>\n",
       "</table><br/><br/>Notes:<br/>[1] Standard Errors assume that the covariance matrix of the errors is correctly specified.<br/>[2] The condition number is large, 1.19e+03. This might indicate that there are<br/>strong multicollinearity or other numerical problems."
      ],
      "text/latex": [
       "\\begin{center}\n",
       "\\begin{tabular}{lclc}\n",
       "\\toprule\n",
       "\\textbf{Dep. Variable:}    &        y         & \\textbf{  R-squared:         } &     0.976   \\\\\n",
       "\\textbf{Model:}            &       OLS        & \\textbf{  Adj. R-squared:    } &     0.973   \\\\\n",
       "\\textbf{Method:}           &  Least Squares   & \\textbf{  F-statistic:       } &     300.4   \\\\\n",
       "\\textbf{Date:}             & Mon, 02 Oct 2023 & \\textbf{  Prob (F-statistic):} &  2.51e-65   \\\\\n",
       "\\textbf{Time:}             &     19:44:55     & \\textbf{  Log-Likelihood:    } &   -357.05   \\\\\n",
       "\\textbf{No. Observations:} &         100      & \\textbf{  AIC:               } &     740.1   \\\\\n",
       "\\textbf{Df Residuals:}     &          87      & \\textbf{  BIC:               } &     774.0   \\\\\n",
       "\\textbf{Df Model:}         &          12      & \\textbf{                     } &             \\\\\n",
       "\\textbf{Covariance Type:}  &    nonrobust     & \\textbf{                     } &             \\\\\n",
       "\\bottomrule\n",
       "\\end{tabular}\n",
       "\\begin{tabular}{lcccccc}\n",
       "                  & \\textbf{coef} & \\textbf{std err} & \\textbf{t} & \\textbf{P$> |$t$|$} & \\textbf{[0.025} & \\textbf{0.975]}  \\\\\n",
       "\\midrule\n",
       "\\textbf{Constant} &     -36.8580  &       10.770     &    -3.422  &         0.001        &      -58.264    &      -15.452     \\\\\n",
       "\\textbf{X1}       &       1.1539  &        0.109     &    10.611  &         0.000        &        0.938    &        1.370     \\\\\n",
       "\\textbf{X2}       &       1.6499  &        0.054     &    30.802  &         0.000        &        1.543    &        1.756     \\\\\n",
       "\\textbf{X3}       &       1.1194  &        0.082     &    13.693  &         0.000        &        0.957    &        1.282     \\\\\n",
       "\\textbf{X4}       &       0.6965  &        0.112     &     6.213  &         0.000        &        0.474    &        0.919     \\\\\n",
       "\\textbf{X5}       &      -2.0568  &        0.048     &   -42.962  &         0.000        &       -2.152    &       -1.962     \\\\\n",
       "\\textbf{X6}       &      -0.9574  &        0.086     &   -11.129  &         0.000        &       -1.128    &       -0.786     \\\\\n",
       "\\textbf{X7}       &      -0.0437  &        0.119     &    -0.368  &         0.714        &       -0.280    &        0.193     \\\\\n",
       "\\textbf{X8}       &      -0.0345  &        0.047     &    -0.729  &         0.468        &       -0.128    &        0.059     \\\\\n",
       "\\textbf{X9}       &       0.0334  &        0.083     &     0.404  &         0.687        &       -0.131    &        0.198     \\\\\n",
       "\\textbf{X10}      &       0.0745  &        0.113     &     0.657  &         0.513        &       -0.151    &        0.300     \\\\\n",
       "\\textbf{X11}      &       0.0945  &        0.047     &     2.021  &         0.046        &        0.002    &        0.187     \\\\\n",
       "\\textbf{X12}      &       0.2593  &        0.083     &     3.128  &         0.002        &        0.095    &        0.424     \\\\\n",
       "\\bottomrule\n",
       "\\end{tabular}\n",
       "\\begin{tabular}{lclc}\n",
       "\\textbf{Omnibus:}       &  0.202 & \\textbf{  Durbin-Watson:     } &    2.448  \\\\\n",
       "\\textbf{Prob(Omnibus):} &  0.904 & \\textbf{  Jarque-Bera (JB):  } &    0.044  \\\\\n",
       "\\textbf{Skew:}          &  0.049 & \\textbf{  Prob(JB):          } &    0.978  \\\\\n",
       "\\textbf{Kurtosis:}      &  3.035 & \\textbf{  Cond. No.          } & 1.19e+03  \\\\\n",
       "\\bottomrule\n",
       "\\end{tabular}\n",
       "%\\caption{OLS Regression Results}\n",
       "\\end{center}\n",
       "\n",
       "Notes: \\newline\n",
       " [1] Standard Errors assume that the covariance matrix of the errors is correctly specified. \\newline\n",
       " [2] The condition number is large, 1.19e+03. This might indicate that there are \\newline\n",
       " strong multicollinearity or other numerical problems."
      ],
      "text/plain": [
       "<class 'statsmodels.iolib.summary.Summary'>\n",
       "\"\"\"\n",
       "                            OLS Regression Results                            \n",
       "==============================================================================\n",
       "Dep. Variable:                      y   R-squared:                       0.976\n",
       "Model:                            OLS   Adj. R-squared:                  0.973\n",
       "Method:                 Least Squares   F-statistic:                     300.4\n",
       "Date:                Mon, 02 Oct 2023   Prob (F-statistic):           2.51e-65\n",
       "Time:                        19:44:55   Log-Likelihood:                -357.05\n",
       "No. Observations:                 100   AIC:                             740.1\n",
       "Df Residuals:                      87   BIC:                             774.0\n",
       "Df Model:                          12                                         \n",
       "Covariance Type:            nonrobust                                         \n",
       "==============================================================================\n",
       "                 coef    std err          t      P>|t|      [0.025      0.975]\n",
       "------------------------------------------------------------------------------\n",
       "Constant     -36.8580     10.770     -3.422      0.001     -58.264     -15.452\n",
       "X1             1.1539      0.109     10.611      0.000       0.938       1.370\n",
       "X2             1.6499      0.054     30.802      0.000       1.543       1.756\n",
       "X3             1.1194      0.082     13.693      0.000       0.957       1.282\n",
       "X4             0.6965      0.112      6.213      0.000       0.474       0.919\n",
       "X5            -2.0568      0.048    -42.962      0.000      -2.152      -1.962\n",
       "X6            -0.9574      0.086    -11.129      0.000      -1.128      -0.786\n",
       "X7            -0.0437      0.119     -0.368      0.714      -0.280       0.193\n",
       "X8            -0.0345      0.047     -0.729      0.468      -0.128       0.059\n",
       "X9             0.0334      0.083      0.404      0.687      -0.131       0.198\n",
       "X10            0.0745      0.113      0.657      0.513      -0.151       0.300\n",
       "X11            0.0945      0.047      2.021      0.046       0.002       0.187\n",
       "X12            0.2593      0.083      3.128      0.002       0.095       0.424\n",
       "==============================================================================\n",
       "Omnibus:                        0.202   Durbin-Watson:                   2.448\n",
       "Prob(Omnibus):                  0.904   Jarque-Bera (JB):                0.044\n",
       "Skew:                           0.049   Prob(JB):                        0.978\n",
       "Kurtosis:                       3.035   Cond. No.                     1.19e+03\n",
       "==============================================================================\n",
       "\n",
       "Notes:\n",
       "[1] Standard Errors assume that the covariance matrix of the errors is correctly specified.\n",
       "[2] The condition number is large, 1.19e+03. This might indicate that there are\n",
       "strong multicollinearity or other numerical problems.\n",
       "\"\"\""
      ]
     },
     "execution_count": 8,
     "metadata": {},
     "output_type": "execute_result"
    }
   ],
   "source": [
    "model_reg = sm.OLS(y,X_ext).fit()\n",
    "model_reg.summary()"
   ]
  },
  {
   "cell_type": "code",
   "execution_count": 9,
   "metadata": {},
   "outputs": [
    {
     "data": {
      "text/plain": [
       "array([ 1.14297433,  1.64459004,  1.11189595,  0.68323658, -2.05420444,\n",
       "       -0.95414206, -0.03305227, -0.03122934,  0.02322232,  0.05872349,\n",
       "        0.0926401 ,  0.24930742])"
      ]
     },
     "execution_count": 9,
     "metadata": {},
     "output_type": "execute_result"
    }
   ],
   "source": [
    "# When we input the matrix, we don't need to add the column of ones because \\\n",
    "# Lasso automatically takes it into account\n",
    "\n",
    "X_ext = X_ext.drop(columns=['Constant'])\n",
    "model_lasso = lm.Lasso(alpha=1).fit(X_ext,y)\n",
    "model_lasso.coef_"
   ]
  },
  {
   "cell_type": "code",
   "execution_count": 10,
   "metadata": {},
   "outputs": [
    {
     "data": {
      "text/plain": [
       "array([ 1.04024766,  1.59730183,  1.04081382,  0.55337184, -2.03589426,\n",
       "       -0.91896922, -0.        , -0.0090348 ,  0.        ,  0.        ,\n",
       "        0.07432694,  0.16952982])"
      ]
     },
     "execution_count": 10,
     "metadata": {},
     "output_type": "execute_result"
    }
   ],
   "source": [
    "model_lasso = lm.Lasso(alpha=10).fit(X_ext,y)\n",
    "model_lasso.coef_"
   ]
  },
  {
   "cell_type": "code",
   "execution_count": 11,
   "metadata": {},
   "outputs": [
    {
     "data": {
      "text/plain": [
       "array([ 1.15248358,  1.6492695 ,  1.11845825,  0.69545961, -2.05631808,\n",
       "       -0.95689218, -0.04394482, -0.03447504,  0.033153  ,  0.07464609,\n",
       "        0.0944733 ,  0.25888904])"
      ]
     },
     "execution_count": 11,
     "metadata": {},
     "output_type": "execute_result"
    }
   ],
   "source": [
    "# We now apply Ridge Regression to our data\n",
    "\n",
    "model_ridge = lm.Ridge(alpha=10).fit(X_ext,y)\n",
    "model_ridge.coef_"
   ]
  },
  {
   "cell_type": "code",
   "execution_count": 12,
   "metadata": {},
   "outputs": [
    {
     "data": {
      "text/plain": [
       "array([ 0.55063775,  1.20994181,  0.61178627,  0.31013487, -1.6679942 ,\n",
       "       -0.58739106, -0.05536987, -0.01610291, -0.07073533,  0.11618899,\n",
       "        0.07052716,  0.06310182])"
      ]
     },
     "execution_count": 12,
     "metadata": {},
     "output_type": "execute_result"
    }
   ],
   "source": [
    "model_ridge = lm.Ridge(alpha=10000).fit(X_ext,y)\n",
    "model_ridge.coef_"
   ]
  }
 ],
 "metadata": {
  "kernelspec": {
   "display_name": "Python 3",
   "language": "python",
   "name": "python3"
  },
  "language_info": {
   "codemirror_mode": {
    "name": "ipython",
    "version": 3
   },
   "file_extension": ".py",
   "mimetype": "text/x-python",
   "name": "python",
   "nbconvert_exporter": "python",
   "pygments_lexer": "ipython3",
   "version": "3.11.0"
  },
  "orig_nbformat": 4
 },
 "nbformat": 4,
 "nbformat_minor": 2
}
