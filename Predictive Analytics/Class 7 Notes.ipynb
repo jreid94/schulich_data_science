{
 "cells": [
  {
   "cell_type": "code",
   "execution_count": 1,
   "metadata": {},
   "outputs": [],
   "source": [
    "import numpy as np\n",
    "import pandas as pd\n",
    "import matplotlib.pyplot as plt\n",
    "import statsmodels.api as sm"
   ]
  },
  {
   "cell_type": "code",
   "execution_count": 2,
   "metadata": {},
   "outputs": [
    {
     "name": "stdout",
     "output_type": "stream",
     "text": [
      "Defaulting to user installation because normal site-packages is not writeable\n",
      "Collecting pandas_datareader\n",
      "  Downloading pandas_datareader-0.10.0-py3-none-any.whl (109 kB)\n",
      "     ---------------------------------------- 0.0/109.5 kB ? eta -:--:--\n",
      "     -------------------------------------- 109.5/109.5 kB 3.2 MB/s eta 0:00:00\n",
      "Requirement already satisfied: requests in c:\\users\\jsrei\\appdata\\roaming\\python\\python311\\site-packages (2.30.0)\n",
      "Collecting lxml (from pandas_datareader)\n",
      "  Obtaining dependency information for lxml from https://files.pythonhosted.org/packages/31/58/e3b3dd6bb2ab7404f1f4992e2d0e6926ed40cef8ce1b3bbefd95877499e1/lxml-4.9.3-cp311-cp311-win_amd64.whl.metadata\n",
      "  Downloading lxml-4.9.3-cp311-cp311-win_amd64.whl.metadata (3.9 kB)\n",
      "Requirement already satisfied: pandas>=0.23 in c:\\users\\jsrei\\appdata\\roaming\\python\\python311\\site-packages (from pandas_datareader) (2.0.1)\n",
      "Requirement already satisfied: charset-normalizer<4,>=2 in c:\\users\\jsrei\\appdata\\roaming\\python\\python311\\site-packages (from requests) (3.1.0)\n",
      "Requirement already satisfied: idna<4,>=2.5 in c:\\users\\jsrei\\appdata\\roaming\\python\\python311\\site-packages (from requests) (3.4)\n",
      "Requirement already satisfied: urllib3<3,>=1.21.1 in c:\\users\\jsrei\\appdata\\roaming\\python\\python311\\site-packages (from requests) (2.0.2)\n",
      "Requirement already satisfied: certifi>=2017.4.17 in c:\\users\\jsrei\\appdata\\roaming\\python\\python311\\site-packages (from requests) (2023.5.7)\n",
      "Requirement already satisfied: python-dateutil>=2.8.2 in c:\\users\\jsrei\\appdata\\roaming\\python\\python311\\site-packages (from pandas>=0.23->pandas_datareader) (2.8.2)\n",
      "Requirement already satisfied: pytz>=2020.1 in c:\\users\\jsrei\\appdata\\roaming\\python\\python311\\site-packages (from pandas>=0.23->pandas_datareader) (2023.3)\n",
      "Requirement already satisfied: tzdata>=2022.1 in c:\\users\\jsrei\\appdata\\roaming\\python\\python311\\site-packages (from pandas>=0.23->pandas_datareader) (2023.3)\n",
      "Requirement already satisfied: numpy>=1.21.0 in c:\\users\\jsrei\\appdata\\roaming\\python\\python311\\site-packages (from pandas>=0.23->pandas_datareader) (1.24.3)\n",
      "Requirement already satisfied: six>=1.5 in c:\\users\\jsrei\\appdata\\roaming\\python\\python311\\site-packages (from python-dateutil>=2.8.2->pandas>=0.23->pandas_datareader) (1.16.0)\n",
      "Downloading lxml-4.9.3-cp311-cp311-win_amd64.whl (3.8 MB)\n",
      "   ---------------------------------------- 0.0/3.8 MB ? eta -:--:--\n",
      "   ---- ----------------------------------- 0.4/3.8 MB 8.9 MB/s eta 0:00:01\n",
      "   ------------ --------------------------- 1.2/3.8 MB 12.2 MB/s eta 0:00:01\n",
      "   ---------------------- ----------------- 2.2/3.8 MB 15.3 MB/s eta 0:00:01\n",
      "   ----------------------------------- ---- 3.3/3.8 MB 17.6 MB/s eta 0:00:01\n",
      "   ---------------------------------------- 3.8/3.8 MB 17.2 MB/s eta 0:00:00\n",
      "Installing collected packages: lxml, pandas_datareader\n",
      "Successfully installed lxml-4.9.3 pandas_datareader-0.10.0\n",
      "Note: you may need to restart the kernel to use updated packages.\n"
     ]
    }
   ],
   "source": [
    "pip install pandas_datareader requests"
   ]
  },
  {
   "cell_type": "code",
   "execution_count": 3,
   "metadata": {},
   "outputs": [],
   "source": [
    "import pandas_datareader as pdr"
   ]
  },
  {
   "cell_type": "code",
   "execution_count": 5,
   "metadata": {},
   "outputs": [
    {
     "ename": "TypeError",
     "evalue": "string indices must be integers, not 'str'",
     "output_type": "error",
     "traceback": [
      "\u001b[1;31m---------------------------------------------------------------------------\u001b[0m",
      "\u001b[1;31mTypeError\u001b[0m                                 Traceback (most recent call last)",
      "\u001b[1;32mjreid94\\schulich_data_science\\Predictive Analytics\\Class 7 Notes.ipynb Cell 4\u001b[0m line \u001b[0;36m2\n\u001b[0;32m      <a href='vscode-notebook-cell://github/jreid94/schulich_data_science/Predictive%20Analytics/Class%207%20Notes.ipynb#W3sdnNjb2RlLXZmcw%3D%3D?line=0'>1</a>\u001b[0m comp_set \u001b[39m=\u001b[39m [\u001b[39m'\u001b[39m\u001b[39mAMZN\u001b[39m\u001b[39m'\u001b[39m]\n\u001b[1;32m----> <a href='vscode-notebook-cell://github/jreid94/schulich_data_science/Predictive%20Analytics/Class%207%20Notes.ipynb#W3sdnNjb2RlLXZmcw%3D%3D?line=1'>2</a>\u001b[0m amazon_share_price \u001b[39m=\u001b[39m pdr\u001b[39m.\u001b[39;49mDataReader(comp_set, \u001b[39m'\u001b[39;49m\u001b[39myahoo\u001b[39;49m\u001b[39m'\u001b[39;49m, start\u001b[39m=\u001b[39;49m\u001b[39m'\u001b[39;49m\u001b[39m2000-01-01\u001b[39;49m\u001b[39m'\u001b[39;49m, end\u001b[39m=\u001b[39;49m\u001b[39m'\u001b[39;49m\u001b[39m2021-12-31\u001b[39;49m\u001b[39m'\u001b[39;49m)\n\u001b[0;32m      <a href='vscode-notebook-cell://github/jreid94/schulich_data_science/Predictive%20Analytics/Class%207%20Notes.ipynb#W3sdnNjb2RlLXZmcw%3D%3D?line=2'>3</a>\u001b[0m amazon_share_price\u001b[39m.\u001b[39mhead()\n",
      "File \u001b[1;32m~\\AppData\\Roaming\\Python\\Python311\\site-packages\\pandas\\util\\_decorators.py:210\u001b[0m, in \u001b[0;36mdeprecate_kwarg.<locals>._deprecate_kwarg.<locals>.wrapper\u001b[1;34m(*args, **kwargs)\u001b[0m\n\u001b[0;32m    208\u001b[0m         \u001b[39mraise\u001b[39;00m \u001b[39mTypeError\u001b[39;00m(msg)\n\u001b[0;32m    209\u001b[0m     kwargs[new_arg_name] \u001b[39m=\u001b[39m new_arg_value\n\u001b[1;32m--> 210\u001b[0m \u001b[39mreturn\u001b[39;00m func(\u001b[39m*\u001b[39;49margs, \u001b[39m*\u001b[39;49m\u001b[39m*\u001b[39;49mkwargs)\n",
      "File \u001b[1;32m~\\AppData\\Roaming\\Python\\Python311\\site-packages\\pandas_datareader\\data.py:379\u001b[0m, in \u001b[0;36mDataReader\u001b[1;34m(name, data_source, start, end, retry_count, pause, session, api_key)\u001b[0m\n\u001b[0;32m    367\u001b[0m     \u001b[39mraise\u001b[39;00m \u001b[39mNotImplementedError\u001b[39;00m(msg)\n\u001b[0;32m    369\u001b[0m \u001b[39mif\u001b[39;00m data_source \u001b[39m==\u001b[39m \u001b[39m\"\u001b[39m\u001b[39myahoo\u001b[39m\u001b[39m\"\u001b[39m:\n\u001b[0;32m    370\u001b[0m     \u001b[39mreturn\u001b[39;00m YahooDailyReader(\n\u001b[0;32m    371\u001b[0m         symbols\u001b[39m=\u001b[39;49mname,\n\u001b[0;32m    372\u001b[0m         start\u001b[39m=\u001b[39;49mstart,\n\u001b[0;32m    373\u001b[0m         end\u001b[39m=\u001b[39;49mend,\n\u001b[0;32m    374\u001b[0m         adjust_price\u001b[39m=\u001b[39;49m\u001b[39mFalse\u001b[39;49;00m,\n\u001b[0;32m    375\u001b[0m         chunksize\u001b[39m=\u001b[39;49m\u001b[39m25\u001b[39;49m,\n\u001b[0;32m    376\u001b[0m         retry_count\u001b[39m=\u001b[39;49mretry_count,\n\u001b[0;32m    377\u001b[0m         pause\u001b[39m=\u001b[39;49mpause,\n\u001b[0;32m    378\u001b[0m         session\u001b[39m=\u001b[39;49msession,\n\u001b[1;32m--> 379\u001b[0m     )\u001b[39m.\u001b[39;49mread()\n\u001b[0;32m    381\u001b[0m \u001b[39melif\u001b[39;00m data_source \u001b[39m==\u001b[39m \u001b[39m\"\u001b[39m\u001b[39miex\u001b[39m\u001b[39m\"\u001b[39m:\n\u001b[0;32m    382\u001b[0m     \u001b[39mreturn\u001b[39;00m IEXDailyReader(\n\u001b[0;32m    383\u001b[0m         symbols\u001b[39m=\u001b[39mname,\n\u001b[0;32m    384\u001b[0m         start\u001b[39m=\u001b[39mstart,\n\u001b[1;32m   (...)\u001b[0m\n\u001b[0;32m    390\u001b[0m         session\u001b[39m=\u001b[39msession,\n\u001b[0;32m    391\u001b[0m     )\u001b[39m.\u001b[39mread()\n",
      "File \u001b[1;32m~\\AppData\\Roaming\\Python\\Python311\\site-packages\\pandas_datareader\\base.py:258\u001b[0m, in \u001b[0;36m_DailyBaseReader.read\u001b[1;34m(self)\u001b[0m\n\u001b[0;32m    256\u001b[0m     df \u001b[39m=\u001b[39m \u001b[39mself\u001b[39m\u001b[39m.\u001b[39m_dl_mult_symbols(\u001b[39mself\u001b[39m\u001b[39m.\u001b[39msymbols\u001b[39m.\u001b[39mindex)\n\u001b[0;32m    257\u001b[0m \u001b[39melse\u001b[39;00m:\n\u001b[1;32m--> 258\u001b[0m     df \u001b[39m=\u001b[39m \u001b[39mself\u001b[39;49m\u001b[39m.\u001b[39;49m_dl_mult_symbols(\u001b[39mself\u001b[39;49m\u001b[39m.\u001b[39;49msymbols)\n\u001b[0;32m    259\u001b[0m \u001b[39mreturn\u001b[39;00m df\n",
      "File \u001b[1;32m~\\AppData\\Roaming\\Python\\Python311\\site-packages\\pandas_datareader\\base.py:268\u001b[0m, in \u001b[0;36m_DailyBaseReader._dl_mult_symbols\u001b[1;34m(self, symbols)\u001b[0m\n\u001b[0;32m    266\u001b[0m \u001b[39mfor\u001b[39;00m sym \u001b[39min\u001b[39;00m sym_group:\n\u001b[0;32m    267\u001b[0m     \u001b[39mtry\u001b[39;00m:\n\u001b[1;32m--> 268\u001b[0m         stocks[sym] \u001b[39m=\u001b[39m \u001b[39mself\u001b[39;49m\u001b[39m.\u001b[39;49m_read_one_data(\u001b[39mself\u001b[39;49m\u001b[39m.\u001b[39;49murl, \u001b[39mself\u001b[39;49m\u001b[39m.\u001b[39;49m_get_params(sym))\n\u001b[0;32m    269\u001b[0m         passed\u001b[39m.\u001b[39mappend(sym)\n\u001b[0;32m    270\u001b[0m     \u001b[39mexcept\u001b[39;00m (\u001b[39mIOError\u001b[39;00m, \u001b[39mKeyError\u001b[39;00m):\n",
      "File \u001b[1;32m~\\AppData\\Roaming\\Python\\Python311\\site-packages\\pandas_datareader\\yahoo\\daily.py:153\u001b[0m, in \u001b[0;36mYahooDailyReader._read_one_data\u001b[1;34m(self, url, params)\u001b[0m\n\u001b[0;32m    151\u001b[0m \u001b[39mtry\u001b[39;00m:\n\u001b[0;32m    152\u001b[0m     j \u001b[39m=\u001b[39m json\u001b[39m.\u001b[39mloads(re\u001b[39m.\u001b[39msearch(ptrn, resp\u001b[39m.\u001b[39mtext, re\u001b[39m.\u001b[39mDOTALL)\u001b[39m.\u001b[39mgroup(\u001b[39m1\u001b[39m))\n\u001b[1;32m--> 153\u001b[0m     data \u001b[39m=\u001b[39m j[\u001b[39m\"\u001b[39;49m\u001b[39mcontext\u001b[39;49m\u001b[39m\"\u001b[39;49m][\u001b[39m\"\u001b[39;49m\u001b[39mdispatcher\u001b[39;49m\u001b[39m\"\u001b[39;49m][\u001b[39m\"\u001b[39;49m\u001b[39mstores\u001b[39;49m\u001b[39m\"\u001b[39;49m][\u001b[39m\"\u001b[39;49m\u001b[39mHistoricalPriceStore\u001b[39;49m\u001b[39m\"\u001b[39;49m]\n\u001b[0;32m    154\u001b[0m \u001b[39mexcept\u001b[39;00m \u001b[39mKeyError\u001b[39;00m:\n\u001b[0;32m    155\u001b[0m     msg \u001b[39m=\u001b[39m \u001b[39m\"\u001b[39m\u001b[39mNo data fetched for symbol \u001b[39m\u001b[39m{}\u001b[39;00m\u001b[39m using \u001b[39m\u001b[39m{}\u001b[39;00m\u001b[39m\"\u001b[39m\n",
      "\u001b[1;31mTypeError\u001b[0m: string indices must be integers, not 'str'"
     ]
    }
   ],
   "source": [
    "comp_set = ['AMZN']\n",
    "amazon_share_price = pdr.DataReader(comp_set, 'yahoo', start='2000-01-01', end='2021-12-31')\n",
    "amazon_share_price.head()"
   ]
  },
  {
   "cell_type": "code",
   "execution_count": null,
   "metadata": {},
   "outputs": [],
   "source": [
    "amazon_plain = amazon_share_price['Adj Close']"
   ]
  },
  {
   "cell_type": "code",
   "execution_count": null,
   "metadata": {},
   "outputs": [],
   "source": [
    "comp_set = ['WMT']\n",
    "walmart_price = pdr.DataReader(comp_set, 'yahoo', start='2000-01-01', end='2021-12-31')\n",
    "walmart_plain = walmart_price['Adj Close']"
   ]
  },
  {
   "cell_type": "code",
   "execution_count": null,
   "metadata": {},
   "outputs": [],
   "source": [
    "dates = amazon_plain['AMZN'].index\n",
    "amzn_price = amazon_plain['AMZN'].values\n",
    "wmt_price = walmart_plain['WMT'].values\n",
    "\n",
    "plt.figure(figsize=(24,16), dpi= 40)\n",
    "plt.plot(dates,amzn_price,label='Amazon.com',linewidth=8)\n",
    "plt.plot(dates,wmt_price,'r-.',label='Walmart',linewidth=8)\n",
    "plt.xticks(fontsize=50, horizontalalignment='center')\n",
    "plt.legend(bbox_to_anchor=(0.50, 0.95),fontsize=50)\n",
    "plt.yticks(fontsize=50)\n",
    "plt.grid(axis='both')\n",
    "plt.xlabel('Date', fontsize = 65)\n",
    "plt.ylabel('Share Price', fontsize = 65)"
   ]
  },
  {
   "cell_type": "code",
   "execution_count": null,
   "metadata": {},
   "outputs": [],
   "source": [
    "sm.graphics.tsa.plot_acf(amzn_price, lags=1500)\n",
    "plt.show()"
   ]
  },
  {
   "cell_type": "code",
   "execution_count": null,
   "metadata": {},
   "outputs": [],
   "source": [
    "sm.graphics.tsa.plot_pacf(amzn_price, lags=10)\n",
    "plt.show()"
   ]
  },
  {
   "cell_type": "code",
   "execution_count": null,
   "metadata": {},
   "outputs": [],
   "source": [
    "amzn_tsa = sm.tsa.arima.ARIMA(amzn_price, order=(1, 1, 10))\n",
    "amzn_res = amzn_tsa.fit()\n",
    "print(amzn_res.summary())"
   ]
  },
  {
   "cell_type": "code",
   "execution_count": null,
   "metadata": {},
   "outputs": [],
   "source": [
    "forecast_model = amzn_res.get_forecast(steps=10)\n",
    "forecast_CI = forecast_model.conf_int()\n",
    "forecast_mean = forecast_model.predicted_mean\n",
    "\n",
    "\n",
    "forecast_mean"
   ]
  },
  {
   "cell_type": "code",
   "execution_count": null,
   "metadata": {},
   "outputs": [],
   "source": [
    "forecast_CI"
   ]
  }
 ],
 "metadata": {
  "kernelspec": {
   "display_name": "Python 3",
   "language": "python",
   "name": "python3"
  },
  "language_info": {
   "codemirror_mode": {
    "name": "ipython",
    "version": 3
   },
   "file_extension": ".py",
   "mimetype": "text/x-python",
   "name": "python",
   "nbconvert_exporter": "python",
   "pygments_lexer": "ipython3",
   "version": "3.11.0"
  },
  "orig_nbformat": 4
 },
 "nbformat": 4,
 "nbformat_minor": 2
}
